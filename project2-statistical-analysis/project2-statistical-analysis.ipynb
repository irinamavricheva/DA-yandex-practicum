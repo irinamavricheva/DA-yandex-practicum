{
 "cells": [
  {
   "cell_type": "markdown",
   "id": "ddaa4426",
   "metadata": {},
   "source": [
    "# Исследование данных сервиса аренды самокатов\n",
    "Сервис аренды самокатов предоставил для анализа данные о некоторых пользователях из нескольких городов, а также об их поездках. Чтобы совершать поездки по городу, пользователи сервиса GoFast пользуются мобильным приложением. Сервисом можно пользоваться:\n",
    "- без подписки\n",
    "    - абонентская плата отсутствует;\n",
    "    - стоимость одной минуты поездки — 8 рублей;\n",
    "    - стоимость старта (начала поездки) — 50 рублей;\n",
    "\n",
    "\n",
    "- с подпиской Ultra\n",
    "    - абонентская плата — 199 рублей в месяц;\n",
    "    - стоимость одной минуты поездки — 6 рублей;\n",
    "    - стоимость старта — бесплатно. \n",
    "    \n",
    "**Описание данных**\n",
    "\n",
    "В основных данных есть информация о пользователях, их поездках и подписках.\n",
    "\n",
    "Пользователи:\n",
    "- `user_id` - уникальный идентификатор пользователя\n",
    "- `name` - имя пользователя\n",
    "- `age` - возраст\n",
    "- `city` - город\n",
    "- `subscription_type` - тип подписки (free, ultra)\n",
    "\n",
    "Поездки:\n",
    "- `user_id` - уникальный идентификатор пользователя\n",
    "- `distance` - расстояние, которое пользователь проехал в текущей сессии (в метрах)\n",
    "- `duration` - продолжительность сессии (в минутах) — время с того момента, как пользователь нажал кнопку «Начать поездку» до момента, как он нажал кнопку «Завершить поездку»\n",
    "- `date` - дата совершения поездки\n",
    "\n",
    "Подписки:\n",
    "- `subscription_type` - тип подписки\n",
    "- `minute_price` - стоимость одной минуты поездки по данной подписке\n",
    "- `start_ride_price` - стоимость начала поездки\n",
    "- `subscription_fee` - стоимость ежемесячного платежа\n",
    "\n",
    "**Задача**: Проанализируйте данные и проверьте некоторые гипотезы, которые могут помочь бизнесу вырасти.\n",
    "\n",
    "\n",
    "**План работы**\n",
    "\n",
    "- ознакомление с исходными данными\n",
    "- предобработка данных\n",
    "- выявление закономерностей и зависимостей, визуализация\n",
    "- формулирование и проверка гипотез с целью выявления оптимальной стратегии увеличения количества пользователей с подпиской\n",
    "- составление итогового вывода"
   ]
  },
  {
   "cell_type": "markdown",
   "id": "5d35543d",
   "metadata": {},
   "source": [
    "#### Шаг 1. Загрузка данных"
   ]
  },
  {
   "cell_type": "code",
   "execution_count": 1,
   "id": "249b6c0c",
   "metadata": {},
   "outputs": [],
   "source": [
    "# импорт бибилиотек\n",
    "\n",
    "import pandas as pd\n",
    "import os\n",
    "import matplotlib.pyplot as plt\n",
    "from scipy import stats\n",
    "import numpy as np\n",
    "from scipy.stats import binom, norm\n",
    "from math import sqrt\n",
    "\n",
    "import warnings\n",
    "warnings.filterwarnings(\"ignore\")"
   ]
  },
  {
   "cell_type": "code",
   "execution_count": 2,
   "id": "e8147019",
   "metadata": {},
   "outputs": [],
   "source": [
    "# загрузка данных\n",
    "\n",
    "paths1 = ['/datasets/users_go.csv', '/datasets/rides_go.csv', '/datasets/subscriptions_go.csv']\n",
    "paths2 = ['users_go.csv', 'rides_go.csv', 'subscriptions_go.csv']\n",
    "dfs = []\n",
    "\n",
    "for i in range(len(paths1)):\n",
    "    if os.path.exists(paths1[i]):\n",
    "        dfs.append(pd.read_csv(paths1[i]))\n",
    "    elif os.path.exists(paths2[i]):\n",
    "        dfs.append(pd.read_csv(paths2[i]))\n",
    "    else:\n",
    "        print('File is missing')\n",
    "        \n",
    "users = dfs[0]\n",
    "rides = dfs[1]\n",
    "subscriptions = dfs[2]"
   ]
  },
  {
   "cell_type": "markdown",
   "id": "4e969602",
   "metadata": {},
   "source": [
    "##### users"
   ]
  },
  {
   "cell_type": "code",
   "execution_count": 3,
   "id": "5a8ddaa5",
   "metadata": {},
   "outputs": [
    {
     "data": {
      "text/html": [
       "<div>\n",
       "<style scoped>\n",
       "    .dataframe tbody tr th:only-of-type {\n",
       "        vertical-align: middle;\n",
       "    }\n",
       "\n",
       "    .dataframe tbody tr th {\n",
       "        vertical-align: top;\n",
       "    }\n",
       "\n",
       "    .dataframe thead th {\n",
       "        text-align: right;\n",
       "    }\n",
       "</style>\n",
       "<table border=\"1\" class=\"dataframe\">\n",
       "  <thead>\n",
       "    <tr style=\"text-align: right;\">\n",
       "      <th></th>\n",
       "      <th>user_id</th>\n",
       "      <th>name</th>\n",
       "      <th>age</th>\n",
       "      <th>city</th>\n",
       "      <th>subscription_type</th>\n",
       "    </tr>\n",
       "  </thead>\n",
       "  <tbody>\n",
       "    <tr>\n",
       "      <th>0</th>\n",
       "      <td>1</td>\n",
       "      <td>Кира</td>\n",
       "      <td>22</td>\n",
       "      <td>Тюмень</td>\n",
       "      <td>ultra</td>\n",
       "    </tr>\n",
       "    <tr>\n",
       "      <th>1</th>\n",
       "      <td>2</td>\n",
       "      <td>Станислав</td>\n",
       "      <td>31</td>\n",
       "      <td>Омск</td>\n",
       "      <td>ultra</td>\n",
       "    </tr>\n",
       "    <tr>\n",
       "      <th>2</th>\n",
       "      <td>3</td>\n",
       "      <td>Алексей</td>\n",
       "      <td>20</td>\n",
       "      <td>Москва</td>\n",
       "      <td>ultra</td>\n",
       "    </tr>\n",
       "    <tr>\n",
       "      <th>3</th>\n",
       "      <td>4</td>\n",
       "      <td>Константин</td>\n",
       "      <td>26</td>\n",
       "      <td>Ростов-на-Дону</td>\n",
       "      <td>ultra</td>\n",
       "    </tr>\n",
       "    <tr>\n",
       "      <th>4</th>\n",
       "      <td>5</td>\n",
       "      <td>Адель</td>\n",
       "      <td>28</td>\n",
       "      <td>Омск</td>\n",
       "      <td>ultra</td>\n",
       "    </tr>\n",
       "  </tbody>\n",
       "</table>\n",
       "</div>"
      ],
      "text/plain": [
       "   user_id        name  age            city subscription_type\n",
       "0        1        Кира   22          Тюмень             ultra\n",
       "1        2   Станислав   31            Омск             ultra\n",
       "2        3     Алексей   20          Москва             ultra\n",
       "3        4  Константин   26  Ростов-на-Дону             ultra\n",
       "4        5       Адель   28            Омск             ultra"
      ]
     },
     "execution_count": 3,
     "metadata": {},
     "output_type": "execute_result"
    }
   ],
   "source": [
    "# просмотр первых строк таблицы users\n",
    "\n",
    "users.head()"
   ]
  },
  {
   "cell_type": "code",
   "execution_count": 4,
   "id": "9446db1d",
   "metadata": {},
   "outputs": [
    {
     "name": "stdout",
     "output_type": "stream",
     "text": [
      "<class 'pandas.core.frame.DataFrame'>\n",
      "RangeIndex: 1565 entries, 0 to 1564\n",
      "Data columns (total 5 columns):\n",
      " #   Column             Non-Null Count  Dtype \n",
      "---  ------             --------------  ----- \n",
      " 0   user_id            1565 non-null   int64 \n",
      " 1   name               1565 non-null   object\n",
      " 2   age                1565 non-null   int64 \n",
      " 3   city               1565 non-null   object\n",
      " 4   subscription_type  1565 non-null   object\n",
      "dtypes: int64(2), object(3)\n",
      "memory usage: 61.3+ KB\n"
     ]
    }
   ],
   "source": [
    "# просмотр общей информации о таблице users\n",
    "\n",
    "users.info()"
   ]
  },
  {
   "cell_type": "markdown",
   "id": "b09eeb58",
   "metadata": {},
   "source": [
    "В таблице содержатся данные о 1565 пользователях приложения. Пропусков данных нет, форматы данных изменять не требуется. Необходимо проверить данные на наличие дубликатов."
   ]
  },
  {
   "cell_type": "markdown",
   "id": "3bfc8e98",
   "metadata": {},
   "source": [
    "##### rides"
   ]
  },
  {
   "cell_type": "code",
   "execution_count": 5,
   "id": "c4116bcc",
   "metadata": {},
   "outputs": [
    {
     "data": {
      "text/html": [
       "<div>\n",
       "<style scoped>\n",
       "    .dataframe tbody tr th:only-of-type {\n",
       "        vertical-align: middle;\n",
       "    }\n",
       "\n",
       "    .dataframe tbody tr th {\n",
       "        vertical-align: top;\n",
       "    }\n",
       "\n",
       "    .dataframe thead th {\n",
       "        text-align: right;\n",
       "    }\n",
       "</style>\n",
       "<table border=\"1\" class=\"dataframe\">\n",
       "  <thead>\n",
       "    <tr style=\"text-align: right;\">\n",
       "      <th></th>\n",
       "      <th>user_id</th>\n",
       "      <th>distance</th>\n",
       "      <th>duration</th>\n",
       "      <th>date</th>\n",
       "    </tr>\n",
       "  </thead>\n",
       "  <tbody>\n",
       "    <tr>\n",
       "      <th>0</th>\n",
       "      <td>1</td>\n",
       "      <td>4409.919140</td>\n",
       "      <td>25.599769</td>\n",
       "      <td>2021-01-01</td>\n",
       "    </tr>\n",
       "    <tr>\n",
       "      <th>1</th>\n",
       "      <td>1</td>\n",
       "      <td>2617.592153</td>\n",
       "      <td>15.816871</td>\n",
       "      <td>2021-01-18</td>\n",
       "    </tr>\n",
       "    <tr>\n",
       "      <th>2</th>\n",
       "      <td>1</td>\n",
       "      <td>754.159807</td>\n",
       "      <td>6.232113</td>\n",
       "      <td>2021-04-20</td>\n",
       "    </tr>\n",
       "    <tr>\n",
       "      <th>3</th>\n",
       "      <td>1</td>\n",
       "      <td>2694.783254</td>\n",
       "      <td>18.511000</td>\n",
       "      <td>2021-08-11</td>\n",
       "    </tr>\n",
       "    <tr>\n",
       "      <th>4</th>\n",
       "      <td>1</td>\n",
       "      <td>4028.687306</td>\n",
       "      <td>26.265803</td>\n",
       "      <td>2021-08-28</td>\n",
       "    </tr>\n",
       "  </tbody>\n",
       "</table>\n",
       "</div>"
      ],
      "text/plain": [
       "   user_id     distance   duration        date\n",
       "0        1  4409.919140  25.599769  2021-01-01\n",
       "1        1  2617.592153  15.816871  2021-01-18\n",
       "2        1   754.159807   6.232113  2021-04-20\n",
       "3        1  2694.783254  18.511000  2021-08-11\n",
       "4        1  4028.687306  26.265803  2021-08-28"
      ]
     },
     "execution_count": 5,
     "metadata": {},
     "output_type": "execute_result"
    }
   ],
   "source": [
    "# просмотр первых строк таблицы rides\n",
    "\n",
    "rides.head()"
   ]
  },
  {
   "cell_type": "code",
   "execution_count": 6,
   "id": "ad09bf22",
   "metadata": {},
   "outputs": [
    {
     "name": "stdout",
     "output_type": "stream",
     "text": [
      "<class 'pandas.core.frame.DataFrame'>\n",
      "RangeIndex: 18068 entries, 0 to 18067\n",
      "Data columns (total 4 columns):\n",
      " #   Column    Non-Null Count  Dtype  \n",
      "---  ------    --------------  -----  \n",
      " 0   user_id   18068 non-null  int64  \n",
      " 1   distance  18068 non-null  float64\n",
      " 2   duration  18068 non-null  float64\n",
      " 3   date      18068 non-null  object \n",
      "dtypes: float64(2), int64(1), object(1)\n",
      "memory usage: 564.8+ KB\n"
     ]
    }
   ],
   "source": [
    "# просмотр общей информации о таблице rides\n",
    "\n",
    "rides.info()"
   ]
  },
  {
   "cell_type": "markdown",
   "id": "d9749500",
   "metadata": {},
   "source": [
    "В таблице содержатся данные о 18068 поездках. Пропусков данных нет. Необходимо выполнить следующее:\n",
    "- проверить данные на наличие дубликатов\n",
    "- привести столбец `'date'` к типу datetime\n",
    "- устранить возможные аномалии"
   ]
  },
  {
   "cell_type": "markdown",
   "id": "030acdd5",
   "metadata": {},
   "source": [
    "##### subscriptions"
   ]
  },
  {
   "cell_type": "code",
   "execution_count": 7,
   "id": "5bad0889",
   "metadata": {},
   "outputs": [
    {
     "data": {
      "text/html": [
       "<div>\n",
       "<style scoped>\n",
       "    .dataframe tbody tr th:only-of-type {\n",
       "        vertical-align: middle;\n",
       "    }\n",
       "\n",
       "    .dataframe tbody tr th {\n",
       "        vertical-align: top;\n",
       "    }\n",
       "\n",
       "    .dataframe thead th {\n",
       "        text-align: right;\n",
       "    }\n",
       "</style>\n",
       "<table border=\"1\" class=\"dataframe\">\n",
       "  <thead>\n",
       "    <tr style=\"text-align: right;\">\n",
       "      <th></th>\n",
       "      <th>subscription_type</th>\n",
       "      <th>minute_price</th>\n",
       "      <th>start_ride_price</th>\n",
       "      <th>subscription_fee</th>\n",
       "    </tr>\n",
       "  </thead>\n",
       "  <tbody>\n",
       "    <tr>\n",
       "      <th>0</th>\n",
       "      <td>free</td>\n",
       "      <td>8</td>\n",
       "      <td>50</td>\n",
       "      <td>0</td>\n",
       "    </tr>\n",
       "    <tr>\n",
       "      <th>1</th>\n",
       "      <td>ultra</td>\n",
       "      <td>6</td>\n",
       "      <td>0</td>\n",
       "      <td>199</td>\n",
       "    </tr>\n",
       "  </tbody>\n",
       "</table>\n",
       "</div>"
      ],
      "text/plain": [
       "  subscription_type  minute_price  start_ride_price  subscription_fee\n",
       "0              free             8                50                 0\n",
       "1             ultra             6                 0               199"
      ]
     },
     "execution_count": 7,
     "metadata": {},
     "output_type": "execute_result"
    }
   ],
   "source": [
    "# просмотр первых строк таблицы subscriptions\n",
    "\n",
    "subscriptions.head()"
   ]
  },
  {
   "cell_type": "code",
   "execution_count": 8,
   "id": "f2d25949",
   "metadata": {},
   "outputs": [
    {
     "name": "stdout",
     "output_type": "stream",
     "text": [
      "<class 'pandas.core.frame.DataFrame'>\n",
      "RangeIndex: 2 entries, 0 to 1\n",
      "Data columns (total 4 columns):\n",
      " #   Column             Non-Null Count  Dtype \n",
      "---  ------             --------------  ----- \n",
      " 0   subscription_type  2 non-null      object\n",
      " 1   minute_price       2 non-null      int64 \n",
      " 2   start_ride_price   2 non-null      int64 \n",
      " 3   subscription_fee   2 non-null      int64 \n",
      "dtypes: int64(3), object(1)\n",
      "memory usage: 196.0+ bytes\n"
     ]
    }
   ],
   "source": [
    "# просмотр общей информации о таблице subscriptions\n",
    "\n",
    "subscriptions.info()"
   ]
  },
  {
   "cell_type": "markdown",
   "id": "b2120958",
   "metadata": {},
   "source": [
    "Таблица состоит из двух строк, содержащих информацию о двух типах подписки. Предобработка данных не требуется."
   ]
  },
  {
   "cell_type": "markdown",
   "id": "a0935f0b",
   "metadata": {},
   "source": [
    "#### Шаг 2. Предобработка данных"
   ]
  },
  {
   "cell_type": "markdown",
   "id": "4b5f926e",
   "metadata": {},
   "source": [
    "##### users"
   ]
  },
  {
   "cell_type": "code",
   "execution_count": 9,
   "id": "b40eb8c6",
   "metadata": {},
   "outputs": [
    {
     "data": {
      "text/plain": [
       "31"
      ]
     },
     "execution_count": 9,
     "metadata": {},
     "output_type": "execute_result"
    }
   ],
   "source": [
    "# подсчет количества дубликатов\n",
    "\n",
    "users.duplicated().sum()"
   ]
  },
  {
   "cell_type": "code",
   "execution_count": 10,
   "id": "e6bb0806",
   "metadata": {},
   "outputs": [],
   "source": [
    "# удаление дубликатов\n",
    "\n",
    "users = users.drop_duplicates()"
   ]
  },
  {
   "cell_type": "markdown",
   "id": "afc4392c",
   "metadata": {},
   "source": [
    "##### rides"
   ]
  },
  {
   "cell_type": "code",
   "execution_count": 11,
   "id": "2e58fbc8",
   "metadata": {},
   "outputs": [
    {
     "data": {
      "text/plain": [
       "0"
      ]
     },
     "execution_count": 11,
     "metadata": {},
     "output_type": "execute_result"
    }
   ],
   "source": [
    "# подсчет количества дубликатов\n",
    "\n",
    "rides.duplicated().sum()"
   ]
  },
  {
   "cell_type": "code",
   "execution_count": 12,
   "id": "f3cdcab1",
   "metadata": {},
   "outputs": [
    {
     "data": {
      "text/html": [
       "<div>\n",
       "<style scoped>\n",
       "    .dataframe tbody tr th:only-of-type {\n",
       "        vertical-align: middle;\n",
       "    }\n",
       "\n",
       "    .dataframe tbody tr th {\n",
       "        vertical-align: top;\n",
       "    }\n",
       "\n",
       "    .dataframe thead th {\n",
       "        text-align: right;\n",
       "    }\n",
       "</style>\n",
       "<table border=\"1\" class=\"dataframe\">\n",
       "  <thead>\n",
       "    <tr style=\"text-align: right;\">\n",
       "      <th></th>\n",
       "      <th>user_id</th>\n",
       "      <th>distance</th>\n",
       "      <th>duration</th>\n",
       "    </tr>\n",
       "  </thead>\n",
       "  <tbody>\n",
       "    <tr>\n",
       "      <th>count</th>\n",
       "      <td>18068.000000</td>\n",
       "      <td>18068.000000</td>\n",
       "      <td>18068.000000</td>\n",
       "    </tr>\n",
       "    <tr>\n",
       "      <th>mean</th>\n",
       "      <td>842.869936</td>\n",
       "      <td>3070.659976</td>\n",
       "      <td>17.805011</td>\n",
       "    </tr>\n",
       "    <tr>\n",
       "      <th>std</th>\n",
       "      <td>434.734317</td>\n",
       "      <td>1116.831209</td>\n",
       "      <td>6.091051</td>\n",
       "    </tr>\n",
       "    <tr>\n",
       "      <th>min</th>\n",
       "      <td>1.000000</td>\n",
       "      <td>0.855683</td>\n",
       "      <td>0.500000</td>\n",
       "    </tr>\n",
       "    <tr>\n",
       "      <th>25%</th>\n",
       "      <td>487.000000</td>\n",
       "      <td>2543.226360</td>\n",
       "      <td>13.597563</td>\n",
       "    </tr>\n",
       "    <tr>\n",
       "      <th>50%</th>\n",
       "      <td>889.000000</td>\n",
       "      <td>3133.609994</td>\n",
       "      <td>17.678395</td>\n",
       "    </tr>\n",
       "    <tr>\n",
       "      <th>75%</th>\n",
       "      <td>1213.250000</td>\n",
       "      <td>3776.222735</td>\n",
       "      <td>21.724800</td>\n",
       "    </tr>\n",
       "    <tr>\n",
       "      <th>max</th>\n",
       "      <td>1534.000000</td>\n",
       "      <td>7211.007745</td>\n",
       "      <td>40.823963</td>\n",
       "    </tr>\n",
       "  </tbody>\n",
       "</table>\n",
       "</div>"
      ],
      "text/plain": [
       "            user_id      distance      duration\n",
       "count  18068.000000  18068.000000  18068.000000\n",
       "mean     842.869936   3070.659976     17.805011\n",
       "std      434.734317   1116.831209      6.091051\n",
       "min        1.000000      0.855683      0.500000\n",
       "25%      487.000000   2543.226360     13.597563\n",
       "50%      889.000000   3133.609994     17.678395\n",
       "75%     1213.250000   3776.222735     21.724800\n",
       "max     1534.000000   7211.007745     40.823963"
      ]
     },
     "execution_count": 12,
     "metadata": {},
     "output_type": "execute_result"
    }
   ],
   "source": [
    "# просмотр статистической информации \n",
    "\n",
    "rides.describe()"
   ]
  },
  {
   "cell_type": "markdown",
   "id": "ff1df889",
   "metadata": {},
   "source": [
    "Просмотр статистической информации выявил наличие очень коротких поездок (продолжительность 30 секунд), а также большого разбега в данных о расстоянии, пройденном за одну сессию (от 0,8 метра до 7,2 км). Рассчитаем скорость передвижения в каждой сессии (в км/ч) и воспользуемся ею для выявления аномальных поездок."
   ]
  },
  {
   "cell_type": "code",
   "execution_count": 13,
   "id": "f91c0d84",
   "metadata": {},
   "outputs": [],
   "source": [
    "rides['velocity'] = (rides['distance'] / 1000) / (rides['duration'] / 60)"
   ]
  },
  {
   "cell_type": "code",
   "execution_count": 14,
   "id": "44935da9",
   "metadata": {},
   "outputs": [
    {
     "data": {
      "text/plain": [
       "count    18068.000000\n",
       "mean        13.785261\n",
       "std         44.156189\n",
       "min          0.005133\n",
       "25%          8.127843\n",
       "50%         10.251135\n",
       "75%         12.929800\n",
       "max        865.320929\n",
       "Name: velocity, dtype: float64"
      ]
     },
     "execution_count": 14,
     "metadata": {},
     "output_type": "execute_result"
    }
   ],
   "source": [
    "rides['velocity'].describe()"
   ]
  },
  {
   "cell_type": "markdown",
   "id": "500690fa",
   "metadata": {},
   "source": [
    "В таблице содержатся аномальные данные (максимальная скорость 865 км/ч). Построим диаграмму размаха для определения порогов отсечения данных."
   ]
  },
  {
   "cell_type": "code",
   "execution_count": 15,
   "id": "ce15f460",
   "metadata": {},
   "outputs": [
    {
     "data": {
      "image/png": "[encoded data removed]",
      "text/plain": [
       "<Figure size 2000x2000 with 1 Axes>"
      ]
     },
     "metadata": {},
     "output_type": "display_data"
    }
   ],
   "source": [
    "rides['velocity'].plot.box(grid=True, figsize=(20, 20))\n",
    "plt.xlabel('Скорость')\n",
    "plt.title('Диаграмма размаха скорости')\n",
    "plt.show()"
   ]
  },
  {
   "cell_type": "markdown",
   "id": "96299070",
   "metadata": {},
   "source": [
    "Большая часть выбросов значительно превышает значение в 400 км/ч. Чтобы уточнить максимальную границу отсечения данных, посмотрим, какое максимальное значение скорости мы получим, если уберем явно аномальные значения."
   ]
  },
  {
   "cell_type": "code",
   "execution_count": 16,
   "id": "91e9b28b",
   "metadata": {},
   "outputs": [
    {
     "data": {
      "text/plain": [
       "25.39027482805915"
      ]
     },
     "execution_count": 16,
     "metadata": {},
     "output_type": "execute_result"
    }
   ],
   "source": [
    "rides.query('velocity < 400')['velocity'].max()"
   ]
  },
  {
   "cell_type": "markdown",
   "id": "b402f7e6",
   "metadata": {},
   "source": [
    "Без этих выбросов максимальная наблюдаемая скорость передвижения немного превышает 25 км/ч (что, конечно, слегка превышает максимально разрешенную скорость передвижения на самокатах, но аномальным значением само по себе не является). Таким образом, максимальный порог отсечения можно установить в 26 км/ч. Проверим, сколько процентов данных мы потеряем, если уберем строки с аномальными значениями скорости."
   ]
  },
  {
   "cell_type": "code",
   "execution_count": 17,
   "id": "3b490a69",
   "metadata": {},
   "outputs": [
    {
     "name": "stdout",
     "output_type": "stream",
     "text": [
      "Потери данных составят 0.53 %.\n",
      "Будет удалено строк: 95\n"
     ]
    }
   ],
   "source": [
    "print(f'Потери данных составят {round(100 * len(rides.query(\"velocity > 26\")) / len(rides), 2)} %.')\n",
    "print(f'Будет удалено строк: {len(rides.query(\"velocity > 26\"))}')"
   ]
  },
  {
   "cell_type": "code",
   "execution_count": 18,
   "id": "374b483e",
   "metadata": {},
   "outputs": [],
   "source": [
    "rides = rides.query('velocity < 26')"
   ]
  },
  {
   "cell_type": "code",
   "execution_count": 19,
   "id": "337a3e83",
   "metadata": {},
   "outputs": [],
   "source": [
    "# приведение данных в столбце 'date' к формату datetime\n",
    "\n",
    "rides.loc[:,'date'] = pd.to_datetime(rides.loc[:,'date'], format='%Y-%m-%d')"
   ]
  },
  {
   "cell_type": "code",
   "execution_count": 20,
   "id": "53a6f92e",
   "metadata": {},
   "outputs": [],
   "source": [
    "# создание столбца с номером месяца для дальнейшего анализа показателей по месяцам\n",
    "\n",
    "rides.loc[:,'month'] = rides.loc[:,'date'].dt.month"
   ]
  },
  {
   "cell_type": "code",
   "execution_count": 21,
   "id": "122076b0",
   "metadata": {},
   "outputs": [
    {
     "data": {
      "text/plain": [
       "count                            17973\n",
       "mean     2021-06-30 19:41:36.745117696\n",
       "min                2021-01-01 00:00:00\n",
       "25%                2021-04-02 00:00:00\n",
       "50%                2021-06-30 00:00:00\n",
       "75%                2021-09-28 00:00:00\n",
       "max                2021-12-30 00:00:00\n",
       "Name: date, dtype: object"
      ]
     },
     "execution_count": 21,
     "metadata": {},
     "output_type": "execute_result"
    }
   ],
   "source": [
    "# определяем границы рассматриваемого периода\n",
    "\n",
    "rides['date'].describe(datetime_is_numeric=True)"
   ]
  },
  {
   "cell_type": "markdown",
   "id": "d1eb848c",
   "metadata": {},
   "source": [
    "В таблице представлены данные о поездках, совершенных в период с 1 января по 30 декабря 2021 года."
   ]
  },
  {
   "cell_type": "markdown",
   "id": "50703b37",
   "metadata": {},
   "source": [
    "Выполнены следующие шаги:\n",
    "- удален 31 дубликат в таблице `'users'`\n",
    "- рассчитана скорость передвижения в каждой сессии на основе данных из таблицы `'rides'`\n",
    "- из таблицы `'rides'` удалены данные о 95 поездках с аномально высокими значениями скорости (0,53% данных)\n",
    "- столбец `'date'` в таблице `'rides'` приведен к формату datetime\n",
    "- в таблицу `'rides'` добавлен столбец `'month'` с номером месяца\n"
   ]
  },
  {
   "cell_type": "markdown",
   "id": "b461df41",
   "metadata": {},
   "source": [
    "#### Шаг 3. Исследовательский анализ данных\n",
    "\n",
    "Опишием и визуализируем общую информацию о пользователях и поездках:\n",
    "- частота встречаемости городов\n",
    "- соотношение пользователей с подпиской и без подписки\n",
    "- возраст пользователей\n",
    "- расстояние, которое пользователь преодолел за одну поездку\n",
    "- продолжительность поездок"
   ]
  },
  {
   "cell_type": "markdown",
   "id": "c6d2379e",
   "metadata": {},
   "source": [
    "##### Частота встречаемости городов"
   ]
  },
  {
   "cell_type": "code",
   "execution_count": 22,
   "id": "f369bb6c",
   "metadata": {},
   "outputs": [
    {
     "data": {
      "text/plain": [
       "Москва            168\n",
       "Тюмень            180\n",
       "Омск              183\n",
       "Сочи              189\n",
       "Краснодар         193\n",
       "Ростов-на-Дону    198\n",
       "Екатеринбург      204\n",
       "Пятигорск         219\n",
       "Name: city, dtype: int64"
      ]
     },
     "execution_count": 22,
     "metadata": {},
     "output_type": "execute_result"
    }
   ],
   "source": [
    "users['city'].value_counts(ascending=True)"
   ]
  },
  {
   "cell_type": "code",
   "execution_count": 23,
   "id": "88ea7716",
   "metadata": {},
   "outputs": [
    {
     "data": {
      "image/png": "[encoded data removed]",
      "text/plain": [
       "<Figure size 640x480 with 1 Axes>"
      ]
     },
     "metadata": {},
     "output_type": "display_data"
    }
   ],
   "source": [
    "users['city'].value_counts(ascending=True).plot.barh()\n",
    "\n",
    "plt.title('Распределение пользователей по городам')\n",
    "plt.xlabel('Количество пользователей')\n",
    "plt.show()"
   ]
  },
  {
   "cell_type": "markdown",
   "id": "45f7a067",
   "metadata": {},
   "source": [
    "Из восьми представленных городов больше всего клиентов проживают в Пятигорске (219), меньше всего - в Москве (168)."
   ]
  },
  {
   "cell_type": "markdown",
   "id": "9644a146",
   "metadata": {},
   "source": [
    "##### Соотношение пользователей с подпиской и без подписки"
   ]
  },
  {
   "cell_type": "code",
   "execution_count": 24,
   "id": "74edcbe5",
   "metadata": {},
   "outputs": [
    {
     "data": {
      "text/plain": [
       "free     835\n",
       "ultra    699\n",
       "Name: subscription_type, dtype: int64"
      ]
     },
     "execution_count": 24,
     "metadata": {},
     "output_type": "execute_result"
    }
   ],
   "source": [
    "users['subscription_type'].value_counts()"
   ]
  },
  {
   "cell_type": "code",
   "execution_count": 25,
   "id": "997a25e5",
   "metadata": {},
   "outputs": [
    {
     "data": {
      "image/png": "[encoded data removed]",
      "text/plain": [
       "<Figure size 640x480 with 1 Axes>"
      ]
     },
     "metadata": {},
     "output_type": "display_data"
    }
   ],
   "source": [
    "ax = plt.subplot()\n",
    "ax.pie(users['subscription_type'].value_counts(), labels=users['subscription_type'].unique(), autopct='%1.1f%%')\n",
    "\n",
    "plt.title('Соотношение пользователей с подпиской (ultra) и  без (free)')\n",
    "plt.show()"
   ]
  },
  {
   "cell_type": "markdown",
   "id": "d6904ce8",
   "metadata": {},
   "source": [
    "Пользователей без подписки в данных представлено больше, чем пользователей с подпиской (835 и 699 соответственно)."
   ]
  },
  {
   "cell_type": "markdown",
   "id": "367d1cea",
   "metadata": {},
   "source": [
    "##### Возраст пользователей"
   ]
  },
  {
   "cell_type": "code",
   "execution_count": 26,
   "id": "87936548",
   "metadata": {},
   "outputs": [
    {
     "data": {
      "text/plain": [
       "count    1534.000000\n",
       "mean       24.903520\n",
       "std         4.572367\n",
       "min        12.000000\n",
       "25%        22.000000\n",
       "50%        25.000000\n",
       "75%        28.000000\n",
       "max        43.000000\n",
       "Name: age, dtype: float64"
      ]
     },
     "execution_count": 26,
     "metadata": {},
     "output_type": "execute_result"
    }
   ],
   "source": [
    "users['age'].describe()"
   ]
  },
  {
   "cell_type": "code",
   "execution_count": 27,
   "id": "90917ca4",
   "metadata": {},
   "outputs": [
    {
     "data": {
      "image/png": "[encoded data removed]",
      "text/plain": [
       "<Figure size 640x480 with 1 Axes>"
      ]
     },
     "metadata": {},
     "output_type": "display_data"
    }
   ],
   "source": [
    "users['age'].plot.hist(bins=20, grid=True)\n",
    "\n",
    "plt.title('Распределение возраста пользователей')\n",
    "plt.xlabel('Возраст пользователей, лет')\n",
    "plt.ylabel('Количество пользователей')\n",
    "\n",
    "plt.show()"
   ]
  },
  {
   "cell_type": "markdown",
   "id": "8f0eaa1f",
   "metadata": {},
   "source": [
    "Большей части пользователей от 20 до 29 лет (медианный возраст 25 лет). Пользователей старше 35 лет представлено очень мало, максимальный возраст - 43 года. Минимальный возраст в подборке - 12 лет."
   ]
  },
  {
   "cell_type": "markdown",
   "id": "5552ed3f",
   "metadata": {},
   "source": [
    "##### Расстояние, которое пользователь преодолел за одну поездку"
   ]
  },
  {
   "cell_type": "code",
   "execution_count": 28,
   "id": "1799a3f1",
   "metadata": {
    "scrolled": false
   },
   "outputs": [
    {
     "data": {
      "image/png": "[encoded data removed]",
      "text/plain": [
       "<Figure size 640x480 with 1 Axes>"
      ]
     },
     "metadata": {},
     "output_type": "display_data"
    }
   ],
   "source": [
    "rides['distance'].plot.hist(bins=20, grid=True)\n",
    "\n",
    "plt.title('Распределение расстояния, преодолеваемого за одну поездку')\n",
    "plt.xlabel('Расстояние, м')\n",
    "plt.ylabel('Количество поездок')\n",
    "\n",
    "plt.show()"
   ]
  },
  {
   "cell_type": "markdown",
   "id": "79b02676",
   "metadata": {},
   "source": [
    "В подавляющем большинстве случаев расстояние, преодолеваемое за одну поездку, составляет 2,8-3,5 км."
   ]
  },
  {
   "cell_type": "markdown",
   "id": "6e93540b",
   "metadata": {},
   "source": [
    "##### Продолжительность поездок"
   ]
  },
  {
   "cell_type": "code",
   "execution_count": 29,
   "id": "d1333735",
   "metadata": {},
   "outputs": [
    {
     "data": {
      "image/png": "[encoded data removed]",
      "text/plain": [
       "<Figure size 640x480 with 1 Axes>"
      ]
     },
     "metadata": {},
     "output_type": "display_data"
    }
   ],
   "source": [
    "rides['duration'].plot.hist(bins=20, grid=True)\n",
    "\n",
    "plt.title('Распределение продолжительности поездок')\n",
    "plt.xlabel('Продолжительность, мин.')\n",
    "plt.ylabel('Количество поездок')\n",
    "\n",
    "plt.show()"
   ]
  },
  {
   "cell_type": "markdown",
   "id": "f229ac9f",
   "metadata": {},
   "source": [
    "Продолжительность большинства поездок составляет 16-20 минут. Поездки дольше 35 минут встречаются редко."
   ]
  },
  {
   "cell_type": "markdown",
   "id": "1be42e73",
   "metadata": {},
   "source": [
    "##### Количество поездок по месяцам\n",
    "Рассмотрим дополнительно, как меняется количество поездок по месяцам."
   ]
  },
  {
   "cell_type": "code",
   "execution_count": 30,
   "id": "f5e51e1b",
   "metadata": {},
   "outputs": [
    {
     "data": {
      "image/png": "[encoded data removed]",
      "text/plain": [
       "<Figure size 640x480 with 1 Axes>"
      ]
     },
     "metadata": {},
     "output_type": "display_data"
    }
   ],
   "source": [
    "rides.pivot_table(index='month', values='duration', aggfunc='count').plot(legend=False, grid=True)\n",
    "\n",
    "plt.title('Распределение количества поездок по месяцам')\n",
    "plt.xlabel('Месяц')\n",
    "plt.ylabel('Количество поездок')\n",
    "plt.show()"
   ]
  },
  {
   "cell_type": "markdown",
   "id": "146b3be7",
   "metadata": {},
   "source": [
    "Мы видим, что в целом в течение 2021 года количество поездок в месяц находилось в пределах 1450-1550 за исключением февраля и ноября, когда количество поездок сильно снижалось. Пик приходился на январь."
   ]
  },
  {
   "cell_type": "markdown",
   "id": "d517dc49",
   "metadata": {},
   "source": [
    "#### Шаг 4. Объединение данных"
   ]
  },
  {
   "cell_type": "code",
   "execution_count": 31,
   "id": "2e8a9d54",
   "metadata": {},
   "outputs": [],
   "source": [
    "# объединение данных из таблиц users и rides\n",
    "\n",
    "data = users.merge(rides, on='user_id', how='left')"
   ]
  },
  {
   "cell_type": "code",
   "execution_count": 32,
   "id": "c6ca8e6c",
   "metadata": {},
   "outputs": [],
   "source": [
    "# добавление в общую таблицу данных из таблицы subscriptions\n",
    "\n",
    "data = data.merge(subscriptions, on='subscription_type', how='left')"
   ]
  },
  {
   "cell_type": "code",
   "execution_count": 33,
   "id": "698cd1bf",
   "metadata": {},
   "outputs": [
    {
     "data": {
      "text/plain": [
       "True"
      ]
     },
     "execution_count": 33,
     "metadata": {},
     "output_type": "execute_result"
    }
   ],
   "source": [
    "len(data) == len(rides)"
   ]
  },
  {
   "cell_type": "code",
   "execution_count": 34,
   "id": "c53b8333",
   "metadata": {},
   "outputs": [],
   "source": [
    "# создание отдельных датафреймов для пользователей с подпиской и без\n",
    "\n",
    "data_ultra = data.query('subscription_type == \"ultra\"')\n",
    "data_free = data.query('subscription_type == \"free\"')"
   ]
  },
  {
   "cell_type": "code",
   "execution_count": 35,
   "id": "2fdeb8ae",
   "metadata": {},
   "outputs": [
    {
     "name": "stdout",
     "output_type": "stream",
     "text": [
      "Пользователей с подпиской: 699\n",
      "Поездок у пользователей с подпиской: 6500\n",
      "Поездок на каждого пользователя с подпиской: 9.3\n",
      "Доля поездок по подписке от общего количества поездок: 36%\n",
      "\n",
      "Пользователей без подписки: 835\n",
      "Поездок у пользователей без подписки: 11473\n",
      "Поездок на каждого пользователя без подписки: 13.74\n",
      "Доля поездок без подписки от общего количества поездок: 64%\n"
     ]
    }
   ],
   "source": [
    "print(f'Пользователей с подпиской: {len(data_ultra[\"user_id\"].unique())}')\n",
    "print(f'Поездок у пользователей с подпиской: {len(data_ultra)}')\n",
    "print(f'Поездок на каждого пользователя с подпиской: {round(len(data_ultra) / len(data_ultra[\"user_id\"].unique()), 2)}')\n",
    "print(f'Доля поездок по подписке от общего количества поездок: {round(100*len(data_ultra) / len(data))}%')\n",
    "print()\n",
    "print(f'Пользователей без подписки: {len(data_free[\"user_id\"].unique())}')\n",
    "print(f'Поездок у пользователей без подписки: {len(data_free)}')\n",
    "print(f'Поездок на каждого пользователя без подписки: {round(len(data_free) / len(data_free[\"user_id\"].unique()), 2)}')\n",
    "print(f'Доля поездок без подписки от общего количества поездок: {round(100*len(data_free) / len(data))}%')"
   ]
  },
  {
   "cell_type": "markdown",
   "id": "a090c604",
   "metadata": {},
   "source": [
    "Как мы видим, большинство пользователей не подключают подписки. На долю пользователей с подпиской приходится всего 36% поездок от общего количества.\n",
    "\n",
    "Рассмотрим также данные о медианной продолжительности и пройденном расстоянии у разных категорий пользователей."
   ]
  },
  {
   "cell_type": "code",
   "execution_count": 36,
   "id": "950190f5",
   "metadata": {},
   "outputs": [
    {
     "data": {
      "image/png": "[encoded data removed]",
      "text/plain": [
       "<Figure size 1000x1000 with 1 Axes>"
      ]
     },
     "metadata": {},
     "output_type": "display_data"
    }
   ],
   "source": [
    "plt.figure(figsize=(10, 10))\n",
    "plt.grid(True)\n",
    "\n",
    "plt.hist(data_ultra['distance'], alpha = 0.5, label='ultra')\n",
    "plt.hist(data_free['distance'], alpha = 0.5, label='free')\n",
    "plt.legend(loc='upper left')\n",
    "\n",
    "plt.title('Распределение расстояния, пройденного за одну поездку, у разных категорий пользователей')\n",
    "plt.xlabel('Расстояние, м')\n",
    "plt.ylabel('Количество поездок')\n",
    "plt.show()"
   ]
  },
  {
   "cell_type": "code",
   "execution_count": 37,
   "id": "50208bca",
   "metadata": {},
   "outputs": [
    {
     "data": {
      "image/png": "[encoded data removed]",
      "text/plain": [
       "<Figure size 1000x1000 with 1 Axes>"
      ]
     },
     "metadata": {},
     "output_type": "display_data"
    }
   ],
   "source": [
    "plt.figure(figsize=(10, 10))\n",
    "plt.grid(True)\n",
    "\n",
    "plt.hist(data_ultra['duration'], alpha = 0.5, label='ultra')\n",
    "plt.hist(data_free['duration'], alpha = 0.5, label='free')\n",
    "plt.legend(loc='upper left')\n",
    "\n",
    "plt.title('Распределение продолжительности поездок у разных категорий пользователей')\n",
    "plt.xlabel('Продолжительность, мин.')\n",
    "plt.ylabel('Количество поездок')\n",
    "plt.show()"
   ]
  },
  {
   "cell_type": "markdown",
   "id": "0c598f2f",
   "metadata": {},
   "source": [
    "У пользователей с подпиской мы наблюдаем пик количества пользователей, передвигающихся на расстояние 3-3,5 км за поездку, которая занимает в большинстве случаев от 15 до 22 минут. У пользователей без подписки более широкий диапазон протяженности поездок (2-5 км у большинства), продолжительность поездок в большинстве случаев составляет от 12 до 25 минут.\n",
    "\n",
    "Можем предположить, что пользователи с подпиской более регулярно используют самокаты для передвижения по примерно одним и тем же маршрутам, а у пользователей без подписки ярко выраженной модели использования самокатов нет."
   ]
  },
  {
   "cell_type": "markdown",
   "id": "5212f7bb",
   "metadata": {},
   "source": [
    "#### Шаг 5. Подсчёт выручки"
   ]
  },
  {
   "cell_type": "markdown",
   "id": "5f2b2517",
   "metadata": {},
   "source": [
    "Для подсчета выручки создадим датафрейм с агрегированными данными о поездках на основе датафрейма с объединёнными данными из шага 4: найдем суммарное расстояние, количество поездок и суммарное время для каждого пользователя за каждый месяц. Также добавим в датафрейм столбцы со значениями стоимости одной минуты поездки по подписке, стоимости начала поездки, стоимости ежемесячного платежа для каждого пользователя, а также столбец с типом подписки, рассчитаем на их основе выручку, которую приносит каждый пользователь каждый месяц."
   ]
  },
  {
   "cell_type": "code",
   "execution_count": 38,
   "id": "b1d49b3c",
   "metadata": {},
   "outputs": [],
   "source": [
    "# округляем продолжительность поездки в исходном датафрейме до целого числа\n",
    "data['duration'] = np.ceil(data['duration']) \n",
    "\n",
    "\n",
    "# создаем сводную таблицу\n",
    "data_agg = data.groupby(['user_id', 'month']).agg({'distance':'sum', 'duration':['sum', 'count'],\n",
    "                                                   'subscription_type':'first', 'minute_price':'mean',\n",
    "                                                  'start_ride_price':'mean', 'subscription_fee':'mean'})\n",
    "\n",
    "# переименовываем для удобства колонки сводной таблицы\n",
    "data_agg.columns = ['distance_sum', 'duration_sum', 'rides_qty', 'subscription_type', 'minute_price', 'start_ride_price', 'subscription_fee']\n",
    "\n",
    "# рассчитываем и добавляем выручку\n",
    "data_agg['revenue'] = (data_agg['start_ride_price'] * data_agg['rides_qty']) + data_agg['minute_price'] * data_agg['duration_sum'] + data_agg['subscription_fee']"
   ]
  },
  {
   "cell_type": "code",
   "execution_count": 39,
   "id": "756f64ed",
   "metadata": {},
   "outputs": [],
   "source": [
    "# создание двух отдельных сводных таблиц для пользователей с подпиской и пользователей без подписки\n",
    "\n",
    "df_ultra_agg = data_agg.query('subscription_type == \"ultra\"')\n",
    "df_free_agg = data_agg.query('subscription_type == \"free\"')"
   ]
  },
  {
   "cell_type": "markdown",
   "id": "32e0f140",
   "metadata": {},
   "source": [
    "Сравним помесячную выручку, получаемую от пользователей разных категорий."
   ]
  },
  {
   "cell_type": "code",
   "execution_count": 40,
   "id": "1aee83d2",
   "metadata": {},
   "outputs": [
    {
     "data": {
      "text/plain": [
       "count    6767.000000\n",
       "mean      329.332644\n",
       "std       183.268419\n",
       "min        74.000000\n",
       "25%       194.000000\n",
       "50%       274.000000\n",
       "75%       428.000000\n",
       "max      1444.000000\n",
       "Name: revenue, dtype: float64"
      ]
     },
     "execution_count": 40,
     "metadata": {},
     "output_type": "execute_result"
    }
   ],
   "source": [
    "df_free_agg['revenue'].describe()"
   ]
  },
  {
   "cell_type": "code",
   "execution_count": 41,
   "id": "cd1c15ad",
   "metadata": {},
   "outputs": [
    {
     "data": {
      "text/plain": [
       "count    4533.000000\n",
       "mean      362.792191\n",
       "std        88.262737\n",
       "min       223.000000\n",
       "25%       301.000000\n",
       "50%       337.000000\n",
       "75%       409.000000\n",
       "max       955.000000\n",
       "Name: revenue, dtype: float64"
      ]
     },
     "execution_count": 41,
     "metadata": {},
     "output_type": "execute_result"
    }
   ],
   "source": [
    "df_ultra_agg['revenue'].describe()"
   ]
  },
  {
   "cell_type": "code",
   "execution_count": 42,
   "id": "9b003ffa",
   "metadata": {},
   "outputs": [
    {
     "data": {
      "image/png": "[encoded data removed]",
      "text/plain": [
       "<Figure size 1000x1000 with 1 Axes>"
      ]
     },
     "metadata": {},
     "output_type": "display_data"
    }
   ],
   "source": [
    "plt.figure(figsize=(10, 10))\n",
    "plt.grid(True)\n",
    "\n",
    "plt.hist(df_ultra_agg['revenue'], alpha = 0.5, label='ultra')\n",
    "plt.hist(df_free_agg['revenue'], alpha = 0.5, label='free')\n",
    "\n",
    "plt.legend(loc='upper right')\n",
    "\n",
    "plt.title('Распределение помесячной выручки, получаемой от пользователей разных категорий')\n",
    "plt.xlabel('Выручка')\n",
    "plt.ylabel('Количество поездок')\n",
    "plt.show()"
   ]
  },
  {
   "cell_type": "markdown",
   "id": "20a3be70",
   "metadata": {},
   "source": [
    "Гистограмма распределения помесячной выручки показывает, что большинство пользователей с подпиской приносят в месяц больше выручки, чем большинство пользователей без подписки (медианное значение 337,00 и 274,00 руб. соответственно). При этом очевидна разница в количестве поездок: пользователей без подписки больше, и они совершают больше поездок в течение месяца."
   ]
  },
  {
   "cell_type": "markdown",
   "id": "26952ad5",
   "metadata": {},
   "source": [
    "#### Шаг 6. Проверка гипотез"
   ]
  },
  {
   "cell_type": "markdown",
   "id": "8fa2d379",
   "metadata": {},
   "source": [
    "##### Тратят ли пользователи с подпиской больше времени на поездки?\n",
    "\n",
    "С помощью t-теста сравним среднюю продолжительность поездок у пользователей с разными типами подписок. Нулевая гипотеза: средняя продолжительность поездок у пользователей с разными типами подписок одинаковая. Альтернативная гипотеза: средняя продолжительность поездок у пользователей с подпиской больше, чем у пользователей без подписки."
   ]
  },
  {
   "cell_type": "code",
   "execution_count": 43,
   "id": "1ee4f39a",
   "metadata": {},
   "outputs": [
    {
     "name": "stdout",
     "output_type": "stream",
     "text": [
      "Нулевая гипотеза: пользователи с подпиской в среднем столько же времени на поездки, что и пользователи без подписки.\n",
      "Альтернативная гипотеза: пользователи с подпиской в среднем тратят больше времени на поездки.\n",
      "\n",
      "Отвергаем нулевую гипотезу.\n",
      "\n",
      "Средняя продолжительность поездок пользователей с подпиской: 18.5 минут.\n",
      "Средняя продолжительность поездок пользователей без подписки: 17.5 минут.\n"
     ]
    }
   ],
   "source": [
    "alpha = 0.05\n",
    "\n",
    "results = stats.ttest_ind(data_ultra['duration'], data_free['duration'], alternative='greater', equal_var=False)\n",
    "\n",
    "print('Нулевая гипотеза: пользователи с подпиской в среднем столько же времени на поездки, что и пользователи без подписки.')\n",
    "print('Альтернативная гипотеза: пользователи с подпиской в среднем тратят больше времени на поездки.')\n",
    "print()\n",
    "\n",
    "if results.pvalue < alpha:\n",
    "    print('Отвергаем нулевую гипотезу.')\n",
    "else:\n",
    "    print('Не получилось отвергнуть нулевую гипотезу.') \n",
    "    \n",
    "print()\n",
    "print(f'Средняя продолжительность поездок пользователей с подпиской: {round(data_ultra[\"duration\"].mean(), 1)} минут.')\n",
    "print(f'Средняя продолжительность поездок пользователей без подписки: {round(data_free[\"duration\"].mean(), 1)} минут.')    "
   ]
  },
  {
   "cell_type": "markdown",
   "id": "196ef3d8",
   "metadata": {},
   "source": [
    "Результат теста показывает, что вероятность совпадения средних значений длительности поездок у пользователей с разными типами подписок очень мала, а значит, мы отвергаем нулевую гипотезу в пользу альтернативной: пользователи с подпиской в среднем тратят больше времени на поездки."
   ]
  },
  {
   "cell_type": "markdown",
   "id": "f1a6eabb",
   "metadata": {},
   "source": [
    "##### Можно ли сказать, что расстояние, которое проезжают пользователи с подпиской за одну поездку, не превышает 3130 метров?\n",
    "\n",
    "С помощью t-теста сравним среднюю протяженность поездок у пользователей с подпиской со значением 3130 метров. Нулевая гипотеза: среднее расстояние, которое проезжают пользователи с подпиской за одну поездку, не превышает 3130 метров. Альтернативная гипотеза: средняя протяженность поездки у пользователей с подпиской больше 3130 метров."
   ]
  },
  {
   "cell_type": "code",
   "execution_count": 44,
   "id": "977de264",
   "metadata": {},
   "outputs": [
    {
     "name": "stdout",
     "output_type": "stream",
     "text": [
      "Нулевая гипотеза: среднее расстояние, которое проезжают пользователи с подпиской за одну поездку, не превышает 3130 метров.\n",
      "Альтернативная гипотеза: пользователи с подпиской в среднем проезжают больше 3130 метров.\n",
      "\n",
      "Не отвергаем нулевую гипотезу.\n",
      "\n",
      "Средняя протяженность поездки у пользователей с подпиской составляет 3115 метров.\n"
     ]
    }
   ],
   "source": [
    "optimal_distance = 3130\n",
    "\n",
    "alpha = 0.05\n",
    "\n",
    "results = stats.ttest_1samp(data_ultra['distance'], optimal_distance, alternative='greater')\n",
    "\n",
    "print('Нулевая гипотеза: среднее расстояние, которое проезжают пользователи с подпиской за одну поездку, не превышает 3130 метров.')\n",
    "print('Альтернативная гипотеза: пользователи с подпиской в среднем проезжают больше 3130 метров.')\n",
    "print()\n",
    "\n",
    "if (results.pvalue < alpha):\n",
    "    print('Отвергаем нулевую гипотезу.')\n",
    "else:\n",
    "    print('Не отвергаем нулевую гипотезу.') \n",
    "\n",
    "print()\n",
    "print(f'Средняя протяженность поездки у пользователей с подпиской составляет {round(data_ultra[\"distance\"].mean())} метров.')"
   ]
  },
  {
   "cell_type": "markdown",
   "id": "a1bbadbf",
   "metadata": {},
   "source": [
    "Результат теста показывает, что значение p-value слишком велико, чтобы бы могли опровергнуть нулевую гипотезу в пользу альтернативной, а это значит, что в среднем пользователи с подпиской проезжают меньше 3130 метров за одну поездку."
   ]
  },
  {
   "cell_type": "markdown",
   "id": "8868a6b4",
   "metadata": {},
   "source": [
    "##### Будет ли помесячная выручка от пользователей с подпиской по месяцам выше, чем выручка от пользователей без подписки?\n",
    "\n",
    "С помощью t-теста сравним среднюю помесячную выручку от пользователей с разными типами подписок. Нулевая гипотеза: средняя помесячная выручка от пользователей с разными типами подписок одинаковая. Альтернативная гипотеза: средняя помесячная выручка от пользователей с подпиской выше, чем от пользователей без подписки."
   ]
  },
  {
   "cell_type": "code",
   "execution_count": 45,
   "id": "42657213",
   "metadata": {
    "scrolled": true
   },
   "outputs": [
    {
     "name": "stdout",
     "output_type": "stream",
     "text": [
      "Нулевая гипотеза: средняя помесячная выручка от пользователей с подпиской такая же, как и  от пользователей без подписки.\n",
      "Альтернативная гипотеза: средняя помесячная выручка от пользователей с подпиской выше, чем от пользователей без подписки.\n",
      "\n",
      "Отвергаем нулевую гипотезу.\n",
      "\n",
      "Средняя выручка от пользователей с подпиской: 362.8 рублей в месяц.\n",
      "Средняя выручка от пользователей без подписки: 329.3 рублей в месяц.\n"
     ]
    }
   ],
   "source": [
    "alpha = 0.05\n",
    "\n",
    "results = stats.ttest_ind(df_ultra_agg['revenue'], df_free_agg['revenue'], alternative='greater', equal_var=False)\n",
    "\n",
    "print('Нулевая гипотеза: средняя помесячная выручка от пользователей с подпиской такая же, как и  от пользователей без подписки.')\n",
    "print('Альтернативная гипотеза: средняя помесячная выручка от пользователей с подпиской выше, чем от пользователей без подписки.')\n",
    "print()\n",
    "\n",
    "if results.pvalue < alpha:\n",
    "    print('Отвергаем нулевую гипотезу.')\n",
    "else:\n",
    "    print('Не отвергаем нулевую гипотезу.')\n",
    "    \n",
    "print()\n",
    "print(f'Средняя выручка от пользователей с подпиской: {round(df_ultra_agg[\"revenue\"].mean(), 1)} рублей в месяц.')\n",
    "print(f'Средняя выручка от пользователей без подписки: {round(df_free_agg[\"revenue\"].mean(), 1)} рублей в месяц.') "
   ]
  },
  {
   "cell_type": "markdown",
   "id": "2ebf5726",
   "metadata": {},
   "source": [
    "Результат теста показывает, что вероятность совпадения средних значений помесячной выручки от пользователей с разными типами подписок очень мала, а значит, мы отвергаем нулевую гипотезу в пользу альтернативной: средняя помесячная выручка от пользователей с подпиской выше, чем от пользователей без подписки."
   ]
  },
  {
   "cell_type": "markdown",
   "id": "57e258cd",
   "metadata": {},
   "source": [
    "##### Какой тест вам понадобился бы для проверки гипотезы о снижении колчества обращений в техподдержку после обновления?\n",
    "\n",
    "Так как в этом случае выборки зависимы, мы воспользовались бы методом `scipy.stats.ttest_rel()`. В качестве аргументов в метод передавалось бы количество обращений в техподдержку до внедрения обновления и после него.\n",
    "\n",
    "Нулевая гипотеза: количество обращений в техподдержку после внедрения обновления не изменилось. Альтернативная гипотеза: количество обращений в техподдержку после внедрения обновления снизилось.\n",
    "\n",
    "Примерный код для проведения такого теста представлен ниже:\n",
    "\n",
    "```\n",
    "    alpha = 0.05\n",
    "\n",
    "    results = stats.ttest_rel(data_before['support_requests'], data_after['support_requests'], alternative='greater')\n",
    "\n",
    "    if results.pvalue < alpha:\n",
    "        print('Отвергаем нулевую гипотезу о равенстве количества обращений в техподдержку до обновления и после него.')\n",
    "    else:\n",
    "        print('Не получилось отвергнуть нулевую гипотезу о равенстве количества обращений в техподдержку до обновления и после него.')\n",
    "```"
   ]
  },
  {
   "cell_type": "markdown",
   "id": "85a87527",
   "metadata": {},
   "source": [
    "#### Шаг 7. Распределения"
   ]
  },
  {
   "cell_type": "markdown",
   "id": "c7d5d89a",
   "metadata": {},
   "source": [
    "##### Акция с раздачей промокодов\n",
    "\n",
    "Отделу маркетинга GoFast поставили задачу: нужно провести акцию с раздачей промокодов на один бесплатный месяц подписки, в рамках которой как минимум 100 существующих клиентов должны продлить эту подписку. То есть по завершении периода действия подписки пользователь может либо отказаться от неё, либо продлить, совершив соответствующий платёж. Эта акция уже проводилась ранее и по итогу выяснилось, что после бесплатного пробного периода подписку продлевают 10 % пользователей. Выясните, какое минимальное количество промокодов нужно разослать, чтобы вероятность не выполнить план была примерно 5 %. Подберите параметры распределения, описывающего эту ситуацию, постройте график распределения и сформулируйте ответ на вопрос о количестве промокодов.\n",
    "\n",
    "Поскольку после бесплатного пробного периода подписку продлевают всего 10% пользователей, для получения результата в 100 новых продлений необходимо разослать не меньше 1000 промокодов. Рассчитаем, при каком минимальном значении количества разосланных промокодов вероятность получения менее 100 подписок составит не более 5%, а затем используем это значение для построения графика распределения."
   ]
  },
  {
   "cell_type": "code",
   "execution_count": 46,
   "id": "d6475580",
   "metadata": {},
   "outputs": [
    {
     "name": "stdout",
     "output_type": "stream",
     "text": [
      "Минимальное количество промокодов для рассылки: 1161\n"
     ]
    },
    {
     "data": {
      "image/png": "[encoded data removed]",
      "text/plain": [
       "<Figure size 2000x2000 with 1 Axes>"
      ]
     },
     "metadata": {},
     "output_type": "display_data"
    }
   ],
   "source": [
    "codes = []\n",
    "p = 0.1\n",
    "\n",
    "for i in range(1000, 2000):\n",
    "    if binom.cdf(99, i, p) <= 0.05:\n",
    "        codes.append(i)\n",
    "print(f'Минимальное количество промокодов для рассылки: {min(codes)}')\n",
    "\n",
    "n = min(codes)\n",
    "\n",
    "distr = []\n",
    "\n",
    "for k in range(0, n + 1):\n",
    "    current_value = binom.pmf(k, n, p)\n",
    "    distr.append(current_value)\n",
    "    \n",
    "plt.figure(figsize=(20, 20))\n",
    "plt.grid(True)\n",
    "plt.bar(range(0, n + 1), distr)\n",
    "plt.show()"
   ]
  },
  {
   "cell_type": "markdown",
   "id": "d2b27a26",
   "metadata": {},
   "source": [
    "Для того, чтобы вероятность не выполнить план в 100 новых подписок была примерно 5% (при условии, что подписку после завершения пробного периода продлевают 10% пользователей), необходимо разослать минимум 1161 промокод. График распределения показывает, что в хвост слева от значения 100 при таком количестве разосланных промокодов попадают не более 5% исходов."
   ]
  },
  {
   "cell_type": "markdown",
   "id": "8fa4ad1d",
   "metadata": {},
   "source": [
    "##### Рассылка пуш-уведомлений\n",
    "\n",
    "Отдел маркетинга рассылает клиентам push-уведомления в мобильном приложении. Клиенты могут открыть его или не открывать. Известно, что уведомления открывают около 40 % получивших клиентов. Отдел планирует разослать 1 млн уведомлений. С помощью аппроксимации постройте примерный график распределения и оцените вероятность того, что уведомление откроют не более 399,5 тыс. пользователей.\n",
    "\n",
    "Воспользуемся нормальной аппроксимацией биномиального распределения, построим графики распределения и посчитаем вероятность получения значения меньше 399500."
   ]
  },
  {
   "cell_type": "code",
   "execution_count": 47,
   "id": "45d40df0",
   "metadata": {
    "scrolled": false
   },
   "outputs": [
    {
     "data": {
      "image/png": "[encoded data removed]",
      "text/plain": [
       "<Figure size 2000x2000 with 1 Axes>"
      ]
     },
     "metadata": {},
     "output_type": "display_data"
    },
    {
     "name": "stdout",
     "output_type": "stream",
     "text": [
      "Вероятность того, что уведомление откроют не более 399,5 тысяч пользователей, составляет 15.4%.\n"
     ]
    }
   ],
   "source": [
    "# задаем функцию, генерирующую заданное количество равномерно распределенных чисел для визуализции распределения\n",
    "def linspace(start, stop, num):\n",
    "    step = (stop - start) / (num - 1)\n",
    "    result = []\n",
    "    for i in range(num):\n",
    "        result.append(start + step * i)\n",
    "    return result\n",
    "\n",
    "# задаем параметры биномиального распределения\n",
    "n = 1000000\n",
    "p = 0.4\n",
    "\n",
    "# задаем границы промежутка, в котором будем строить аппроксимацию\n",
    "left = int(n * p - 4 * sqrt(n * p * (1 - p)))\n",
    "right = int(n * p + 4 * sqrt(n * p * (1 - p)))\n",
    "\n",
    "# задаем набор значений биномиальной величины на выбранном промежутке\n",
    "x = linspace(left, right, 100)\n",
    "\n",
    "# задаем размер графика и отображение сетки\n",
    "plt.figure(figsize=(20, 20))\n",
    "plt.grid(True)\n",
    "\n",
    "# строим график биномиального распределения\n",
    "ax = plt.subplot()\n",
    "ax.plot(x, binom.pmf(x, n, p), 'bo', ms=5, label='биномиальное распределение')\n",
    "\n",
    "# задаем параметры нормального распределения\n",
    "mu = n * p\n",
    "sigma = sqrt(n * p * (1 - p))\n",
    "\n",
    "# строим график нормального распределения\n",
    "ax.plot(x, norm.pdf(x, mu, sigma), 'r-', alpha=0.3, label='нормальное распределение')\n",
    "\n",
    "plt.show()\n",
    "\n",
    "# подсчитываем вероятность того, что уведомление откроют не более 399,5 тысяч пользователей\n",
    "distr = stats.norm(mu, sigma)\n",
    "result = distr.cdf(399500)\n",
    "\n",
    "print(f'Вероятность того, что уведомление откроют не более 399,5 тысяч пользователей, составляет {round(result*100, 1)}%.')"
   ]
  },
  {
   "cell_type": "markdown",
   "id": "f5395cb0",
   "metadata": {},
   "source": [
    "Мы видим, что вероятность того, что уведомление откроют не более 399,5 тысяч пользователей, составляет 15,4%. Это значит, что вероятность того, что его откроют более 399,5 тысяч пользователей, составляет в данном случае 84,6%."
   ]
  },
  {
   "cell_type": "markdown",
   "id": "ad33cf85",
   "metadata": {},
   "source": [
    "#### Общий вывод\n",
    "\n",
    "##### Введение\n",
    "Для анализа были предоставлены данные сервиса аренды самокатов. Исходные данные представляли собой три таблицы: информация о 1565 пользователях приложения, информация о 18068 совершенных поездках и информация о типе подписки. Необходимо было изучить данные и проверить ряд гипотез, которые могут помочь увеличить прибыль.\n",
    "\n",
    "##### Предобработка данных\n",
    "Изучение исходных данных выявило наличие аномальных значений и дубликатов в данных.\n",
    "\n",
    "###### Таблица users\n",
    "- удален 31 полный дубликат\n",
    "\n",
    "###### Таблица rides\n",
    "- добавлен столбец `'velocity'` с указанием скорости передвижения в каждой сессии\n",
    "- после анализа столбца `'velocity'` удалены 95 строк с аномальными значениями скорости\n",
    "- столбец `'date'` приведен к типу datetime\n",
    "- добавлен столбец `'month'` с номером месяца поездки\n",
    "\n",
    "##### Исследовательский анализ данных\n",
    "\n",
    "###### Изучение частоты встречаемости городов\n",
    "Установлено, что из восьми представленных городов больше всего клиентов проживают в Пятигорске (219), меньше всего - в Москве (168).\n",
    "\n",
    "###### Изучение соотношения пользователей с подпиской и без подписки\n",
    "Установлено, что пользователей без подписки в данных представлено больше, чем пользователей с подпиской (835 и 699 соответственно).\n",
    "\n",
    "###### Изучение возраста пользователей\n",
    "Установлено, что медианный возраст пользователей сервиса составляет 25 лет. Минимальное значение - 12 лет, максимальное - 43 года.\n",
    "\n",
    "###### Изучение расстояния\n",
    "Установлено, что медианное расстояние, преодолеваемое за одну поездку, составляет 2,8-3,5 км.\n",
    "\n",
    "###### Изучение продолжительности поездок\n",
    "Установлено, что медианная продолжительность большинства поездок составляет 16-20 минут. \n",
    "\n",
    "##### Объединение данных\n",
    "С помощью метода `merge()` данные из трех таблиц были объединены в общую таблицу, которая затем была разделена на две таблицы: данные по пользователям с подпиской и данные по пользователям без подписки. Сравнение этих таблиц показало следующее:\n",
    "- количество пользователей:\n",
    "    - с подпиской: 699\n",
    "    - без подписки: 835\n",
    "- количество поездок у пользователей:\n",
    "    - с подпиской: 6500\n",
    "    - без подписки: 11473\n",
    "- доля поездок от общего количества:\n",
    "    - с подпиской: 36%\n",
    "    - без подписки: 64%\n",
    "- поездок на каждого пользователя:\n",
    "    - с подпиской: 9.3\n",
    "    - без подписки: 13.74\n",
    "    \n",
    "Таким образом, большая часть поездок приходится на долю пользователей без подписки.\n",
    "\n",
    "##### Подсчет выручки\n",
    "Для подсчета выручки была составлена сводная таблица, содержащая данные о суммарной продолжительности, суммарной длительности и количестве поездок по месяцам на каждого пользователя. Затем была рассчитана выручка, получаемая от каждого пользователя по месяцам. Выделены отдельные сводные таблицы для пользователей с подпиской и без. Изучение данных (статистические данные и гистограмма распределения помесячной выручки) показывает, что средняя помесячная выручка, получаемая от пользователей с подпиской, выше, чем средняя помесячная выручка, получаемая от пользователей без подписки.\n",
    "\n",
    "##### Проверка гипотез\n",
    "###### Тратят ли пользователи с подпиской больше времени на поездки?\n",
    "С помощью t-теста была проверена гипотеза о том, тратят ли пользователи с подпиской больше времени на поездки. По результатам теста была отвергнута нулевая гипотеза о равенстве средней продолжительности поездок у пользователей с подпиской и без в пользу альтернативной гипотезы: пользователи с подпиской в среднем тратят больше времени на поездки (18,5 и 17,5 минут соответственно).\n",
    "\n",
    "###### Можно ли сказать, что расстояние, которое проезжают пользователи с подпиской за одну поездку, не превышает 3130 метров?\n",
    "Для анализа износа самокатов была проверена гипотеза о том, превышает ли расстояние, которое проезжают пользователи с подпиской за одну поездку, значение 3130 метров. По результатам t-теста не удалось опровергнуть нулевую гипотезу. Альтернативная гипотеза о том, что пользователи с подпиской в среднем проезжают больше 3130 метров за одну поездку, не принята.\n",
    "\n",
    "###### Будет ли помесячная выручка от пользователей с подпиской по месяцам выше, чем выручка от пользователей без подписки?\n",
    "С помощью t-теста была проверена гипотеза о том, выше ли средняя помесячная выручка от пользователей с подпиской, чем средняя помесячная выручка от пользователей без подписки. По результатам теста была отвергнута нулевая гипотеза о равенстве средней помесячной выручки от пользователей с подпиской и без в пользу альтернативной гипотезы: средняя помесячная выручка от пользователей с подпиской выше, чем от пользователей без подписки (362,8 и 329,3 руб. соответственно).\n",
    "\n",
    "##### Анализ эффективности промо-акций\n",
    "Дополнительно были проведены исследования эффективности промо-акций:\n",
    "- планируется проведение акции по раздаче промокодов на один бесплатный месяц подписки, в рамках которой как минимум 100 существующих клиентов должны продлить эту подписку. Подсчитано, что необходимо разослать минимум 1161 промокод для того, чтобы чтобы вероятность не выполнить план в 100 новых подписок была примерно 5% (при условии, что подписку после завершения пробного периода продлевают 10% пользователей)\n",
    "- отдел маркетинга планирует разослать 1 миллион пуш-уведомлений в приложении. Известно, что уведомления открывают 40% пользователей. Подсчитано, что вероятность того, что уведомление откроют не более 399,5 тысяч пользователей, составляет 15,4%.\n",
    "\n",
    "##### Итого\n",
    "Полученные в ходе исследования данные показывают, что в среднем в месяц пользователи в подпиской приносят больше выручки, чем пользователи без подписки, а значит, проведение маркетинговых кампаний, направленных на привлечение большего количества пользователей с подпиской, целесообразно. "
   ]
  }
 ],
 "metadata": {
  "ExecuteTimeLog": [
   {
    "duration": 401,
    "start_time": "2023-07-07T04:12:56.257Z"
   },
   {
    "duration": 96,
    "start_time": "2023-07-07T04:13:33.562Z"
   },
   {
    "duration": 17,
    "start_time": "2023-07-07T04:13:44.244Z"
   },
   {
    "duration": 12,
    "start_time": "2023-07-07T04:13:57.235Z"
   },
   {
    "duration": 123,
    "start_time": "2023-07-07T04:14:35.738Z"
   },
   {
    "duration": 9,
    "start_time": "2023-07-07T04:14:44.746Z"
   },
   {
    "duration": 11,
    "start_time": "2023-07-07T04:14:57.035Z"
   },
   {
    "duration": 79,
    "start_time": "2023-07-07T04:15:30.059Z"
   },
   {
    "duration": 10,
    "start_time": "2023-07-07T04:15:43.466Z"
   },
   {
    "duration": 10,
    "start_time": "2023-07-07T04:15:56.763Z"
   },
   {
    "duration": 8,
    "start_time": "2023-07-07T04:41:40.112Z"
   },
   {
    "duration": 107,
    "start_time": "2023-07-07T04:42:26.165Z"
   },
   {
    "duration": 421,
    "start_time": "2023-07-07T04:43:58.416Z"
   },
   {
    "duration": 103,
    "start_time": "2023-07-07T04:44:23.301Z"
   },
   {
    "duration": 90,
    "start_time": "2023-07-07T04:44:45.976Z"
   },
   {
    "duration": 157,
    "start_time": "2023-07-07T05:24:17.763Z"
   },
   {
    "duration": 459,
    "start_time": "2023-07-07T08:27:55.614Z"
   },
   {
    "duration": 258,
    "start_time": "2023-07-07T08:27:57.952Z"
   },
   {
    "duration": 486,
    "start_time": "2023-07-07T08:28:39.952Z"
   },
   {
    "duration": 139,
    "start_time": "2023-07-07T08:29:00.296Z"
   },
   {
    "duration": 136,
    "start_time": "2023-07-07T08:29:31.056Z"
   },
   {
    "duration": 182,
    "start_time": "2023-07-07T08:29:42.913Z"
   },
   {
    "duration": 3,
    "start_time": "2023-07-07T08:30:31.240Z"
   },
   {
    "duration": 10,
    "start_time": "2023-07-07T08:30:35.117Z"
   },
   {
    "duration": 12,
    "start_time": "2023-07-07T08:30:38.983Z"
   },
   {
    "duration": 10,
    "start_time": "2023-07-07T08:30:57.608Z"
   },
   {
    "duration": 16,
    "start_time": "2023-07-07T08:31:00.096Z"
   },
   {
    "duration": 1267,
    "start_time": "2023-07-07T08:31:17.659Z"
   },
   {
    "duration": 67,
    "start_time": "2023-07-07T08:31:29.624Z"
   },
   {
    "duration": 16,
    "start_time": "2023-07-07T08:31:37.799Z"
   },
   {
    "duration": 8,
    "start_time": "2023-07-07T08:31:53.080Z"
   },
   {
    "duration": 10,
    "start_time": "2023-07-07T08:32:25.679Z"
   },
   {
    "duration": 16,
    "start_time": "2023-07-07T08:33:26.474Z"
   },
   {
    "duration": 1104,
    "start_time": "2023-07-07T08:34:13.135Z"
   },
   {
    "duration": 76,
    "start_time": "2023-07-07T08:34:16.956Z"
   },
   {
    "duration": 15,
    "start_time": "2023-07-07T08:34:36.723Z"
   },
   {
    "duration": 14,
    "start_time": "2023-07-07T08:34:51.844Z"
   },
   {
    "duration": 13,
    "start_time": "2023-07-07T08:34:55.037Z"
   },
   {
    "duration": 10,
    "start_time": "2023-07-07T08:35:41.500Z"
   },
   {
    "duration": 14,
    "start_time": "2023-07-07T08:35:54.019Z"
   },
   {
    "duration": 14,
    "start_time": "2023-07-07T08:39:25.006Z"
   },
   {
    "duration": 13,
    "start_time": "2023-07-07T08:39:32.751Z"
   },
   {
    "duration": 14,
    "start_time": "2023-07-07T08:39:55.275Z"
   },
   {
    "duration": 8,
    "start_time": "2023-07-07T08:50:53.720Z"
   },
   {
    "duration": 19,
    "start_time": "2023-07-07T08:51:10.809Z"
   },
   {
    "duration": 1182,
    "start_time": "2023-07-07T08:54:08.143Z"
   },
   {
    "duration": 65,
    "start_time": "2023-07-07T08:54:10.976Z"
   },
   {
    "duration": 15,
    "start_time": "2023-07-07T08:54:13.410Z"
   },
   {
    "duration": 13,
    "start_time": "2023-07-07T08:54:29.529Z"
   },
   {
    "duration": 19,
    "start_time": "2023-07-07T08:54:43.092Z"
   },
   {
    "duration": 8,
    "start_time": "2023-07-07T08:55:53.907Z"
   },
   {
    "duration": 18,
    "start_time": "2023-07-07T08:56:03.362Z"
   },
   {
    "duration": 8,
    "start_time": "2023-07-07T08:56:53.571Z"
   },
   {
    "duration": 12,
    "start_time": "2023-07-07T08:58:07.699Z"
   },
   {
    "duration": 14,
    "start_time": "2023-07-07T08:58:19.364Z"
   },
   {
    "duration": 11,
    "start_time": "2023-07-07T09:00:03.714Z"
   },
   {
    "duration": 8,
    "start_time": "2023-07-07T09:00:37.441Z"
   },
   {
    "duration": 15,
    "start_time": "2023-07-07T09:00:57.778Z"
   },
   {
    "duration": 9,
    "start_time": "2023-07-07T09:01:04.938Z"
   },
   {
    "duration": 1276,
    "start_time": "2023-07-07T09:03:18.986Z"
   },
   {
    "duration": 77,
    "start_time": "2023-07-07T09:03:21.408Z"
   },
   {
    "duration": 17,
    "start_time": "2023-07-07T09:03:24.471Z"
   },
   {
    "duration": 13,
    "start_time": "2023-07-07T09:03:27.201Z"
   },
   {
    "duration": 9,
    "start_time": "2023-07-07T09:03:40.927Z"
   },
   {
    "duration": 18,
    "start_time": "2023-07-07T09:04:12.656Z"
   },
   {
    "duration": 20,
    "start_time": "2023-07-07T09:04:29.177Z"
   },
   {
    "duration": 105,
    "start_time": "2023-07-07T09:04:56.136Z"
   },
   {
    "duration": 4949,
    "start_time": "2023-07-07T09:05:02.071Z"
   },
   {
    "duration": 11,
    "start_time": "2023-07-07T09:05:34.198Z"
   },
   {
    "duration": 16,
    "start_time": "2023-07-07T09:05:41.111Z"
   },
   {
    "duration": 9,
    "start_time": "2023-07-07T09:05:52.354Z"
   },
   {
    "duration": 12,
    "start_time": "2023-07-07T09:06:00.863Z"
   },
   {
    "duration": 10,
    "start_time": "2023-07-07T09:06:06.942Z"
   },
   {
    "duration": 12,
    "start_time": "2023-07-07T09:06:13.398Z"
   },
   {
    "duration": 9,
    "start_time": "2023-07-07T09:08:29.063Z"
   },
   {
    "duration": 9,
    "start_time": "2023-07-07T09:08:34.535Z"
   },
   {
    "duration": 13,
    "start_time": "2023-07-07T09:09:17.239Z"
   },
   {
    "duration": 8,
    "start_time": "2023-07-07T09:09:19.752Z"
   },
   {
    "duration": 13,
    "start_time": "2023-07-07T09:09:22.214Z"
   },
   {
    "duration": 5,
    "start_time": "2023-07-07T09:13:02.398Z"
   },
   {
    "duration": 11,
    "start_time": "2023-07-07T09:13:13.373Z"
   },
   {
    "duration": 6,
    "start_time": "2023-07-07T09:13:59.302Z"
   },
   {
    "duration": 12,
    "start_time": "2023-07-07T09:14:01.430Z"
   },
   {
    "duration": 10,
    "start_time": "2023-07-07T09:14:21.990Z"
   },
   {
    "duration": 155,
    "start_time": "2023-07-07T09:14:26.934Z"
   },
   {
    "duration": 5,
    "start_time": "2023-07-07T09:14:37.078Z"
   },
   {
    "duration": 9,
    "start_time": "2023-07-07T09:14:54.781Z"
   },
   {
    "duration": 2393,
    "start_time": "2023-07-07T09:15:51.206Z"
   },
   {
    "duration": 108,
    "start_time": "2023-07-07T09:16:01.542Z"
   },
   {
    "duration": 157,
    "start_time": "2023-07-07T09:16:13.857Z"
   },
   {
    "duration": 15,
    "start_time": "2023-07-07T09:17:19.717Z"
   },
   {
    "duration": 16,
    "start_time": "2023-07-07T09:18:10.837Z"
   },
   {
    "duration": 15,
    "start_time": "2023-07-07T09:18:19.381Z"
   },
   {
    "duration": 20,
    "start_time": "2023-07-07T09:18:38.393Z"
   },
   {
    "duration": 19,
    "start_time": "2023-07-07T09:18:59.261Z"
   },
   {
    "duration": 17,
    "start_time": "2023-07-07T09:19:04.885Z"
   },
   {
    "duration": 10,
    "start_time": "2023-07-07T09:19:22.149Z"
   },
   {
    "duration": 16,
    "start_time": "2023-07-07T09:19:33.333Z"
   },
   {
    "duration": 8,
    "start_time": "2023-07-07T09:19:39.429Z"
   },
   {
    "duration": 214,
    "start_time": "2023-07-07T09:20:57.269Z"
   },
   {
    "duration": 214,
    "start_time": "2023-07-07T09:21:07.076Z"
   },
   {
    "duration": 8,
    "start_time": "2023-07-07T09:21:36.125Z"
   },
   {
    "duration": 10,
    "start_time": "2023-07-07T09:21:39.821Z"
   },
   {
    "duration": 1329,
    "start_time": "2023-07-10T03:57:40.345Z"
   },
   {
    "duration": 297,
    "start_time": "2023-07-10T03:57:44.247Z"
   },
   {
    "duration": 13,
    "start_time": "2023-07-10T03:57:47.446Z"
   },
   {
    "duration": 15,
    "start_time": "2023-07-10T03:57:49.822Z"
   },
   {
    "duration": 9,
    "start_time": "2023-07-10T03:57:52.518Z"
   },
   {
    "duration": 11,
    "start_time": "2023-07-10T03:57:54.901Z"
   },
   {
    "duration": 8,
    "start_time": "2023-07-10T03:57:59.101Z"
   },
   {
    "duration": 11,
    "start_time": "2023-07-10T03:58:01.751Z"
   },
   {
    "duration": 6,
    "start_time": "2023-07-10T03:59:38.134Z"
   },
   {
    "duration": 6,
    "start_time": "2023-07-10T03:59:52.517Z"
   },
   {
    "duration": 16,
    "start_time": "2023-07-10T04:00:03.997Z"
   },
   {
    "duration": 11,
    "start_time": "2023-07-10T04:00:29.926Z"
   },
   {
    "duration": 5,
    "start_time": "2023-07-10T04:00:36.284Z"
   },
   {
    "duration": 10,
    "start_time": "2023-07-10T04:00:39.182Z"
   },
   {
    "duration": 10,
    "start_time": "2023-07-10T04:02:57.973Z"
   },
   {
    "duration": 19,
    "start_time": "2023-07-10T04:03:20.533Z"
   },
   {
    "duration": 7,
    "start_time": "2023-07-10T04:03:58.437Z"
   },
   {
    "duration": 10,
    "start_time": "2023-07-10T04:04:30.289Z"
   },
   {
    "duration": 240,
    "start_time": "2023-07-10T04:04:49.462Z"
   },
   {
    "duration": 70,
    "start_time": "2023-07-10T04:06:30.093Z"
   },
   {
    "duration": 67,
    "start_time": "2023-07-10T04:06:44.498Z"
   },
   {
    "duration": 69,
    "start_time": "2023-07-10T04:07:18.477Z"
   },
   {
    "duration": 58,
    "start_time": "2023-07-10T04:07:59.101Z"
   },
   {
    "duration": 96,
    "start_time": "2023-07-10T04:08:20.479Z"
   },
   {
    "duration": 85,
    "start_time": "2023-07-10T04:08:56.741Z"
   },
   {
    "duration": 15,
    "start_time": "2023-07-10T04:09:03.821Z"
   },
   {
    "duration": 7,
    "start_time": "2023-07-10T04:09:21.087Z"
   },
   {
    "duration": 59,
    "start_time": "2023-07-10T04:09:37.557Z"
   },
   {
    "duration": 71,
    "start_time": "2023-07-10T04:10:04.394Z"
   },
   {
    "duration": 8,
    "start_time": "2023-07-10T04:10:35.645Z"
   },
   {
    "duration": 7,
    "start_time": "2023-07-10T04:10:43.885Z"
   },
   {
    "duration": 120,
    "start_time": "2023-07-10T04:11:01.796Z"
   },
   {
    "duration": 68,
    "start_time": "2023-07-10T04:11:12.692Z"
   },
   {
    "duration": 7,
    "start_time": "2023-07-10T04:11:16.332Z"
   },
   {
    "duration": 8,
    "start_time": "2023-07-10T04:11:57.026Z"
   },
   {
    "duration": 8,
    "start_time": "2023-07-10T04:12:24.340Z"
   },
   {
    "duration": 16,
    "start_time": "2023-07-10T04:12:31.932Z"
   },
   {
    "duration": 8,
    "start_time": "2023-07-10T04:12:56.317Z"
   },
   {
    "duration": 221,
    "start_time": "2023-07-10T04:13:06.804Z"
   },
   {
    "duration": 23,
    "start_time": "2023-07-10T04:13:27.278Z"
   },
   {
    "duration": 13,
    "start_time": "2023-07-10T04:14:13.658Z"
   },
   {
    "duration": 6,
    "start_time": "2023-07-10T04:14:58.124Z"
   },
   {
    "duration": 7,
    "start_time": "2023-07-10T04:15:07.175Z"
   },
   {
    "duration": 6,
    "start_time": "2023-07-10T04:15:29.370Z"
   },
   {
    "duration": 144,
    "start_time": "2023-07-10T04:15:49.755Z"
   },
   {
    "duration": 8,
    "start_time": "2023-07-10T04:18:16.981Z"
   },
   {
    "duration": 13,
    "start_time": "2023-07-10T04:18:47.907Z"
   },
   {
    "duration": 23,
    "start_time": "2023-07-10T04:19:14.099Z"
   },
   {
    "duration": 13,
    "start_time": "2023-07-10T04:19:25.107Z"
   },
   {
    "duration": 12,
    "start_time": "2023-07-10T04:19:34.664Z"
   },
   {
    "duration": 12,
    "start_time": "2023-07-10T04:19:45.883Z"
   },
   {
    "duration": 6,
    "start_time": "2023-07-10T04:20:57.084Z"
   },
   {
    "duration": 6,
    "start_time": "2023-07-10T04:21:09.604Z"
   },
   {
    "duration": 6,
    "start_time": "2023-07-10T04:21:25.091Z"
   },
   {
    "duration": 6,
    "start_time": "2023-07-10T04:21:41.436Z"
   },
   {
    "duration": 6,
    "start_time": "2023-07-10T04:21:52.243Z"
   },
   {
    "duration": 5,
    "start_time": "2023-07-10T04:23:39.396Z"
   },
   {
    "duration": 1274,
    "start_time": "2023-07-10T04:23:47.974Z"
   },
   {
    "duration": 74,
    "start_time": "2023-07-10T04:23:50.169Z"
   },
   {
    "duration": 11,
    "start_time": "2023-07-10T04:23:52.091Z"
   },
   {
    "duration": 13,
    "start_time": "2023-07-10T04:23:54.191Z"
   },
   {
    "duration": 9,
    "start_time": "2023-07-10T04:23:56.568Z"
   },
   {
    "duration": 12,
    "start_time": "2023-07-10T04:23:59.491Z"
   },
   {
    "duration": 9,
    "start_time": "2023-07-10T04:24:01.590Z"
   },
   {
    "duration": 14,
    "start_time": "2023-07-10T04:24:03.922Z"
   },
   {
    "duration": 7,
    "start_time": "2023-07-10T04:24:41.394Z"
   },
   {
    "duration": 5,
    "start_time": "2023-07-10T04:24:43.538Z"
   },
   {
    "duration": 11,
    "start_time": "2023-07-10T04:24:47.610Z"
   },
   {
    "duration": 21,
    "start_time": "2023-07-10T04:24:49.472Z"
   },
   {
    "duration": 6,
    "start_time": "2023-07-10T04:24:51.538Z"
   },
   {
    "duration": 11,
    "start_time": "2023-07-10T04:24:54.021Z"
   },
   {
    "duration": 246,
    "start_time": "2023-07-10T04:24:57.126Z"
   },
   {
    "duration": 7,
    "start_time": "2023-07-10T04:25:00.130Z"
   },
   {
    "duration": 6,
    "start_time": "2023-07-10T04:25:01.994Z"
   },
   {
    "duration": 10,
    "start_time": "2023-07-10T04:25:03.625Z"
   },
   {
    "duration": 15,
    "start_time": "2023-07-10T04:25:47.394Z"
   },
   {
    "duration": 14,
    "start_time": "2023-07-10T04:26:40.418Z"
   },
   {
    "duration": 5289,
    "start_time": "2023-07-10T04:26:59.908Z"
   },
   {
    "duration": 7,
    "start_time": "2023-07-10T04:27:16.818Z"
   },
   {
    "duration": 6,
    "start_time": "2023-07-10T04:27:54.832Z"
   },
   {
    "duration": 5,
    "start_time": "2023-07-10T04:27:58.922Z"
   },
   {
    "duration": 14,
    "start_time": "2023-07-10T04:28:10.618Z"
   },
   {
    "duration": 137,
    "start_time": "2023-07-10T04:31:23.281Z"
   },
   {
    "duration": 113,
    "start_time": "2023-07-10T04:32:22.321Z"
   },
   {
    "duration": 244,
    "start_time": "2023-07-10T04:33:23.773Z"
   },
   {
    "duration": 172,
    "start_time": "2023-07-10T04:33:46.873Z"
   },
   {
    "duration": 256,
    "start_time": "2023-07-10T04:34:04.778Z"
   },
   {
    "duration": 225,
    "start_time": "2023-07-10T04:34:20.225Z"
   },
   {
    "duration": 226,
    "start_time": "2023-07-10T04:34:38.049Z"
   },
   {
    "duration": 9,
    "start_time": "2023-07-10T04:34:53.594Z"
   },
   {
    "duration": 231,
    "start_time": "2023-07-10T04:35:14.763Z"
   },
   {
    "duration": 181,
    "start_time": "2023-07-10T04:36:04.241Z"
   },
   {
    "duration": 9,
    "start_time": "2023-07-10T04:37:38.441Z"
   },
   {
    "duration": 149,
    "start_time": "2023-07-10T04:37:45.113Z"
   },
   {
    "duration": 179,
    "start_time": "2023-07-10T04:38:01.505Z"
   },
   {
    "duration": 163,
    "start_time": "2023-07-10T04:38:09.144Z"
   },
   {
    "duration": 159,
    "start_time": "2023-07-10T04:39:07.089Z"
   },
   {
    "duration": 234,
    "start_time": "2023-07-10T04:39:30.256Z"
   },
   {
    "duration": 149,
    "start_time": "2023-07-10T04:39:42.618Z"
   },
   {
    "duration": 170,
    "start_time": "2023-07-10T04:39:45.008Z"
   },
   {
    "duration": 236,
    "start_time": "2023-07-10T04:42:26.305Z"
   },
   {
    "duration": 153,
    "start_time": "2023-07-10T04:42:51.273Z"
   },
   {
    "duration": 170,
    "start_time": "2023-07-10T04:43:27.457Z"
   },
   {
    "duration": 181,
    "start_time": "2023-07-10T04:43:47.624Z"
   },
   {
    "duration": 12,
    "start_time": "2023-07-10T04:44:01.282Z"
   },
   {
    "duration": 149,
    "start_time": "2023-07-10T04:44:22.575Z"
   },
   {
    "duration": 8,
    "start_time": "2023-07-10T04:44:55.552Z"
   },
   {
    "duration": 161,
    "start_time": "2023-07-10T04:45:26.744Z"
   },
   {
    "duration": 135,
    "start_time": "2023-07-10T04:45:34.497Z"
   },
   {
    "duration": 16,
    "start_time": "2023-07-10T04:46:20.296Z"
   },
   {
    "duration": 6,
    "start_time": "2023-07-10T04:46:49.984Z"
   },
   {
    "duration": 13,
    "start_time": "2023-07-10T04:52:22.083Z"
   },
   {
    "duration": 24,
    "start_time": "2023-07-10T04:52:31.846Z"
   },
   {
    "duration": 14,
    "start_time": "2023-07-10T04:52:55.675Z"
   },
   {
    "duration": 15,
    "start_time": "2023-07-10T04:53:22.981Z"
   },
   {
    "duration": 10,
    "start_time": "2023-07-10T04:54:53.847Z"
   },
   {
    "duration": 7,
    "start_time": "2023-07-10T04:55:11.128Z"
   },
   {
    "duration": 22,
    "start_time": "2023-07-10T04:55:21.855Z"
   },
   {
    "duration": 13,
    "start_time": "2023-07-10T04:55:30.484Z"
   },
   {
    "duration": 15,
    "start_time": "2023-07-10T04:55:43.614Z"
   },
   {
    "duration": 18,
    "start_time": "2023-07-10T04:55:56.169Z"
   },
   {
    "duration": 168,
    "start_time": "2023-07-10T07:38:58.571Z"
   },
   {
    "duration": 211,
    "start_time": "2023-07-10T07:39:13.992Z"
   },
   {
    "duration": 137,
    "start_time": "2023-07-10T07:40:58.441Z"
   },
   {
    "duration": 11,
    "start_time": "2023-07-10T07:41:35.431Z"
   },
   {
    "duration": 3,
    "start_time": "2023-07-10T07:41:59.247Z"
   },
   {
    "duration": 142,
    "start_time": "2023-07-10T07:42:05.432Z"
   },
   {
    "duration": 393,
    "start_time": "2023-07-10T07:43:21.337Z"
   },
   {
    "duration": 173,
    "start_time": "2023-07-10T07:45:56.311Z"
   },
   {
    "duration": 180,
    "start_time": "2023-07-10T07:47:06.807Z"
   },
   {
    "duration": 83,
    "start_time": "2023-07-10T07:48:11.816Z"
   },
   {
    "duration": 148,
    "start_time": "2023-07-10T07:48:19.285Z"
   },
   {
    "duration": 201,
    "start_time": "2023-07-10T07:48:31.674Z"
   },
   {
    "duration": 189,
    "start_time": "2023-07-10T07:49:14.615Z"
   },
   {
    "duration": 176,
    "start_time": "2023-07-10T07:49:25.472Z"
   },
   {
    "duration": 183,
    "start_time": "2023-07-10T07:49:29.486Z"
   },
   {
    "duration": 5,
    "start_time": "2023-07-10T07:52:05.351Z"
   },
   {
    "duration": 5,
    "start_time": "2023-07-10T07:52:40.770Z"
   },
   {
    "duration": 74,
    "start_time": "2023-07-10T07:53:59.543Z"
   },
   {
    "duration": 5,
    "start_time": "2023-07-10T07:54:35.576Z"
   },
   {
    "duration": 6,
    "start_time": "2023-07-10T07:55:01.196Z"
   },
   {
    "duration": 8,
    "start_time": "2023-07-10T07:55:06.455Z"
   },
   {
    "duration": 131,
    "start_time": "2023-07-10T07:58:54.047Z"
   },
   {
    "duration": 79,
    "start_time": "2023-07-10T07:59:10.605Z"
   },
   {
    "duration": 2795,
    "start_time": "2023-07-10T07:59:16.398Z"
   },
   {
    "duration": 53,
    "start_time": "2023-07-10T07:59:25.654Z"
   },
   {
    "duration": 16,
    "start_time": "2023-07-10T07:59:38.326Z"
   },
   {
    "duration": 18,
    "start_time": "2023-07-10T07:59:40.777Z"
   },
   {
    "duration": 14,
    "start_time": "2023-07-10T08:00:08.925Z"
   },
   {
    "duration": 14,
    "start_time": "2023-07-10T08:00:11.625Z"
   },
   {
    "duration": 13,
    "start_time": "2023-07-10T08:02:31.023Z"
   },
   {
    "duration": 26,
    "start_time": "2023-07-10T08:02:57.687Z"
   },
   {
    "duration": 17,
    "start_time": "2023-07-10T08:03:00.141Z"
   },
   {
    "duration": 71,
    "start_time": "2023-07-10T08:09:11.245Z"
   },
   {
    "duration": 14,
    "start_time": "2023-07-10T08:09:21.292Z"
   },
   {
    "duration": 15,
    "start_time": "2023-07-10T08:09:35.541Z"
   },
   {
    "duration": 24,
    "start_time": "2023-07-10T08:09:49.460Z"
   },
   {
    "duration": 12,
    "start_time": "2023-07-10T08:09:53.043Z"
   },
   {
    "duration": 17,
    "start_time": "2023-07-10T08:09:57.805Z"
   },
   {
    "duration": 14,
    "start_time": "2023-07-10T08:10:00.636Z"
   },
   {
    "duration": 17,
    "start_time": "2023-07-10T08:10:38.698Z"
   },
   {
    "duration": 13,
    "start_time": "2023-07-10T08:13:35.842Z"
   },
   {
    "duration": 25,
    "start_time": "2023-07-10T08:13:38.572Z"
   },
   {
    "duration": 11,
    "start_time": "2023-07-10T08:13:54.975Z"
   },
   {
    "duration": 12,
    "start_time": "2023-07-10T08:13:56.755Z"
   },
   {
    "duration": 299,
    "start_time": "2023-07-10T08:13:58.938Z"
   },
   {
    "duration": 329,
    "start_time": "2023-07-10T08:14:01.259Z"
   },
   {
    "duration": 25,
    "start_time": "2023-07-10T08:14:08.081Z"
   },
   {
    "duration": 13,
    "start_time": "2023-07-10T08:14:11.482Z"
   },
   {
    "duration": 11,
    "start_time": "2023-07-10T08:19:55.042Z"
   },
   {
    "duration": 6,
    "start_time": "2023-07-10T08:19:57.874Z"
   },
   {
    "duration": 3319,
    "start_time": "2023-07-10T08:19:59.684Z"
   },
   {
    "duration": 4,
    "start_time": "2023-07-10T08:20:51.584Z"
   },
   {
    "duration": 4,
    "start_time": "2023-07-10T08:20:57.037Z"
   },
   {
    "duration": 4544,
    "start_time": "2023-07-10T08:20:59.273Z"
   },
   {
    "duration": 3,
    "start_time": "2023-07-10T08:21:43.938Z"
   },
   {
    "duration": 3265,
    "start_time": "2023-07-10T08:21:46.734Z"
   },
   {
    "duration": 11,
    "start_time": "2023-07-10T08:22:16.301Z"
   },
   {
    "duration": 13,
    "start_time": "2023-07-10T08:22:19.880Z"
   },
   {
    "duration": 15,
    "start_time": "2023-07-10T08:22:22.405Z"
   },
   {
    "duration": 13,
    "start_time": "2023-07-10T08:22:32.191Z"
   },
   {
    "duration": 12,
    "start_time": "2023-07-10T08:22:35.676Z"
   },
   {
    "duration": 6,
    "start_time": "2023-07-10T08:25:46.046Z"
   },
   {
    "duration": 3,
    "start_time": "2023-07-10T08:25:55.502Z"
   },
   {
    "duration": 5,
    "start_time": "2023-07-10T08:26:06.142Z"
   },
   {
    "duration": 5,
    "start_time": "2023-07-10T08:26:11.678Z"
   },
   {
    "duration": 175,
    "start_time": "2023-07-10T08:31:18.197Z"
   },
   {
    "duration": 2086,
    "start_time": "2023-07-10T08:31:24.641Z"
   },
   {
    "duration": 28,
    "start_time": "2023-07-10T08:31:46.449Z"
   },
   {
    "duration": 25,
    "start_time": "2023-07-10T08:34:05.042Z"
   },
   {
    "duration": 20,
    "start_time": "2023-07-10T08:35:52.756Z"
   },
   {
    "duration": 20,
    "start_time": "2023-07-10T08:36:01.756Z"
   },
   {
    "duration": 12,
    "start_time": "2023-07-10T08:36:13.180Z"
   },
   {
    "duration": 16,
    "start_time": "2023-07-10T08:37:15.549Z"
   },
   {
    "duration": 14,
    "start_time": "2023-07-10T08:37:47.180Z"
   },
   {
    "duration": 17,
    "start_time": "2023-07-10T08:37:59.172Z"
   },
   {
    "duration": 16,
    "start_time": "2023-07-10T08:38:44.780Z"
   },
   {
    "duration": 6,
    "start_time": "2023-07-10T08:40:41.259Z"
   },
   {
    "duration": 19,
    "start_time": "2023-07-10T08:40:51.050Z"
   },
   {
    "duration": 27,
    "start_time": "2023-07-10T08:41:11.236Z"
   },
   {
    "duration": 16,
    "start_time": "2023-07-10T08:44:08.740Z"
   },
   {
    "duration": 80,
    "start_time": "2023-07-10T08:44:49.852Z"
   },
   {
    "duration": 19,
    "start_time": "2023-07-10T08:44:57.898Z"
   },
   {
    "duration": 14,
    "start_time": "2023-07-10T08:45:27.467Z"
   },
   {
    "duration": 4,
    "start_time": "2023-07-10T08:45:39.237Z"
   },
   {
    "duration": 13,
    "start_time": "2023-07-10T08:45:49.986Z"
   },
   {
    "duration": 30,
    "start_time": "2023-07-10T08:48:52.457Z"
   },
   {
    "duration": 30,
    "start_time": "2023-07-10T08:48:55.571Z"
   },
   {
    "duration": 6,
    "start_time": "2023-07-10T08:49:00.237Z"
   },
   {
    "duration": 4,
    "start_time": "2023-07-10T08:49:03.562Z"
   },
   {
    "duration": 13,
    "start_time": "2023-07-10T08:49:05.874Z"
   },
   {
    "duration": 15,
    "start_time": "2023-07-10T08:51:44.665Z"
   },
   {
    "duration": 8,
    "start_time": "2023-07-10T08:55:07.178Z"
   },
   {
    "duration": 11,
    "start_time": "2023-07-10T08:55:50.769Z"
   },
   {
    "duration": 20,
    "start_time": "2023-07-10T08:55:58.985Z"
   },
   {
    "duration": 18,
    "start_time": "2023-07-10T08:57:01.177Z"
   },
   {
    "duration": 162,
    "start_time": "2023-07-10T08:57:27.893Z"
   },
   {
    "duration": 159,
    "start_time": "2023-07-10T08:57:44.737Z"
   },
   {
    "duration": 165,
    "start_time": "2023-07-10T08:57:58.142Z"
   },
   {
    "duration": 6,
    "start_time": "2023-07-10T08:58:32.497Z"
   },
   {
    "duration": 5,
    "start_time": "2023-07-10T08:58:41.839Z"
   },
   {
    "duration": 9,
    "start_time": "2023-07-10T08:59:06.867Z"
   },
   {
    "duration": 8,
    "start_time": "2023-07-10T08:59:12.281Z"
   },
   {
    "duration": 7,
    "start_time": "2023-07-10T09:00:03.265Z"
   },
   {
    "duration": 164,
    "start_time": "2023-07-10T09:00:13.743Z"
   },
   {
    "duration": 9,
    "start_time": "2023-07-10T09:00:27.721Z"
   },
   {
    "duration": 7,
    "start_time": "2023-07-10T09:05:19.137Z"
   },
   {
    "duration": 54,
    "start_time": "2023-07-10T13:56:30.600Z"
   },
   {
    "duration": 1600,
    "start_time": "2023-07-10T13:56:43.250Z"
   },
   {
    "duration": 206,
    "start_time": "2023-07-10T13:56:45.237Z"
   },
   {
    "duration": 10,
    "start_time": "2023-07-10T13:56:51.207Z"
   },
   {
    "duration": 7,
    "start_time": "2023-07-10T13:56:53.206Z"
   },
   {
    "duration": 12,
    "start_time": "2023-07-10T13:56:55.719Z"
   },
   {
    "duration": 32,
    "start_time": "2023-07-10T13:56:58.048Z"
   },
   {
    "duration": 7,
    "start_time": "2023-07-10T13:57:00.036Z"
   },
   {
    "duration": 10,
    "start_time": "2023-07-10T13:57:01.830Z"
   },
   {
    "duration": 259,
    "start_time": "2023-07-10T13:57:02.739Z"
   },
   {
    "duration": 9,
    "start_time": "2023-07-10T13:57:04.527Z"
   },
   {
    "duration": 8,
    "start_time": "2023-07-10T13:57:06.319Z"
   },
   {
    "duration": 11,
    "start_time": "2023-07-10T13:57:07.016Z"
   },
   {
    "duration": 15,
    "start_time": "2023-07-10T13:57:11.366Z"
   },
   {
    "duration": 8,
    "start_time": "2023-07-10T13:57:13.755Z"
   },
   {
    "duration": 8,
    "start_time": "2023-07-10T13:57:16.123Z"
   },
   {
    "duration": 23,
    "start_time": "2023-07-10T13:57:22.454Z"
   },
   {
    "duration": 167,
    "start_time": "2023-07-10T13:57:33.431Z"
   },
   {
    "duration": 199,
    "start_time": "2023-07-10T13:57:59.028Z"
   },
   {
    "duration": 147,
    "start_time": "2023-07-10T13:58:22.356Z"
   },
   {
    "duration": 14,
    "start_time": "2023-07-10T13:59:24.311Z"
   },
   {
    "duration": 13,
    "start_time": "2023-07-10T13:59:29.723Z"
   },
   {
    "duration": 20,
    "start_time": "2023-07-10T13:59:31.723Z"
   },
   {
    "duration": 10,
    "start_time": "2023-07-10T13:59:56.745Z"
   },
   {
    "duration": 8,
    "start_time": "2023-07-10T13:59:59.239Z"
   },
   {
    "duration": 7,
    "start_time": "2023-07-10T14:00:02.220Z"
   },
   {
    "duration": 203,
    "start_time": "2023-07-10T14:00:21.027Z"
   },
   {
    "duration": 186,
    "start_time": "2023-07-10T14:00:57.127Z"
   },
   {
    "duration": 16,
    "start_time": "2023-07-10T14:01:39.807Z"
   },
   {
    "duration": 14,
    "start_time": "2023-07-10T14:01:51.004Z"
   },
   {
    "duration": 13,
    "start_time": "2023-07-10T14:01:53.568Z"
   },
   {
    "duration": 36,
    "start_time": "2023-07-10T14:02:50.484Z"
   },
   {
    "duration": 9,
    "start_time": "2023-07-10T14:03:16.799Z"
   },
   {
    "duration": 5,
    "start_time": "2023-07-10T14:03:23.627Z"
   },
   {
    "duration": 19,
    "start_time": "2023-07-10T14:03:25.852Z"
   },
   {
    "duration": 13,
    "start_time": "2023-07-10T14:03:44.499Z"
   },
   {
    "duration": 17,
    "start_time": "2023-07-10T14:03:57.508Z"
   },
   {
    "duration": 25,
    "start_time": "2023-07-10T14:04:05.052Z"
   },
   {
    "duration": 15,
    "start_time": "2023-07-10T14:04:23.453Z"
   },
   {
    "duration": 187,
    "start_time": "2023-07-10T14:04:26.927Z"
   },
   {
    "duration": 13,
    "start_time": "2023-07-10T14:05:06.039Z"
   },
   {
    "duration": 11,
    "start_time": "2023-07-10T14:05:12.036Z"
   },
   {
    "duration": 6,
    "start_time": "2023-07-10T14:05:45.100Z"
   },
   {
    "duration": 1493,
    "start_time": "2023-07-11T06:41:14.757Z"
   },
   {
    "duration": 248,
    "start_time": "2023-07-11T06:41:18.104Z"
   },
   {
    "duration": 15,
    "start_time": "2023-07-11T06:41:20.223Z"
   },
   {
    "duration": 13,
    "start_time": "2023-07-11T06:41:22.243Z"
   },
   {
    "duration": 11,
    "start_time": "2023-07-11T06:41:24.755Z"
   },
   {
    "duration": 15,
    "start_time": "2023-07-11T06:41:26.875Z"
   },
   {
    "duration": 8,
    "start_time": "2023-07-11T06:41:33.563Z"
   },
   {
    "duration": 11,
    "start_time": "2023-07-11T06:41:35.193Z"
   },
   {
    "duration": 7,
    "start_time": "2023-07-11T06:41:37.443Z"
   },
   {
    "duration": 6,
    "start_time": "2023-07-11T06:41:39.531Z"
   },
   {
    "duration": 10,
    "start_time": "2023-07-11T06:41:41.563Z"
   },
   {
    "duration": 21,
    "start_time": "2023-07-11T06:41:43.624Z"
   },
   {
    "duration": 9,
    "start_time": "2023-07-11T06:41:46.170Z"
   },
   {
    "duration": 11,
    "start_time": "2023-07-11T06:41:47.875Z"
   },
   {
    "duration": 303,
    "start_time": "2023-07-11T06:41:49.867Z"
   },
   {
    "duration": 8,
    "start_time": "2023-07-11T06:41:56.476Z"
   },
   {
    "duration": 9,
    "start_time": "2023-07-11T06:42:14.720Z"
   },
   {
    "duration": 9,
    "start_time": "2023-07-11T06:42:21.819Z"
   },
   {
    "duration": 8,
    "start_time": "2023-07-11T06:42:57.635Z"
   },
   {
    "duration": 14,
    "start_time": "2023-07-11T06:42:59.626Z"
   },
   {
    "duration": 25,
    "start_time": "2023-07-11T06:43:01.907Z"
   },
   {
    "duration": 10,
    "start_time": "2023-07-11T06:43:03.923Z"
   },
   {
    "duration": 7,
    "start_time": "2023-07-11T06:43:05.651Z"
   },
   {
    "duration": 231,
    "start_time": "2023-07-11T06:43:13.467Z"
   },
   {
    "duration": 22,
    "start_time": "2023-07-11T06:43:49.107Z"
   },
   {
    "duration": 148,
    "start_time": "2023-07-11T06:44:04.068Z"
   },
   {
    "duration": 166,
    "start_time": "2023-07-11T06:44:22.813Z"
   },
   {
    "duration": 151,
    "start_time": "2023-07-11T06:44:34.093Z"
   },
   {
    "duration": 223,
    "start_time": "2023-07-11T06:44:36.324Z"
   },
   {
    "duration": 161,
    "start_time": "2023-07-11T06:44:39.730Z"
   },
   {
    "duration": 18,
    "start_time": "2023-07-11T06:44:42.162Z"
   },
   {
    "duration": 182,
    "start_time": "2023-07-11T06:44:51.156Z"
   },
   {
    "duration": 251,
    "start_time": "2023-07-11T06:44:53.813Z"
   },
   {
    "duration": 12,
    "start_time": "2023-07-11T06:44:58.730Z"
   },
   {
    "duration": 11,
    "start_time": "2023-07-11T06:45:00.787Z"
   },
   {
    "duration": 19,
    "start_time": "2023-07-11T06:45:03.154Z"
   },
   {
    "duration": 10,
    "start_time": "2023-07-11T06:45:13.234Z"
   },
   {
    "duration": 9,
    "start_time": "2023-07-11T06:45:15.042Z"
   },
   {
    "duration": 8,
    "start_time": "2023-07-11T06:45:16.898Z"
   },
   {
    "duration": 209,
    "start_time": "2023-07-11T06:45:19.708Z"
   },
   {
    "duration": 215,
    "start_time": "2023-07-11T06:45:22.210Z"
   },
   {
    "duration": 15,
    "start_time": "2023-07-11T06:45:32.954Z"
   },
   {
    "duration": 14,
    "start_time": "2023-07-11T06:45:35.226Z"
   },
   {
    "duration": 13,
    "start_time": "2023-07-11T06:45:37.530Z"
   },
   {
    "duration": 36,
    "start_time": "2023-07-11T06:45:40.435Z"
   },
   {
    "duration": 8,
    "start_time": "2023-07-11T06:45:42.698Z"
   },
   {
    "duration": 6,
    "start_time": "2023-07-11T06:45:44.154Z"
   },
   {
    "duration": 13,
    "start_time": "2023-07-11T06:45:45.539Z"
   },
   {
    "duration": 14,
    "start_time": "2023-07-11T06:45:57.579Z"
   },
   {
    "duration": 20,
    "start_time": "2023-07-11T06:45:59.506Z"
   },
   {
    "duration": 20,
    "start_time": "2023-07-11T06:46:01.178Z"
   },
   {
    "duration": 16,
    "start_time": "2023-07-11T06:46:04.520Z"
   },
   {
    "duration": 200,
    "start_time": "2023-07-11T06:46:07.291Z"
   },
   {
    "duration": 11,
    "start_time": "2023-07-11T06:46:24.020Z"
   },
   {
    "duration": 25,
    "start_time": "2023-07-11T06:46:41.720Z"
   },
   {
    "duration": 13,
    "start_time": "2023-07-11T06:47:00.414Z"
   },
   {
    "duration": 214,
    "start_time": "2023-07-11T06:47:02.258Z"
   },
   {
    "duration": 9,
    "start_time": "2023-07-11T06:47:08.154Z"
   },
   {
    "duration": 21,
    "start_time": "2023-07-11T06:47:48.594Z"
   },
   {
    "duration": 27,
    "start_time": "2023-07-11T06:48:38.057Z"
   },
   {
    "duration": 9,
    "start_time": "2023-07-11T06:48:55.346Z"
   },
   {
    "duration": 8,
    "start_time": "2023-07-11T06:49:01.089Z"
   },
   {
    "duration": 28,
    "start_time": "2023-07-11T06:49:05.146Z"
   },
   {
    "duration": 9,
    "start_time": "2023-07-11T06:49:09.625Z"
   },
   {
    "duration": 12,
    "start_time": "2023-07-11T06:49:35.926Z"
   },
   {
    "duration": 7,
    "start_time": "2023-07-11T06:49:41.297Z"
   },
   {
    "duration": 188,
    "start_time": "2023-07-11T06:49:42.841Z"
   },
   {
    "duration": 13,
    "start_time": "2023-07-11T06:49:47.155Z"
   },
   {
    "duration": 10,
    "start_time": "2023-07-11T06:49:57.946Z"
   },
   {
    "duration": 26,
    "start_time": "2023-07-11T06:50:04.825Z"
   },
   {
    "duration": 6,
    "start_time": "2023-07-11T06:50:44.761Z"
   },
   {
    "duration": 64,
    "start_time": "2023-07-11T06:51:20.977Z"
   },
   {
    "duration": 135,
    "start_time": "2023-07-11T06:51:31.865Z"
   },
   {
    "duration": 28,
    "start_time": "2023-07-11T06:51:55.505Z"
   },
   {
    "duration": 18,
    "start_time": "2023-07-11T06:52:08.641Z"
   },
   {
    "duration": 199,
    "start_time": "2023-07-11T06:52:10.432Z"
   },
   {
    "duration": 29,
    "start_time": "2023-07-11T06:52:21.944Z"
   },
   {
    "duration": 11,
    "start_time": "2023-07-11T06:52:56.769Z"
   },
   {
    "duration": 27,
    "start_time": "2023-07-11T06:53:13.552Z"
   },
   {
    "duration": 8,
    "start_time": "2023-07-11T06:53:41.094Z"
   },
   {
    "duration": 7,
    "start_time": "2023-07-11T06:53:43.136Z"
   },
   {
    "duration": 7,
    "start_time": "2023-07-11T06:53:45.161Z"
   },
   {
    "duration": 208,
    "start_time": "2023-07-11T06:54:27.536Z"
   },
   {
    "duration": 197,
    "start_time": "2023-07-11T06:54:30.567Z"
   },
   {
    "duration": 33,
    "start_time": "2023-07-11T06:54:53.984Z"
   },
   {
    "duration": 30,
    "start_time": "2023-07-11T06:54:55.992Z"
   },
   {
    "duration": 194,
    "start_time": "2023-07-11T06:55:07.159Z"
   },
   {
    "duration": 12,
    "start_time": "2023-07-11T06:55:20.895Z"
   },
   {
    "duration": 11,
    "start_time": "2023-07-11T06:55:33.376Z"
   },
   {
    "duration": 11,
    "start_time": "2023-07-11T06:55:55.578Z"
   },
   {
    "duration": 11,
    "start_time": "2023-07-11T06:55:57.922Z"
   },
   {
    "duration": 8,
    "start_time": "2023-07-11T06:56:09.088Z"
   },
   {
    "duration": 8,
    "start_time": "2023-07-11T07:21:50.708Z"
   },
   {
    "duration": 8,
    "start_time": "2023-07-11T07:22:16.080Z"
   },
   {
    "duration": 8,
    "start_time": "2023-07-11T07:22:20.364Z"
   },
   {
    "duration": 6,
    "start_time": "2023-07-11T07:26:58.963Z"
   },
   {
    "duration": 11,
    "start_time": "2023-07-11T07:27:23.898Z"
   },
   {
    "duration": 9,
    "start_time": "2023-07-11T07:28:02.082Z"
   },
   {
    "duration": 9,
    "start_time": "2023-07-11T07:28:06.615Z"
   },
   {
    "duration": 9,
    "start_time": "2023-07-11T07:41:11.362Z"
   },
   {
    "duration": 6,
    "start_time": "2023-07-11T07:45:32.016Z"
   },
   {
    "duration": 7,
    "start_time": "2023-07-11T07:45:37.283Z"
   },
   {
    "duration": 8,
    "start_time": "2023-07-11T07:45:41.352Z"
   },
   {
    "duration": 17,
    "start_time": "2023-07-11T08:33:44.760Z"
   },
   {
    "duration": 4,
    "start_time": "2023-07-11T08:34:06.686Z"
   },
   {
    "duration": 406,
    "start_time": "2023-07-11T08:34:09.536Z"
   },
   {
    "duration": 280,
    "start_time": "2023-07-11T08:35:26.435Z"
   },
   {
    "duration": 12,
    "start_time": "2023-07-11T08:40:08.492Z"
   },
   {
    "duration": 4,
    "start_time": "2023-07-11T08:40:21.189Z"
   },
   {
    "duration": 7,
    "start_time": "2023-07-11T08:40:26.040Z"
   },
   {
    "duration": 7,
    "start_time": "2023-07-11T08:40:40.735Z"
   },
   {
    "duration": 8,
    "start_time": "2023-07-11T08:42:04.089Z"
   },
   {
    "duration": 7,
    "start_time": "2023-07-11T08:42:16.359Z"
   },
   {
    "duration": 13,
    "start_time": "2023-07-11T08:46:04.631Z"
   },
   {
    "duration": 146,
    "start_time": "2023-07-11T08:46:43.298Z"
   },
   {
    "duration": 3,
    "start_time": "2023-07-11T08:47:14.071Z"
   },
   {
    "duration": 138,
    "start_time": "2023-07-11T08:47:18.397Z"
   },
   {
    "duration": 172,
    "start_time": "2023-07-11T08:47:44.116Z"
   },
   {
    "duration": 14,
    "start_time": "2023-07-11T08:50:17.094Z"
   },
   {
    "duration": 15,
    "start_time": "2023-07-11T08:51:59.764Z"
   },
   {
    "duration": 20,
    "start_time": "2023-07-11T08:52:43.766Z"
   },
   {
    "duration": 22,
    "start_time": "2023-07-11T08:53:12.134Z"
   },
   {
    "duration": 151,
    "start_time": "2023-07-11T08:54:39.798Z"
   },
   {
    "duration": 9,
    "start_time": "2023-07-11T08:54:55.909Z"
   },
   {
    "duration": 18,
    "start_time": "2023-07-11T08:55:25.792Z"
   },
   {
    "duration": 17,
    "start_time": "2023-07-11T08:55:31.999Z"
   },
   {
    "duration": 6,
    "start_time": "2023-07-11T08:55:38.021Z"
   },
   {
    "duration": 278,
    "start_time": "2023-07-11T08:58:25.156Z"
   },
   {
    "duration": 259,
    "start_time": "2023-07-11T08:59:01.644Z"
   },
   {
    "duration": 387,
    "start_time": "2023-07-11T08:59:12.084Z"
   },
   {
    "duration": 277,
    "start_time": "2023-07-11T09:00:14.351Z"
   },
   {
    "duration": 1814,
    "start_time": "2023-07-11T09:01:24.859Z"
   },
   {
    "duration": 16425,
    "start_time": "2023-07-11T09:01:50.855Z"
   },
   {
    "duration": 275,
    "start_time": "2023-07-11T09:02:14.844Z"
   },
   {
    "duration": 3092,
    "start_time": "2023-07-11T09:03:05.906Z"
   },
   {
    "duration": 1970,
    "start_time": "2023-07-11T09:03:43.189Z"
   },
   {
    "duration": 1983,
    "start_time": "2023-07-11T09:03:53.211Z"
   },
   {
    "duration": 1935,
    "start_time": "2023-07-11T09:14:53.999Z"
   },
   {
    "duration": 285,
    "start_time": "2023-07-11T09:22:06.162Z"
   },
   {
    "duration": 975,
    "start_time": "2023-07-11T09:22:22.609Z"
   },
   {
    "duration": 2050,
    "start_time": "2023-07-11T09:22:34.804Z"
   },
   {
    "duration": 1895,
    "start_time": "2023-07-11T09:23:17.545Z"
   },
   {
    "duration": 2050,
    "start_time": "2023-07-11T09:23:27.706Z"
   },
   {
    "duration": 1868,
    "start_time": "2023-07-11T09:23:42.102Z"
   },
   {
    "duration": 1048,
    "start_time": "2023-07-11T09:24:32.240Z"
   },
   {
    "duration": 1266,
    "start_time": "2023-07-11T09:24:50.849Z"
   },
   {
    "duration": 1215,
    "start_time": "2023-07-11T09:25:06.345Z"
   },
   {
    "duration": 217,
    "start_time": "2023-07-11T09:25:42.153Z"
   },
   {
    "duration": 982,
    "start_time": "2023-07-11T09:25:49.523Z"
   },
   {
    "duration": 984,
    "start_time": "2023-07-11T09:25:55.236Z"
   },
   {
    "duration": 1814,
    "start_time": "2023-07-11T09:26:43.928Z"
   },
   {
    "duration": 9694,
    "start_time": "2023-07-11T09:26:57.416Z"
   },
   {
    "duration": 2308,
    "start_time": "2023-07-11T09:27:17.095Z"
   },
   {
    "duration": 1683,
    "start_time": "2023-07-11T09:27:29.303Z"
   },
   {
    "duration": 2462,
    "start_time": "2023-07-11T09:29:47.024Z"
   },
   {
    "duration": 9493,
    "start_time": "2023-07-11T09:30:06.848Z"
   },
   {
    "duration": 19446,
    "start_time": "2023-07-11T09:30:46.168Z"
   },
   {
    "duration": 3896,
    "start_time": "2023-07-11T09:31:33.863Z"
   },
   {
    "duration": 9409,
    "start_time": "2023-07-11T09:32:05.262Z"
   },
   {
    "duration": 8268,
    "start_time": "2023-07-11T09:32:19.294Z"
   },
   {
    "duration": 6025,
    "start_time": "2023-07-11T09:32:35.591Z"
   },
   {
    "duration": 6409,
    "start_time": "2023-07-11T09:33:07.047Z"
   },
   {
    "duration": 5682,
    "start_time": "2023-07-11T09:33:33.439Z"
   },
   {
    "duration": 5578,
    "start_time": "2023-07-11T09:33:39.951Z"
   },
   {
    "duration": 6073,
    "start_time": "2023-07-11T09:33:58.998Z"
   },
   {
    "duration": 5582,
    "start_time": "2023-07-11T09:34:23.910Z"
   },
   {
    "duration": 6185,
    "start_time": "2023-07-11T09:34:32.430Z"
   },
   {
    "duration": 5490,
    "start_time": "2023-07-11T09:35:14.847Z"
   },
   {
    "duration": 6205,
    "start_time": "2023-07-11T09:35:28.968Z"
   },
   {
    "duration": 326,
    "start_time": "2023-07-11T09:39:29.638Z"
   },
   {
    "duration": 5397,
    "start_time": "2023-07-11T09:40:52.351Z"
   },
   {
    "duration": 2630,
    "start_time": "2023-07-11T09:41:04.427Z"
   },
   {
    "duration": 9111,
    "start_time": "2023-07-11T09:44:42.159Z"
   },
   {
    "duration": 1575,
    "start_time": "2023-07-11T09:45:19.290Z"
   },
   {
    "duration": 22814,
    "start_time": "2023-07-11T09:45:41.822Z"
   },
   {
    "duration": 13,
    "start_time": "2023-07-11T09:46:19.606Z"
   },
   {
    "duration": 6,
    "start_time": "2023-07-11T09:46:50.958Z"
   },
   {
    "duration": 274,
    "start_time": "2023-07-11T09:47:24.438Z"
   },
   {
    "duration": 463,
    "start_time": "2023-07-11T09:47:36.303Z"
   },
   {
    "duration": 563,
    "start_time": "2023-07-11T09:47:42.023Z"
   },
   {
    "duration": 1525,
    "start_time": "2023-07-11T09:47:47.657Z"
   },
   {
    "duration": 2541,
    "start_time": "2023-07-11T09:48:38.496Z"
   },
   {
    "duration": 1618,
    "start_time": "2023-07-11T09:48:45.109Z"
   },
   {
    "duration": 2482,
    "start_time": "2023-07-11T09:49:40.516Z"
   },
   {
    "duration": 1670,
    "start_time": "2023-07-11T09:50:28.803Z"
   },
   {
    "duration": 1966,
    "start_time": "2023-07-11T09:50:37.037Z"
   },
   {
    "duration": 1336,
    "start_time": "2023-07-11T10:29:55.502Z"
   },
   {
    "duration": 70,
    "start_time": "2023-07-11T10:29:57.576Z"
   },
   {
    "duration": 15,
    "start_time": "2023-07-11T10:29:59.363Z"
   },
   {
    "duration": 14,
    "start_time": "2023-07-11T10:30:00.606Z"
   },
   {
    "duration": 11,
    "start_time": "2023-07-11T10:30:03.558Z"
   },
   {
    "duration": 13,
    "start_time": "2023-07-11T10:30:04.295Z"
   },
   {
    "duration": 10,
    "start_time": "2023-07-11T10:30:06.725Z"
   },
   {
    "duration": 13,
    "start_time": "2023-07-11T10:30:07.662Z"
   },
   {
    "duration": 6,
    "start_time": "2023-07-11T10:30:10.565Z"
   },
   {
    "duration": 5,
    "start_time": "2023-07-11T10:30:11.546Z"
   },
   {
    "duration": 12,
    "start_time": "2023-07-11T10:30:14.239Z"
   },
   {
    "duration": 24,
    "start_time": "2023-07-11T10:30:15.155Z"
   },
   {
    "duration": 7,
    "start_time": "2023-07-11T10:30:16.498Z"
   },
   {
    "duration": 12,
    "start_time": "2023-07-11T10:30:17.610Z"
   },
   {
    "duration": 250,
    "start_time": "2023-07-11T10:30:18.726Z"
   },
   {
    "duration": 9,
    "start_time": "2023-07-11T10:30:19.738Z"
   },
   {
    "duration": 9,
    "start_time": "2023-07-11T10:30:21.451Z"
   },
   {
    "duration": 11,
    "start_time": "2023-07-11T10:30:22.606Z"
   },
   {
    "duration": 8,
    "start_time": "2023-07-11T10:30:23.828Z"
   },
   {
    "duration": 15,
    "start_time": "2023-07-11T10:30:26.769Z"
   },
   {
    "duration": 6,
    "start_time": "2023-07-11T10:30:27.937Z"
   },
   {
    "duration": 141,
    "start_time": "2023-07-11T10:30:30.526Z"
   },
   {
    "duration": 120,
    "start_time": "2023-07-11T10:30:32.956Z"
   },
   {
    "duration": 292,
    "start_time": "2023-07-11T10:30:35.848Z"
   },
   {
    "duration": 161,
    "start_time": "2023-07-11T10:30:39.118Z"
   },
   {
    "duration": 179,
    "start_time": "2023-07-11T10:30:41.361Z"
   },
   {
    "duration": 144,
    "start_time": "2023-07-11T10:30:42.632Z"
   },
   {
    "duration": 11,
    "start_time": "2023-07-11T10:30:45.083Z"
   },
   {
    "duration": 11,
    "start_time": "2023-07-11T10:30:46.228Z"
   },
   {
    "duration": 12,
    "start_time": "2023-07-11T10:30:47.437Z"
   },
   {
    "duration": 9,
    "start_time": "2023-07-11T10:30:48.623Z"
   },
   {
    "duration": 8,
    "start_time": "2023-07-11T10:30:49.434Z"
   },
   {
    "duration": 7,
    "start_time": "2023-07-11T10:30:57.845Z"
   },
   {
    "duration": 194,
    "start_time": "2023-07-11T10:30:58.963Z"
   },
   {
    "duration": 286,
    "start_time": "2023-07-11T10:31:00.244Z"
   },
   {
    "duration": 15,
    "start_time": "2023-07-11T10:31:03.286Z"
   },
   {
    "duration": 13,
    "start_time": "2023-07-11T10:31:04.247Z"
   },
   {
    "duration": 13,
    "start_time": "2023-07-11T10:31:05.165Z"
   },
   {
    "duration": 37,
    "start_time": "2023-07-11T10:31:06.535Z"
   },
   {
    "duration": 7,
    "start_time": "2023-07-11T10:31:08.119Z"
   },
   {
    "duration": 6,
    "start_time": "2023-07-11T10:31:09.032Z"
   },
   {
    "duration": 16,
    "start_time": "2023-07-11T10:31:10.036Z"
   },
   {
    "duration": 10,
    "start_time": "2023-07-11T10:31:11.014Z"
   },
   {
    "duration": 12,
    "start_time": "2023-07-11T10:31:12.198Z"
   },
   {
    "duration": 21,
    "start_time": "2023-07-11T10:31:13.218Z"
   },
   {
    "duration": 119,
    "start_time": "2023-07-11T10:31:14.530Z"
   },
   {
    "duration": 18,
    "start_time": "2023-07-11T10:31:15.526Z"
   },
   {
    "duration": 181,
    "start_time": "2023-07-11T10:31:16.398Z"
   },
   {
    "duration": 10,
    "start_time": "2023-07-11T10:31:17.753Z"
   },
   {
    "duration": 9,
    "start_time": "2023-07-11T10:31:19.006Z"
   },
   {
    "duration": 8,
    "start_time": "2023-07-11T10:31:22.622Z"
   },
   {
    "duration": 16,
    "start_time": "2023-07-11T10:31:24.318Z"
   },
   {
    "duration": 6,
    "start_time": "2023-07-11T10:31:33.110Z"
   },
   {
    "duration": 2083,
    "start_time": "2023-07-11T10:31:36.219Z"
   },
   {
    "duration": 6,
    "start_time": "2023-07-11T10:32:25.098Z"
   },
   {
    "duration": 3287,
    "start_time": "2023-07-11T10:32:38.210Z"
   },
   {
    "duration": 3588,
    "start_time": "2023-07-11T10:32:57.698Z"
   },
   {
    "duration": 3857,
    "start_time": "2023-07-11T10:42:36.511Z"
   },
   {
    "duration": 3719,
    "start_time": "2023-07-11T10:42:54.103Z"
   },
   {
    "duration": 3703,
    "start_time": "2023-07-11T10:43:12.395Z"
   },
   {
    "duration": 2776,
    "start_time": "2023-07-11T10:43:37.748Z"
   },
   {
    "duration": 2739,
    "start_time": "2023-07-11T10:44:08.018Z"
   },
   {
    "duration": 2519,
    "start_time": "2023-07-11T10:45:24.747Z"
   },
   {
    "duration": 2632,
    "start_time": "2023-07-11T10:45:33.196Z"
   },
   {
    "duration": 334,
    "start_time": "2023-07-11T10:46:25.287Z"
   },
   {
    "duration": 1293,
    "start_time": "2023-07-11T11:01:39.031Z"
   },
   {
    "duration": 77,
    "start_time": "2023-07-11T11:01:40.431Z"
   },
   {
    "duration": 15,
    "start_time": "2023-07-11T11:01:43.407Z"
   },
   {
    "duration": 13,
    "start_time": "2023-07-11T11:01:44.200Z"
   },
   {
    "duration": 12,
    "start_time": "2023-07-11T11:01:45.651Z"
   },
   {
    "duration": 15,
    "start_time": "2023-07-11T11:01:46.248Z"
   },
   {
    "duration": 9,
    "start_time": "2023-07-11T11:01:47.642Z"
   },
   {
    "duration": 12,
    "start_time": "2023-07-11T11:01:48.144Z"
   },
   {
    "duration": 7,
    "start_time": "2023-07-11T11:01:50.209Z"
   },
   {
    "duration": 6,
    "start_time": "2023-07-11T11:01:50.828Z"
   },
   {
    "duration": 10,
    "start_time": "2023-07-11T11:01:52.696Z"
   },
   {
    "duration": 24,
    "start_time": "2023-07-11T11:01:54.322Z"
   },
   {
    "duration": 6,
    "start_time": "2023-07-11T11:01:54.922Z"
   },
   {
    "duration": 11,
    "start_time": "2023-07-11T11:01:55.730Z"
   },
   {
    "duration": 251,
    "start_time": "2023-07-11T11:01:56.324Z"
   },
   {
    "duration": 11,
    "start_time": "2023-07-11T11:01:57.096Z"
   },
   {
    "duration": 10,
    "start_time": "2023-07-11T11:01:58.012Z"
   },
   {
    "duration": 14,
    "start_time": "2023-07-11T11:01:58.712Z"
   },
   {
    "duration": 10,
    "start_time": "2023-07-11T11:01:59.316Z"
   },
   {
    "duration": 15,
    "start_time": "2023-07-11T11:02:02.811Z"
   },
   {
    "duration": 6,
    "start_time": "2023-07-11T11:02:03.447Z"
   },
   {
    "duration": 146,
    "start_time": "2023-07-11T11:02:05.725Z"
   },
   {
    "duration": 127,
    "start_time": "2023-07-11T11:02:07.600Z"
   },
   {
    "duration": 216,
    "start_time": "2023-07-11T11:02:09.123Z"
   },
   {
    "duration": 161,
    "start_time": "2023-07-11T11:02:11.046Z"
   },
   {
    "duration": 178,
    "start_time": "2023-07-11T11:02:12.650Z"
   },
   {
    "duration": 161,
    "start_time": "2023-07-11T11:02:13.514Z"
   },
   {
    "duration": 12,
    "start_time": "2023-07-11T11:02:15.420Z"
   },
   {
    "duration": 12,
    "start_time": "2023-07-11T11:02:16.218Z"
   },
   {
    "duration": 10,
    "start_time": "2023-07-11T11:02:17.032Z"
   },
   {
    "duration": 8,
    "start_time": "2023-07-11T11:02:18.099Z"
   },
   {
    "duration": 7,
    "start_time": "2023-07-11T11:02:18.930Z"
   },
   {
    "duration": 229,
    "start_time": "2023-07-11T11:02:20.000Z"
   },
   {
    "duration": 304,
    "start_time": "2023-07-11T11:02:20.908Z"
   },
   {
    "duration": 15,
    "start_time": "2023-07-11T11:02:23.812Z"
   },
   {
    "duration": 16,
    "start_time": "2023-07-11T11:02:24.699Z"
   },
   {
    "duration": 19,
    "start_time": "2023-07-11T11:02:25.335Z"
   },
   {
    "duration": 38,
    "start_time": "2023-07-11T11:02:26.206Z"
   },
   {
    "duration": 7,
    "start_time": "2023-07-11T11:02:27.023Z"
   },
   {
    "duration": 6,
    "start_time": "2023-07-11T11:02:27.811Z"
   },
   {
    "duration": 15,
    "start_time": "2023-07-11T11:02:28.696Z"
   },
   {
    "duration": 10,
    "start_time": "2023-07-11T11:02:29.396Z"
   },
   {
    "duration": 17,
    "start_time": "2023-07-11T11:02:30.312Z"
   },
   {
    "duration": 31,
    "start_time": "2023-07-11T11:02:31.214Z"
   },
   {
    "duration": 129,
    "start_time": "2023-07-11T11:02:31.936Z"
   },
   {
    "duration": 21,
    "start_time": "2023-07-11T11:02:32.800Z"
   },
   {
    "duration": 205,
    "start_time": "2023-07-11T11:02:33.717Z"
   },
   {
    "duration": 12,
    "start_time": "2023-07-11T11:02:35.016Z"
   },
   {
    "duration": 11,
    "start_time": "2023-07-11T11:02:36.256Z"
   },
   {
    "duration": 7,
    "start_time": "2023-07-11T11:02:39.070Z"
   },
   {
    "duration": 6,
    "start_time": "2023-07-11T11:02:40.846Z"
   },
   {
    "duration": 6,
    "start_time": "2023-07-11T11:02:42.622Z"
   },
   {
    "duration": 336,
    "start_time": "2023-07-11T11:02:54.740Z"
   },
   {
    "duration": 369,
    "start_time": "2023-07-11T11:04:07.799Z"
   },
   {
    "duration": 2165,
    "start_time": "2023-07-11T13:06:20.162Z"
   },
   {
    "duration": 1245,
    "start_time": "2023-07-12T04:06:42.317Z"
   },
   {
    "duration": 214,
    "start_time": "2023-07-12T04:06:46.697Z"
   },
   {
    "duration": 11,
    "start_time": "2023-07-12T04:06:48.937Z"
   },
   {
    "duration": 11,
    "start_time": "2023-07-12T04:06:50.611Z"
   },
   {
    "duration": 12,
    "start_time": "2023-07-12T04:06:52.697Z"
   },
   {
    "duration": 17,
    "start_time": "2023-07-12T04:06:54.593Z"
   },
   {
    "duration": 8,
    "start_time": "2023-07-12T04:06:56.406Z"
   },
   {
    "duration": 8,
    "start_time": "2023-07-12T04:06:57.930Z"
   },
   {
    "duration": 6,
    "start_time": "2023-07-12T04:06:59.984Z"
   },
   {
    "duration": 5,
    "start_time": "2023-07-12T04:07:02.850Z"
   },
   {
    "duration": 9,
    "start_time": "2023-07-12T04:07:04.960Z"
   },
   {
    "duration": 17,
    "start_time": "2023-07-12T04:07:06.667Z"
   },
   {
    "duration": 5,
    "start_time": "2023-07-12T04:07:08.945Z"
   },
   {
    "duration": 8,
    "start_time": "2023-07-12T04:07:11.224Z"
   },
   {
    "duration": 242,
    "start_time": "2023-07-12T04:07:12.913Z"
   },
   {
    "duration": 6,
    "start_time": "2023-07-12T04:07:16.665Z"
   },
   {
    "duration": 6,
    "start_time": "2023-07-12T04:07:18.680Z"
   },
   {
    "duration": 9,
    "start_time": "2023-07-12T04:07:22.811Z"
   },
   {
    "duration": 11,
    "start_time": "2023-07-12T04:07:24.977Z"
   },
   {
    "duration": 5,
    "start_time": "2023-07-12T04:07:27.033Z"
   },
   {
    "duration": 5,
    "start_time": "2023-07-12T04:07:29.048Z"
   },
   {
    "duration": 114,
    "start_time": "2023-07-12T04:07:31.336Z"
   },
   {
    "duration": 98,
    "start_time": "2023-07-12T04:07:33.478Z"
   },
   {
    "duration": 196,
    "start_time": "2023-07-12T04:07:35.777Z"
   },
   {
    "duration": 134,
    "start_time": "2023-07-12T04:07:39.289Z"
   },
   {
    "duration": 135,
    "start_time": "2023-07-12T04:07:42.192Z"
   },
   {
    "duration": 109,
    "start_time": "2023-07-12T04:07:44.488Z"
   },
   {
    "duration": 10,
    "start_time": "2023-07-12T04:07:47.680Z"
   },
   {
    "duration": 9,
    "start_time": "2023-07-12T04:07:50.017Z"
   },
   {
    "duration": 18,
    "start_time": "2023-07-12T04:07:52.192Z"
   },
   {
    "duration": 6,
    "start_time": "2023-07-12T04:07:54.336Z"
   },
   {
    "duration": 6,
    "start_time": "2023-07-12T04:07:55.889Z"
   },
   {
    "duration": 154,
    "start_time": "2023-07-12T04:07:58.011Z"
   },
   {
    "duration": 200,
    "start_time": "2023-07-12T04:08:00.296Z"
   },
   {
    "duration": 10,
    "start_time": "2023-07-12T04:08:03.129Z"
   },
   {
    "duration": 11,
    "start_time": "2023-07-12T04:08:05.544Z"
   },
   {
    "duration": 10,
    "start_time": "2023-07-12T04:08:07.032Z"
   },
   {
    "duration": 24,
    "start_time": "2023-07-12T04:08:10.160Z"
   },
   {
    "duration": 5,
    "start_time": "2023-07-12T04:08:12.033Z"
   },
   {
    "duration": 5,
    "start_time": "2023-07-12T04:08:14.213Z"
   },
   {
    "duration": 11,
    "start_time": "2023-07-12T04:08:15.824Z"
   },
   {
    "duration": 8,
    "start_time": "2023-07-12T04:08:18.560Z"
   },
   {
    "duration": 10,
    "start_time": "2023-07-12T04:08:21.311Z"
   },
   {
    "duration": 101,
    "start_time": "2023-07-12T04:08:27.352Z"
   },
   {
    "duration": 14,
    "start_time": "2023-07-12T04:08:29.464Z"
   },
   {
    "duration": 133,
    "start_time": "2023-07-12T04:08:32.129Z"
   },
   {
    "duration": 5,
    "start_time": "2023-07-12T04:08:40.265Z"
   },
   {
    "duration": 5,
    "start_time": "2023-07-12T04:08:42.184Z"
   },
   {
    "duration": 5,
    "start_time": "2023-07-12T04:08:45.032Z"
   },
   {
    "duration": 1508,
    "start_time": "2023-07-12T04:08:48.881Z"
   },
   {
    "duration": 1692,
    "start_time": "2023-07-12T04:08:55.182Z"
   },
   {
    "duration": 8,
    "start_time": "2023-07-12T04:10:16.628Z"
   },
   {
    "duration": 225,
    "start_time": "2023-07-12T04:10:21.248Z"
   },
   {
    "duration": 1536,
    "start_time": "2023-07-12T04:10:55.893Z"
   },
   {
    "duration": 1676,
    "start_time": "2023-07-12T04:11:29.289Z"
   },
   {
    "duration": 9,
    "start_time": "2023-07-12T04:12:29.160Z"
   },
   {
    "duration": 1716,
    "start_time": "2023-07-12T04:12:45.014Z"
   },
   {
    "duration": 248,
    "start_time": "2023-07-12T04:13:00.490Z"
   },
   {
    "duration": 218,
    "start_time": "2023-07-12T04:13:07.647Z"
   },
   {
    "duration": 235,
    "start_time": "2023-07-12T04:13:44.439Z"
   },
   {
    "duration": 213,
    "start_time": "2023-07-12T04:13:53.911Z"
   },
   {
    "duration": 218,
    "start_time": "2023-07-12T04:14:07.559Z"
   },
   {
    "duration": 1653,
    "start_time": "2023-07-12T04:15:20.602Z"
   },
   {
    "duration": 1744,
    "start_time": "2023-07-12T04:15:32.072Z"
   },
   {
    "duration": 1616,
    "start_time": "2023-07-12T04:15:39.936Z"
   },
   {
    "duration": 1741,
    "start_time": "2023-07-12T04:15:47.813Z"
   },
   {
    "duration": 1774,
    "start_time": "2023-07-12T04:15:58.462Z"
   },
   {
    "duration": 1628,
    "start_time": "2023-07-12T04:16:45.714Z"
   },
   {
    "duration": 1866,
    "start_time": "2023-07-12T04:16:58.167Z"
   },
   {
    "duration": 4,
    "start_time": "2023-07-12T04:18:40.063Z"
   },
   {
    "duration": 10,
    "start_time": "2023-07-12T04:22:26.720Z"
   },
   {
    "duration": 9,
    "start_time": "2023-07-12T04:22:35.700Z"
   },
   {
    "duration": 54080,
    "start_time": "2023-07-12T04:22:49.152Z"
   },
   {
    "duration": 124,
    "start_time": "2023-07-12T04:25:05.965Z"
   },
   {
    "duration": 4,
    "start_time": "2023-07-12T04:25:36.557Z"
   },
   {
    "duration": 4,
    "start_time": "2023-07-12T04:25:45.268Z"
   },
   {
    "duration": 5,
    "start_time": "2023-07-12T04:25:50.025Z"
   },
   {
    "duration": 5,
    "start_time": "2023-07-12T04:26:41.689Z"
   },
   {
    "duration": 4,
    "start_time": "2023-07-12T04:26:45.772Z"
   },
   {
    "duration": 472,
    "start_time": "2023-07-12T04:39:51.917Z"
   },
   {
    "duration": 1711,
    "start_time": "2023-07-12T04:40:38.898Z"
   },
   {
    "duration": 5,
    "start_time": "2023-07-12T04:41:16.845Z"
   },
   {
    "duration": 5,
    "start_time": "2023-07-12T04:42:22.427Z"
   },
   {
    "duration": 5,
    "start_time": "2023-07-12T04:42:44.625Z"
   },
   {
    "duration": 5,
    "start_time": "2023-07-12T04:42:55.059Z"
   },
   {
    "duration": 10,
    "start_time": "2023-07-12T04:43:03.900Z"
   },
   {
    "duration": 10,
    "start_time": "2023-07-12T04:43:18.301Z"
   },
   {
    "duration": 5,
    "start_time": "2023-07-12T04:45:47.476Z"
   },
   {
    "duration": 12,
    "start_time": "2023-07-12T04:46:00.499Z"
   },
   {
    "duration": 13,
    "start_time": "2023-07-12T04:47:48.496Z"
   },
   {
    "duration": 13,
    "start_time": "2023-07-12T04:49:06.897Z"
   },
   {
    "duration": 4,
    "start_time": "2023-07-12T04:50:32.174Z"
   },
   {
    "duration": 5,
    "start_time": "2023-07-12T04:50:57.444Z"
   },
   {
    "duration": 6,
    "start_time": "2023-07-12T04:51:21.444Z"
   },
   {
    "duration": 50,
    "start_time": "2023-07-12T06:15:37.135Z"
   },
   {
    "duration": 1174,
    "start_time": "2023-07-12T06:15:39.992Z"
   },
   {
    "duration": 1283,
    "start_time": "2023-07-12T06:15:48.273Z"
   },
   {
    "duration": 97,
    "start_time": "2023-07-12T06:15:51.141Z"
   },
   {
    "duration": 15,
    "start_time": "2023-07-12T06:15:54.492Z"
   },
   {
    "duration": 17,
    "start_time": "2023-07-12T06:15:56.892Z"
   },
   {
    "duration": 13,
    "start_time": "2023-07-12T06:17:14.099Z"
   },
   {
    "duration": 15,
    "start_time": "2023-07-12T06:17:16.223Z"
   },
   {
    "duration": 8,
    "start_time": "2023-07-12T06:19:07.245Z"
   },
   {
    "duration": 18,
    "start_time": "2023-07-12T06:19:09.322Z"
   },
   {
    "duration": 11,
    "start_time": "2023-07-12T06:20:22.822Z"
   },
   {
    "duration": 5,
    "start_time": "2023-07-12T06:20:54.653Z"
   },
   {
    "duration": 16,
    "start_time": "2023-07-12T06:21:04.015Z"
   },
   {
    "duration": 67,
    "start_time": "2023-07-12T06:21:29.482Z"
   },
   {
    "duration": 6,
    "start_time": "2023-07-12T06:25:46.991Z"
   },
   {
    "duration": 9,
    "start_time": "2023-07-12T06:25:49.371Z"
   },
   {
    "duration": 265,
    "start_time": "2023-07-12T06:29:00.470Z"
   },
   {
    "duration": 8,
    "start_time": "2023-07-12T06:30:54.679Z"
   },
   {
    "duration": 7,
    "start_time": "2023-07-12T06:30:57.262Z"
   },
   {
    "duration": 11,
    "start_time": "2023-07-12T06:31:24.986Z"
   },
   {
    "duration": 13,
    "start_time": "2023-07-12T06:31:26.842Z"
   },
   {
    "duration": 6,
    "start_time": "2023-07-12T06:32:06.558Z"
   },
   {
    "duration": 5,
    "start_time": "2023-07-12T06:32:08.440Z"
   },
   {
    "duration": 190,
    "start_time": "2023-07-12T06:33:11.862Z"
   },
   {
    "duration": 11,
    "start_time": "2023-07-12T06:33:29.454Z"
   },
   {
    "duration": 151,
    "start_time": "2023-07-12T06:37:19.223Z"
   },
   {
    "duration": 212,
    "start_time": "2023-07-12T06:37:32.830Z"
   },
   {
    "duration": 125,
    "start_time": "2023-07-12T06:37:58.734Z"
   },
   {
    "duration": 157,
    "start_time": "2023-07-12T06:43:35.441Z"
   },
   {
    "duration": 192,
    "start_time": "2023-07-12T06:43:58.579Z"
   },
   {
    "duration": 180,
    "start_time": "2023-07-12T06:44:15.667Z"
   },
   {
    "duration": 139,
    "start_time": "2023-07-12T06:44:30.536Z"
   },
   {
    "duration": 4,
    "start_time": "2023-07-12T06:44:48.563Z"
   },
   {
    "duration": 196,
    "start_time": "2023-07-12T06:44:54.291Z"
   },
   {
    "duration": 4,
    "start_time": "2023-07-12T06:45:03.431Z"
   },
   {
    "duration": 163,
    "start_time": "2023-07-12T06:45:16.035Z"
   },
   {
    "duration": 9,
    "start_time": "2023-07-12T06:46:21.491Z"
   },
   {
    "duration": 121,
    "start_time": "2023-07-12T06:46:27.971Z"
   },
   {
    "duration": 115,
    "start_time": "2023-07-12T06:48:43.379Z"
   },
   {
    "duration": 7,
    "start_time": "2023-07-12T06:48:56.039Z"
   },
   {
    "duration": 204,
    "start_time": "2023-07-12T06:49:46.874Z"
   },
   {
    "duration": 10,
    "start_time": "2023-07-12T06:56:34.835Z"
   },
   {
    "duration": 175,
    "start_time": "2023-07-12T06:59:21.475Z"
   },
   {
    "duration": 255,
    "start_time": "2023-07-12T06:59:33.217Z"
   },
   {
    "duration": 168,
    "start_time": "2023-07-12T06:59:51.371Z"
   },
   {
    "duration": 117,
    "start_time": "2023-07-12T07:00:48.779Z"
   },
   {
    "duration": 221,
    "start_time": "2023-07-12T07:02:05.947Z"
   },
   {
    "duration": 183,
    "start_time": "2023-07-12T07:04:16.115Z"
   },
   {
    "duration": 171,
    "start_time": "2023-07-12T07:04:23.474Z"
   },
   {
    "duration": 270,
    "start_time": "2023-07-12T07:04:29.075Z"
   },
   {
    "duration": 159,
    "start_time": "2023-07-12T07:04:33.832Z"
   },
   {
    "duration": 233,
    "start_time": "2023-07-12T07:04:38.638Z"
   },
   {
    "duration": 3829,
    "start_time": "2023-07-12T07:08:10.563Z"
   },
   {
    "duration": 15,
    "start_time": "2023-07-12T07:08:23.714Z"
   },
   {
    "duration": 4,
    "start_time": "2023-07-12T07:08:28.290Z"
   },
   {
    "duration": 18,
    "start_time": "2023-07-12T07:08:46.795Z"
   },
   {
    "duration": 14,
    "start_time": "2023-07-12T07:09:01.215Z"
   },
   {
    "duration": 7726,
    "start_time": "2023-07-12T07:09:31.742Z"
   },
   {
    "duration": 311,
    "start_time": "2023-07-12T07:09:39.470Z"
   },
   {
    "duration": 17,
    "start_time": "2023-07-12T07:09:42.342Z"
   },
   {
    "duration": 15,
    "start_time": "2023-07-12T07:09:44.353Z"
   },
   {
    "duration": 13,
    "start_time": "2023-07-12T07:09:47.051Z"
   },
   {
    "duration": 22,
    "start_time": "2023-07-12T07:09:49.234Z"
   },
   {
    "duration": 12,
    "start_time": "2023-07-12T07:09:51.491Z"
   },
   {
    "duration": 21,
    "start_time": "2023-07-12T07:09:54.608Z"
   },
   {
    "duration": 8,
    "start_time": "2023-07-12T07:09:57.360Z"
   },
   {
    "duration": 6,
    "start_time": "2023-07-12T07:09:58.951Z"
   },
   {
    "duration": 48,
    "start_time": "2023-07-12T07:10:01.193Z"
   },
   {
    "duration": 28,
    "start_time": "2023-07-12T07:10:02.777Z"
   },
   {
    "duration": 16,
    "start_time": "2023-07-12T07:10:07.192Z"
   },
   {
    "duration": 21,
    "start_time": "2023-07-12T07:10:09.392Z"
   },
   {
    "duration": 556,
    "start_time": "2023-07-12T07:10:13.349Z"
   },
   {
    "duration": 13,
    "start_time": "2023-07-12T07:10:16.846Z"
   },
   {
    "duration": 10,
    "start_time": "2023-07-12T07:10:18.826Z"
   },
   {
    "duration": 24,
    "start_time": "2023-07-12T07:10:20.930Z"
   },
   {
    "duration": 57,
    "start_time": "2023-07-12T07:10:23.087Z"
   },
   {
    "duration": 15,
    "start_time": "2023-07-12T07:10:24.627Z"
   },
   {
    "duration": 7,
    "start_time": "2023-07-12T07:10:26.348Z"
   },
   {
    "duration": 4,
    "start_time": "2023-07-12T07:11:31.887Z"
   },
   {
    "duration": 28,
    "start_time": "2023-07-12T07:15:50.326Z"
   },
   {
    "duration": 168,
    "start_time": "2023-07-12T07:15:52.365Z"
   },
   {
    "duration": 10,
    "start_time": "2023-07-12T07:15:54.829Z"
   },
   {
    "duration": 143,
    "start_time": "2023-07-12T07:15:56.992Z"
   },
   {
    "duration": 14,
    "start_time": "2023-07-12T07:15:59.718Z"
   },
   {
    "duration": 291,
    "start_time": "2023-07-12T07:16:01.496Z"
   },
   {
    "duration": 224,
    "start_time": "2023-07-12T07:16:04.957Z"
   },
   {
    "duration": 251,
    "start_time": "2023-07-12T07:16:07.995Z"
   },
   {
    "duration": 143,
    "start_time": "2023-07-12T07:16:11.055Z"
   },
   {
    "duration": 13,
    "start_time": "2023-07-12T07:17:43.296Z"
   },
   {
    "duration": 16,
    "start_time": "2023-07-12T07:17:44.914Z"
   },
   {
    "duration": 15,
    "start_time": "2023-07-12T07:18:18.842Z"
   },
   {
    "duration": 7,
    "start_time": "2023-07-12T07:18:27.123Z"
   },
   {
    "duration": 140,
    "start_time": "2023-07-12T07:20:21.239Z"
   },
   {
    "duration": 7,
    "start_time": "2023-07-12T07:20:40.183Z"
   },
   {
    "duration": 5,
    "start_time": "2023-07-12T07:20:56.463Z"
   },
   {
    "duration": 7,
    "start_time": "2023-07-12T07:21:35.632Z"
   },
   {
    "duration": 11,
    "start_time": "2023-07-12T07:21:54.598Z"
   },
   {
    "duration": 10,
    "start_time": "2023-07-12T07:25:16.601Z"
   },
   {
    "duration": 9,
    "start_time": "2023-07-12T07:25:53.601Z"
   },
   {
    "duration": 206,
    "start_time": "2023-07-12T07:28:29.454Z"
   },
   {
    "duration": 321,
    "start_time": "2023-07-12T07:28:35.798Z"
   },
   {
    "duration": 44,
    "start_time": "2023-07-12T07:42:47.276Z"
   },
   {
    "duration": 10,
    "start_time": "2023-07-12T07:42:49.484Z"
   },
   {
    "duration": 12,
    "start_time": "2023-07-12T07:42:54.938Z"
   },
   {
    "duration": 15,
    "start_time": "2023-07-12T07:48:11.434Z"
   },
   {
    "duration": 180,
    "start_time": "2023-07-12T07:48:14.501Z"
   },
   {
    "duration": 54,
    "start_time": "2023-07-12T07:48:25.779Z"
   },
   {
    "duration": 16,
    "start_time": "2023-07-12T07:48:53.830Z"
   },
   {
    "duration": 21,
    "start_time": "2023-07-12T07:49:19.323Z"
   },
   {
    "duration": 35,
    "start_time": "2023-07-12T07:49:58.955Z"
   },
   {
    "duration": 21,
    "start_time": "2023-07-12T07:50:00.552Z"
   },
   {
    "duration": 1049,
    "start_time": "2023-07-12T07:50:19.360Z"
   },
   {
    "duration": 201,
    "start_time": "2023-07-12T07:50:21.122Z"
   },
   {
    "duration": 12,
    "start_time": "2023-07-12T07:50:23.423Z"
   },
   {
    "duration": 10,
    "start_time": "2023-07-12T07:50:25.356Z"
   },
   {
    "duration": 8,
    "start_time": "2023-07-12T07:50:27.630Z"
   },
   {
    "duration": 11,
    "start_time": "2023-07-12T07:50:29.683Z"
   },
   {
    "duration": 7,
    "start_time": "2023-07-12T07:50:32.331Z"
   },
   {
    "duration": 16,
    "start_time": "2023-07-12T07:50:34.197Z"
   },
   {
    "duration": 6,
    "start_time": "2023-07-12T07:50:36.451Z"
   },
   {
    "duration": 4,
    "start_time": "2023-07-12T07:50:38.292Z"
   },
   {
    "duration": 8,
    "start_time": "2023-07-12T07:50:40.436Z"
   },
   {
    "duration": 17,
    "start_time": "2023-07-12T07:50:42.851Z"
   },
   {
    "duration": 6,
    "start_time": "2023-07-12T07:50:45.155Z"
   },
   {
    "duration": 8,
    "start_time": "2023-07-12T07:50:47.451Z"
   },
   {
    "duration": 224,
    "start_time": "2023-07-12T07:50:49.826Z"
   },
   {
    "duration": 6,
    "start_time": "2023-07-12T07:50:56.467Z"
   },
   {
    "duration": 7,
    "start_time": "2023-07-12T07:50:58.124Z"
   },
   {
    "duration": 8,
    "start_time": "2023-07-12T07:50:59.772Z"
   },
   {
    "duration": 30,
    "start_time": "2023-07-12T07:51:02.196Z"
   },
   {
    "duration": 17,
    "start_time": "2023-07-12T07:51:04.018Z"
   },
   {
    "duration": 4,
    "start_time": "2023-07-12T07:51:05.427Z"
   },
   {
    "duration": 6,
    "start_time": "2023-07-12T07:51:07.956Z"
   },
   {
    "duration": 116,
    "start_time": "2023-07-12T07:51:10.179Z"
   },
   {
    "duration": 5,
    "start_time": "2023-07-12T07:51:12.860Z"
   },
   {
    "duration": 109,
    "start_time": "2023-07-12T07:51:14.714Z"
   },
   {
    "duration": 7,
    "start_time": "2023-07-12T07:51:17.867Z"
   },
   {
    "duration": 182,
    "start_time": "2023-07-12T07:51:20.052Z"
   },
   {
    "duration": 131,
    "start_time": "2023-07-12T07:51:22.651Z"
   },
   {
    "duration": 148,
    "start_time": "2023-07-12T07:51:24.925Z"
   },
   {
    "duration": 111,
    "start_time": "2023-07-12T07:51:26.934Z"
   },
   {
    "duration": 24,
    "start_time": "2023-07-12T07:51:29.293Z"
   },
   {
    "duration": 8,
    "start_time": "2023-07-12T07:51:31.484Z"
   },
   {
    "duration": 11,
    "start_time": "2023-07-12T07:51:33.347Z"
   },
   {
    "duration": 8,
    "start_time": "2023-07-12T07:51:35.627Z"
   },
   {
    "duration": 162,
    "start_time": "2023-07-12T07:51:39.036Z"
   },
   {
    "duration": 235,
    "start_time": "2023-07-12T07:51:41.243Z"
   },
   {
    "duration": 71,
    "start_time": "2023-07-12T07:51:45.617Z"
   },
   {
    "duration": 11,
    "start_time": "2023-07-12T07:51:48.867Z"
   },
   {
    "duration": 174,
    "start_time": "2023-07-12T07:51:51.780Z"
   },
   {
    "duration": 20,
    "start_time": "2023-07-12T07:51:54.243Z"
   },
   {
    "duration": 157,
    "start_time": "2023-07-12T07:52:02.124Z"
   },
   {
    "duration": 6,
    "start_time": "2023-07-12T07:56:18.852Z"
   },
   {
    "duration": 7,
    "start_time": "2023-07-12T08:01:35.767Z"
   },
   {
    "duration": 12,
    "start_time": "2023-07-12T08:01:49.398Z"
   },
   {
    "duration": 6,
    "start_time": "2023-07-12T08:01:56.184Z"
   },
   {
    "duration": 6,
    "start_time": "2023-07-12T08:03:04.343Z"
   },
   {
    "duration": 8,
    "start_time": "2023-07-12T08:03:15.725Z"
   },
   {
    "duration": 6,
    "start_time": "2023-07-12T08:05:06.383Z"
   },
   {
    "duration": 6,
    "start_time": "2023-07-12T08:07:19.384Z"
   },
   {
    "duration": 6,
    "start_time": "2023-07-12T08:13:31.065Z"
   },
   {
    "duration": 5,
    "start_time": "2023-07-12T08:17:06.276Z"
   },
   {
    "duration": 1928,
    "start_time": "2023-07-12T08:27:09.664Z"
   },
   {
    "duration": 1853,
    "start_time": "2023-07-12T08:27:26.592Z"
   },
   {
    "duration": 5,
    "start_time": "2023-07-12T08:32:28.677Z"
   },
   {
    "duration": 5,
    "start_time": "2023-07-12T08:34:19.776Z"
   },
   {
    "duration": 7,
    "start_time": "2023-07-12T09:05:05.461Z"
   },
   {
    "duration": 2094,
    "start_time": "2023-07-12T09:28:35.596Z"
   },
   {
    "duration": 407,
    "start_time": "2023-07-12T09:44:56.589Z"
   },
   {
    "duration": 286,
    "start_time": "2023-07-12T09:46:12.727Z"
   },
   {
    "duration": 518,
    "start_time": "2023-07-12T09:46:32.919Z"
   },
   {
    "duration": 432,
    "start_time": "2023-07-12T09:46:52.445Z"
   },
   {
    "duration": 34,
    "start_time": "2023-07-12T09:47:42.895Z"
   },
   {
    "duration": 6,
    "start_time": "2023-07-12T09:48:18.461Z"
   },
   {
    "duration": 13,
    "start_time": "2023-07-12T09:51:27.088Z"
   },
   {
    "duration": 18,
    "start_time": "2023-07-12T09:51:45.291Z"
   },
   {
    "duration": 143,
    "start_time": "2023-07-12T09:52:11.379Z"
   },
   {
    "duration": 143,
    "start_time": "2023-07-12T09:54:08.392Z"
   },
   {
    "duration": 143,
    "start_time": "2023-07-12T09:54:31.098Z"
   },
   {
    "duration": 137,
    "start_time": "2023-07-12T09:54:37.434Z"
   },
   {
    "duration": 193,
    "start_time": "2023-07-12T09:54:44.030Z"
   },
   {
    "duration": 166,
    "start_time": "2023-07-12T09:54:48.195Z"
   },
   {
    "duration": 144,
    "start_time": "2023-07-12T09:54:51.930Z"
   },
   {
    "duration": 126,
    "start_time": "2023-07-12T09:57:37.162Z"
   },
   {
    "duration": 152,
    "start_time": "2023-07-12T09:57:44.794Z"
   },
   {
    "duration": 142,
    "start_time": "2023-07-12T09:58:30.715Z"
   },
   {
    "duration": 130,
    "start_time": "2023-07-12T09:58:59.744Z"
   },
   {
    "duration": 149,
    "start_time": "2023-07-12T09:59:13.065Z"
   },
   {
    "duration": 149,
    "start_time": "2023-07-12T09:59:16.582Z"
   },
   {
    "duration": 153,
    "start_time": "2023-07-12T09:59:45.378Z"
   },
   {
    "duration": 1405,
    "start_time": "2023-07-12T13:56:14.269Z"
   },
   {
    "duration": 343,
    "start_time": "2023-07-12T13:56:15.677Z"
   },
   {
    "duration": 27,
    "start_time": "2023-07-12T13:56:16.023Z"
   },
   {
    "duration": 38,
    "start_time": "2023-07-12T13:56:16.054Z"
   },
   {
    "duration": 64,
    "start_time": "2023-07-12T13:56:16.095Z"
   },
   {
    "duration": 41,
    "start_time": "2023-07-12T13:56:16.161Z"
   },
   {
    "duration": 12,
    "start_time": "2023-07-12T13:56:16.205Z"
   },
   {
    "duration": 14,
    "start_time": "2023-07-12T13:56:16.220Z"
   },
   {
    "duration": 16,
    "start_time": "2023-07-12T13:56:16.236Z"
   },
   {
    "duration": 14,
    "start_time": "2023-07-12T13:56:16.256Z"
   },
   {
    "duration": 29,
    "start_time": "2023-07-12T13:56:16.273Z"
   },
   {
    "duration": 20,
    "start_time": "2023-07-12T13:56:16.304Z"
   },
   {
    "duration": 7,
    "start_time": "2023-07-12T13:56:16.327Z"
   },
   {
    "duration": 33,
    "start_time": "2023-07-12T13:56:16.336Z"
   },
   {
    "duration": 279,
    "start_time": "2023-07-12T13:56:16.372Z"
   },
   {
    "duration": 16,
    "start_time": "2023-07-12T13:56:16.652Z"
   },
   {
    "duration": 34,
    "start_time": "2023-07-12T13:56:16.671Z"
   },
   {
    "duration": 18,
    "start_time": "2023-07-12T13:56:16.706Z"
   },
   {
    "duration": 12,
    "start_time": "2023-07-12T13:56:16.726Z"
   },
   {
    "duration": 5,
    "start_time": "2023-07-12T13:56:16.740Z"
   },
   {
    "duration": 156,
    "start_time": "2023-07-12T13:56:16.747Z"
   },
   {
    "duration": 8,
    "start_time": "2023-07-12T13:56:16.904Z"
   },
   {
    "duration": 136,
    "start_time": "2023-07-12T13:56:16.913Z"
   },
   {
    "duration": 15,
    "start_time": "2023-07-12T13:56:17.052Z"
   },
   {
    "duration": 222,
    "start_time": "2023-07-12T13:56:17.071Z"
   },
   {
    "duration": 171,
    "start_time": "2023-07-12T13:56:17.295Z"
   },
   {
    "duration": 179,
    "start_time": "2023-07-12T13:56:17.468Z"
   },
   {
    "duration": 169,
    "start_time": "2023-07-12T13:56:17.650Z"
   },
   {
    "duration": 15,
    "start_time": "2023-07-12T13:56:17.822Z"
   },
   {
    "duration": 27,
    "start_time": "2023-07-12T13:56:17.840Z"
   },
   {
    "duration": 23,
    "start_time": "2023-07-12T13:56:17.870Z"
   },
   {
    "duration": 17,
    "start_time": "2023-07-12T13:56:17.895Z"
   },
   {
    "duration": 229,
    "start_time": "2023-07-12T13:56:17.914Z"
   },
   {
    "duration": 237,
    "start_time": "2023-07-12T13:56:18.145Z"
   },
   {
    "duration": 164,
    "start_time": "2023-07-12T13:56:18.384Z"
   },
   {
    "duration": 24,
    "start_time": "2023-07-12T13:56:18.550Z"
   },
   {
    "duration": 191,
    "start_time": "2023-07-12T13:56:18.576Z"
   },
   {
    "duration": 197,
    "start_time": "2023-07-12T13:56:18.769Z"
   },
   {
    "duration": 7,
    "start_time": "2023-07-12T13:56:18.969Z"
   },
   {
    "duration": 8,
    "start_time": "2023-07-12T13:56:18.978Z"
   },
   {
    "duration": 8,
    "start_time": "2023-07-12T13:56:18.988Z"
   },
   {
    "duration": 2378,
    "start_time": "2023-07-12T13:56:18.998Z"
   },
   {
    "duration": 144,
    "start_time": "2023-07-12T13:56:21.379Z"
   },
   {
    "duration": 15,
    "start_time": "2023-07-12T13:56:32.913Z"
   },
   {
    "duration": 14,
    "start_time": "2023-07-12T13:56:35.241Z"
   },
   {
    "duration": 7,
    "start_time": "2023-07-12T13:56:37.388Z"
   },
   {
    "duration": 2280,
    "start_time": "2023-07-12T13:56:45.787Z"
   },
   {
    "duration": 133,
    "start_time": "2023-07-12T13:56:59.067Z"
   },
   {
    "duration": 15,
    "start_time": "2023-07-12T13:57:27.992Z"
   },
   {
    "duration": 368,
    "start_time": "2023-07-12T13:57:55.494Z"
   },
   {
    "duration": 1433,
    "start_time": "2023-07-13T02:01:46.428Z"
   },
   {
    "duration": 207,
    "start_time": "2023-07-13T02:01:50.333Z"
   },
   {
    "duration": 14,
    "start_time": "2023-07-13T02:01:53.128Z"
   },
   {
    "duration": 14,
    "start_time": "2023-07-13T02:01:55.440Z"
   },
   {
    "duration": 10,
    "start_time": "2023-07-13T02:01:59.952Z"
   },
   {
    "duration": 15,
    "start_time": "2023-07-13T02:02:02.247Z"
   },
   {
    "duration": 9,
    "start_time": "2023-07-13T02:02:24.504Z"
   },
   {
    "duration": 11,
    "start_time": "2023-07-13T02:02:26.671Z"
   },
   {
    "duration": 7,
    "start_time": "2023-07-13T02:02:32.175Z"
   },
   {
    "duration": 6,
    "start_time": "2023-07-13T02:02:35.431Z"
   },
   {
    "duration": 11,
    "start_time": "2023-07-13T02:02:38.248Z"
   },
   {
    "duration": 22,
    "start_time": "2023-07-13T02:02:40.167Z"
   },
   {
    "duration": 6,
    "start_time": "2023-07-13T02:02:51.361Z"
   },
   {
    "duration": 11,
    "start_time": "2023-07-13T02:02:53.727Z"
   },
   {
    "duration": 226,
    "start_time": "2023-07-13T02:02:59.535Z"
   },
   {
    "duration": 8,
    "start_time": "2023-07-13T02:03:06.312Z"
   },
   {
    "duration": 7,
    "start_time": "2023-07-13T02:03:08.655Z"
   },
   {
    "duration": 9,
    "start_time": "2023-07-13T02:03:11.191Z"
   },
   {
    "duration": 14,
    "start_time": "2023-07-13T02:03:13.287Z"
   },
   {
    "duration": 7,
    "start_time": "2023-07-13T02:03:15.167Z"
   },
   {
    "duration": 6,
    "start_time": "2023-07-13T02:03:16.735Z"
   },
   {
    "duration": 7,
    "start_time": "2023-07-13T02:03:30.255Z"
   },
   {
    "duration": 157,
    "start_time": "2023-07-13T02:03:32.271Z"
   },
   {
    "duration": 7,
    "start_time": "2023-07-13T02:03:40.977Z"
   },
   {
    "duration": 113,
    "start_time": "2023-07-13T02:03:43.255Z"
   },
   {
    "duration": 8,
    "start_time": "2023-07-13T02:03:47.127Z"
   },
   {
    "duration": 203,
    "start_time": "2023-07-13T02:03:49.183Z"
   },
   {
    "duration": 145,
    "start_time": "2023-07-13T02:03:58.423Z"
   },
   {
    "duration": 150,
    "start_time": "2023-07-13T02:04:04.368Z"
   },
   {
    "duration": 131,
    "start_time": "2023-07-13T02:04:13.103Z"
   },
   {
    "duration": 11,
    "start_time": "2023-07-13T02:04:19.798Z"
   },
   {
    "duration": 10,
    "start_time": "2023-07-13T02:04:24.415Z"
   },
   {
    "duration": 14,
    "start_time": "2023-07-13T02:04:27.830Z"
   },
   {
    "duration": 8,
    "start_time": "2023-07-13T02:04:29.880Z"
   },
   {
    "duration": 172,
    "start_time": "2023-07-13T02:04:44.495Z"
   },
   {
    "duration": 265,
    "start_time": "2023-07-13T02:04:47.031Z"
   },
   {
    "duration": 69,
    "start_time": "2023-07-13T02:05:10.415Z"
   },
   {
    "duration": 13,
    "start_time": "2023-07-13T02:05:13.055Z"
   },
   {
    "duration": 139,
    "start_time": "2023-07-13T02:05:18.575Z"
   },
   {
    "duration": 172,
    "start_time": "2023-07-13T02:05:21.079Z"
   },
   {
    "duration": 155,
    "start_time": "2023-07-13T02:05:58.087Z"
   },
   {
    "duration": 25,
    "start_time": "2023-07-13T02:07:20.359Z"
   },
   {
    "duration": 150,
    "start_time": "2023-07-13T02:07:36.934Z"
   },
   {
    "duration": 147,
    "start_time": "2023-07-13T02:07:48.560Z"
   },
   {
    "duration": 175,
    "start_time": "2023-07-13T02:08:51.279Z"
   },
   {
    "duration": 12,
    "start_time": "2023-07-13T02:10:00.134Z"
   },
   {
    "duration": 9,
    "start_time": "2023-07-13T02:10:24.334Z"
   },
   {
    "duration": 7,
    "start_time": "2023-07-13T02:11:13.494Z"
   },
   {
    "duration": 8,
    "start_time": "2023-07-13T02:43:19.441Z"
   },
   {
    "duration": 9,
    "start_time": "2023-07-13T02:43:21.953Z"
   },
   {
    "duration": 160,
    "start_time": "2023-07-13T02:43:30.697Z"
   },
   {
    "duration": 370,
    "start_time": "2023-07-13T02:45:02.809Z"
   },
   {
    "duration": 302,
    "start_time": "2023-07-13T02:45:16.320Z"
   },
   {
    "duration": 296,
    "start_time": "2023-07-13T02:45:49.177Z"
   },
   {
    "duration": 172,
    "start_time": "2023-07-13T02:46:06.200Z"
   },
   {
    "duration": 1182,
    "start_time": "2023-07-13T02:48:48.840Z"
   },
   {
    "duration": 70,
    "start_time": "2023-07-13T02:48:51.543Z"
   },
   {
    "duration": 12,
    "start_time": "2023-07-13T02:48:54.003Z"
   },
   {
    "duration": 12,
    "start_time": "2023-07-13T02:48:55.819Z"
   },
   {
    "duration": 9,
    "start_time": "2023-07-13T02:48:58.106Z"
   },
   {
    "duration": 13,
    "start_time": "2023-07-13T02:49:00.074Z"
   },
   {
    "duration": 8,
    "start_time": "2023-07-13T02:49:02.619Z"
   },
   {
    "duration": 11,
    "start_time": "2023-07-13T02:49:04.497Z"
   },
   {
    "duration": 7,
    "start_time": "2023-07-13T02:49:06.746Z"
   },
   {
    "duration": 6,
    "start_time": "2023-07-13T02:49:08.850Z"
   },
   {
    "duration": 9,
    "start_time": "2023-07-13T02:49:10.818Z"
   },
   {
    "duration": 26,
    "start_time": "2023-07-13T02:49:12.546Z"
   },
   {
    "duration": 7,
    "start_time": "2023-07-13T02:49:14.970Z"
   },
   {
    "duration": 9,
    "start_time": "2023-07-13T02:49:16.538Z"
   },
   {
    "duration": 213,
    "start_time": "2023-07-13T02:49:18.730Z"
   },
   {
    "duration": 8,
    "start_time": "2023-07-13T02:49:21.650Z"
   },
   {
    "duration": 7,
    "start_time": "2023-07-13T02:49:23.562Z"
   },
   {
    "duration": 10,
    "start_time": "2023-07-13T02:49:25.601Z"
   },
   {
    "duration": 13,
    "start_time": "2023-07-13T02:49:28.170Z"
   },
   {
    "duration": 7,
    "start_time": "2023-07-13T02:49:30.243Z"
   },
   {
    "duration": 6,
    "start_time": "2023-07-13T02:49:32.106Z"
   },
   {
    "duration": 8,
    "start_time": "2023-07-13T02:49:35.356Z"
   },
   {
    "duration": 126,
    "start_time": "2023-07-13T02:49:37.146Z"
   },
   {
    "duration": 6,
    "start_time": "2023-07-13T02:49:39.722Z"
   },
   {
    "duration": 111,
    "start_time": "2023-07-13T02:49:41.329Z"
   },
   {
    "duration": 8,
    "start_time": "2023-07-13T02:49:43.850Z"
   },
   {
    "duration": 185,
    "start_time": "2023-07-13T02:49:47.746Z"
   },
   {
    "duration": 130,
    "start_time": "2023-07-13T02:50:12.106Z"
   },
   {
    "duration": 154,
    "start_time": "2023-07-13T02:50:15.226Z"
   },
   {
    "duration": 131,
    "start_time": "2023-07-13T02:50:18.354Z"
   },
   {
    "duration": 15,
    "start_time": "2023-07-13T02:50:23.715Z"
   },
   {
    "duration": 9,
    "start_time": "2023-07-13T02:50:25.722Z"
   },
   {
    "duration": 12,
    "start_time": "2023-07-13T02:50:29.114Z"
   },
   {
    "duration": 9,
    "start_time": "2023-07-13T02:50:31.644Z"
   },
   {
    "duration": 163,
    "start_time": "2023-07-13T02:50:35.483Z"
   },
   {
    "duration": 275,
    "start_time": "2023-07-13T02:50:37.834Z"
   },
   {
    "duration": 48,
    "start_time": "2023-07-13T02:50:41.283Z"
   },
   {
    "duration": 12,
    "start_time": "2023-07-13T02:50:45.259Z"
   },
   {
    "duration": 118,
    "start_time": "2023-07-13T02:50:52.355Z"
   },
   {
    "duration": 10,
    "start_time": "2023-07-13T02:50:55.145Z"
   },
   {
    "duration": 9,
    "start_time": "2023-07-13T02:50:57.275Z"
   },
   {
    "duration": 191,
    "start_time": "2023-07-13T02:51:02.435Z"
   },
   {
    "duration": 6,
    "start_time": "2023-07-13T02:54:28.171Z"
   },
   {
    "duration": 6,
    "start_time": "2023-07-13T02:54:37.417Z"
   },
   {
    "duration": 7,
    "start_time": "2023-07-13T02:55:18.081Z"
   },
   {
    "duration": 6,
    "start_time": "2023-07-13T02:57:30.090Z"
   },
   {
    "duration": 2000,
    "start_time": "2023-07-13T02:57:39.921Z"
   },
   {
    "duration": 2019,
    "start_time": "2023-07-13T02:57:48.650Z"
   },
   {
    "duration": 17,
    "start_time": "2023-07-13T02:58:06.546Z"
   },
   {
    "duration": 141,
    "start_time": "2023-07-13T02:59:16.594Z"
   },
   {
    "duration": 342,
    "start_time": "2023-07-13T02:59:37.650Z"
   },
   {
    "duration": 313,
    "start_time": "2023-07-13T02:59:51.121Z"
   },
   {
    "duration": 301,
    "start_time": "2023-07-13T03:00:46.185Z"
   },
   {
    "duration": 480,
    "start_time": "2023-07-13T03:00:56.891Z"
   },
   {
    "duration": 273,
    "start_time": "2023-07-13T03:01:16.001Z"
   },
   {
    "duration": 1312,
    "start_time": "2023-07-13T03:01:50.374Z"
   },
   {
    "duration": 100,
    "start_time": "2023-07-13T03:01:53.081Z"
   },
   {
    "duration": 18,
    "start_time": "2023-07-13T03:01:55.777Z"
   },
   {
    "duration": 18,
    "start_time": "2023-07-13T03:01:57.921Z"
   },
   {
    "duration": 10,
    "start_time": "2023-07-13T03:02:00.465Z"
   },
   {
    "duration": 12,
    "start_time": "2023-07-13T03:02:02.490Z"
   },
   {
    "duration": 7,
    "start_time": "2023-07-13T03:02:04.714Z"
   },
   {
    "duration": 10,
    "start_time": "2023-07-13T03:02:06.641Z"
   },
   {
    "duration": 6,
    "start_time": "2023-07-13T03:02:08.704Z"
   },
   {
    "duration": 5,
    "start_time": "2023-07-13T03:02:10.961Z"
   },
   {
    "duration": 9,
    "start_time": "2023-07-13T03:02:12.649Z"
   },
   {
    "duration": 20,
    "start_time": "2023-07-13T03:02:14.393Z"
   },
   {
    "duration": 6,
    "start_time": "2023-07-13T03:02:16.498Z"
   },
   {
    "duration": 9,
    "start_time": "2023-07-13T03:02:18.121Z"
   },
   {
    "duration": 218,
    "start_time": "2023-07-13T03:02:21.017Z"
   },
   {
    "duration": 10,
    "start_time": "2023-07-13T03:02:24.483Z"
   },
   {
    "duration": 9,
    "start_time": "2023-07-13T03:02:26.505Z"
   },
   {
    "duration": 9,
    "start_time": "2023-07-13T03:02:28.025Z"
   },
   {
    "duration": 13,
    "start_time": "2023-07-13T03:02:30.169Z"
   },
   {
    "duration": 7,
    "start_time": "2023-07-13T03:02:32.992Z"
   },
   {
    "duration": 5,
    "start_time": "2023-07-13T03:02:35.465Z"
   },
   {
    "duration": 6,
    "start_time": "2023-07-13T03:02:38.610Z"
   },
   {
    "duration": 147,
    "start_time": "2023-07-13T03:02:40.409Z"
   },
   {
    "duration": 6,
    "start_time": "2023-07-13T03:02:42.585Z"
   },
   {
    "duration": 124,
    "start_time": "2023-07-13T03:02:44.144Z"
   },
   {
    "duration": 9,
    "start_time": "2023-07-13T03:03:33.176Z"
   },
   {
    "duration": 198,
    "start_time": "2023-07-13T03:03:35.265Z"
   },
   {
    "duration": 146,
    "start_time": "2023-07-13T03:03:38.777Z"
   },
   {
    "duration": 148,
    "start_time": "2023-07-13T03:03:41.968Z"
   },
   {
    "duration": 138,
    "start_time": "2023-07-13T03:03:47.776Z"
   },
   {
    "duration": 12,
    "start_time": "2023-07-13T03:03:50.153Z"
   },
   {
    "duration": 11,
    "start_time": "2023-07-13T03:03:52.608Z"
   },
   {
    "duration": 13,
    "start_time": "2023-07-13T03:03:54.417Z"
   },
   {
    "duration": 9,
    "start_time": "2023-07-13T03:03:56.025Z"
   },
   {
    "duration": 208,
    "start_time": "2023-07-13T03:03:58.276Z"
   },
   {
    "duration": 251,
    "start_time": "2023-07-13T03:04:08.977Z"
   },
   {
    "duration": 209,
    "start_time": "2023-07-13T03:05:34.953Z"
   },
   {
    "duration": 197,
    "start_time": "2023-07-13T03:05:40.625Z"
   },
   {
    "duration": 50,
    "start_time": "2023-07-13T03:06:58.625Z"
   },
   {
    "duration": 1072,
    "start_time": "2023-07-13T03:07:10.770Z"
   },
   {
    "duration": 68,
    "start_time": "2023-07-13T03:07:12.849Z"
   },
   {
    "duration": 12,
    "start_time": "2023-07-13T03:07:15.597Z"
   },
   {
    "duration": 12,
    "start_time": "2023-07-13T03:07:17.229Z"
   },
   {
    "duration": 10,
    "start_time": "2023-07-13T03:07:20.556Z"
   },
   {
    "duration": 12,
    "start_time": "2023-07-13T03:07:21.422Z"
   },
   {
    "duration": 9,
    "start_time": "2023-07-13T03:07:26.210Z"
   },
   {
    "duration": 12,
    "start_time": "2023-07-13T03:07:26.885Z"
   },
   {
    "duration": 8,
    "start_time": "2023-07-13T03:07:31.588Z"
   },
   {
    "duration": 6,
    "start_time": "2023-07-13T03:07:32.245Z"
   },
   {
    "duration": 8,
    "start_time": "2023-07-13T03:07:33.413Z"
   },
   {
    "duration": 17,
    "start_time": "2023-07-13T03:07:34.063Z"
   },
   {
    "duration": 7,
    "start_time": "2023-07-13T03:07:37.478Z"
   },
   {
    "duration": 10,
    "start_time": "2023-07-13T03:07:39.813Z"
   },
   {
    "duration": 240,
    "start_time": "2023-07-13T03:07:41.133Z"
   },
   {
    "duration": 10,
    "start_time": "2023-07-13T03:07:50.868Z"
   },
   {
    "duration": 8,
    "start_time": "2023-07-13T03:07:51.692Z"
   },
   {
    "duration": 11,
    "start_time": "2023-07-13T03:07:52.464Z"
   },
   {
    "duration": 15,
    "start_time": "2023-07-13T03:07:54.733Z"
   },
   {
    "duration": 7,
    "start_time": "2023-07-13T03:07:56.310Z"
   },
   {
    "duration": 5,
    "start_time": "2023-07-13T03:07:57.749Z"
   },
   {
    "duration": 6,
    "start_time": "2023-07-13T03:08:00.582Z"
   },
   {
    "duration": 131,
    "start_time": "2023-07-13T03:08:01.357Z"
   },
   {
    "duration": 6,
    "start_time": "2023-07-13T03:08:04.007Z"
   },
   {
    "duration": 133,
    "start_time": "2023-07-13T03:08:04.649Z"
   },
   {
    "duration": 8,
    "start_time": "2023-07-13T03:08:07.381Z"
   },
   {
    "duration": 229,
    "start_time": "2023-07-13T03:08:08.141Z"
   },
   {
    "duration": 136,
    "start_time": "2023-07-13T03:08:15.933Z"
   },
   {
    "duration": 143,
    "start_time": "2023-07-13T03:08:18.957Z"
   },
   {
    "duration": 124,
    "start_time": "2023-07-13T03:08:25.021Z"
   },
   {
    "duration": 10,
    "start_time": "2023-07-13T03:08:27.621Z"
   },
   {
    "duration": 10,
    "start_time": "2023-07-13T03:08:29.359Z"
   },
   {
    "duration": 14,
    "start_time": "2023-07-13T03:08:31.237Z"
   },
   {
    "duration": 7,
    "start_time": "2023-07-13T03:08:33.062Z"
   },
   {
    "duration": 190,
    "start_time": "2023-07-13T03:08:35.581Z"
   },
   {
    "duration": 283,
    "start_time": "2023-07-13T03:08:38.589Z"
   },
   {
    "duration": 49,
    "start_time": "2023-07-13T03:08:45.421Z"
   },
   {
    "duration": 12,
    "start_time": "2023-07-13T03:08:47.741Z"
   },
   {
    "duration": 125,
    "start_time": "2023-07-13T03:08:50.869Z"
   },
   {
    "duration": 10,
    "start_time": "2023-07-13T03:08:52.913Z"
   },
   {
    "duration": 9,
    "start_time": "2023-07-13T03:08:55.237Z"
   },
   {
    "duration": 203,
    "start_time": "2023-07-13T03:08:57.293Z"
   },
   {
    "duration": 7,
    "start_time": "2023-07-13T03:09:07.331Z"
   },
   {
    "duration": 6,
    "start_time": "2023-07-13T03:09:11.973Z"
   },
   {
    "duration": 8,
    "start_time": "2023-07-13T03:09:15.925Z"
   },
   {
    "duration": 1983,
    "start_time": "2023-07-13T03:09:26.780Z"
   },
   {
    "duration": 2075,
    "start_time": "2023-07-13T03:09:30.669Z"
   },
   {
    "duration": 600,
    "start_time": "2023-07-13T03:09:52.301Z"
   },
   {
    "duration": 2046,
    "start_time": "2023-07-13T03:10:05.951Z"
   },
   {
    "duration": 2210,
    "start_time": "2023-07-13T03:11:59.261Z"
   },
   {
    "duration": 547,
    "start_time": "2023-07-13T03:12:18.453Z"
   },
   {
    "duration": 376,
    "start_time": "2023-07-13T03:18:03.405Z"
   },
   {
    "duration": 355,
    "start_time": "2023-07-13T03:18:27.957Z"
   },
   {
    "duration": 311,
    "start_time": "2023-07-13T03:20:05.877Z"
   },
   {
    "duration": 333,
    "start_time": "2023-07-13T03:20:18.436Z"
   },
   {
    "duration": 344,
    "start_time": "2023-07-13T03:21:28.188Z"
   },
   {
    "duration": 1134,
    "start_time": "2023-07-13T03:28:08.386Z"
   },
   {
    "duration": 73,
    "start_time": "2023-07-13T03:28:10.413Z"
   },
   {
    "duration": 12,
    "start_time": "2023-07-13T03:28:12.645Z"
   },
   {
    "duration": 11,
    "start_time": "2023-07-13T03:28:14.119Z"
   },
   {
    "duration": 9,
    "start_time": "2023-07-13T03:28:16.437Z"
   },
   {
    "duration": 18,
    "start_time": "2023-07-13T03:28:18.381Z"
   },
   {
    "duration": 7,
    "start_time": "2023-07-13T03:28:20.493Z"
   },
   {
    "duration": 11,
    "start_time": "2023-07-13T03:28:22.181Z"
   },
   {
    "duration": 6,
    "start_time": "2023-07-13T03:28:24.357Z"
   },
   {
    "duration": 7,
    "start_time": "2023-07-13T03:28:26.229Z"
   },
   {
    "duration": 12,
    "start_time": "2023-07-13T03:28:27.718Z"
   },
   {
    "duration": 19,
    "start_time": "2023-07-13T03:28:29.276Z"
   },
   {
    "duration": 6,
    "start_time": "2023-07-13T03:28:31.749Z"
   },
   {
    "duration": 9,
    "start_time": "2023-07-13T03:28:33.525Z"
   },
   {
    "duration": 226,
    "start_time": "2023-07-13T03:28:35.749Z"
   },
   {
    "duration": 7,
    "start_time": "2023-07-13T03:28:40.015Z"
   },
   {
    "duration": 6,
    "start_time": "2023-07-13T03:28:41.981Z"
   },
   {
    "duration": 11,
    "start_time": "2023-07-13T03:28:46.893Z"
   },
   {
    "duration": 14,
    "start_time": "2023-07-13T03:28:48.685Z"
   },
   {
    "duration": 8,
    "start_time": "2023-07-13T03:28:50.477Z"
   },
   {
    "duration": 5,
    "start_time": "2023-07-13T03:28:51.749Z"
   },
   {
    "duration": 6,
    "start_time": "2023-07-13T03:28:54.893Z"
   },
   {
    "duration": 124,
    "start_time": "2023-07-13T03:28:57.069Z"
   },
   {
    "duration": 6,
    "start_time": "2023-07-13T03:28:59.737Z"
   },
   {
    "duration": 107,
    "start_time": "2023-07-13T03:29:01.222Z"
   },
   {
    "duration": 10,
    "start_time": "2023-07-13T03:29:03.452Z"
   },
   {
    "duration": 188,
    "start_time": "2023-07-13T03:29:04.941Z"
   },
   {
    "duration": 147,
    "start_time": "2023-07-13T03:29:07.756Z"
   },
   {
    "duration": 147,
    "start_time": "2023-07-13T03:29:10.205Z"
   },
   {
    "duration": 123,
    "start_time": "2023-07-13T03:29:13.109Z"
   },
   {
    "duration": 11,
    "start_time": "2023-07-13T03:29:16.420Z"
   },
   {
    "duration": 9,
    "start_time": "2023-07-13T03:29:18.702Z"
   },
   {
    "duration": 12,
    "start_time": "2023-07-13T03:29:20.349Z"
   },
   {
    "duration": 8,
    "start_time": "2023-07-13T03:29:21.941Z"
   },
   {
    "duration": 217,
    "start_time": "2023-07-13T03:29:28.367Z"
   },
   {
    "duration": 309,
    "start_time": "2023-07-13T03:29:31.021Z"
   },
   {
    "duration": 50,
    "start_time": "2023-07-13T03:29:35.222Z"
   },
   {
    "duration": 15,
    "start_time": "2023-07-13T03:29:41.134Z"
   },
   {
    "duration": 116,
    "start_time": "2023-07-13T03:29:43.869Z"
   },
   {
    "duration": 9,
    "start_time": "2023-07-13T03:29:47.660Z"
   },
   {
    "duration": 8,
    "start_time": "2023-07-13T03:29:49.373Z"
   },
   {
    "duration": 174,
    "start_time": "2023-07-13T03:29:51.789Z"
   },
   {
    "duration": 9,
    "start_time": "2023-07-13T03:29:57.341Z"
   },
   {
    "duration": 10,
    "start_time": "2023-07-13T03:30:05.381Z"
   },
   {
    "duration": 8,
    "start_time": "2023-07-13T03:30:08.366Z"
   },
   {
    "duration": 2394,
    "start_time": "2023-07-13T03:30:13.285Z"
   },
   {
    "duration": 2153,
    "start_time": "2023-07-13T03:30:24.525Z"
   },
   {
    "duration": 329,
    "start_time": "2023-07-13T03:30:53.157Z"
   },
   {
    "duration": 1202,
    "start_time": "2023-07-13T13:10:50.821Z"
   },
   {
    "duration": 203,
    "start_time": "2023-07-13T13:10:52.025Z"
   },
   {
    "duration": 12,
    "start_time": "2023-07-13T13:10:52.230Z"
   },
   {
    "duration": 22,
    "start_time": "2023-07-13T13:10:52.244Z"
   },
   {
    "duration": 35,
    "start_time": "2023-07-13T13:10:52.268Z"
   },
   {
    "duration": 24,
    "start_time": "2023-07-13T13:10:52.305Z"
   },
   {
    "duration": 8,
    "start_time": "2023-07-13T13:10:52.331Z"
   },
   {
    "duration": 39,
    "start_time": "2023-07-13T13:10:52.340Z"
   },
   {
    "duration": 12,
    "start_time": "2023-07-13T13:10:52.380Z"
   },
   {
    "duration": 21,
    "start_time": "2023-07-13T13:10:52.393Z"
   },
   {
    "duration": 24,
    "start_time": "2023-07-13T13:10:52.415Z"
   },
   {
    "duration": 20,
    "start_time": "2023-07-13T13:10:52.440Z"
   },
   {
    "duration": 5,
    "start_time": "2023-07-13T13:10:52.462Z"
   },
   {
    "duration": 11,
    "start_time": "2023-07-13T13:10:52.469Z"
   },
   {
    "duration": 223,
    "start_time": "2023-07-13T13:10:52.481Z"
   },
   {
    "duration": 8,
    "start_time": "2023-07-13T13:10:52.705Z"
   },
   {
    "duration": 10,
    "start_time": "2023-07-13T13:10:52.714Z"
   },
   {
    "duration": 15,
    "start_time": "2023-07-13T13:10:52.725Z"
   },
   {
    "duration": 9,
    "start_time": "2023-07-13T13:10:52.741Z"
   },
   {
    "duration": 37,
    "start_time": "2023-07-13T13:10:52.751Z"
   },
   {
    "duration": 135,
    "start_time": "2023-07-13T13:10:52.790Z"
   },
   {
    "duration": 6,
    "start_time": "2023-07-13T13:10:52.927Z"
   },
   {
    "duration": 120,
    "start_time": "2023-07-13T13:10:52.934Z"
   },
   {
    "duration": 8,
    "start_time": "2023-07-13T13:10:53.056Z"
   },
   {
    "duration": 186,
    "start_time": "2023-07-13T13:10:53.065Z"
   },
   {
    "duration": 135,
    "start_time": "2023-07-13T13:10:53.253Z"
   },
   {
    "duration": 156,
    "start_time": "2023-07-13T13:10:53.389Z"
   },
   {
    "duration": 131,
    "start_time": "2023-07-13T13:10:53.547Z"
   },
   {
    "duration": 10,
    "start_time": "2023-07-13T13:10:53.679Z"
   },
   {
    "duration": 10,
    "start_time": "2023-07-13T13:10:53.690Z"
   },
   {
    "duration": 12,
    "start_time": "2023-07-13T13:10:53.702Z"
   },
   {
    "duration": 33,
    "start_time": "2023-07-13T13:10:53.716Z"
   },
   {
    "duration": 248,
    "start_time": "2023-07-13T13:10:53.750Z"
   },
   {
    "duration": 194,
    "start_time": "2023-07-13T13:10:53.999Z"
   },
   {
    "duration": 129,
    "start_time": "2023-07-13T13:10:54.195Z"
   },
   {
    "duration": 11,
    "start_time": "2023-07-13T13:10:54.325Z"
   },
   {
    "duration": 120,
    "start_time": "2023-07-13T13:10:54.338Z"
   },
   {
    "duration": 12,
    "start_time": "2023-07-13T13:10:54.460Z"
   },
   {
    "duration": 23,
    "start_time": "2023-07-13T13:10:54.473Z"
   },
   {
    "duration": 199,
    "start_time": "2023-07-13T13:10:54.498Z"
   },
   {
    "duration": 6,
    "start_time": "2023-07-13T13:10:54.701Z"
   },
   {
    "duration": 15,
    "start_time": "2023-07-13T13:10:54.708Z"
   },
   {
    "duration": 27,
    "start_time": "2023-07-13T13:10:54.724Z"
   },
   {
    "duration": 1992,
    "start_time": "2023-07-13T13:10:54.752Z"
   },
   {
    "duration": 298,
    "start_time": "2023-07-13T13:10:56.746Z"
   },
   {
    "duration": 1087,
    "start_time": "2023-07-13T13:27:42.916Z"
   },
   {
    "duration": 69,
    "start_time": "2023-07-13T13:27:44.005Z"
   },
   {
    "duration": 11,
    "start_time": "2023-07-13T13:27:44.076Z"
   },
   {
    "duration": 31,
    "start_time": "2023-07-13T13:27:44.088Z"
   },
   {
    "duration": 18,
    "start_time": "2023-07-13T13:27:44.120Z"
   },
   {
    "duration": 53,
    "start_time": "2023-07-13T13:27:44.139Z"
   },
   {
    "duration": 31,
    "start_time": "2023-07-13T13:27:44.194Z"
   },
   {
    "duration": 43,
    "start_time": "2023-07-13T13:27:44.226Z"
   },
   {
    "duration": 32,
    "start_time": "2023-07-13T13:27:44.271Z"
   },
   {
    "duration": 65,
    "start_time": "2023-07-13T13:27:44.305Z"
   },
   {
    "duration": 42,
    "start_time": "2023-07-13T13:27:44.372Z"
   },
   {
    "duration": 27,
    "start_time": "2023-07-13T13:27:44.415Z"
   },
   {
    "duration": 6,
    "start_time": "2023-07-13T13:27:44.443Z"
   },
   {
    "duration": 31,
    "start_time": "2023-07-13T13:27:44.451Z"
   },
   {
    "duration": 214,
    "start_time": "2023-07-13T13:27:44.483Z"
   },
   {
    "duration": 7,
    "start_time": "2023-07-13T13:27:44.698Z"
   },
   {
    "duration": 16,
    "start_time": "2023-07-13T13:27:44.706Z"
   },
   {
    "duration": 8,
    "start_time": "2023-07-13T13:27:44.723Z"
   },
   {
    "duration": 6,
    "start_time": "2023-07-13T13:27:44.733Z"
   },
   {
    "duration": 14,
    "start_time": "2023-07-13T13:27:44.740Z"
   },
   {
    "duration": 138,
    "start_time": "2023-07-13T13:27:44.756Z"
   },
   {
    "duration": 5,
    "start_time": "2023-07-13T13:27:44.896Z"
   },
   {
    "duration": 135,
    "start_time": "2023-07-13T13:27:44.903Z"
   },
   {
    "duration": 9,
    "start_time": "2023-07-13T13:27:45.040Z"
   },
   {
    "duration": 198,
    "start_time": "2023-07-13T13:27:45.051Z"
   },
   {
    "duration": 131,
    "start_time": "2023-07-13T13:27:45.251Z"
   },
   {
    "duration": 143,
    "start_time": "2023-07-13T13:27:45.384Z"
   },
   {
    "duration": 136,
    "start_time": "2023-07-13T13:27:45.529Z"
   },
   {
    "duration": 10,
    "start_time": "2023-07-13T13:27:45.670Z"
   },
   {
    "duration": 37,
    "start_time": "2023-07-13T13:27:45.681Z"
   },
   {
    "duration": 18,
    "start_time": "2023-07-13T13:27:45.719Z"
   },
   {
    "duration": 7,
    "start_time": "2023-07-13T13:27:45.739Z"
   },
   {
    "duration": 210,
    "start_time": "2023-07-13T13:27:45.747Z"
   },
   {
    "duration": 200,
    "start_time": "2023-07-13T13:27:45.959Z"
   },
   {
    "duration": 127,
    "start_time": "2023-07-13T13:27:46.161Z"
   },
   {
    "duration": 11,
    "start_time": "2023-07-13T13:27:46.290Z"
   },
   {
    "duration": 136,
    "start_time": "2023-07-13T13:27:46.302Z"
   },
   {
    "duration": 7,
    "start_time": "2023-07-13T13:27:46.440Z"
   },
   {
    "duration": 22,
    "start_time": "2023-07-13T13:27:46.449Z"
   },
   {
    "duration": 173,
    "start_time": "2023-07-13T13:27:46.473Z"
   },
   {
    "duration": 6,
    "start_time": "2023-07-13T13:27:46.649Z"
   },
   {
    "duration": 21,
    "start_time": "2023-07-13T13:27:46.656Z"
   },
   {
    "duration": 10,
    "start_time": "2023-07-13T13:27:46.678Z"
   },
   {
    "duration": 1912,
    "start_time": "2023-07-13T13:27:46.690Z"
   },
   {
    "duration": 282,
    "start_time": "2023-07-13T13:27:48.604Z"
   },
   {
    "duration": 1303,
    "start_time": "2023-07-14T02:09:35.524Z"
   },
   {
    "duration": 252,
    "start_time": "2023-07-14T02:09:37.625Z"
   },
   {
    "duration": 15,
    "start_time": "2023-07-14T02:09:39.673Z"
   },
   {
    "duration": 12,
    "start_time": "2023-07-14T02:09:41.792Z"
   },
   {
    "duration": 9,
    "start_time": "2023-07-14T02:09:44.207Z"
   },
   {
    "duration": 13,
    "start_time": "2023-07-14T02:09:45.959Z"
   },
   {
    "duration": 9,
    "start_time": "2023-07-14T02:09:48.192Z"
   },
   {
    "duration": 11,
    "start_time": "2023-07-14T02:09:50.472Z"
   },
   {
    "duration": 7,
    "start_time": "2023-07-14T02:09:52.659Z"
   },
   {
    "duration": 13,
    "start_time": "2023-07-14T02:09:54.852Z"
   },
   {
    "duration": 12,
    "start_time": "2023-07-14T02:09:56.956Z"
   },
   {
    "duration": 18,
    "start_time": "2023-07-14T02:09:58.383Z"
   },
   {
    "duration": 6,
    "start_time": "2023-07-14T02:10:00.416Z"
   },
   {
    "duration": 9,
    "start_time": "2023-07-14T02:10:02.775Z"
   },
   {
    "duration": 247,
    "start_time": "2023-07-14T02:11:04.312Z"
   },
   {
    "duration": 11,
    "start_time": "2023-07-14T02:11:44.720Z"
   },
   {
    "duration": 12,
    "start_time": "2023-07-14T02:11:50.068Z"
   },
   {
    "duration": 9,
    "start_time": "2023-07-14T02:11:57.490Z"
   },
   {
    "duration": 161,
    "start_time": "2023-07-14T02:14:29.797Z"
   },
   {
    "duration": 81,
    "start_time": "2023-07-14T02:15:34.565Z"
   },
   {
    "duration": 63,
    "start_time": "2023-07-14T02:16:10.576Z"
   },
   {
    "duration": 8,
    "start_time": "2023-07-14T02:16:57.409Z"
   },
   {
    "duration": 7,
    "start_time": "2023-07-14T02:17:13.783Z"
   },
   {
    "duration": 99,
    "start_time": "2023-07-14T02:17:37.423Z"
   },
   {
    "duration": 8,
    "start_time": "2023-07-14T02:18:14.623Z"
   },
   {
    "duration": 51,
    "start_time": "2023-07-14T02:18:29.407Z"
   },
   {
    "duration": 45,
    "start_time": "2023-07-14T02:20:09.631Z"
   },
   {
    "duration": 129,
    "start_time": "2023-07-14T02:38:13.077Z"
   },
   {
    "duration": 168,
    "start_time": "2023-07-14T02:38:26.709Z"
   },
   {
    "duration": 130,
    "start_time": "2023-07-14T02:38:37.566Z"
   },
   {
    "duration": 11,
    "start_time": "2023-07-14T02:48:09.275Z"
   },
   {
    "duration": 7,
    "start_time": "2023-07-14T02:48:17.331Z"
   },
   {
    "duration": 6,
    "start_time": "2023-07-14T02:50:12.434Z"
   },
   {
    "duration": 6,
    "start_time": "2023-07-14T02:52:05.578Z"
   },
   {
    "duration": 11,
    "start_time": "2023-07-14T02:55:46.034Z"
   },
   {
    "duration": 13,
    "start_time": "2023-07-14T02:56:55.770Z"
   },
   {
    "duration": 6,
    "start_time": "2023-07-14T02:57:01.818Z"
   },
   {
    "duration": 8,
    "start_time": "2023-07-14T02:59:39.842Z"
   },
   {
    "duration": 307,
    "start_time": "2023-07-14T02:59:55.833Z"
   },
   {
    "duration": 8,
    "start_time": "2023-07-14T03:00:07.481Z"
   },
   {
    "duration": 7,
    "start_time": "2023-07-14T03:02:12.545Z"
   },
   {
    "duration": 5,
    "start_time": "2023-07-14T03:02:21.614Z"
   },
   {
    "duration": 144,
    "start_time": "2023-07-14T03:02:30.041Z"
   },
   {
    "duration": 11,
    "start_time": "2023-07-14T03:02:38.792Z"
   },
   {
    "duration": 120,
    "start_time": "2023-07-14T03:03:17.905Z"
   },
   {
    "duration": 6,
    "start_time": "2023-07-14T03:03:39.136Z"
   },
   {
    "duration": 109,
    "start_time": "2023-07-14T03:03:40.736Z"
   },
   {
    "duration": 121,
    "start_time": "2023-07-14T03:04:31.873Z"
   },
   {
    "duration": 216,
    "start_time": "2023-07-14T03:15:23.344Z"
   },
   {
    "duration": 174,
    "start_time": "2023-07-14T03:15:31.103Z"
   },
   {
    "duration": 6,
    "start_time": "2023-07-14T03:16:12.495Z"
   },
   {
    "duration": 63,
    "start_time": "2023-07-14T03:17:21.280Z"
   },
   {
    "duration": 70,
    "start_time": "2023-07-14T03:18:02.903Z"
   },
   {
    "duration": 75,
    "start_time": "2023-07-14T03:18:59.120Z"
   },
   {
    "duration": 110,
    "start_time": "2023-07-14T03:19:19.494Z"
   },
   {
    "duration": 84,
    "start_time": "2023-07-14T03:19:53.522Z"
   },
   {
    "duration": 1529,
    "start_time": "2023-07-14T03:20:50.560Z"
   },
   {
    "duration": 92,
    "start_time": "2023-07-14T03:20:58.823Z"
   },
   {
    "duration": 108,
    "start_time": "2023-07-14T03:22:08.662Z"
   },
   {
    "duration": 70,
    "start_time": "2023-07-14T03:22:18.747Z"
   },
   {
    "duration": 10,
    "start_time": "2023-07-14T03:22:57.047Z"
   },
   {
    "duration": 203,
    "start_time": "2023-07-14T03:22:59.126Z"
   },
   {
    "duration": 206,
    "start_time": "2023-07-14T03:23:32.746Z"
   },
   {
    "duration": 287,
    "start_time": "2023-07-14T03:23:39.214Z"
   },
   {
    "duration": 163,
    "start_time": "2023-07-14T03:23:51.030Z"
   },
   {
    "duration": 148,
    "start_time": "2023-07-14T03:25:00.949Z"
   },
   {
    "duration": 204,
    "start_time": "2023-07-14T03:26:17.160Z"
   },
   {
    "duration": 441,
    "start_time": "2023-07-14T03:26:44.359Z"
   },
   {
    "duration": 216,
    "start_time": "2023-07-14T03:26:55.549Z"
   },
   {
    "duration": 387,
    "start_time": "2023-07-14T03:27:08.797Z"
   },
   {
    "duration": 323,
    "start_time": "2023-07-14T03:27:47.117Z"
   },
   {
    "duration": 239,
    "start_time": "2023-07-14T03:27:54.733Z"
   },
   {
    "duration": 475,
    "start_time": "2023-07-14T03:28:01.822Z"
   },
   {
    "duration": 340,
    "start_time": "2023-07-14T03:28:16.983Z"
   },
   {
    "duration": 333,
    "start_time": "2023-07-14T03:28:54.014Z"
   },
   {
    "duration": 278,
    "start_time": "2023-07-14T03:29:12.838Z"
   },
   {
    "duration": 267,
    "start_time": "2023-07-14T03:29:47.669Z"
   },
   {
    "duration": 151,
    "start_time": "2023-07-14T03:29:58.717Z"
   },
   {
    "duration": 136,
    "start_time": "2023-07-14T03:30:21.109Z"
   },
   {
    "duration": 137,
    "start_time": "2023-07-14T03:30:31.597Z"
   },
   {
    "duration": 150,
    "start_time": "2023-07-14T03:31:27.173Z"
   },
   {
    "duration": 225,
    "start_time": "2023-07-14T03:31:39.813Z"
   },
   {
    "duration": 146,
    "start_time": "2023-07-14T03:32:26.126Z"
   },
   {
    "duration": 136,
    "start_time": "2023-07-14T03:33:05.549Z"
   },
   {
    "duration": 185,
    "start_time": "2023-07-14T03:34:04.445Z"
   },
   {
    "duration": 157,
    "start_time": "2023-07-14T03:34:23.160Z"
   },
   {
    "duration": 152,
    "start_time": "2023-07-14T03:34:34.213Z"
   },
   {
    "duration": 166,
    "start_time": "2023-07-14T03:35:19.572Z"
   },
   {
    "duration": 159,
    "start_time": "2023-07-14T03:35:26.572Z"
   },
   {
    "duration": 166,
    "start_time": "2023-07-14T03:35:58.454Z"
   },
   {
    "duration": 114,
    "start_time": "2023-07-14T03:45:55.802Z"
   },
   {
    "duration": 16,
    "start_time": "2023-07-14T03:46:11.555Z"
   },
   {
    "duration": 125,
    "start_time": "2023-07-14T03:46:21.668Z"
   },
   {
    "duration": 234,
    "start_time": "2023-07-14T03:46:28.979Z"
   },
   {
    "duration": 115,
    "start_time": "2023-07-14T03:46:37.922Z"
   },
   {
    "duration": 12,
    "start_time": "2023-07-14T03:47:54.635Z"
   },
   {
    "duration": 8,
    "start_time": "2023-07-14T03:48:02.068Z"
   },
   {
    "duration": 79,
    "start_time": "2023-07-14T03:48:29.331Z"
   },
   {
    "duration": 5,
    "start_time": "2023-07-14T03:48:33.898Z"
   },
   {
    "duration": 17,
    "start_time": "2023-07-14T03:49:24.723Z"
   },
   {
    "duration": 9,
    "start_time": "2023-07-14T03:49:26.299Z"
   },
   {
    "duration": 178,
    "start_time": "2023-07-14T03:49:57.802Z"
   },
   {
    "duration": 174,
    "start_time": "2023-07-14T03:50:05.771Z"
   },
   {
    "duration": 85,
    "start_time": "2023-07-14T03:50:43.356Z"
   },
   {
    "duration": 187,
    "start_time": "2023-07-14T03:50:53.226Z"
   },
   {
    "duration": 123,
    "start_time": "2023-07-14T03:52:35.963Z"
   },
   {
    "duration": 133,
    "start_time": "2023-07-14T03:53:13.866Z"
   },
   {
    "duration": 135,
    "start_time": "2023-07-14T03:53:25.386Z"
   },
   {
    "duration": 186,
    "start_time": "2023-07-14T03:54:36.907Z"
   },
   {
    "duration": 141,
    "start_time": "2023-07-14T03:55:28.051Z"
   },
   {
    "duration": 183,
    "start_time": "2023-07-14T03:55:43.440Z"
   },
   {
    "duration": 127,
    "start_time": "2023-07-14T03:59:21.386Z"
   },
   {
    "duration": 11,
    "start_time": "2023-07-14T03:59:23.042Z"
   },
   {
    "duration": 991,
    "start_time": "2023-07-14T04:07:48.181Z"
   },
   {
    "duration": 72,
    "start_time": "2023-07-14T04:07:50.124Z"
   },
   {
    "duration": 13,
    "start_time": "2023-07-14T04:07:53.184Z"
   },
   {
    "duration": 11,
    "start_time": "2023-07-14T04:07:55.129Z"
   },
   {
    "duration": 9,
    "start_time": "2023-07-14T04:07:57.577Z"
   },
   {
    "duration": 11,
    "start_time": "2023-07-14T04:07:59.145Z"
   },
   {
    "duration": 7,
    "start_time": "2023-07-14T04:08:01.320Z"
   },
   {
    "duration": 12,
    "start_time": "2023-07-14T04:08:03.344Z"
   },
   {
    "duration": 6,
    "start_time": "2023-07-14T04:08:06.024Z"
   },
   {
    "duration": 5,
    "start_time": "2023-07-14T04:08:07.640Z"
   },
   {
    "duration": 8,
    "start_time": "2023-07-14T04:08:09.808Z"
   },
   {
    "duration": 17,
    "start_time": "2023-07-14T04:08:11.546Z"
   },
   {
    "duration": 6,
    "start_time": "2023-07-14T04:08:13.705Z"
   },
   {
    "duration": 9,
    "start_time": "2023-07-14T04:08:15.408Z"
   },
   {
    "duration": 207,
    "start_time": "2023-07-14T04:08:17.336Z"
   },
   {
    "duration": 7,
    "start_time": "2023-07-14T04:08:21.361Z"
   },
   {
    "duration": 6,
    "start_time": "2023-07-14T04:08:24.225Z"
   },
   {
    "duration": 5,
    "start_time": "2023-07-14T04:08:26.433Z"
   },
   {
    "duration": 9,
    "start_time": "2023-07-14T04:08:30.289Z"
   },
   {
    "duration": 7,
    "start_time": "2023-07-14T04:08:32.025Z"
   },
   {
    "duration": 8,
    "start_time": "2023-07-14T04:08:34.160Z"
   },
   {
    "duration": 6,
    "start_time": "2023-07-14T04:08:37.864Z"
   },
   {
    "duration": 120,
    "start_time": "2023-07-14T04:08:40.305Z"
   },
   {
    "duration": 5,
    "start_time": "2023-07-14T04:08:43.520Z"
   },
   {
    "duration": 71,
    "start_time": "2023-07-14T04:08:45.833Z"
   },
   {
    "duration": 7,
    "start_time": "2023-07-14T04:08:48.841Z"
   },
   {
    "duration": 140,
    "start_time": "2023-07-14T04:08:50.537Z"
   },
   {
    "duration": 171,
    "start_time": "2023-07-14T04:08:53.401Z"
   },
   {
    "duration": 142,
    "start_time": "2023-07-14T04:08:56.009Z"
   },
   {
    "duration": 146,
    "start_time": "2023-07-14T04:08:58.872Z"
   },
   {
    "duration": 10,
    "start_time": "2023-07-14T04:09:02.152Z"
   },
   {
    "duration": 9,
    "start_time": "2023-07-14T04:09:06.432Z"
   },
   {
    "duration": 4,
    "start_time": "2023-07-14T04:09:08.120Z"
   },
   {
    "duration": 12,
    "start_time": "2023-07-14T04:09:10.497Z"
   },
   {
    "duration": 7,
    "start_time": "2023-07-14T04:09:11.953Z"
   },
   {
    "duration": 196,
    "start_time": "2023-07-14T04:09:14.377Z"
   },
   {
    "duration": 184,
    "start_time": "2023-07-14T04:09:17.057Z"
   },
   {
    "duration": 88,
    "start_time": "2023-07-14T04:09:21.193Z"
   },
   {
    "duration": 9,
    "start_time": "2023-07-14T04:09:36.945Z"
   },
   {
    "duration": 166,
    "start_time": "2023-07-14T04:10:11.122Z"
   },
   {
    "duration": 14,
    "start_time": "2023-07-14T04:10:15.456Z"
   },
   {
    "duration": 1410,
    "start_time": "2023-07-14T04:10:33.049Z"
   },
   {
    "duration": 123,
    "start_time": "2023-07-14T04:11:19.914Z"
   },
   {
    "duration": 104,
    "start_time": "2023-07-14T04:12:06.238Z"
   },
   {
    "duration": 15,
    "start_time": "2023-07-14T04:12:11.990Z"
   },
   {
    "duration": 121,
    "start_time": "2023-07-14T04:12:25.393Z"
   },
   {
    "duration": 104,
    "start_time": "2023-07-14T04:12:38.561Z"
   },
   {
    "duration": 13,
    "start_time": "2023-07-14T04:12:42.161Z"
   },
   {
    "duration": 114,
    "start_time": "2023-07-14T04:13:01.729Z"
   },
   {
    "duration": 17,
    "start_time": "2023-07-14T04:13:04.032Z"
   },
   {
    "duration": 104,
    "start_time": "2023-07-14T04:14:38.529Z"
   },
   {
    "duration": 15,
    "start_time": "2023-07-14T04:14:41.337Z"
   },
   {
    "duration": 5,
    "start_time": "2023-07-14T04:15:16.368Z"
   },
   {
    "duration": 81,
    "start_time": "2023-07-14T04:17:11.593Z"
   },
   {
    "duration": 14,
    "start_time": "2023-07-14T04:17:15.904Z"
   },
   {
    "duration": 117,
    "start_time": "2023-07-14T04:17:52.608Z"
   },
   {
    "duration": 17,
    "start_time": "2023-07-14T04:17:55.560Z"
   },
   {
    "duration": 13,
    "start_time": "2023-07-14T04:18:54.610Z"
   },
   {
    "duration": 565,
    "start_time": "2023-07-14T04:19:14.160Z"
   },
   {
    "duration": 812,
    "start_time": "2023-07-14T04:19:41.280Z"
   },
   {
    "duration": 17,
    "start_time": "2023-07-14T04:19:44.480Z"
   },
   {
    "duration": 109,
    "start_time": "2023-07-14T04:20:05.585Z"
   },
   {
    "duration": 15,
    "start_time": "2023-07-14T04:20:07.544Z"
   },
   {
    "duration": 8,
    "start_time": "2023-07-14T04:28:57.623Z"
   },
   {
    "duration": 3,
    "start_time": "2023-07-14T04:29:08.391Z"
   },
   {
    "duration": 21,
    "start_time": "2023-07-14T04:29:14.854Z"
   },
   {
    "duration": 17,
    "start_time": "2023-07-14T04:29:19.298Z"
   },
   {
    "duration": 551,
    "start_time": "2023-07-14T04:30:51.703Z"
   },
   {
    "duration": 3,
    "start_time": "2023-07-14T04:31:17.103Z"
   },
   {
    "duration": 18,
    "start_time": "2023-07-14T04:31:33.614Z"
   },
   {
    "duration": 4,
    "start_time": "2023-07-14T04:34:29.903Z"
   },
   {
    "duration": 11,
    "start_time": "2023-07-14T04:34:48.846Z"
   },
   {
    "duration": 3,
    "start_time": "2023-07-14T04:35:00.855Z"
   },
   {
    "duration": 23,
    "start_time": "2023-07-14T04:35:08.638Z"
   },
   {
    "duration": 19,
    "start_time": "2023-07-14T04:35:10.574Z"
   },
   {
    "duration": 24,
    "start_time": "2023-07-14T04:36:16.629Z"
   },
   {
    "duration": 18,
    "start_time": "2023-07-14T04:36:19.072Z"
   },
   {
    "duration": 2199,
    "start_time": "2023-07-14T04:36:25.741Z"
   },
   {
    "duration": 26,
    "start_time": "2023-07-14T04:37:43.743Z"
   },
   {
    "duration": 19,
    "start_time": "2023-07-14T04:37:45.605Z"
   },
   {
    "duration": 1098,
    "start_time": "2023-07-14T04:41:22.085Z"
   },
   {
    "duration": 80,
    "start_time": "2023-07-14T04:41:24.618Z"
   },
   {
    "duration": 13,
    "start_time": "2023-07-14T04:41:27.239Z"
   },
   {
    "duration": 12,
    "start_time": "2023-07-14T04:41:29.508Z"
   },
   {
    "duration": 13,
    "start_time": "2023-07-14T04:41:31.584Z"
   },
   {
    "duration": 15,
    "start_time": "2023-07-14T04:41:33.727Z"
   },
   {
    "duration": 7,
    "start_time": "2023-07-14T04:41:36.032Z"
   },
   {
    "duration": 14,
    "start_time": "2023-07-14T04:41:37.739Z"
   },
   {
    "duration": 7,
    "start_time": "2023-07-14T04:41:40.344Z"
   },
   {
    "duration": 5,
    "start_time": "2023-07-14T04:41:43.848Z"
   },
   {
    "duration": 9,
    "start_time": "2023-07-14T04:41:46.055Z"
   },
   {
    "duration": 19,
    "start_time": "2023-07-14T04:41:47.656Z"
   },
   {
    "duration": 7,
    "start_time": "2023-07-14T04:41:50.784Z"
   },
   {
    "duration": 11,
    "start_time": "2023-07-14T04:41:52.408Z"
   },
   {
    "duration": 213,
    "start_time": "2023-07-14T04:41:54.992Z"
   },
   {
    "duration": 8,
    "start_time": "2023-07-14T04:41:58.248Z"
   },
   {
    "duration": 6,
    "start_time": "2023-07-14T04:42:01.423Z"
   },
   {
    "duration": 7,
    "start_time": "2023-07-14T04:42:03.056Z"
   },
   {
    "duration": 9,
    "start_time": "2023-07-14T04:42:05.976Z"
   },
   {
    "duration": 7,
    "start_time": "2023-07-14T04:42:07.992Z"
   },
   {
    "duration": 9,
    "start_time": "2023-07-14T04:42:10.815Z"
   },
   {
    "duration": 5,
    "start_time": "2023-07-14T04:43:50.032Z"
   },
   {
    "duration": 133,
    "start_time": "2023-07-14T04:43:51.600Z"
   },
   {
    "duration": 6,
    "start_time": "2023-07-14T04:43:54.784Z"
   },
   {
    "duration": 81,
    "start_time": "2023-07-14T04:43:56.311Z"
   },
   {
    "duration": 9,
    "start_time": "2023-07-14T04:43:58.952Z"
   },
   {
    "duration": 144,
    "start_time": "2023-07-14T04:44:00.992Z"
   },
   {
    "duration": 159,
    "start_time": "2023-07-14T04:44:03.976Z"
   },
   {
    "duration": 144,
    "start_time": "2023-07-14T04:44:06.472Z"
   },
   {
    "duration": 136,
    "start_time": "2023-07-14T04:44:09.903Z"
   },
   {
    "duration": 15,
    "start_time": "2023-07-14T04:44:13.838Z"
   },
   {
    "duration": 14,
    "start_time": "2023-07-14T04:44:15.440Z"
   },
   {
    "duration": 5,
    "start_time": "2023-07-14T04:44:17.312Z"
   },
   {
    "duration": 19,
    "start_time": "2023-07-14T04:44:21.015Z"
   },
   {
    "duration": 7,
    "start_time": "2023-07-14T04:44:22.338Z"
   },
   {
    "duration": 294,
    "start_time": "2023-07-14T04:44:24.664Z"
   },
   {
    "duration": 264,
    "start_time": "2023-07-14T04:44:27.632Z"
   },
   {
    "duration": 3,
    "start_time": "2023-07-14T04:44:31.824Z"
   },
   {
    "duration": 190,
    "start_time": "2023-07-14T04:45:00.472Z"
   },
   {
    "duration": 29,
    "start_time": "2023-07-14T04:45:21.200Z"
   },
   {
    "duration": 16,
    "start_time": "2023-07-14T04:45:27.167Z"
   },
   {
    "duration": 14,
    "start_time": "2023-07-14T04:45:38.352Z"
   },
   {
    "duration": 14,
    "start_time": "2023-07-14T04:46:35.856Z"
   },
   {
    "duration": 25,
    "start_time": "2023-07-14T04:46:51.616Z"
   },
   {
    "duration": 17,
    "start_time": "2023-07-14T04:46:54.680Z"
   },
   {
    "duration": 26,
    "start_time": "2023-07-14T04:50:24.159Z"
   },
   {
    "duration": 14,
    "start_time": "2023-07-14T04:50:25.975Z"
   },
   {
    "duration": 25,
    "start_time": "2023-07-14T04:50:49.119Z"
   },
   {
    "duration": 9,
    "start_time": "2023-07-14T04:50:52.151Z"
   },
   {
    "duration": 8,
    "start_time": "2023-07-14T04:50:55.150Z"
   },
   {
    "duration": 154,
    "start_time": "2023-07-14T04:51:32.910Z"
   },
   {
    "duration": 25,
    "start_time": "2023-07-14T04:52:21.330Z"
   },
   {
    "duration": 16,
    "start_time": "2023-07-14T04:52:22.767Z"
   },
   {
    "duration": 22,
    "start_time": "2023-07-14T04:52:25.951Z"
   },
   {
    "duration": 8,
    "start_time": "2023-07-14T04:52:28.182Z"
   },
   {
    "duration": 8,
    "start_time": "2023-07-14T04:52:30.230Z"
   },
   {
    "duration": 26,
    "start_time": "2023-07-14T04:59:09.837Z"
   },
   {
    "duration": 18,
    "start_time": "2023-07-14T04:59:13.926Z"
   },
   {
    "duration": 8,
    "start_time": "2023-07-14T05:01:46.262Z"
   },
   {
    "duration": 7,
    "start_time": "2023-07-14T05:01:50.054Z"
   },
   {
    "duration": 9,
    "start_time": "2023-07-14T05:01:52.502Z"
   },
   {
    "duration": 8,
    "start_time": "2023-07-14T05:01:56.285Z"
   },
   {
    "duration": 11,
    "start_time": "2023-07-14T05:02:08.485Z"
   },
   {
    "duration": 16,
    "start_time": "2023-07-14T05:02:18.046Z"
   },
   {
    "duration": 175,
    "start_time": "2023-07-14T05:02:29.717Z"
   },
   {
    "duration": 497,
    "start_time": "2023-07-14T05:04:41.791Z"
   },
   {
    "duration": 7,
    "start_time": "2023-07-14T05:05:02.333Z"
   },
   {
    "duration": 309,
    "start_time": "2023-07-14T05:05:58.966Z"
   },
   {
    "duration": 148,
    "start_time": "2023-07-14T05:06:11.390Z"
   },
   {
    "duration": 9,
    "start_time": "2023-07-14T05:06:16.581Z"
   },
   {
    "duration": 13,
    "start_time": "2023-07-14T05:28:16.210Z"
   },
   {
    "duration": 6,
    "start_time": "2023-07-14T05:28:26.626Z"
   },
   {
    "duration": 7,
    "start_time": "2023-07-14T05:30:07.185Z"
   },
   {
    "duration": 1440,
    "start_time": "2023-07-14T05:31:50.441Z"
   },
   {
    "duration": 6,
    "start_time": "2023-07-14T05:32:18.675Z"
   },
   {
    "duration": 7,
    "start_time": "2023-07-14T05:32:27.129Z"
   },
   {
    "duration": 10,
    "start_time": "2023-07-14T05:32:51.227Z"
   },
   {
    "duration": 1975,
    "start_time": "2023-07-14T05:37:58.057Z"
   },
   {
    "duration": 262,
    "start_time": "2023-07-14T05:38:04.064Z"
   },
   {
    "duration": 7,
    "start_time": "2023-07-14T05:39:16.377Z"
   },
   {
    "duration": 1107,
    "start_time": "2023-07-14T05:39:28.378Z"
   },
   {
    "duration": 71,
    "start_time": "2023-07-14T05:39:31.647Z"
   },
   {
    "duration": 11,
    "start_time": "2023-07-14T05:39:34.462Z"
   },
   {
    "duration": 11,
    "start_time": "2023-07-14T05:39:37.014Z"
   },
   {
    "duration": 9,
    "start_time": "2023-07-14T05:39:39.215Z"
   },
   {
    "duration": 11,
    "start_time": "2023-07-14T05:39:41.351Z"
   },
   {
    "duration": 8,
    "start_time": "2023-07-14T05:39:44.990Z"
   },
   {
    "duration": 11,
    "start_time": "2023-07-14T05:39:47.462Z"
   },
   {
    "duration": 7,
    "start_time": "2023-07-14T05:39:50.862Z"
   },
   {
    "duration": 5,
    "start_time": "2023-07-14T05:39:52.870Z"
   },
   {
    "duration": 10,
    "start_time": "2023-07-14T05:39:54.735Z"
   },
   {
    "duration": 17,
    "start_time": "2023-07-14T05:39:56.734Z"
   },
   {
    "duration": 6,
    "start_time": "2023-07-14T05:39:59.590Z"
   },
   {
    "duration": 8,
    "start_time": "2023-07-14T05:40:03.064Z"
   },
   {
    "duration": 206,
    "start_time": "2023-07-14T05:40:05.487Z"
   },
   {
    "duration": 8,
    "start_time": "2023-07-14T05:40:12.423Z"
   },
   {
    "duration": 9,
    "start_time": "2023-07-14T05:40:22.991Z"
   },
   {
    "duration": 5,
    "start_time": "2023-07-14T05:40:31.375Z"
   },
   {
    "duration": 10,
    "start_time": "2023-07-14T05:40:40.487Z"
   },
   {
    "duration": 7,
    "start_time": "2023-07-14T05:40:45.342Z"
   },
   {
    "duration": 8,
    "start_time": "2023-07-14T05:40:47.879Z"
   },
   {
    "duration": 6,
    "start_time": "2023-07-14T05:40:53.640Z"
   },
   {
    "duration": 125,
    "start_time": "2023-07-14T05:40:55.143Z"
   },
   {
    "duration": 6,
    "start_time": "2023-07-14T05:40:59.959Z"
   },
   {
    "duration": 82,
    "start_time": "2023-07-14T05:41:03.390Z"
   },
   {
    "duration": 7,
    "start_time": "2023-07-14T05:41:06.631Z"
   },
   {
    "duration": 154,
    "start_time": "2023-07-14T05:41:08.686Z"
   },
   {
    "duration": 190,
    "start_time": "2023-07-14T05:41:14.502Z"
   },
   {
    "duration": 156,
    "start_time": "2023-07-14T05:41:21.008Z"
   },
   {
    "duration": 142,
    "start_time": "2023-07-14T05:41:28.448Z"
   },
   {
    "duration": 10,
    "start_time": "2023-07-14T05:41:31.227Z"
   },
   {
    "duration": 10,
    "start_time": "2023-07-14T05:41:32.982Z"
   },
   {
    "duration": 4,
    "start_time": "2023-07-14T05:41:34.285Z"
   },
   {
    "duration": 11,
    "start_time": "2023-07-14T05:41:36.566Z"
   },
   {
    "duration": 7,
    "start_time": "2023-07-14T05:41:37.935Z"
   },
   {
    "duration": 186,
    "start_time": "2023-07-14T05:41:41.254Z"
   },
   {
    "duration": 26,
    "start_time": "2023-07-14T05:41:57.840Z"
   },
   {
    "duration": 8,
    "start_time": "2023-07-14T05:42:09.447Z"
   },
   {
    "duration": 8,
    "start_time": "2023-07-14T05:42:12.054Z"
   },
   {
    "duration": 8,
    "start_time": "2023-07-14T05:42:14.062Z"
   },
   {
    "duration": 171,
    "start_time": "2023-07-14T05:42:17.542Z"
   },
   {
    "duration": 7,
    "start_time": "2023-07-14T05:42:29.431Z"
   },
   {
    "duration": 6,
    "start_time": "2023-07-14T05:42:37.046Z"
   },
   {
    "duration": 7,
    "start_time": "2023-07-14T05:42:45.751Z"
   },
   {
    "duration": 1829,
    "start_time": "2023-07-14T05:43:04.806Z"
   },
   {
    "duration": 261,
    "start_time": "2023-07-14T05:43:11.342Z"
   },
   {
    "duration": 1058,
    "start_time": "2023-07-14T05:54:48.821Z"
   },
   {
    "duration": 70,
    "start_time": "2023-07-14T05:54:49.881Z"
   },
   {
    "duration": 10,
    "start_time": "2023-07-14T05:54:49.953Z"
   },
   {
    "duration": 10,
    "start_time": "2023-07-14T05:54:49.965Z"
   },
   {
    "duration": 23,
    "start_time": "2023-07-14T05:54:49.976Z"
   },
   {
    "duration": 45,
    "start_time": "2023-07-14T05:54:50.000Z"
   },
   {
    "duration": 50,
    "start_time": "2023-07-14T05:54:50.046Z"
   },
   {
    "duration": 32,
    "start_time": "2023-07-14T05:54:50.098Z"
   },
   {
    "duration": 59,
    "start_time": "2023-07-14T05:54:50.132Z"
   },
   {
    "duration": 28,
    "start_time": "2023-07-14T05:54:50.194Z"
   },
   {
    "duration": 53,
    "start_time": "2023-07-14T05:54:50.224Z"
   },
   {
    "duration": 44,
    "start_time": "2023-07-14T05:54:50.279Z"
   },
   {
    "duration": 38,
    "start_time": "2023-07-14T05:54:50.325Z"
   },
   {
    "duration": 40,
    "start_time": "2023-07-14T05:54:50.365Z"
   },
   {
    "duration": 230,
    "start_time": "2023-07-14T05:54:50.407Z"
   },
   {
    "duration": 8,
    "start_time": "2023-07-14T05:54:50.639Z"
   },
   {
    "duration": 27,
    "start_time": "2023-07-14T05:54:50.648Z"
   },
   {
    "duration": 36,
    "start_time": "2023-07-14T05:54:50.676Z"
   },
   {
    "duration": 49,
    "start_time": "2023-07-14T05:54:50.714Z"
   },
   {
    "duration": 11,
    "start_time": "2023-07-14T05:54:50.765Z"
   },
   {
    "duration": 11,
    "start_time": "2023-07-14T05:54:50.777Z"
   },
   {
    "duration": 14,
    "start_time": "2023-07-14T05:54:50.790Z"
   },
   {
    "duration": 129,
    "start_time": "2023-07-14T05:54:50.805Z"
   },
   {
    "duration": 5,
    "start_time": "2023-07-14T05:54:50.936Z"
   },
   {
    "duration": 87,
    "start_time": "2023-07-14T05:54:50.942Z"
   },
   {
    "duration": 7,
    "start_time": "2023-07-14T05:54:51.032Z"
   },
   {
    "duration": 165,
    "start_time": "2023-07-14T05:54:51.040Z"
   },
   {
    "duration": 160,
    "start_time": "2023-07-14T05:54:51.208Z"
   },
   {
    "duration": 147,
    "start_time": "2023-07-14T05:54:51.370Z"
   },
   {
    "duration": 133,
    "start_time": "2023-07-14T05:54:51.519Z"
   },
   {
    "duration": 10,
    "start_time": "2023-07-14T05:54:51.653Z"
   },
   {
    "duration": 42,
    "start_time": "2023-07-14T05:54:51.665Z"
   },
   {
    "duration": 22,
    "start_time": "2023-07-14T05:54:51.708Z"
   },
   {
    "duration": 31,
    "start_time": "2023-07-14T05:54:51.732Z"
   },
   {
    "duration": 30,
    "start_time": "2023-07-14T05:54:51.765Z"
   },
   {
    "duration": 222,
    "start_time": "2023-07-14T05:54:51.797Z"
   },
   {
    "duration": 209,
    "start_time": "2023-07-14T05:54:52.021Z"
   },
   {
    "duration": 33,
    "start_time": "2023-07-14T05:54:52.232Z"
   },
   {
    "duration": 18,
    "start_time": "2023-07-14T05:54:52.266Z"
   },
   {
    "duration": 9,
    "start_time": "2023-07-14T05:54:52.285Z"
   },
   {
    "duration": 97,
    "start_time": "2023-07-14T05:54:52.295Z"
   },
   {
    "duration": 193,
    "start_time": "2023-07-14T05:54:52.394Z"
   },
   {
    "duration": 8,
    "start_time": "2023-07-14T05:54:52.589Z"
   },
   {
    "duration": 11,
    "start_time": "2023-07-14T05:54:52.599Z"
   },
   {
    "duration": 20,
    "start_time": "2023-07-14T05:54:52.612Z"
   },
   {
    "duration": 2065,
    "start_time": "2023-07-14T05:54:52.634Z"
   },
   {
    "duration": 280,
    "start_time": "2023-07-14T05:54:54.701Z"
   },
   {
    "duration": 185,
    "start_time": "2023-07-14T05:58:02.553Z"
   },
   {
    "duration": 1161,
    "start_time": "2023-07-14T12:56:20.616Z"
   },
   {
    "duration": 75,
    "start_time": "2023-07-14T12:56:21.779Z"
   },
   {
    "duration": 16,
    "start_time": "2023-07-14T12:56:21.855Z"
   },
   {
    "duration": 22,
    "start_time": "2023-07-14T12:56:21.874Z"
   },
   {
    "duration": 24,
    "start_time": "2023-07-14T12:56:21.898Z"
   },
   {
    "duration": 28,
    "start_time": "2023-07-14T12:56:21.924Z"
   },
   {
    "duration": 27,
    "start_time": "2023-07-14T12:56:21.954Z"
   },
   {
    "duration": 56,
    "start_time": "2023-07-14T12:56:21.982Z"
   },
   {
    "duration": 12,
    "start_time": "2023-07-14T12:56:22.040Z"
   },
   {
    "duration": 6,
    "start_time": "2023-07-14T12:56:22.055Z"
   },
   {
    "duration": 19,
    "start_time": "2023-07-14T12:56:22.063Z"
   },
   {
    "duration": 26,
    "start_time": "2023-07-14T12:56:22.084Z"
   },
   {
    "duration": 10,
    "start_time": "2023-07-14T12:56:22.112Z"
   },
   {
    "duration": 27,
    "start_time": "2023-07-14T12:56:22.124Z"
   },
   {
    "duration": 305,
    "start_time": "2023-07-14T12:56:22.153Z"
   },
   {
    "duration": 9,
    "start_time": "2023-07-14T12:56:22.461Z"
   },
   {
    "duration": 13,
    "start_time": "2023-07-14T12:56:22.472Z"
   },
   {
    "duration": 27,
    "start_time": "2023-07-14T12:56:22.486Z"
   },
   {
    "duration": 12,
    "start_time": "2023-07-14T12:56:22.515Z"
   },
   {
    "duration": 126,
    "start_time": "2023-07-14T12:56:22.529Z"
   },
   {
    "duration": 31,
    "start_time": "2023-07-14T12:56:22.657Z"
   },
   {
    "duration": 7,
    "start_time": "2023-07-14T12:56:22.690Z"
   },
   {
    "duration": 210,
    "start_time": "2023-07-14T12:56:22.699Z"
   },
   {
    "duration": 7,
    "start_time": "2023-07-14T12:56:22.913Z"
   },
   {
    "duration": 93,
    "start_time": "2023-07-14T12:56:22.921Z"
   },
   {
    "duration": 9,
    "start_time": "2023-07-14T12:56:23.016Z"
   },
   {
    "duration": 175,
    "start_time": "2023-07-14T12:56:23.027Z"
   },
   {
    "duration": 196,
    "start_time": "2023-07-14T12:56:23.212Z"
   },
   {
    "duration": 213,
    "start_time": "2023-07-14T12:56:23.413Z"
   },
   {
    "duration": 170,
    "start_time": "2023-07-14T12:56:23.628Z"
   },
   {
    "duration": 22,
    "start_time": "2023-07-14T12:56:23.800Z"
   },
   {
    "duration": 31,
    "start_time": "2023-07-14T12:56:23.824Z"
   },
   {
    "duration": 22,
    "start_time": "2023-07-14T12:56:23.857Z"
   },
   {
    "duration": 29,
    "start_time": "2023-07-14T12:56:23.880Z"
   },
   {
    "duration": 14,
    "start_time": "2023-07-14T12:56:23.911Z"
   },
   {
    "duration": 233,
    "start_time": "2023-07-14T12:56:23.927Z"
   },
   {
    "duration": 221,
    "start_time": "2023-07-14T12:56:24.162Z"
   },
   {
    "duration": 36,
    "start_time": "2023-07-14T12:56:24.385Z"
   },
   {
    "duration": 9,
    "start_time": "2023-07-14T12:56:24.423Z"
   },
   {
    "duration": 88,
    "start_time": "2023-07-14T12:56:24.434Z"
   },
   {
    "duration": 100,
    "start_time": "2023-07-14T12:56:24.524Z"
   },
   {
    "duration": 201,
    "start_time": "2023-07-14T12:56:24.626Z"
   },
   {
    "duration": 10,
    "start_time": "2023-07-14T12:56:24.829Z"
   },
   {
    "duration": 30,
    "start_time": "2023-07-14T12:56:24.841Z"
   },
   {
    "duration": 54,
    "start_time": "2023-07-14T12:56:24.873Z"
   },
   {
    "duration": 2525,
    "start_time": "2023-07-14T12:56:24.929Z"
   },
   {
    "duration": 346,
    "start_time": "2023-07-14T12:56:27.456Z"
   },
   {
    "duration": 1187,
    "start_time": "2023-07-14T12:58:01.717Z"
   },
   {
    "duration": 71,
    "start_time": "2023-07-14T12:58:02.906Z"
   },
   {
    "duration": 14,
    "start_time": "2023-07-14T12:58:02.979Z"
   },
   {
    "duration": 29,
    "start_time": "2023-07-14T12:58:02.996Z"
   },
   {
    "duration": 16,
    "start_time": "2023-07-14T12:58:03.027Z"
   },
   {
    "duration": 17,
    "start_time": "2023-07-14T12:58:03.045Z"
   },
   {
    "duration": 52,
    "start_time": "2023-07-14T12:58:03.064Z"
   },
   {
    "duration": 48,
    "start_time": "2023-07-14T12:58:03.118Z"
   },
   {
    "duration": 64,
    "start_time": "2023-07-14T12:58:03.168Z"
   },
   {
    "duration": 55,
    "start_time": "2023-07-14T12:58:03.234Z"
   },
   {
    "duration": 18,
    "start_time": "2023-07-14T12:58:03.316Z"
   },
   {
    "duration": 81,
    "start_time": "2023-07-14T12:58:03.337Z"
   },
   {
    "duration": 7,
    "start_time": "2023-07-14T12:58:03.420Z"
   },
   {
    "duration": 42,
    "start_time": "2023-07-14T12:58:03.429Z"
   },
   {
    "duration": 655,
    "start_time": "2023-07-14T12:58:03.474Z"
   },
   {
    "duration": 11,
    "start_time": "2023-07-14T12:58:04.131Z"
   },
   {
    "duration": 107,
    "start_time": "2023-07-14T12:58:04.144Z"
   },
   {
    "duration": 32,
    "start_time": "2023-07-14T12:58:04.253Z"
   },
   {
    "duration": 32,
    "start_time": "2023-07-14T12:58:04.287Z"
   },
   {
    "duration": 21,
    "start_time": "2023-07-14T12:58:04.322Z"
   },
   {
    "duration": 72,
    "start_time": "2023-07-14T12:58:04.345Z"
   },
   {
    "duration": 8,
    "start_time": "2023-07-14T12:58:04.419Z"
   },
   {
    "duration": 385,
    "start_time": "2023-07-14T12:58:04.429Z"
   },
   {
    "duration": 7,
    "start_time": "2023-07-14T12:58:04.816Z"
   },
   {
    "duration": 200,
    "start_time": "2023-07-14T12:58:04.825Z"
   },
   {
    "duration": 9,
    "start_time": "2023-07-14T12:58:05.026Z"
   },
   {
    "duration": 224,
    "start_time": "2023-07-14T12:58:05.037Z"
   },
   {
    "duration": 202,
    "start_time": "2023-07-14T12:58:05.265Z"
   },
   {
    "duration": 202,
    "start_time": "2023-07-14T12:58:05.469Z"
   },
   {
    "duration": 179,
    "start_time": "2023-07-14T12:58:05.674Z"
   },
   {
    "duration": 14,
    "start_time": "2023-07-14T12:58:05.855Z"
   },
   {
    "duration": 19,
    "start_time": "2023-07-14T12:58:05.871Z"
   },
   {
    "duration": 21,
    "start_time": "2023-07-14T12:58:05.893Z"
   },
   {
    "duration": 29,
    "start_time": "2023-07-14T12:58:05.916Z"
   },
   {
    "duration": 34,
    "start_time": "2023-07-14T12:58:05.948Z"
   },
   {
    "duration": 263,
    "start_time": "2023-07-14T12:58:05.984Z"
   },
   {
    "duration": 246,
    "start_time": "2023-07-14T12:58:06.249Z"
   },
   {
    "duration": 36,
    "start_time": "2023-07-14T12:58:06.497Z"
   },
   {
    "duration": 11,
    "start_time": "2023-07-14T12:58:06.535Z"
   },
   {
    "duration": 19,
    "start_time": "2023-07-14T12:58:06.548Z"
   },
   {
    "duration": 111,
    "start_time": "2023-07-14T12:58:06.570Z"
   },
   {
    "duration": 206,
    "start_time": "2023-07-14T12:58:06.683Z"
   },
   {
    "duration": 22,
    "start_time": "2023-07-14T12:58:06.891Z"
   },
   {
    "duration": 8,
    "start_time": "2023-07-14T12:58:06.916Z"
   },
   {
    "duration": 38,
    "start_time": "2023-07-14T12:58:06.926Z"
   },
   {
    "duration": 2439,
    "start_time": "2023-07-14T12:58:06.966Z"
   },
   {
    "duration": 359,
    "start_time": "2023-07-14T12:58:09.407Z"
   },
   {
    "duration": 1154,
    "start_time": "2023-07-14T12:58:36.556Z"
   },
   {
    "duration": 72,
    "start_time": "2023-07-14T12:58:37.713Z"
   },
   {
    "duration": 18,
    "start_time": "2023-07-14T12:58:37.787Z"
   },
   {
    "duration": 36,
    "start_time": "2023-07-14T12:58:37.808Z"
   },
   {
    "duration": 61,
    "start_time": "2023-07-14T12:58:37.847Z"
   },
   {
    "duration": 49,
    "start_time": "2023-07-14T12:58:37.910Z"
   },
   {
    "duration": 21,
    "start_time": "2023-07-14T12:58:37.961Z"
   },
   {
    "duration": 48,
    "start_time": "2023-07-14T12:58:37.983Z"
   },
   {
    "duration": 51,
    "start_time": "2023-07-14T12:58:38.033Z"
   },
   {
    "duration": 27,
    "start_time": "2023-07-14T12:58:38.088Z"
   },
   {
    "duration": 26,
    "start_time": "2023-07-14T12:58:38.118Z"
   },
   {
    "duration": 52,
    "start_time": "2023-07-14T12:58:38.146Z"
   },
   {
    "duration": 19,
    "start_time": "2023-07-14T12:58:38.200Z"
   },
   {
    "duration": 68,
    "start_time": "2023-07-14T12:58:38.220Z"
   },
   {
    "duration": 426,
    "start_time": "2023-07-14T12:58:38.290Z"
   },
   {
    "duration": 11,
    "start_time": "2023-07-14T12:58:38.718Z"
   },
   {
    "duration": 84,
    "start_time": "2023-07-14T12:58:38.730Z"
   },
   {
    "duration": 35,
    "start_time": "2023-07-14T12:58:38.816Z"
   },
   {
    "duration": 65,
    "start_time": "2023-07-14T12:58:38.853Z"
   },
   {
    "duration": 11,
    "start_time": "2023-07-14T12:58:38.920Z"
   },
   {
    "duration": 85,
    "start_time": "2023-07-14T12:58:38.933Z"
   },
   {
    "duration": 8,
    "start_time": "2023-07-14T12:58:39.020Z"
   },
   {
    "duration": 387,
    "start_time": "2023-07-14T12:58:39.030Z"
   },
   {
    "duration": 8,
    "start_time": "2023-07-14T12:58:39.419Z"
   },
   {
    "duration": 219,
    "start_time": "2023-07-14T12:58:39.429Z"
   },
   {
    "duration": 62,
    "start_time": "2023-07-14T12:58:39.651Z"
   },
   {
    "duration": 438,
    "start_time": "2023-07-14T12:58:39.716Z"
   },
   {
    "duration": 497,
    "start_time": "2023-07-14T12:58:40.159Z"
   },
   {
    "duration": 320,
    "start_time": "2023-07-14T12:58:40.658Z"
   },
   {
    "duration": 166,
    "start_time": "2023-07-14T12:58:40.981Z"
   },
   {
    "duration": 12,
    "start_time": "2023-07-14T12:58:41.150Z"
   },
   {
    "duration": 17,
    "start_time": "2023-07-14T12:58:41.164Z"
   },
   {
    "duration": 22,
    "start_time": "2023-07-14T12:58:41.183Z"
   },
   {
    "duration": 23,
    "start_time": "2023-07-14T12:58:41.208Z"
   },
   {
    "duration": 14,
    "start_time": "2023-07-14T12:58:41.233Z"
   },
   {
    "duration": 317,
    "start_time": "2023-07-14T12:58:41.249Z"
   },
   {
    "duration": 322,
    "start_time": "2023-07-14T12:58:41.569Z"
   },
   {
    "duration": 55,
    "start_time": "2023-07-14T12:58:41.892Z"
   },
   {
    "duration": 10,
    "start_time": "2023-07-14T12:58:41.950Z"
   },
   {
    "duration": 11,
    "start_time": "2023-07-14T12:58:41.964Z"
   },
   {
    "duration": 111,
    "start_time": "2023-07-14T12:58:41.978Z"
   },
   {
    "duration": 225,
    "start_time": "2023-07-14T12:58:42.091Z"
   },
   {
    "duration": 9,
    "start_time": "2023-07-14T12:58:42.318Z"
   },
   {
    "duration": 147,
    "start_time": "2023-07-14T12:58:42.328Z"
   },
   {
    "duration": 14,
    "start_time": "2023-07-14T12:58:42.477Z"
   },
   {
    "duration": 2416,
    "start_time": "2023-07-14T12:58:42.493Z"
   },
   {
    "duration": 323,
    "start_time": "2023-07-14T12:58:44.914Z"
   },
   {
    "duration": 7,
    "start_time": "2023-07-14T13:01:52.147Z"
   },
   {
    "duration": 1153,
    "start_time": "2023-07-26T08:11:39.084Z"
   },
   {
    "duration": 248,
    "start_time": "2023-07-26T08:11:41.731Z"
   },
   {
    "duration": 10,
    "start_time": "2023-07-26T08:11:44.225Z"
   },
   {
    "duration": 14,
    "start_time": "2023-07-26T08:11:46.042Z"
   },
   {
    "duration": 8,
    "start_time": "2023-07-26T08:11:47.739Z"
   },
   {
    "duration": 11,
    "start_time": "2023-07-26T08:11:49.775Z"
   },
   {
    "duration": 7,
    "start_time": "2023-07-26T08:11:51.583Z"
   },
   {
    "duration": 9,
    "start_time": "2023-07-26T08:11:53.887Z"
   },
   {
    "duration": 7,
    "start_time": "2023-07-26T08:11:56.724Z"
   },
   {
    "duration": 5,
    "start_time": "2023-07-26T08:11:58.656Z"
   },
   {
    "duration": 8,
    "start_time": "2023-07-26T08:12:00.639Z"
   },
   {
    "duration": 18,
    "start_time": "2023-07-26T08:12:02.278Z"
   },
   {
    "duration": 6,
    "start_time": "2023-07-26T08:12:04.443Z"
   },
   {
    "duration": 13,
    "start_time": "2023-07-26T08:12:06.120Z"
   },
   {
    "duration": 254,
    "start_time": "2023-07-26T08:12:08.192Z"
   },
   {
    "duration": 13,
    "start_time": "2023-07-26T08:12:12.338Z"
   },
   {
    "duration": 9,
    "start_time": "2023-07-26T08:12:16.047Z"
   },
   {
    "duration": 7,
    "start_time": "2023-07-26T08:12:18.546Z"
   },
   {
    "duration": 18,
    "start_time": "2023-07-26T08:12:23.239Z"
   },
   {
    "duration": 5,
    "start_time": "2023-07-26T08:12:24.782Z"
   },
   {
    "duration": 9,
    "start_time": "2023-07-26T08:12:27.174Z"
   },
   {
    "duration": 7,
    "start_time": "2023-07-26T08:12:35.822Z"
   },
   {
    "duration": 146,
    "start_time": "2023-07-26T08:12:38.242Z"
   },
   {
    "duration": 7,
    "start_time": "2023-07-26T08:12:42.818Z"
   },
   {
    "duration": 92,
    "start_time": "2023-07-26T08:12:44.626Z"
   },
   {
    "duration": 16,
    "start_time": "2023-07-26T08:13:52.598Z"
   },
   {
    "duration": 159,
    "start_time": "2023-07-26T08:13:54.598Z"
   },
   {
    "duration": 171,
    "start_time": "2023-07-26T08:13:57.278Z"
   },
   {
    "duration": 186,
    "start_time": "2023-07-26T08:13:59.499Z"
   },
   {
    "duration": 161,
    "start_time": "2023-07-26T08:14:03.417Z"
   },
   {
    "duration": 11,
    "start_time": "2023-07-26T08:14:05.870Z"
   },
   {
    "duration": 10,
    "start_time": "2023-07-26T08:14:08.262Z"
   },
   {
    "duration": 4,
    "start_time": "2023-07-26T08:14:09.685Z"
   },
   {
    "duration": 15,
    "start_time": "2023-07-26T08:14:11.528Z"
   },
   {
    "duration": 7,
    "start_time": "2023-07-26T08:14:13.462Z"
   },
   {
    "duration": 212,
    "start_time": "2023-07-26T08:14:15.863Z"
   },
   {
    "duration": 202,
    "start_time": "2023-07-26T08:14:18.625Z"
   },
   {
    "duration": 39,
    "start_time": "2023-07-26T08:14:22.095Z"
   },
   {
    "duration": 9,
    "start_time": "2023-07-26T08:14:24.950Z"
   },
   {
    "duration": 23,
    "start_time": "2023-07-26T08:14:26.597Z"
   },
   {
    "duration": 8,
    "start_time": "2023-07-26T08:14:28.453Z"
   },
   {
    "duration": 263,
    "start_time": "2023-07-26T08:14:30.286Z"
   },
   {
    "duration": 7,
    "start_time": "2023-07-26T08:14:33.938Z"
   },
   {
    "duration": 6,
    "start_time": "2023-07-26T08:14:38.637Z"
   },
   {
    "duration": 8,
    "start_time": "2023-07-26T08:14:41.550Z"
   },
   {
    "duration": 1961,
    "start_time": "2023-07-26T08:14:45.065Z"
   },
   {
    "duration": 300,
    "start_time": "2023-07-26T08:14:52.360Z"
   },
   {
    "duration": 130,
    "start_time": "2023-07-26T08:15:19.477Z"
   },
   {
    "duration": 4,
    "start_time": "2023-07-26T08:18:09.226Z"
   },
   {
    "duration": 113,
    "start_time": "2023-07-26T08:18:55.616Z"
   },
   {
    "duration": 29,
    "start_time": "2023-07-26T08:19:05.755Z"
   }
  ],
  "kernelspec": {
   "display_name": "Python 3 (ipykernel)",
   "language": "python",
   "name": "python3"
  },
  "language_info": {
   "codemirror_mode": {
    "name": "ipython",
    "version": 3
   },
   "file_extension": ".py",
   "mimetype": "text/x-python",
   "name": "python",
   "nbconvert_exporter": "python",
   "pygments_lexer": "ipython3",
   "version": "3.11.4"
  },
  "toc": {
   "base_numbering": 1,
   "nav_menu": {},
   "number_sections": true,
   "sideBar": true,
   "skip_h1_title": true,
   "title_cell": "Table of Contents",
   "title_sidebar": "Contents",
   "toc_cell": false,
   "toc_position": {
    "height": "calc(100% - 180px)",
    "left": "10px",
    "top": "150px",
    "width": "371px"
   },
   "toc_section_display": true,
   "toc_window_display": true
  }
 },
 "nbformat": 4,
 "nbformat_minor": 5
}
