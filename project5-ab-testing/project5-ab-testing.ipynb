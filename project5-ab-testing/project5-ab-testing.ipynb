{
 "cells": [
  {
   "cell_type": "markdown",
   "metadata": {},
   "source": [
    "# Принятие решений в бизнесе\n",
    "## Введение\n",
    "Задача проекта:\n",
    "*Вы — аналитик крупного интернет-магазина. Вместе с отделом маркетинга вы подготовили список гипотез для увеличения выручки.\n",
    "Приоритизируйте гипотезы, запустите A/B-тест и проанализируйте результаты.*\n",
    "\n",
    "Для решения задачи были предоставлены три файла с данными: \n",
    "- `hypothesis.csv`\n",
    "  - `Hypothesis` — краткое описание гипотезы;\n",
    "  - `Reach` — охват пользователей по 10-балльной шкале;\n",
    "  - `Impact` — влияние на пользователей по 10-балльной шкале;\n",
    "  - `Confidence` — уверенность в гипотезе по 10-балльной шкале;\n",
    "  - `Efforts` — затраты ресурсов на проверку гипотезы по 10-балльной шкале. Чем больше значение Efforts, тем дороже проверка гипотезы.\n",
    "- `orders.csv`\n",
    "  - `transactionId` — идентификатор заказа;\n",
    "  - `visitorId` — идентификатор пользователя, совершившего заказ;\n",
    "  - `date` — дата, когда был совершён заказ;\n",
    "  - `revenue` — выручка заказа;\n",
    "  - `group` — группа A/B-теста, в которую попал заказ.\n",
    "- `visitors.csv`\n",
    "  - `date` — дата;\n",
    "  - `group` — группа A/B-теста;\n",
    "  - `visitors` — количество пользователей в указанную дату в указанной группе A/B-теста\n",
    "  \n",
    "Необходимо выполнить следующее:\n",
    "1. Ознакомиться с данными, провести их предобработку при необходимости.\n",
    "2. Применить фреймворки ICE и RICE для приоритизации гипотез из файла `hypothesis.csv`. Сделать выводы по полученным результатам.\n",
    "3. Изучить данные из файлов `orders.csv` и `visitors.csv`, проанализировать результаты проведенного A/B-теста: оценить такие показатели, как выручка, средний чек, количество заказов на пользователя, оценить их динамику, сформулировать и проверить гипотезы, сделать выводы.\n"
   ]
  },
  {
   "cell_type": "markdown",
   "metadata": {},
   "source": [
    "## Загрузка и предобработка данных"
   ]
  },
  {
   "cell_type": "code",
   "execution_count": 1,
   "metadata": {},
   "outputs": [],
   "source": [
    "# импорт бибилиотек\n",
    "\n",
    "import pandas as pd\n",
    "import os\n",
    "import matplotlib.pyplot as plt\n",
    "from scipy import stats\n",
    "import numpy as np\n",
    "from math import sqrt\n",
    "import re\n",
    "import datetime as dt"
   ]
  },
  {
   "cell_type": "code",
   "execution_count": 2,
   "metadata": {},
   "outputs": [],
   "source": [
    "# загрузка данных\n",
    "\n",
    "paths1 = ['/datasets/hypothesis.csv', '/datasets/orders.csv', '/datasets/visitors.csv']\n",
    "paths2 = ['hypothesis.csv', 'orders.csv', 'visitors.csv']\n",
    "dfs = []\n",
    "\n",
    "for i in range(len(paths1)):\n",
    "    if os.path.exists(paths1[i]):\n",
    "        dfs.append(pd.read_csv(paths1[i]))\n",
    "    elif os.path.exists(paths2[i]):\n",
    "        dfs.append(pd.read_csv(paths2[i]))\n",
    "    else:\n",
    "        print('File is missing')\n",
    "        \n",
    "hypothesis = dfs[0]\n",
    "orders = dfs[1]\n",
    "visitors = dfs[2]"
   ]
  },
  {
   "cell_type": "markdown",
   "metadata": {},
   "source": [
    "### Таблица `hypothesis`"
   ]
  },
  {
   "cell_type": "code",
   "execution_count": 3,
   "metadata": {},
   "outputs": [
    {
     "data": {
      "text/html": [
       "<div>\n",
       "<style scoped>\n",
       "    .dataframe tbody tr th:only-of-type {\n",
       "        vertical-align: middle;\n",
       "    }\n",
       "\n",
       "    .dataframe tbody tr th {\n",
       "        vertical-align: top;\n",
       "    }\n",
       "\n",
       "    .dataframe thead th {\n",
       "        text-align: right;\n",
       "    }\n",
       "</style>\n",
       "<table border=\"1\" class=\"dataframe\">\n",
       "  <thead>\n",
       "    <tr style=\"text-align: right;\">\n",
       "      <th></th>\n",
       "      <th>Hypothesis</th>\n",
       "      <th>Reach</th>\n",
       "      <th>Impact</th>\n",
       "      <th>Confidence</th>\n",
       "      <th>Efforts</th>\n",
       "    </tr>\n",
       "  </thead>\n",
       "  <tbody>\n",
       "    <tr>\n",
       "      <th>0</th>\n",
       "      <td>Добавить два новых канала привлечения трафика, что позволит привлекать на 30% больше пользователей</td>\n",
       "      <td>3</td>\n",
       "      <td>10</td>\n",
       "      <td>8</td>\n",
       "      <td>6</td>\n",
       "    </tr>\n",
       "    <tr>\n",
       "      <th>1</th>\n",
       "      <td>Запустить собственную службу доставки, что сократит срок доставки заказов</td>\n",
       "      <td>2</td>\n",
       "      <td>5</td>\n",
       "      <td>4</td>\n",
       "      <td>10</td>\n",
       "    </tr>\n",
       "    <tr>\n",
       "      <th>2</th>\n",
       "      <td>Добавить блоки рекомендаций товаров на сайт интернет магазина, чтобы повысить конверсию и средний чек заказа</td>\n",
       "      <td>8</td>\n",
       "      <td>3</td>\n",
       "      <td>7</td>\n",
       "      <td>3</td>\n",
       "    </tr>\n",
       "    <tr>\n",
       "      <th>3</th>\n",
       "      <td>Изменить структура категорий, что увеличит конверсию, т.к. пользователи быстрее найдут нужный товар</td>\n",
       "      <td>8</td>\n",
       "      <td>3</td>\n",
       "      <td>3</td>\n",
       "      <td>8</td>\n",
       "    </tr>\n",
       "    <tr>\n",
       "      <th>4</th>\n",
       "      <td>Изменить цвет фона главной страницы, чтобы увеличить вовлеченность пользователей</td>\n",
       "      <td>3</td>\n",
       "      <td>1</td>\n",
       "      <td>1</td>\n",
       "      <td>1</td>\n",
       "    </tr>\n",
       "    <tr>\n",
       "      <th>5</th>\n",
       "      <td>Добавить страницу отзывов клиентов о магазине, что позволит увеличить количество заказов</td>\n",
       "      <td>3</td>\n",
       "      <td>2</td>\n",
       "      <td>2</td>\n",
       "      <td>3</td>\n",
       "    </tr>\n",
       "    <tr>\n",
       "      <th>6</th>\n",
       "      <td>Показать на главной странице баннеры с актуальными акциями и распродажами, чтобы увеличить конверсию</td>\n",
       "      <td>5</td>\n",
       "      <td>3</td>\n",
       "      <td>8</td>\n",
       "      <td>3</td>\n",
       "    </tr>\n",
       "    <tr>\n",
       "      <th>7</th>\n",
       "      <td>Добавить форму подписки на все основные страницы, чтобы собрать базу клиентов для email-рассылок</td>\n",
       "      <td>10</td>\n",
       "      <td>7</td>\n",
       "      <td>8</td>\n",
       "      <td>5</td>\n",
       "    </tr>\n",
       "    <tr>\n",
       "      <th>8</th>\n",
       "      <td>Запустить акцию, дающую скидку на товар в день рождения</td>\n",
       "      <td>1</td>\n",
       "      <td>9</td>\n",
       "      <td>9</td>\n",
       "      <td>5</td>\n",
       "    </tr>\n",
       "  </tbody>\n",
       "</table>\n",
       "</div>"
      ],
      "text/plain": [
       "                                                                                                     Hypothesis  \\\n",
       "0            Добавить два новых канала привлечения трафика, что позволит привлекать на 30% больше пользователей   \n",
       "1                                     Запустить собственную службу доставки, что сократит срок доставки заказов   \n",
       "2  Добавить блоки рекомендаций товаров на сайт интернет магазина, чтобы повысить конверсию и средний чек заказа   \n",
       "3           Изменить структура категорий, что увеличит конверсию, т.к. пользователи быстрее найдут нужный товар   \n",
       "4                              Изменить цвет фона главной страницы, чтобы увеличить вовлеченность пользователей   \n",
       "5                      Добавить страницу отзывов клиентов о магазине, что позволит увеличить количество заказов   \n",
       "6          Показать на главной странице баннеры с актуальными акциями и распродажами, чтобы увеличить конверсию   \n",
       "7              Добавить форму подписки на все основные страницы, чтобы собрать базу клиентов для email-рассылок   \n",
       "8                                                       Запустить акцию, дающую скидку на товар в день рождения   \n",
       "\n",
       "   Reach  Impact  Confidence  Efforts  \n",
       "0      3      10           8        6  \n",
       "1      2       5           4       10  \n",
       "2      8       3           7        3  \n",
       "3      8       3           3        8  \n",
       "4      3       1           1        1  \n",
       "5      3       2           2        3  \n",
       "6      5       3           8        3  \n",
       "7     10       7           8        5  \n",
       "8      1       9           9        5  "
      ]
     },
     "execution_count": 3,
     "metadata": {},
     "output_type": "execute_result"
    }
   ],
   "source": [
    "# просмотр первых строк таблицы\n",
    "pd.set_option('display.max_colwidth', None)\n",
    "hypothesis.head(10)"
   ]
  },
  {
   "cell_type": "code",
   "execution_count": 4,
   "metadata": {},
   "outputs": [
    {
     "name": "stdout",
     "output_type": "stream",
     "text": [
      "<class 'pandas.core.frame.DataFrame'>\n",
      "RangeIndex: 9 entries, 0 to 8\n",
      "Data columns (total 5 columns):\n",
      " #   Column      Non-Null Count  Dtype \n",
      "---  ------      --------------  ----- \n",
      " 0   Hypothesis  9 non-null      object\n",
      " 1   Reach       9 non-null      int64 \n",
      " 2   Impact      9 non-null      int64 \n",
      " 3   Confidence  9 non-null      int64 \n",
      " 4   Efforts     9 non-null      int64 \n",
      "dtypes: int64(4), object(1)\n",
      "memory usage: 492.0+ bytes\n"
     ]
    }
   ],
   "source": [
    "# ознакомление с общей информацией о таблице\n",
    "\n",
    "hypothesis.info()"
   ]
  },
  {
   "cell_type": "code",
   "execution_count": 5,
   "metadata": {},
   "outputs": [
    {
     "name": "stdout",
     "output_type": "stream",
     "text": [
      "В таблице hypothesis найдено 0 дубликатов и 0 пропусков данных.\n"
     ]
    }
   ],
   "source": [
    "# проверка данных на наличие явных дубликатов и пропусков\n",
    "\n",
    "print(f'В таблице hypothesis найдено {hypothesis.duplicated().sum()} дубликатов и {hypothesis.isna().sum().sum()} пропусков данных.')"
   ]
  },
  {
   "cell_type": "markdown",
   "metadata": {},
   "source": [
    "Таблица `hypothesis` состоит из 9 строк и 5 столбцов. Содержит оценку 9 гипотез по 4 параметрам по 10-балльной шкале, позволяющую выполнить приоритизацию гипотез способами ICE и RICE.\n",
    "\n",
    "Пропусков данных и явных дубликатов в таблице нет. Преобразование типов данных не требуется. Единственное, что сделаем - приведем названия стобцов к нижнему регистру (для удобства - в принципе шаг не обязательный)."
   ]
  },
  {
   "cell_type": "code",
   "execution_count": 6,
   "metadata": {},
   "outputs": [],
   "source": [
    "hypothesis.columns = [hypothesis.columns[i].lower() for i in range(len(hypothesis.columns))]"
   ]
  },
  {
   "cell_type": "markdown",
   "metadata": {},
   "source": [
    "### Таблица `orders`"
   ]
  },
  {
   "cell_type": "code",
   "execution_count": 7,
   "metadata": {},
   "outputs": [
    {
     "data": {
      "text/html": [
       "<div>\n",
       "<style scoped>\n",
       "    .dataframe tbody tr th:only-of-type {\n",
       "        vertical-align: middle;\n",
       "    }\n",
       "\n",
       "    .dataframe tbody tr th {\n",
       "        vertical-align: top;\n",
       "    }\n",
       "\n",
       "    .dataframe thead th {\n",
       "        text-align: right;\n",
       "    }\n",
       "</style>\n",
       "<table border=\"1\" class=\"dataframe\">\n",
       "  <thead>\n",
       "    <tr style=\"text-align: right;\">\n",
       "      <th></th>\n",
       "      <th>transactionId</th>\n",
       "      <th>visitorId</th>\n",
       "      <th>date</th>\n",
       "      <th>revenue</th>\n",
       "      <th>group</th>\n",
       "    </tr>\n",
       "  </thead>\n",
       "  <tbody>\n",
       "    <tr>\n",
       "      <th>0</th>\n",
       "      <td>3667963787</td>\n",
       "      <td>3312258926</td>\n",
       "      <td>2019-08-15</td>\n",
       "      <td>1650</td>\n",
       "      <td>B</td>\n",
       "    </tr>\n",
       "    <tr>\n",
       "      <th>1</th>\n",
       "      <td>2804400009</td>\n",
       "      <td>3642806036</td>\n",
       "      <td>2019-08-15</td>\n",
       "      <td>730</td>\n",
       "      <td>B</td>\n",
       "    </tr>\n",
       "    <tr>\n",
       "      <th>2</th>\n",
       "      <td>2961555356</td>\n",
       "      <td>4069496402</td>\n",
       "      <td>2019-08-15</td>\n",
       "      <td>400</td>\n",
       "      <td>A</td>\n",
       "    </tr>\n",
       "    <tr>\n",
       "      <th>3</th>\n",
       "      <td>3797467345</td>\n",
       "      <td>1196621759</td>\n",
       "      <td>2019-08-15</td>\n",
       "      <td>9759</td>\n",
       "      <td>B</td>\n",
       "    </tr>\n",
       "    <tr>\n",
       "      <th>4</th>\n",
       "      <td>2282983706</td>\n",
       "      <td>2322279887</td>\n",
       "      <td>2019-08-15</td>\n",
       "      <td>2308</td>\n",
       "      <td>B</td>\n",
       "    </tr>\n",
       "  </tbody>\n",
       "</table>\n",
       "</div>"
      ],
      "text/plain": [
       "   transactionId   visitorId        date  revenue group\n",
       "0     3667963787  3312258926  2019-08-15     1650     B\n",
       "1     2804400009  3642806036  2019-08-15      730     B\n",
       "2     2961555356  4069496402  2019-08-15      400     A\n",
       "3     3797467345  1196621759  2019-08-15     9759     B\n",
       "4     2282983706  2322279887  2019-08-15     2308     B"
      ]
     },
     "execution_count": 7,
     "metadata": {},
     "output_type": "execute_result"
    }
   ],
   "source": [
    "# просмотр первых строк таблицы\n",
    "\n",
    "orders.head()"
   ]
  },
  {
   "cell_type": "code",
   "execution_count": 8,
   "metadata": {},
   "outputs": [
    {
     "name": "stdout",
     "output_type": "stream",
     "text": [
      "<class 'pandas.core.frame.DataFrame'>\n",
      "RangeIndex: 1197 entries, 0 to 1196\n",
      "Data columns (total 5 columns):\n",
      " #   Column         Non-Null Count  Dtype \n",
      "---  ------         --------------  ----- \n",
      " 0   transactionId  1197 non-null   int64 \n",
      " 1   visitorId      1197 non-null   int64 \n",
      " 2   date           1197 non-null   object\n",
      " 3   revenue        1197 non-null   int64 \n",
      " 4   group          1197 non-null   object\n",
      "dtypes: int64(3), object(2)\n",
      "memory usage: 46.9+ KB\n"
     ]
    }
   ],
   "source": [
    "# ознакомление с общей информацией о таблице\n",
    "\n",
    "orders.info()"
   ]
  },
  {
   "cell_type": "code",
   "execution_count": 9,
   "metadata": {},
   "outputs": [
    {
     "name": "stdout",
     "output_type": "stream",
     "text": [
      "В таблице orders найдено 0 дубликатов и 0 пропусков данных.\n"
     ]
    }
   ],
   "source": [
    "# проверка данных на наличие явных дубликатов и пропусков\n",
    "\n",
    "print(f'В таблице orders найдено {orders.duplicated().sum()} дубликатов и {orders.isna().sum().sum()} пропусков данных.')"
   ]
  },
  {
   "cell_type": "markdown",
   "metadata": {},
   "source": [
    "Таблица `orders` состоит из 1197 строк и 5 столбцов и содержит данные, позволяющие оценить изменения различных показателей после проведения A/B-теста.\n",
    "\n",
    "Пропусков данных и явных дубликатов в таблице нет. Выполним следующее:\n",
    "1. Приведем данные в столбце `date` к типу `datetime`\n",
    "2. Названия столбцов переведем из camelCase в более привычный snake_case (также для удобства восприятия кода)"
   ]
  },
  {
   "cell_type": "code",
   "execution_count": 10,
   "metadata": {},
   "outputs": [],
   "source": [
    "orders['date'] = pd.to_datetime(orders['date'])\n",
    "orders.columns = [orders.columns[i].replace(orders.columns[i],\n",
    "                  re.sub(r'(?<!^)(?=[A-Z])', '_',\n",
    "                  orders.columns[i]).lower())\n",
    "                  for i in range(len(orders.columns))]"
   ]
  },
  {
   "cell_type": "code",
   "execution_count": 11,
   "metadata": {},
   "outputs": [
    {
     "name": "stdout",
     "output_type": "stream",
     "text": [
      "2019-08-01 00:00:00\n",
      "2019-08-31 00:00:00\n"
     ]
    }
   ],
   "source": [
    "# определим временные границы представленных данных\n",
    "\n",
    "print(orders['date'].min())\n",
    "print(orders['date'].max())"
   ]
  },
  {
   "cell_type": "markdown",
   "metadata": {},
   "source": [
    "Итак, таблица `orders` содержит данные о 1197 заказах, сдеданных в период с 1 по 31 августа 2019 года."
   ]
  },
  {
   "cell_type": "markdown",
   "metadata": {},
   "source": [
    "### Таблица `visitors`"
   ]
  },
  {
   "cell_type": "code",
   "execution_count": 12,
   "metadata": {},
   "outputs": [
    {
     "data": {
      "text/html": [
       "<div>\n",
       "<style scoped>\n",
       "    .dataframe tbody tr th:only-of-type {\n",
       "        vertical-align: middle;\n",
       "    }\n",
       "\n",
       "    .dataframe tbody tr th {\n",
       "        vertical-align: top;\n",
       "    }\n",
       "\n",
       "    .dataframe thead th {\n",
       "        text-align: right;\n",
       "    }\n",
       "</style>\n",
       "<table border=\"1\" class=\"dataframe\">\n",
       "  <thead>\n",
       "    <tr style=\"text-align: right;\">\n",
       "      <th></th>\n",
       "      <th>date</th>\n",
       "      <th>group</th>\n",
       "      <th>visitors</th>\n",
       "    </tr>\n",
       "  </thead>\n",
       "  <tbody>\n",
       "    <tr>\n",
       "      <th>0</th>\n",
       "      <td>2019-08-01</td>\n",
       "      <td>A</td>\n",
       "      <td>719</td>\n",
       "    </tr>\n",
       "    <tr>\n",
       "      <th>1</th>\n",
       "      <td>2019-08-02</td>\n",
       "      <td>A</td>\n",
       "      <td>619</td>\n",
       "    </tr>\n",
       "    <tr>\n",
       "      <th>2</th>\n",
       "      <td>2019-08-03</td>\n",
       "      <td>A</td>\n",
       "      <td>507</td>\n",
       "    </tr>\n",
       "    <tr>\n",
       "      <th>3</th>\n",
       "      <td>2019-08-04</td>\n",
       "      <td>A</td>\n",
       "      <td>717</td>\n",
       "    </tr>\n",
       "    <tr>\n",
       "      <th>4</th>\n",
       "      <td>2019-08-05</td>\n",
       "      <td>A</td>\n",
       "      <td>756</td>\n",
       "    </tr>\n",
       "  </tbody>\n",
       "</table>\n",
       "</div>"
      ],
      "text/plain": [
       "         date group  visitors\n",
       "0  2019-08-01     A       719\n",
       "1  2019-08-02     A       619\n",
       "2  2019-08-03     A       507\n",
       "3  2019-08-04     A       717\n",
       "4  2019-08-05     A       756"
      ]
     },
     "execution_count": 12,
     "metadata": {},
     "output_type": "execute_result"
    }
   ],
   "source": [
    "# просмотр первых строк таблицы\n",
    "\n",
    "visitors.head()"
   ]
  },
  {
   "cell_type": "code",
   "execution_count": 13,
   "metadata": {},
   "outputs": [
    {
     "name": "stdout",
     "output_type": "stream",
     "text": [
      "<class 'pandas.core.frame.DataFrame'>\n",
      "RangeIndex: 62 entries, 0 to 61\n",
      "Data columns (total 3 columns):\n",
      " #   Column    Non-Null Count  Dtype \n",
      "---  ------    --------------  ----- \n",
      " 0   date      62 non-null     object\n",
      " 1   group     62 non-null     object\n",
      " 2   visitors  62 non-null     int64 \n",
      "dtypes: int64(1), object(2)\n",
      "memory usage: 1.6+ KB\n"
     ]
    }
   ],
   "source": [
    "# ознакомление с общей информацией о таблице\n",
    "\n",
    "visitors.info()"
   ]
  },
  {
   "cell_type": "code",
   "execution_count": 14,
   "metadata": {},
   "outputs": [
    {
     "name": "stdout",
     "output_type": "stream",
     "text": [
      "В таблице visitors найдено 0 дубликатов и 0 пропусков данных.\n"
     ]
    }
   ],
   "source": [
    "# проверка данных на наличие явных дубликатов и пропусков\n",
    "\n",
    "print(f'В таблице visitors найдено {visitors.duplicated().sum()} дубликатов и {visitors.isna().sum().sum()} пропусков данных.')"
   ]
  },
  {
   "cell_type": "markdown",
   "metadata": {},
   "source": [
    "Таблица `visitors` состоит из 62 строк и 3 столбцов и содержит данные, позволяющие оценить изменения различных показателей после проведения A/B-теста.\n",
    "\n",
    "Пропусков данных и явных дубликатов в таблице нет. Выполним следующее:\n",
    "1. Приведем данные в столбце `date` к типу `datetime`"
   ]
  },
  {
   "cell_type": "code",
   "execution_count": 15,
   "metadata": {},
   "outputs": [],
   "source": [
    "visitors['date'] = pd.to_datetime(visitors['date'])"
   ]
  },
  {
   "cell_type": "code",
   "execution_count": 16,
   "metadata": {},
   "outputs": [
    {
     "name": "stdout",
     "output_type": "stream",
     "text": [
      "2019-08-01 00:00:00\n",
      "2019-08-31 00:00:00\n"
     ]
    }
   ],
   "source": [
    "# определим временные границы представленных данных\n",
    "\n",
    "print(visitors['date'].min())\n",
    "print(visitors['date'].max())"
   ]
  },
  {
   "cell_type": "markdown",
   "metadata": {},
   "source": [
    "В таблице `visitors` содержится информация о количестве посетителей интернет-магазина в период с 1 по 31 августа 2019 года. Временные границы в двух таблицах совпадают (данные выгружены верно)."
   ]
  },
  {
   "cell_type": "markdown",
   "metadata": {},
   "source": [
    "## Приоритизация гипотез\n",
    "\n",
    "Нам предоставлены данные о 9 гипотезах, из которых необходимо выбрать наиболее приоритетные. Будем использовать методы ICE и RICE.\n",
    "\n",
    "В обоих методах для расчета приоритета используются оценки параметров *Impact* (степень влияния внедряемого изменения на пользователя), *Confidence* (степень уверенности в том, что изменение повлияет именно таким образом, каким требуется) и *Efforts* (затраты на тестирование гипотезы). В методе RICE дополнительно рассматривают параметр *Reach* (охват пользователей). Приоритет рассчитывается по формулам:\n",
    "\n",
    "ICE = Impact * Condindence / Efforts\n",
    "\n",
    "RICE = Reach * Impact * Condindence / Efforts\n",
    "\n",
    "Рассчитаем приоритет обоими методами."
   ]
  },
  {
   "cell_type": "markdown",
   "metadata": {},
   "source": [
    "### Приоритизация гипотез методом ICE"
   ]
  },
  {
   "cell_type": "code",
   "execution_count": 17,
   "metadata": {},
   "outputs": [
    {
     "data": {
      "text/html": [
       "<div>\n",
       "<style scoped>\n",
       "    .dataframe tbody tr th:only-of-type {\n",
       "        vertical-align: middle;\n",
       "    }\n",
       "\n",
       "    .dataframe tbody tr th {\n",
       "        vertical-align: top;\n",
       "    }\n",
       "\n",
       "    .dataframe thead th {\n",
       "        text-align: right;\n",
       "    }\n",
       "</style>\n",
       "<table border=\"1\" class=\"dataframe\">\n",
       "  <thead>\n",
       "    <tr style=\"text-align: right;\">\n",
       "      <th></th>\n",
       "      <th>hypothesis</th>\n",
       "      <th>ICE</th>\n",
       "    </tr>\n",
       "  </thead>\n",
       "  <tbody>\n",
       "    <tr>\n",
       "      <th>8</th>\n",
       "      <td>Запустить акцию, дающую скидку на товар в день рождения</td>\n",
       "      <td>16.20</td>\n",
       "    </tr>\n",
       "    <tr>\n",
       "      <th>0</th>\n",
       "      <td>Добавить два новых канала привлечения трафика, что позволит привлекать на 30% больше пользователей</td>\n",
       "      <td>13.33</td>\n",
       "    </tr>\n",
       "    <tr>\n",
       "      <th>7</th>\n",
       "      <td>Добавить форму подписки на все основные страницы, чтобы собрать базу клиентов для email-рассылок</td>\n",
       "      <td>11.20</td>\n",
       "    </tr>\n",
       "    <tr>\n",
       "      <th>6</th>\n",
       "      <td>Показать на главной странице баннеры с актуальными акциями и распродажами, чтобы увеличить конверсию</td>\n",
       "      <td>8.00</td>\n",
       "    </tr>\n",
       "    <tr>\n",
       "      <th>2</th>\n",
       "      <td>Добавить блоки рекомендаций товаров на сайт интернет магазина, чтобы повысить конверсию и средний чек заказа</td>\n",
       "      <td>7.00</td>\n",
       "    </tr>\n",
       "    <tr>\n",
       "      <th>1</th>\n",
       "      <td>Запустить собственную службу доставки, что сократит срок доставки заказов</td>\n",
       "      <td>2.00</td>\n",
       "    </tr>\n",
       "    <tr>\n",
       "      <th>5</th>\n",
       "      <td>Добавить страницу отзывов клиентов о магазине, что позволит увеличить количество заказов</td>\n",
       "      <td>1.33</td>\n",
       "    </tr>\n",
       "    <tr>\n",
       "      <th>3</th>\n",
       "      <td>Изменить структура категорий, что увеличит конверсию, т.к. пользователи быстрее найдут нужный товар</td>\n",
       "      <td>1.12</td>\n",
       "    </tr>\n",
       "    <tr>\n",
       "      <th>4</th>\n",
       "      <td>Изменить цвет фона главной страницы, чтобы увеличить вовлеченность пользователей</td>\n",
       "      <td>1.00</td>\n",
       "    </tr>\n",
       "  </tbody>\n",
       "</table>\n",
       "</div>"
      ],
      "text/plain": [
       "                                                                                                     hypothesis  \\\n",
       "8                                                       Запустить акцию, дающую скидку на товар в день рождения   \n",
       "0            Добавить два новых канала привлечения трафика, что позволит привлекать на 30% больше пользователей   \n",
       "7              Добавить форму подписки на все основные страницы, чтобы собрать базу клиентов для email-рассылок   \n",
       "6          Показать на главной странице баннеры с актуальными акциями и распродажами, чтобы увеличить конверсию   \n",
       "2  Добавить блоки рекомендаций товаров на сайт интернет магазина, чтобы повысить конверсию и средний чек заказа   \n",
       "1                                     Запустить собственную службу доставки, что сократит срок доставки заказов   \n",
       "5                      Добавить страницу отзывов клиентов о магазине, что позволит увеличить количество заказов   \n",
       "3           Изменить структура категорий, что увеличит конверсию, т.к. пользователи быстрее найдут нужный товар   \n",
       "4                              Изменить цвет фона главной страницы, чтобы увеличить вовлеченность пользователей   \n",
       "\n",
       "     ICE  \n",
       "8  16.20  \n",
       "0  13.33  \n",
       "7  11.20  \n",
       "6   8.00  \n",
       "2   7.00  \n",
       "1   2.00  \n",
       "5   1.33  \n",
       "3   1.12  \n",
       "4   1.00  "
      ]
     },
     "execution_count": 17,
     "metadata": {},
     "output_type": "execute_result"
    }
   ],
   "source": [
    "hypothesis['ICE'] = round((hypothesis['impact'] * hypothesis['confidence']) / hypothesis['efforts'], 2)\n",
    "\n",
    "hypothesis[['hypothesis', 'ICE']].sort_values(by='ICE', ascending=False)"
   ]
  },
  {
   "cell_type": "markdown",
   "metadata": {},
   "source": [
    "Наиболее приоритетными с точки зрения соотношения параметров \"сила воздействия\", \"уверенность\" и \"затраченные усилия\" являются гипотезы 8, 0 и 7.\n",
    "\n",
    "Проверим теперь, насколько изменится приоритизация гипотез при применении метода RICE вместо ICE."
   ]
  },
  {
   "cell_type": "markdown",
   "metadata": {},
   "source": [
    "### Приоритизация гипотез методом RICE"
   ]
  },
  {
   "cell_type": "code",
   "execution_count": 18,
   "metadata": {},
   "outputs": [
    {
     "data": {
      "text/html": [
       "<div>\n",
       "<style scoped>\n",
       "    .dataframe tbody tr th:only-of-type {\n",
       "        vertical-align: middle;\n",
       "    }\n",
       "\n",
       "    .dataframe tbody tr th {\n",
       "        vertical-align: top;\n",
       "    }\n",
       "\n",
       "    .dataframe thead th {\n",
       "        text-align: right;\n",
       "    }\n",
       "</style>\n",
       "<table border=\"1\" class=\"dataframe\">\n",
       "  <thead>\n",
       "    <tr style=\"text-align: right;\">\n",
       "      <th></th>\n",
       "      <th>hypothesis</th>\n",
       "      <th>RICE</th>\n",
       "    </tr>\n",
       "  </thead>\n",
       "  <tbody>\n",
       "    <tr>\n",
       "      <th>7</th>\n",
       "      <td>Добавить форму подписки на все основные страницы, чтобы собрать базу клиентов для email-рассылок</td>\n",
       "      <td>112.0</td>\n",
       "    </tr>\n",
       "    <tr>\n",
       "      <th>2</th>\n",
       "      <td>Добавить блоки рекомендаций товаров на сайт интернет магазина, чтобы повысить конверсию и средний чек заказа</td>\n",
       "      <td>56.0</td>\n",
       "    </tr>\n",
       "    <tr>\n",
       "      <th>0</th>\n",
       "      <td>Добавить два новых канала привлечения трафика, что позволит привлекать на 30% больше пользователей</td>\n",
       "      <td>40.0</td>\n",
       "    </tr>\n",
       "    <tr>\n",
       "      <th>6</th>\n",
       "      <td>Показать на главной странице баннеры с актуальными акциями и распродажами, чтобы увеличить конверсию</td>\n",
       "      <td>40.0</td>\n",
       "    </tr>\n",
       "    <tr>\n",
       "      <th>8</th>\n",
       "      <td>Запустить акцию, дающую скидку на товар в день рождения</td>\n",
       "      <td>16.2</td>\n",
       "    </tr>\n",
       "    <tr>\n",
       "      <th>3</th>\n",
       "      <td>Изменить структура категорий, что увеличит конверсию, т.к. пользователи быстрее найдут нужный товар</td>\n",
       "      <td>9.0</td>\n",
       "    </tr>\n",
       "    <tr>\n",
       "      <th>1</th>\n",
       "      <td>Запустить собственную службу доставки, что сократит срок доставки заказов</td>\n",
       "      <td>4.0</td>\n",
       "    </tr>\n",
       "    <tr>\n",
       "      <th>5</th>\n",
       "      <td>Добавить страницу отзывов клиентов о магазине, что позволит увеличить количество заказов</td>\n",
       "      <td>4.0</td>\n",
       "    </tr>\n",
       "    <tr>\n",
       "      <th>4</th>\n",
       "      <td>Изменить цвет фона главной страницы, чтобы увеличить вовлеченность пользователей</td>\n",
       "      <td>3.0</td>\n",
       "    </tr>\n",
       "  </tbody>\n",
       "</table>\n",
       "</div>"
      ],
      "text/plain": [
       "                                                                                                     hypothesis  \\\n",
       "7              Добавить форму подписки на все основные страницы, чтобы собрать базу клиентов для email-рассылок   \n",
       "2  Добавить блоки рекомендаций товаров на сайт интернет магазина, чтобы повысить конверсию и средний чек заказа   \n",
       "0            Добавить два новых канала привлечения трафика, что позволит привлекать на 30% больше пользователей   \n",
       "6          Показать на главной странице баннеры с актуальными акциями и распродажами, чтобы увеличить конверсию   \n",
       "8                                                       Запустить акцию, дающую скидку на товар в день рождения   \n",
       "3           Изменить структура категорий, что увеличит конверсию, т.к. пользователи быстрее найдут нужный товар   \n",
       "1                                     Запустить собственную службу доставки, что сократит срок доставки заказов   \n",
       "5                      Добавить страницу отзывов клиентов о магазине, что позволит увеличить количество заказов   \n",
       "4                              Изменить цвет фона главной страницы, чтобы увеличить вовлеченность пользователей   \n",
       "\n",
       "    RICE  \n",
       "7  112.0  \n",
       "2   56.0  \n",
       "0   40.0  \n",
       "6   40.0  \n",
       "8   16.2  \n",
       "3    9.0  \n",
       "1    4.0  \n",
       "5    4.0  \n",
       "4    3.0  "
      ]
     },
     "execution_count": 18,
     "metadata": {},
     "output_type": "execute_result"
    }
   ],
   "source": [
    "hypothesis['RICE'] = round((hypothesis['reach'] * hypothesis['impact'] * hypothesis['confidence']) / hypothesis['efforts'], 2)\n",
    "\n",
    "hypothesis[['hypothesis', 'RICE']].sort_values(by='RICE', ascending=False)"
   ]
  },
  {
   "cell_type": "markdown",
   "metadata": {},
   "source": [
    "Учет параметра \"охват\" дает несколько иную картину. Наиболее приоритетными гипотезами становятся гипотезы 7, 2, 0 и 6.\n",
    "\n",
    "Действительно, изменение, предлагаемое в наиболее приоритетной в первом случае гипотезе 8, при всей его ожидаемой высокой эффективности охватит лишь небольшую часть пользователей.\n",
    "\n",
    "Рассмотрим гипотезы 7 и 0. Их оценки методом ICE достаточно близки (11,2 и 13,3 балла соответственно). При этом оценка гипотезы 7 методом RICE почти в 3 раза выше, чем оценка гипотезы ), т.е. изменение, описанное в гипотезе 7, охватит гораздо больше пользователей.\n",
    "\n",
    "Отдельно также отметим аутсайдера - гипотезу 4, которая в обоих случаях набрала наименьшее количество баллов. Это тоже полезная информация, так как любой человек, у которого возникнет описанная в гипотезе идея, сразу же сможет убедиться в ее бесперспективности."
   ]
  },
  {
   "cell_type": "markdown",
   "metadata": {},
   "source": [
    "### Вывод\n",
    "\n",
    "По итогам проведения оценки методами ICE и RICE наиболее приоритетной для проверки гипотезой предлагется выбрать гипотезу 7 - \"*Добавить форму подписки на все основные страницы, чтобы собрать базу клиентов для email-рассылок*\". Также можно рекомендовать для проверки гипотезу 0 - \"*Добавить два новых канала привлечения трафика, что позволит привлекать на 30% больше пользователей*\"."
   ]
  },
  {
   "cell_type": "markdown",
   "metadata": {},
   "source": [
    "## Анализ A/B-теста\n",
    "\n",
    "В таблицах `orders` и `visitors` содержатся данные, собранные по итогам A/B-теста, который проводился в течение 31 дня  период с 1 по 31 августа 2019 года. Тест парный: посетители интернет-магазина поделены на две группы, А (изменение не внедрялось) и В (изменение внедрялось).\n",
    "\n",
    "Перед проведением анализа результата изучим состав групп."
   ]
  },
  {
   "cell_type": "code",
   "execution_count": 19,
   "metadata": {},
   "outputs": [
    {
     "name": "stdout",
     "output_type": "stream",
     "text": [
      "Общее количество посетителей интернет магазина: 37652\n",
      "Посетителей из группы A: 18736. Их доля от общего количества посетителей: 49.76%\n",
      "Посетителей из группы B: 18916. Их доля от общего количества посетителей: 50.24%\n",
      "\n",
      "Общее количество уникальных покупателей: 1031\n",
      "Уникальных покупателей из группы А: 503. Их доля от общего количества уникальных покупателей: 48.79%\n",
      "Уникальных покупателей из группы B: 586. Их доля от общего количества уникальных покупателей: 56.84%\n",
      "Сумма уникальных покупателей в обеих групп: 1089\n"
     ]
    }
   ],
   "source": [
    "# посчитаем общее количество посетителей интернет-магазина\n",
    "total_visitors = visitors['visitors'].sum()\n",
    "\n",
    "# посчитаем количество посетителей в каждой группе\n",
    "avisitors = visitors[visitors['group'] == 'A']['visitors'].sum()\n",
    "bvisitors = visitors[visitors['group'] == 'B']['visitors'].sum()\n",
    "\n",
    "print(f'Общее количество посетителей интернет магазина: {total_visitors}')\n",
    "print(f'Посетителей из группы A: {avisitors}. Их доля от общего количества посетителей: {round(100 * avisitors/total_visitors, 2)}%')\n",
    "print(f'Посетителей из группы B: {bvisitors}. Их доля от общего количества посетителей: {round(100 * bvisitors/total_visitors, 2)}%')\n",
    "print()\n",
    "\n",
    "# посчитаем общее количество уникальных покупателей\n",
    "total_unique_buyers = orders['visitor_id'].nunique()\n",
    "\n",
    "# посчитаем количество уникальных покупателей в каждой группе\n",
    "abuyers = orders[orders[\"group\"] == 'A']['visitor_id'].nunique()\n",
    "bbuyers = orders[orders[\"group\"] == 'B']['visitor_id'].nunique()\n",
    "\n",
    "print(f'Общее количество уникальных покупателей: {total_unique_buyers}')\n",
    "print(f'Уникальных покупателей из группы А: {abuyers}. Их доля от общего количества уникальных покупателей: {round(100 * abuyers/total_unique_buyers, 2)}%')\n",
    "print(f'Уникальных покупателей из группы B: {bbuyers}. Их доля от общего количества уникальных покупателей: {round(100 * bbuyers/total_unique_buyers, 2)}%')\n",
    "print(f'Сумма уникальных покупателей в обеих групп: {abuyers + bbuyers}')"
   ]
  },
  {
   "cell_type": "markdown",
   "metadata": {},
   "source": [
    "Посетители поделены не строго пополам, но количество в обеих группах приближено к 50% от общего количества посетителей. \n",
    "\n",
    "Количество уникальных покупателей в разных группах менее сбалансировано. Кроме того, общее количество уникальных покупателей в таблице меньше суммы количеств уникальных покупателей в разбивке по группам. Это означает, что какие-то покупатели попали в обе группы. Посчитаем долю таких покупателей от общего количества. "
   ]
  },
  {
   "cell_type": "code",
   "execution_count": 20,
   "metadata": {},
   "outputs": [
    {
     "data": {
      "text/plain": [
       "0.05625606207565471"
      ]
     },
     "execution_count": 20,
     "metadata": {},
     "output_type": "execute_result"
    }
   ],
   "source": [
    "((abuyers + bbuyers) - total_unique_buyers) / total_unique_buyers"
   ]
  },
  {
   "cell_type": "markdown",
   "metadata": {},
   "source": [
    "Доля повторных покупателей - 5,6% от общего количества уникальных покупателей. \n",
    "\n",
    "Так как таблица `orders` не содержит данных о всех посещениях интернет-магазина, а в таблице `visitors` не указаны id посетителей, вычленить конкретные сессии повторных покупателей (а значит, очистить от них таблицу `visitors`) мы не может. Доля таких покупателей от общего количества невысока, поэтому факт их наличия мы зафиксируем, но удалять не будем."
   ]
  },
  {
   "cell_type": "markdown",
   "metadata": {},
   "source": [
    "### Составление таблицы с кумулятивными данными\n",
    "Для исключения проблемы подсматривания при анализе результатов А/В-теста мы будем рассматривать графики кумулятивных данных. Для этого построим таблицу с кумулятивными данными о заказах и посетителях."
   ]
  },
  {
   "cell_type": "code",
   "execution_count": 21,
   "metadata": {},
   "outputs": [
    {
     "data": {
      "text/html": [
       "<div>\n",
       "<style scoped>\n",
       "    .dataframe tbody tr th:only-of-type {\n",
       "        vertical-align: middle;\n",
       "    }\n",
       "\n",
       "    .dataframe tbody tr th {\n",
       "        vertical-align: top;\n",
       "    }\n",
       "\n",
       "    .dataframe thead th {\n",
       "        text-align: right;\n",
       "    }\n",
       "</style>\n",
       "<table border=\"1\" class=\"dataframe\">\n",
       "  <thead>\n",
       "    <tr style=\"text-align: right;\">\n",
       "      <th></th>\n",
       "      <th>date</th>\n",
       "      <th>group</th>\n",
       "      <th>orders</th>\n",
       "      <th>buyers</th>\n",
       "      <th>revenue</th>\n",
       "      <th>visitors</th>\n",
       "    </tr>\n",
       "  </thead>\n",
       "  <tbody>\n",
       "    <tr>\n",
       "      <th>0</th>\n",
       "      <td>2019-08-01</td>\n",
       "      <td>A</td>\n",
       "      <td>24</td>\n",
       "      <td>20</td>\n",
       "      <td>148579</td>\n",
       "      <td>719</td>\n",
       "    </tr>\n",
       "    <tr>\n",
       "      <th>1</th>\n",
       "      <td>2019-08-01</td>\n",
       "      <td>B</td>\n",
       "      <td>21</td>\n",
       "      <td>20</td>\n",
       "      <td>101217</td>\n",
       "      <td>713</td>\n",
       "    </tr>\n",
       "    <tr>\n",
       "      <th>2</th>\n",
       "      <td>2019-08-02</td>\n",
       "      <td>A</td>\n",
       "      <td>44</td>\n",
       "      <td>38</td>\n",
       "      <td>242401</td>\n",
       "      <td>1338</td>\n",
       "    </tr>\n",
       "    <tr>\n",
       "      <th>3</th>\n",
       "      <td>2019-08-02</td>\n",
       "      <td>B</td>\n",
       "      <td>45</td>\n",
       "      <td>43</td>\n",
       "      <td>266748</td>\n",
       "      <td>1294</td>\n",
       "    </tr>\n",
       "    <tr>\n",
       "      <th>4</th>\n",
       "      <td>2019-08-03</td>\n",
       "      <td>A</td>\n",
       "      <td>68</td>\n",
       "      <td>62</td>\n",
       "      <td>354874</td>\n",
       "      <td>1845</td>\n",
       "    </tr>\n",
       "  </tbody>\n",
       "</table>\n",
       "</div>"
      ],
      "text/plain": [
       "        date group  orders  buyers  revenue  visitors\n",
       "0 2019-08-01     A      24      20   148579       719\n",
       "1 2019-08-01     B      21      20   101217       713\n",
       "2 2019-08-02     A      44      38   242401      1338\n",
       "3 2019-08-02     B      45      43   266748      1294\n",
       "4 2019-08-03     A      68      62   354874      1845"
      ]
     },
     "execution_count": 21,
     "metadata": {},
     "output_type": "execute_result"
    }
   ],
   "source": [
    "# создаем массив уникальных пар значений дат и групп теста\n",
    "dates_groups = orders[['date','group']].drop_duplicates()\n",
    "\n",
    "# получаем агрегированные кумулятивные по дням данные о заказах \n",
    "orders_aggregated = dates_groups.apply(lambda x: orders[np.logical_and(orders['date'] <= x['date'], orders['group'] == x['group'])].agg({'date' : 'max', 'group' : 'max', 'transaction_id' : 'nunique', 'visitor_id' : 'nunique', 'revenue' : 'sum'}), axis=1).sort_values(by=['date','group'])\n",
    "\n",
    "# получаем агрегированные кумулятивные по дням данные о посетителях интернет-магазина \n",
    "visitors_aggregated = dates_groups.apply(lambda x: visitors[np.logical_and(visitors['date'] <= x['date'], visitors['group'] == x['group'])].agg({'date' : 'max', 'group' : 'max', 'visitors' : 'sum'}), axis=1).sort_values(by=['date','group'])\n",
    "\n",
    "# объединяем кумулятивные данные в одной таблице и присваиваем ее столбцам понятные названия\n",
    "cumulative_data = orders_aggregated.merge(visitors_aggregated, left_on=['date', 'group'], right_on=['date', 'group'])\n",
    "cumulative_data.columns = ['date', 'group', 'orders', 'buyers', 'revenue', 'visitors']\n",
    "\n",
    "cumulative_data.head(5)"
   ]
  },
  {
   "cell_type": "markdown",
   "metadata": {},
   "source": [
    "Таким образом, у нас есть таблица, в которой на каждый день для каждой группы тестирования указаны накопленное количество заказов, покупателей, посетителей, а также накопленная сумма заказов. Используем эту таблицу для построения графиков."
   ]
  },
  {
   "cell_type": "markdown",
   "metadata": {},
   "source": [
    "### Построение графика кумулятивной выручки по группам"
   ]
  },
  {
   "cell_type": "code",
   "execution_count": 22,
   "metadata": {},
   "outputs": [
    {
     "data": {
      "image/png": "[encoded data removed]",
      "text/plain": [
       "<Figure size 1000x500 with 1 Axes>"
      ]
     },
     "metadata": {},
     "output_type": "display_data"
    }
   ],
   "source": [
    "# датафрейм с кумулятивным количеством заказов и кумулятивной выручкой по дням в группе А\n",
    "cumulative_revenue_a = cumulative_data[cumulative_data['group']=='A'][['date','revenue', 'orders']]\n",
    "\n",
    "# датафрейм с кумулятивным количеством заказов и кумулятивной выручкой по дням в группе B\n",
    "cumulative_revenue_b = cumulative_data[cumulative_data['group']=='B'][['date','revenue', 'orders']]\n",
    "\n",
    "# задаем размер графика\n",
    "plt.figure(figsize=(10, 5))\n",
    "\n",
    "# строим график выручки группы А\n",
    "plt.plot(cumulative_revenue_a['date'], cumulative_revenue_a['revenue'], label='A')\n",
    "\n",
    "# строим график выручки группы B\n",
    "plt.plot(cumulative_revenue_b['date'], cumulative_revenue_b['revenue'], label='B')\n",
    "\n",
    "plt.title('Кумулятивная выручка по дням и группам A/B-тестирования')\n",
    "plt.xlabel('День')\n",
    "plt.ylabel('Кумулятивная выручка')\n",
    "plt.grid()\n",
    "plt.legend()\n",
    "plt.show()"
   ]
  },
  {
   "cell_type": "markdown",
   "metadata": {},
   "source": [
    "Выручка увеличивается на протяжении всего теста в обеих группах, причем в группе В кумулятивная выручка оказывается выше практически все время. Однако на графиках наблюдаются несколько точек резкого роста (13.08.2019 у группы А и 19.08.2019 у группы В). Вероятно, в эти дни количество заказов было значительно больше обычного либо были заказаны очень дорогие товары. Необходимо будет дополнительно проанализировать влияние выбросов."
   ]
  },
  {
   "cell_type": "markdown",
   "metadata": {},
   "source": [
    "### Построение графика кумулятивного среднего чека по группам\n",
    "\n",
    "Для построения графика среднего чека по группам разделим кумулятивную выручку на кумулятивное число заказов в каждой группе."
   ]
  },
  {
   "cell_type": "code",
   "execution_count": 23,
   "metadata": {},
   "outputs": [
    {
     "data": {
      "image/png": "[encoded data removed]",
      "text/plain": [
       "<Figure size 1000x500 with 1 Axes>"
      ]
     },
     "metadata": {},
     "output_type": "display_data"
    }
   ],
   "source": [
    "# задаем размер графика\n",
    "plt.figure(figsize=(10, 5))\n",
    "\n",
    "# строим график среднего чека группы А\n",
    "plt.plot(cumulative_revenue_a['date'], cumulative_revenue_a['revenue']/cumulative_revenue_a['orders'], label='A')\n",
    "\n",
    "# строим график среднего чека группы В\n",
    "plt.plot(cumulative_revenue_b['date'], cumulative_revenue_b['revenue']/cumulative_revenue_b['orders'], label='B')\n",
    "\n",
    "\n",
    "plt.title('Динамика среднего чека по дням и группам A/B-тестирования')\n",
    "plt.xlabel('День')\n",
    "plt.ylabel('Средний чек')\n",
    "plt.grid()\n",
    "plt.legend()\n",
    "plt.show()"
   ]
  },
  {
   "cell_type": "markdown",
   "metadata": {},
   "source": [
    "Средний чек становится более или менее равномерным ближе к концу теста, причем у группы В размер чека к концу теста снижается. Наблюдался резкий рост 19.08.2019, когда, очевидно, были сделаны очень крупные заказы. В группе А наблюдался пик 13.08.2019 - вероятно, здест так же был сделан аномально дорогой заказ."
   ]
  },
  {
   "cell_type": "markdown",
   "metadata": {},
   "source": [
    "### Построение графика относительного изменения кумулятивного среднего чека группы B к группе A\n",
    "\n",
    "Построим график относительного различия для среднего чека."
   ]
  },
  {
   "cell_type": "code",
   "execution_count": 24,
   "metadata": {},
   "outputs": [
    {
     "data": {
      "image/png": "[encoded data removed]",
      "text/plain": [
       "<Figure size 1000x500 with 1 Axes>"
      ]
     },
     "metadata": {},
     "output_type": "display_data"
    }
   ],
   "source": [
    "# собираем данные в одном датафрейме\n",
    "merged_cumulative_revenue = cumulative_revenue_a.merge(cumulative_revenue_b, left_on='date', right_on='date', how='left', suffixes=['_a', '_b'])\n",
    "\n",
    "# cтроим отношение средних чеков\n",
    "# задаем размер графика\n",
    "plt.figure(figsize=(10, 5))\n",
    "\n",
    "plt.plot(merged_cumulative_revenue['date'], (merged_cumulative_revenue['revenue_b']/merged_cumulative_revenue['orders_b'])/(merged_cumulative_revenue['revenue_a']/merged_cumulative_revenue['orders_a'])-1, label=\"Относительное различие среднего чека группы B относительно группы A\")\n",
    "\n",
    "# добавляем ось X\n",
    "plt.axhline(y=0, color='black', linestyle='--')\n",
    "\n",
    "plt.title('График относительного различия для среднего чека')\n",
    "plt.xlabel('День')\n",
    "plt.ylabel('Относительное различие среднего чека')\n",
    "plt.grid()\n",
    "plt.legend()\n",
    "plt.show()"
   ]
  },
  {
   "cell_type": "markdown",
   "metadata": {},
   "source": [
    "В первые дни теста средний чек в группе В превышал средний чек в группе А, затем произошло несколько скачков (подтверждают наличие аномалий), затем график более или менее выровнялся, причем средний чек в группе В демонстирует постепенное снижение по отношению к среднему чеку в группе А."
   ]
  },
  {
   "cell_type": "markdown",
   "metadata": {},
   "source": [
    "### Построение графика кумулятивного среднего количества заказов на посетителя по группам"
   ]
  },
  {
   "cell_type": "code",
   "execution_count": 25,
   "metadata": {},
   "outputs": [
    {
     "data": {
      "image/png": "[encoded data removed]",
      "text/plain": [
       "<Figure size 1000x500 with 1 Axes>"
      ]
     },
     "metadata": {},
     "output_type": "display_data"
    }
   ],
   "source": [
    "# считаем кумулятивное среднее количество заказов на пользователя\n",
    "cumulative_data['orders_per_visitor'] = cumulative_data['orders']/cumulative_data['visitors']\n",
    "\n",
    "# отделяем данные по группе A\n",
    "cumulative_data_a = cumulative_data[cumulative_data['group']=='A']\n",
    "\n",
    "# отделяем данные по группе B\n",
    "cumulative_data_b = cumulative_data[cumulative_data['group']=='B']\n",
    "\n",
    "# строим графики\n",
    "# задаем размер графика\n",
    "plt.figure(figsize=(10, 5))\n",
    "\n",
    "plt.plot(cumulative_data_a['date'], cumulative_data_a['orders_per_visitor'], label='A')\n",
    "plt.plot(cumulative_data_b['date'], cumulative_data_b['orders_per_visitor'], label='B')\n",
    "plt.legend()\n",
    "\n",
    "plt.title('Кумулятивное среднее количество заказов на пользователя по дням и группам A/B-тестирования')\n",
    "plt.xlabel('День')\n",
    "plt.ylabel('Кумулятивное среднее количество заказов на пользователя')\n",
    "plt.grid()\n",
    "plt.legend()\n",
    "plt.show()"
   ]
  },
  {
   "cell_type": "markdown",
   "metadata": {},
   "source": [
    "В первые дни теста кумулятивное среднее количество заказов на пользователя резко увеличилось в обеих группах, причем это значение в группе А было выше, чем в группе В. Спустя несколько дней среднее количество заказов на пользователя в группе В превысило среднее количество заказов на пользователя в группе А и оставалось выше до окончания теста."
   ]
  },
  {
   "cell_type": "markdown",
   "metadata": {},
   "source": [
    "### Построение графика относительного изменения кумулятивного среднего количества заказов на посетителя группы B к группе A"
   ]
  },
  {
   "cell_type": "code",
   "execution_count": 26,
   "metadata": {},
   "outputs": [
    {
     "data": {
      "image/png": "[encoded data removed]",
      "text/plain": [
       "<Figure size 1000x500 with 1 Axes>"
      ]
     },
     "metadata": {},
     "output_type": "display_data"
    }
   ],
   "source": [
    "# объединеяем данные по обеим группам\n",
    "merged_cumulative_conversions = cumulative_data_a[['date','orders_per_visitor']].merge(cumulative_data_b[['date','orders_per_visitor']], left_on='date', right_on='date', how='left', suffixes=['_a', '_b'])\n",
    "\n",
    "# задаем размер графика\n",
    "plt.figure(figsize=(10, 5))\n",
    "\n",
    "plt.plot(merged_cumulative_conversions['date'], merged_cumulative_conversions['orders_per_visitor_b']/merged_cumulative_conversions['orders_per_visitor_a']-1, label=\"Относительное различие среднего количества заказов на посетителя группы B относительно группы A\")\n",
    "plt.legend()\n",
    "\n",
    "plt.axhline(y=0, color='black', linestyle='--')\n",
    "plt.axhline(y=0.1, color='grey', linestyle='--')\n",
    "\n",
    "plt.title('График относительного изменения кумулятивного среднего количества заказов на посетителя группы В к группе А')\n",
    "plt.xlabel('День')\n",
    "plt.ylabel('Относительное различие')\n",
    "plt.grid()\n",
    "plt.show()\n"
   ]
  },
  {
   "cell_type": "markdown",
   "metadata": {},
   "source": [
    "В начале теста относительный прирост среднего количества заказов на посетителя в группе В относительно группы А возрастал, затем произошел спад, после которого начался рост относительного прироста, сохранившийся до конца теста.\n",
    "\n",
    "На первый взгляд, группа В демонстирует более хорошие показатели, чем группа А. Но для окончательных выводов необходимо обработать аномалии, для чего изучим распределение количества заказов на пользователя и стоимость заказов."
   ]
  },
  {
   "cell_type": "markdown",
   "metadata": {},
   "source": [
    "### Построение графиков количества заказов по пользователям"
   ]
  },
  {
   "cell_type": "code",
   "execution_count": 27,
   "metadata": {},
   "outputs": [
    {
     "data": {
      "text/html": [
       "<div>\n",
       "<style scoped>\n",
       "    .dataframe tbody tr th:only-of-type {\n",
       "        vertical-align: middle;\n",
       "    }\n",
       "\n",
       "    .dataframe tbody tr th {\n",
       "        vertical-align: top;\n",
       "    }\n",
       "\n",
       "    .dataframe thead th {\n",
       "        text-align: right;\n",
       "    }\n",
       "</style>\n",
       "<table border=\"1\" class=\"dataframe\">\n",
       "  <thead>\n",
       "    <tr style=\"text-align: right;\">\n",
       "      <th></th>\n",
       "      <th>visitor_id</th>\n",
       "      <th>orders</th>\n",
       "    </tr>\n",
       "  </thead>\n",
       "  <tbody>\n",
       "    <tr>\n",
       "      <th>1023</th>\n",
       "      <td>4256040402</td>\n",
       "      <td>11</td>\n",
       "    </tr>\n",
       "    <tr>\n",
       "      <th>591</th>\n",
       "      <td>2458001652</td>\n",
       "      <td>11</td>\n",
       "    </tr>\n",
       "    <tr>\n",
       "      <th>569</th>\n",
       "      <td>2378935119</td>\n",
       "      <td>9</td>\n",
       "    </tr>\n",
       "    <tr>\n",
       "      <th>487</th>\n",
       "      <td>2038680547</td>\n",
       "      <td>8</td>\n",
       "    </tr>\n",
       "    <tr>\n",
       "      <th>44</th>\n",
       "      <td>199603092</td>\n",
       "      <td>5</td>\n",
       "    </tr>\n",
       "    <tr>\n",
       "      <th>744</th>\n",
       "      <td>3062433592</td>\n",
       "      <td>5</td>\n",
       "    </tr>\n",
       "    <tr>\n",
       "      <th>55</th>\n",
       "      <td>237748145</td>\n",
       "      <td>5</td>\n",
       "    </tr>\n",
       "    <tr>\n",
       "      <th>917</th>\n",
       "      <td>3803269165</td>\n",
       "      <td>5</td>\n",
       "    </tr>\n",
       "    <tr>\n",
       "      <th>299</th>\n",
       "      <td>1230306981</td>\n",
       "      <td>5</td>\n",
       "    </tr>\n",
       "    <tr>\n",
       "      <th>897</th>\n",
       "      <td>3717692402</td>\n",
       "      <td>5</td>\n",
       "    </tr>\n",
       "  </tbody>\n",
       "</table>\n",
       "</div>"
      ],
      "text/plain": [
       "      visitor_id  orders\n",
       "1023  4256040402      11\n",
       "591   2458001652      11\n",
       "569   2378935119       9\n",
       "487   2038680547       8\n",
       "44     199603092       5\n",
       "744   3062433592       5\n",
       "55     237748145       5\n",
       "917   3803269165       5\n",
       "299   1230306981       5\n",
       "897   3717692402       5"
      ]
     },
     "execution_count": 27,
     "metadata": {},
     "output_type": "execute_result"
    }
   ],
   "source": [
    "# посчитаем количество заказов по пользователям и посмотрим на результат:\n",
    "\n",
    "orders_by_visitors = (orders.groupby('visitor_id', as_index=False).agg({'transaction_id': 'nunique'}))\n",
    "\n",
    "orders_by_visitors.columns = ['visitor_id', 'orders']\n",
    "\n",
    "orders_by_visitors.sort_values(by='orders', ascending=False).head(10)"
   ]
  },
  {
   "cell_type": "markdown",
   "metadata": {},
   "source": [
    "Максимальное количество заказов от одного пользователя 11, но таких пользователей совсем немного. Построим гистограмму распределения количества заказов на одного пользователя."
   ]
  },
  {
   "cell_type": "code",
   "execution_count": 28,
   "metadata": {},
   "outputs": [
    {
     "data": {
      "image/png": "[encoded data removed]",
      "text/plain": [
       "<Figure size 1000x500 with 1 Axes>"
      ]
     },
     "metadata": {},
     "output_type": "display_data"
    }
   ],
   "source": [
    "plt.figure(figsize=(10, 5))\n",
    "plt.hist(orders_by_visitors['orders'])\n",
    "plt.title('Гистограмма распределения количества заказов на одного пользователя')\n",
    "plt.xlabel('Количество заказов на одного пользователя')\n",
    "plt.ylabel('Количество пользователей')\n",
    "plt.grid()\n",
    "plt.show()"
   ]
  },
  {
   "cell_type": "markdown",
   "metadata": {},
   "source": [
    "Большинство пользователей делали 1 заказ, но количество пользователей с 2-5 заказми тоже достаточно велико.\n",
    "\n",
    "Построим точечную диаграмму числа заказов на одного пользователя."
   ]
  },
  {
   "cell_type": "code",
   "execution_count": 29,
   "metadata": {},
   "outputs": [
    {
     "data": {
      "image/png": "[encoded data removed]",
      "text/plain": [
       "<Figure size 1000x500 with 1 Axes>"
      ]
     },
     "metadata": {},
     "output_type": "display_data"
    }
   ],
   "source": [
    "plt.figure(figsize=(10, 5))\n",
    "x_values = pd.Series(range(0,len(orders_by_visitors)))\n",
    "\n",
    "plt.scatter(x_values, orders_by_visitors['orders'])\n",
    "\n",
    "plt.title('График распределения количества заказов на одного пользователя')\n",
    "plt.xlabel('Количество пользователей')\n",
    "plt.ylabel('Количество заказов')\n",
    "plt.grid()\n",
    "plt.show()"
   ]
  },
  {
   "cell_type": "markdown",
   "metadata": {},
   "source": [
    "Как было показано выше, подавляющее большинство посетителей делают 1 заказ, но есть определенное количество пользователей с 2-5 заказами. Посчитаем выборочные перцентили количества заказов, чтобы определить границу аномалий. "
   ]
  },
  {
   "cell_type": "code",
   "execution_count": 30,
   "metadata": {},
   "outputs": [
    {
     "data": {
      "text/plain": [
       "array([1., 2., 4.])"
      ]
     },
     "execution_count": 30,
     "metadata": {},
     "output_type": "execute_result"
    }
   ],
   "source": [
    "np.percentile(orders_by_visitors['orders'], [90, 95, 99])"
   ]
  },
  {
   "cell_type": "markdown",
   "metadata": {},
   "source": [
    "Не более 5% пользователей сделали больше 2 заказов и не более 1% - больше 4. Примем за верхнюю границу отсечения 95 персентиль - пользователей, которые сделали больше 2 заказов."
   ]
  },
  {
   "cell_type": "markdown",
   "metadata": {},
   "source": [
    "### Построение графиков стоимости заказов"
   ]
  },
  {
   "cell_type": "code",
   "execution_count": 31,
   "metadata": {},
   "outputs": [
    {
     "data": {
      "image/png": "[encoded data removed]",
      "text/plain": [
       "<Figure size 1000x500 with 1 Axes>"
      ]
     },
     "metadata": {},
     "output_type": "display_data"
    }
   ],
   "source": [
    "# строим гистограмму распределения стоимости заказов: \n",
    "\n",
    "plt.figure(figsize=(10, 5))\n",
    "plt.ticklabel_format(style='plain')\n",
    "plt.hist(orders['revenue']) \n",
    "\n",
    "plt.title('Гистограмма распределения стоимостей заказов')\n",
    "plt.xlabel('Стоимость заказов')\n",
    "plt.ylabel('Количество пользователей')\n",
    "plt.grid()\n",
    "plt.show()"
   ]
  },
  {
   "cell_type": "markdown",
   "metadata": {},
   "source": [
    "В данных есть ряд заказов с аномально высокой стоимостью. Стоимость большинства заказов находится в пределах 100000.\n",
    "\n",
    "Количество аномальных заказов оценим с помощью точечного графика."
   ]
  },
  {
   "cell_type": "code",
   "execution_count": 32,
   "metadata": {},
   "outputs": [
    {
     "data": {
      "image/png": "[encoded data removed]",
      "text/plain": [
       "<Figure size 1000x500 with 1 Axes>"
      ]
     },
     "metadata": {},
     "output_type": "display_data"
    }
   ],
   "source": [
    "plt.figure(figsize=(10, 5))\n",
    "plt.ticklabel_format(style='plain')\n",
    "x_values = pd.Series(range(0,len(orders['revenue'])))\n",
    "plt.scatter(x_values, orders['revenue'])\n",
    "plt.title('График распределения стоимостей заказов')\n",
    "plt.xlabel('Количество пользователей')\n",
    "plt.ylabel('Стоимость заказов')\n",
    "\n",
    "plt.show()"
   ]
  },
  {
   "cell_type": "markdown",
   "metadata": {},
   "source": [
    "На графике мы видим два выбивающихся заказа дороже 200000. Посмотрим, когда они были сделаны."
   ]
  },
  {
   "cell_type": "code",
   "execution_count": 33,
   "metadata": {},
   "outputs": [
    {
     "data": {
      "text/html": [
       "<div>\n",
       "<style scoped>\n",
       "    .dataframe tbody tr th:only-of-type {\n",
       "        vertical-align: middle;\n",
       "    }\n",
       "\n",
       "    .dataframe tbody tr th {\n",
       "        vertical-align: top;\n",
       "    }\n",
       "\n",
       "    .dataframe thead th {\n",
       "        text-align: right;\n",
       "    }\n",
       "</style>\n",
       "<table border=\"1\" class=\"dataframe\">\n",
       "  <thead>\n",
       "    <tr style=\"text-align: right;\">\n",
       "      <th></th>\n",
       "      <th>transaction_id</th>\n",
       "      <th>visitor_id</th>\n",
       "      <th>date</th>\n",
       "      <th>revenue</th>\n",
       "      <th>group</th>\n",
       "    </tr>\n",
       "  </thead>\n",
       "  <tbody>\n",
       "    <tr>\n",
       "      <th>425</th>\n",
       "      <td>590470918</td>\n",
       "      <td>1920142716</td>\n",
       "      <td>2019-08-19</td>\n",
       "      <td>1294500</td>\n",
       "      <td>B</td>\n",
       "    </tr>\n",
       "    <tr>\n",
       "      <th>1196</th>\n",
       "      <td>3936777065</td>\n",
       "      <td>2108080724</td>\n",
       "      <td>2019-08-15</td>\n",
       "      <td>202740</td>\n",
       "      <td>B</td>\n",
       "    </tr>\n",
       "  </tbody>\n",
       "</table>\n",
       "</div>"
      ],
      "text/plain": [
       "      transaction_id  visitor_id       date  revenue group\n",
       "425        590470918  1920142716 2019-08-19  1294500     B\n",
       "1196      3936777065  2108080724 2019-08-15   202740     B"
      ]
     },
     "execution_count": 33,
     "metadata": {},
     "output_type": "execute_result"
    }
   ],
   "source": [
    "orders[orders['revenue'] > 200000]"
   ]
  },
  {
   "cell_type": "markdown",
   "metadata": {},
   "source": [
    "19.08.2019 - именно в этой точке мы наблюдали резкий рост среднего чека в группе В. Рост также наблюдался и в точке 15.08.2019. Рассмотрим распределение стоимостей заказов без этих значений, а также рассмотрим выборочные перцентили для установления верхнего порога отсечения."
   ]
  },
  {
   "cell_type": "code",
   "execution_count": 34,
   "metadata": {},
   "outputs": [
    {
     "data": {
      "image/png": "[encoded data removed]",
      "text/plain": [
       "<Figure size 1000x500 with 1 Axes>"
      ]
     },
     "metadata": {},
     "output_type": "display_data"
    }
   ],
   "source": [
    "plt.figure(figsize=(10, 5))\n",
    "plt.ticklabel_format(style='plain')\n",
    "x_values = pd.Series(range(0,len(orders[orders['revenue'] < 200000]['revenue'])))\n",
    "plt.scatter(x_values, orders[orders['revenue'] < 200000]['revenue'])\n",
    "plt.title('График распределения стоимостей заказов')\n",
    "plt.xlabel('Количество пользователей')\n",
    "plt.ylabel('Стоимость заказов')\n",
    "\n",
    "plt.show()"
   ]
  },
  {
   "cell_type": "code",
   "execution_count": 35,
   "metadata": {},
   "outputs": [
    {
     "data": {
      "text/plain": [
       "array([18168. , 28000. , 58233.2])"
      ]
     },
     "execution_count": 35,
     "metadata": {},
     "output_type": "execute_result"
    }
   ],
   "source": [
    "np.percentile(orders['revenue'], [90, 95, 99])"
   ]
  },
  {
   "cell_type": "markdown",
   "metadata": {},
   "source": [
    "Не более 5% пользователей совершили покупку дороже 28000 и не более 1% - дороже 58234. Примем за верхнюю границу отсечения 95 персентиль - пользователей, которые сделали заказы дороже 28000."
   ]
  },
  {
   "cell_type": "markdown",
   "metadata": {},
   "source": [
    "### Промежуточный итог\n",
    "\n",
    "Таким образом, мы визуально оценили результаты A/B-теста и предварительно предполагаем, что в группе В показатели лучше, чем в группе А. При этом мы также выяснили, что в данных есть выбросы и определили границу для их определения. Можем приступить к расчету статистической значимости различий в среднем количестве заказов на посетителя и среднем чеке заказа между группами по сырым и очищенным данным."
   ]
  },
  {
   "cell_type": "markdown",
   "metadata": {},
   "source": [
    "### Подготовка данных для расчета статистической значимости различий между группами"
   ]
  },
  {
   "cell_type": "markdown",
   "metadata": {},
   "source": [
    "#### Расчет статистической значимости различий в среднем количестве заказов на посетителя между группами по сырым данным\n",
    "\n",
    "Сформулируем гипотезы.\n",
    "- нулевая гипотеза: различий в среднем количестве заказов на посетителя между группами нет\n",
    "- альтернативная гипотеза: различия в среднем количестве заказов на посетителя между группами есть\n",
    "\n",
    "Создадим переменные `orders_by_users_a` и `orders_by_users_b` со столбцами `'user_id'`, `'orders'`. В них для пользователей, которые заказывали хотя бы 1 раз, укажем число совершённых заказов."
   ]
  },
  {
   "cell_type": "code",
   "execution_count": 36,
   "metadata": {},
   "outputs": [],
   "source": [
    "orders_by_users_a = (orders[orders['group'] == 'A'].groupby('visitor_id', as_index=False).agg({'transaction_id': pd.Series.nunique}))\n",
    "orders_by_users_a.columns = ['visitor_id', 'orders']\n",
    "\n",
    "orders_by_users_b = (orders[orders['group'] == 'B'].groupby('visitor_id', as_index=False).agg({'transaction_id': pd.Series.nunique}))\n",
    "orders_by_users_b.columns = ['visitor_id', 'orders']"
   ]
  },
  {
   "cell_type": "markdown",
   "metadata": {},
   "source": [
    "Объявим переменные `sample_a` и `sample_b` в которых пользователям из разных групп будет соответствовать количество заказов. Тем, кто ничего не заказал, будут соответствовать нули. "
   ]
  },
  {
   "cell_type": "code",
   "execution_count": 37,
   "metadata": {},
   "outputs": [
    {
     "name": "stdout",
     "output_type": "stream",
     "text": [
      "18736 18916\n"
     ]
    }
   ],
   "source": [
    "sample_a = pd.concat([orders_by_users_a['orders'],pd.Series(0, index=np.arange(visitors[visitors['group'] == 'A']['visitors'].sum() - len(orders_by_users_a['orders'])), name='orders')],axis=0)\n",
    "\n",
    "sample_b = pd.concat([orders_by_users_b['orders'],pd.Series(0, index=np.arange(visitors[visitors['group'] == 'B']['visitors'].sum() - len(orders_by_users_b['orders'])), name='orders')],axis=0)\n",
    "\n",
    "print(len(sample_a), len(sample_b))"
   ]
  },
  {
   "cell_type": "markdown",
   "metadata": {},
   "source": [
    "Проверим для начала, насколько нормально распределены данные. Применим критерий Шапиро-Уилка, но оценивать будем не по p-value, а по статистике самого теста (так как в обеих выборках больше 5000 элементов, p-value может отображаться некорректно). Чем ближе статистика к 1, тем более вероятно, что величина распределена нормально."
   ]
  },
  {
   "cell_type": "code",
   "execution_count": 38,
   "metadata": {},
   "outputs": [
    {
     "name": "stdout",
     "output_type": "stream",
     "text": [
      "0.13177603483200073\n",
      "0.1508488655090332\n"
     ]
    },
    {
     "name": "stderr",
     "output_type": "stream",
     "text": [
      "C:\\ProgramData\\anaconda3\\Lib\\site-packages\\scipy\\stats\\_morestats.py:1816: UserWarning: p-value may not be accurate for N > 5000.\n",
      "  warnings.warn(\"p-value may not be accurate for N > 5000.\")\n"
     ]
    }
   ],
   "source": [
    "print(stats.shapiro(sample_a)[0])\n",
    "print(stats.shapiro(sample_b)[0])"
   ]
  },
  {
   "cell_type": "markdown",
   "metadata": {},
   "source": [
    "Статистика далека от 1, распределение данных не является нормальным, поэтому для проверки гипотез будем использовать непараметрический тест Уилкоксона-Манна-Уитни."
   ]
  },
  {
   "cell_type": "code",
   "execution_count": 39,
   "metadata": {},
   "outputs": [
    {
     "name": "stdout",
     "output_type": "stream",
     "text": [
      "Нулевая гипотеза: различий в среднем количестве заказов на посетителя между группами нет\n",
      "Альтернативная гипотеза: различия в среднем количестве заказов на посетителя между группами есть\n",
      "p-значение:  0.016792355056752608\n",
      "Отвергаем нулевую гипотезу: разница в среднем количестве заказов на посетителя между группами статистически значима\n",
      "В группе В среднее количество заказов на посетителя на 13.81% больше, чем в группе А\n"
     ]
    }
   ],
   "source": [
    "# проверяем гипотезу\n",
    "\n",
    "# задаем стандартный уровень статистической значимости\n",
    "alpha = 0.05\n",
    "\n",
    "results = stats.mannwhitneyu(sample_a, sample_b)\n",
    "\n",
    "print('Нулевая гипотеза: различий в среднем количестве заказов на посетителя между группами нет')\n",
    "print('Альтернативная гипотеза: различия в среднем количестве заказов на посетителя между группами есть')\n",
    "print('p-значение: ', results.pvalue)\n",
    "\n",
    "if results.pvalue < alpha:\n",
    "    print('Отвергаем нулевую гипотезу: разница в среднем количестве заказов на посетителя между группами статистически значима')\n",
    "else:\n",
    "    print('Не получилось отвергнуть нулевую гипотезу, вывод о различии среднего количества заказов на посетителя между группами сделать нельзя') \n",
    "\n",
    "# рассчитаем соотношение среднего количества заказов на посетителя в группе В относительно среднего количества заказов на посетителя в группе А   \n",
    "print(f'В группе В среднее количество заказов на посетителя на {round(100*(sample_b.mean() / sample_a.mean() - 1), 2)}% больше, чем в группе А')"
   ]
  },
  {
   "cell_type": "markdown",
   "metadata": {},
   "source": [
    "Таким образом, на заданном уровне статистической значимости (5%) сырые данные показывают наличие статистически значимой разницы между группами.  В группе В в среднем заказов на одного посетителя больше, чем в группе А."
   ]
  },
  {
   "cell_type": "markdown",
   "metadata": {},
   "source": [
    "#### Расчет статистической значимости различий в среднем чеке заказа между группами по сырым данным\n",
    "\n",
    "Сформулируем гипотезы.\n",
    "- нулевая гипотеза: различий в среднем чеке заказа между группами нет\n",
    "- альтернативная гипотеза: различия в среднем чеке заказа между группами есть\n",
    "\n",
    "Для начала также проверим распределение данных. на нормальность."
   ]
  },
  {
   "cell_type": "code",
   "execution_count": 40,
   "metadata": {},
   "outputs": [
    {
     "name": "stdout",
     "output_type": "stream",
     "text": [
      "p-значение:  1.739723833199812e-34\n",
      "Отвергаем нулевую гипотезу: распределение не нормально\n"
     ]
    }
   ],
   "source": [
    "alpha = 0.05\n",
    "\n",
    "results = stats.shapiro(orders[orders['group']=='A']['revenue'])\n",
    "p_value = results[1]\n",
    "\n",
    "print('p-значение: ', p_value)\n",
    "\n",
    "if p_value < alpha:\n",
    "    print('Отвергаем нулевую гипотезу: распределение не нормально')\n",
    "else:\n",
    "    print('Не получилось отвергнуть нулевую гипотезу, распределение нормально') "
   ]
  },
  {
   "cell_type": "code",
   "execution_count": 41,
   "metadata": {},
   "outputs": [
    {
     "name": "stdout",
     "output_type": "stream",
     "text": [
      "p-значение:  0.0\n",
      "Отвергаем нулевую гипотезу: распределение не нормально\n"
     ]
    }
   ],
   "source": [
    "alpha = 0.05\n",
    "\n",
    "results = stats.shapiro(orders[orders['group']=='B']['revenue'])\n",
    "p_value = results[1]\n",
    "\n",
    "print('p-значение: ', p_value)\n",
    "\n",
    "if p_value < alpha:\n",
    "    print('Отвергаем нулевую гипотезу: распределение не нормально')\n",
    "else:\n",
    "    print('Не получилось отвергнуть нулевую гипотезу, распределение нормально') "
   ]
  },
  {
   "cell_type": "markdown",
   "metadata": {},
   "source": [
    "Распределения суммы чеков в группах не являются нормальными, поэтому для проверки гипотезы также используем тест Уилкоксона-Манна-Уитни."
   ]
  },
  {
   "cell_type": "code",
   "execution_count": 42,
   "metadata": {},
   "outputs": [
    {
     "name": "stdout",
     "output_type": "stream",
     "text": [
      "p-значение:  0.7292909855432458\n",
      "Не получилось отвергнуть нулевую гипотезу, вывод о различии среднего чека заказа между группами сделать нельзя\n",
      "В группе В средний чек заказа на 25.87% больше, чем в группе А\n"
     ]
    }
   ],
   "source": [
    "alpha = 0.05\n",
    "\n",
    "a_revenue = orders[orders['group']=='A']['revenue']\n",
    "b_revenue = orders[orders['group']=='B']['revenue']\n",
    "results = stats.mannwhitneyu(a_revenue, b_revenue)\n",
    "\n",
    "print('p-значение: ', results.pvalue)\n",
    "\n",
    "if results.pvalue < alpha:\n",
    "    print('Отвергаем нулевую гипотезу: разница в среднем чеке заказа между группами статистически значима')\n",
    "else:\n",
    "    print('Не получилось отвергнуть нулевую гипотезу, вывод о различии среднего чека заказа между группами сделать нельзя') \n",
    "\n",
    "# рассчитаем соотношение среднего чека заказа в группе В относительно среднего чека заказа в группе А     \n",
    "\n",
    "print(f'В группе В средний чек заказа на {round(100*(b_revenue.mean() / a_revenue.mean() - 1), 2)}% больше, чем в группе А')"
   ]
  },
  {
   "cell_type": "markdown",
   "metadata": {},
   "source": [
    "Несмотря на то, что средний чек заказа значительно выше в группе В, чем в группе А, статистически средние чеки в группах не отличаются. Наиболее вероятно то, что на величину среднего чека в группе В сильно влияют выявленные выбросы."
   ]
  },
  {
   "cell_type": "markdown",
   "metadata": {},
   "source": [
    "#### Выявление аномальных пользователей\n",
    "\n",
    "Границы для отсечения пользователей:\n",
    "- больше 2 заказов\n",
    "- заказы дороже 28000"
   ]
  },
  {
   "cell_type": "code",
   "execution_count": 43,
   "metadata": {},
   "outputs": [],
   "source": [
    "# пользователи с большим количеством заказов\n",
    "many_orders = pd.concat([orders_by_users_a[orders_by_users_a['orders'] > np.percentile(orders_by_visitors['orders'], 95)]['visitor_id'],\n",
    "                         orders_by_users_b[orders_by_users_b['orders'] > np.percentile(orders_by_visitors['orders'], 95)]['visitor_id']], axis=0)\n",
    "                         \n",
    "# пользователи с дорогими заказами\n",
    "expensive_orders = orders[orders['revenue'] > np.percentile(orders['revenue'], 95)]['visitor_id']\n",
    "\n",
    "# объединяем аномальных пользователей\n",
    "abnormal_users = (pd.concat([many_orders, expensive_orders], axis=0).drop_duplicates().sort_values())"
   ]
  },
  {
   "cell_type": "markdown",
   "metadata": {},
   "source": [
    "Посчитаем аномальных пользователей и определим их долю среди общего количества уникальных покупателей, чтобы оценить потери данных после удаления."
   ]
  },
  {
   "cell_type": "code",
   "execution_count": 44,
   "metadata": {},
   "outputs": [
    {
     "name": "stdout",
     "output_type": "stream",
     "text": [
      "Всего аномальных покупателей: 74. Их доля от общего количества уникальных покупателей: 7.18%.\n"
     ]
    }
   ],
   "source": [
    "print(f'Всего аномальных покупателей: {len(abnormal_users)}. Их доля от общего количества уникальных покупателей: {round(100 * len(abnormal_users) / total_unique_buyers, 2)}%.')"
   ]
  },
  {
   "cell_type": "markdown",
   "metadata": {},
   "source": [
    "Потери данных после фильтрации составят 7,18% уникальных покупателей. Отфильтруем данные и проверим гипотезы еще раз, чтобы понять, насколько такие аномальные покупатели влияют на результаты теста."
   ]
  },
  {
   "cell_type": "markdown",
   "metadata": {},
   "source": [
    "#### Очистка данных от аномалий"
   ]
  },
  {
   "cell_type": "code",
   "execution_count": 45,
   "metadata": {},
   "outputs": [],
   "source": [
    "sample_a_filtered = pd.concat(\n",
    "    [\n",
    "        orders_by_users_a[\n",
    "            np.logical_not(orders_by_users_a['visitor_id'].isin(abnormal_users))\n",
    "        ]['orders'],\n",
    "        pd.Series(\n",
    "            0,\n",
    "            index=np.arange(\n",
    "                visitors[visitors['group'] == 'A']['visitors'].sum() - len(orders_by_users_a['orders'])\n",
    "            ),\n",
    "            name='orders',\n",
    "        ),\n",
    "    ],\n",
    "    axis=0,\n",
    ")\n",
    "\n",
    "sample_b_filtered = pd.concat(\n",
    "    [\n",
    "        orders_by_users_b[\n",
    "            np.logical_not(orders_by_users_b['visitor_id'].isin(abnormal_users))\n",
    "        ]['orders'],\n",
    "        pd.Series(\n",
    "            0,\n",
    "            index=np.arange(\n",
    "                visitors[visitors['group'] == 'B']['visitors'].sum() - len(orders_by_users_b['orders'])\n",
    "            ),\n",
    "            name='orders',\n",
    "        ),\n",
    "    ],\n",
    "    axis=0,\n",
    ")"
   ]
  },
  {
   "cell_type": "markdown",
   "metadata": {},
   "source": [
    "#### Расчет статистической значимости различий в среднем количестве заказов на посетителя между группами по очищенным данным"
   ]
  },
  {
   "cell_type": "code",
   "execution_count": 46,
   "metadata": {},
   "outputs": [
    {
     "name": "stdout",
     "output_type": "stream",
     "text": [
      "Нулевая гипотеза: различий в среднем количестве заказов на посетителя между группами нет\n",
      "Альтернативная гипотеза: различия в среднем количестве заказов на посетителя между группами есть\n",
      "p-значение:  0.013042592743036745\n",
      "Отвергаем нулевую гипотезу: разница в среднем количестве заказов на посетителя между группами статистически значима\n",
      "В группе В среднее количество заказов на посетителя на 17.27% больше, чем в группе А\n"
     ]
    }
   ],
   "source": [
    "alpha = 0.05\n",
    "\n",
    "results = stats.mannwhitneyu(sample_a_filtered, sample_b_filtered)\n",
    "\n",
    "print('Нулевая гипотеза: различий в среднем количестве заказов на посетителя между группами нет')\n",
    "print('Альтернативная гипотеза: различия в среднем количестве заказов на посетителя между группами есть')\n",
    "print('p-значение: ', results.pvalue)\n",
    "\n",
    "if results.pvalue < alpha:\n",
    "    print('Отвергаем нулевую гипотезу: разница в среднем количестве заказов на посетителя между группами статистически значима')\n",
    "else:\n",
    "    print('Не получилось отвергнуть нулевую гипотезу, вывод о различии среднего количества заказов на посетителя между группами сделать нельзя') \n",
    "\n",
    "# рассчитаем соотношение среднего количества заказов на посетителя в группе В относительно среднего количества заказов на посетителя в группе А   \n",
    "print(f'В группе В среднее количество заказов на посетителя на {round(100*(sample_b_filtered.mean() / sample_a_filtered.mean() - 1), 2)}% больше, чем в группе А')"
   ]
  },
  {
   "cell_type": "markdown",
   "metadata": {},
   "source": [
    "Как и в случае с сырыми данными, наблюдается статистически значимая разница в среднем количестве заказов на посетителя между группами. Как и ранее, в группе В заказов на посетителя больше, чем в группе А."
   ]
  },
  {
   "cell_type": "markdown",
   "metadata": {},
   "source": [
    "#### Расчет статистической значимости различий в среднем чеке заказа между группами по очищенным данным"
   ]
  },
  {
   "cell_type": "code",
   "execution_count": 47,
   "metadata": {},
   "outputs": [
    {
     "name": "stdout",
     "output_type": "stream",
     "text": [
      "p-значение:  0.738481751314565\n",
      "Не получилось отвергнуть нулевую гипотезу, вывод о различии среднего чека заказа между группами сделать нельзя\n",
      "В группе В средний чек заказа на -1.96% больше, чем в группе А\n"
     ]
    }
   ],
   "source": [
    "alpha = 0.05\n",
    "\n",
    "a_revenue_filtered = orders[np.logical_and(orders['group'] == 'A', np.logical_not(orders['visitor_id'].isin(abnormal_users)))]['revenue']\n",
    "b_revenue_filtered = orders[np.logical_and(orders['group'] == 'B', np.logical_not(orders['visitor_id'].isin(abnormal_users)))]['revenue']\n",
    "\n",
    "results = stats.mannwhitneyu(a_revenue_filtered, b_revenue_filtered)\n",
    "\n",
    "print('p-значение: ', results.pvalue)\n",
    "\n",
    "if results.pvalue < alpha:\n",
    "    print('Отвергаем нулевую гипотезу: разница в среднем чеке заказа между группами статистически значима')\n",
    "else:\n",
    "    print('Не получилось отвергнуть нулевую гипотезу, вывод о различии среднего чека заказа между группами сделать нельзя') \n",
    "\n",
    "# рассчитаем соотношение среднего чека заказа в группе В относительно среднего чека заказа в группе А     \n",
    "\n",
    "print(f'В группе В средний чек заказа на {round(100*(b_revenue_filtered.mean() / a_revenue_filtered.mean() - 1), 2)}% больше, чем в группе А')"
   ]
  },
  {
   "cell_type": "markdown",
   "metadata": {},
   "source": [
    "На очищенных данных тест также не выявил статистически значимых различий в средних чеках между группами. А вот соотношение после удаления аномальных пользователей изменилось - средний чек в группе В чуть ниже, чем в группе А."
   ]
  },
  {
   "cell_type": "markdown",
   "metadata": {},
   "source": [
    "## Вывод\n",
    "\n",
    "### Общее описание проекта\n",
    "Для анализа были предоставлены данные о 9 гипотезах (таблица `hypothesis`), а также результаты A/B-теста, проводимого в период с 1 по 31 августа 2019 года, в виде таблиц с данными о заказах и посетителях интернет-магазина (таблицы `orders` и `visitors`). Необходимо было провести приоритизацию гипотез и проанализировать результаты теста, чтобы принять решение о его продолжении и успехе.\n",
    "\n",
    "### Предобработка данных\n",
    "Дубликаты и пропуски в таблицах отсутствовали. Была выполнена проверка соответствия дат в таблицах с заказами и посетителями (даты совпадают). Столбы `date` в таблицах `orders` и `visitors` приведены к типу `datetime`.\n",
    "\n",
    "### Приоритизация гипотез\n",
    "Данные в таблице `hypothesis` позволяли провести приоритизацию гипотез методами ICE и RICE. По итогам оценки методом ICE были выявлены три наиболее приоритетные гипотезы (по уменьшению приоритета):\n",
    "- гипотеза 8: Запустить акцию, дающую скидку на товар в день рождения\n",
    "- гипотеза 0: Добавить два новых канала привлечения трафика, что позволит привлекать на 30% больше пользователей\n",
    "- гипотеза 7: Добавить форму подписки на все основные страницы, чтобы собрать базу клиентов для email-рассылок\n",
    "\n",
    "Однако использование метода RICE показало другой результат (по уменьшению приоритета):\n",
    "- гипотеза 7: Добавить форму подписки на все основные страницы, чтобы собрать базу клиентов для email-рассылок\n",
    "- гипотеза 2: Добавить блоки рекомендаций товаров на сайт интернет магазина, чтобы повысить конверсию и средний чек заказа\n",
    "- гипотеза 0: Добавить два новых канала привлечения трафика, что позволит привлекать на 30% больше пользователей\n",
    "- гипотеза 6: Показать на главной странице баннеры с актуальными акциями и распродажами, чтобы увеличить конверсию\n",
    "\n",
    "Наиболее перспективная в первом случае гипотеза 8 проигрывает по потенциальному охвату аудитории другим гипотезам. Для проверки рекомендуется выбрать гипотезы 7 и 0.\n",
    "\n",
    "### Анализ A/B-теста\n",
    "#### Проверка правильности проведения A/B-теста\n",
    "Была проведена оценка размеров групп тестирования. Размер группы А: 18736. Размер группы В: 18916. Размеры групп не равны, но достаточно близки.\n",
    "\n",
    "Уникальных покупателей из группы А: 503. Уникальных покупателей из группы В: 586. Общее количество уникальных покупателей: 1031. таким образом, 58 покупателей (5,6% от общего количества) попали и в ту, и в другую группу. Так как этих посетителей невозможно идентифицировать в таблице `visitors`дальнейшие расчеты ведутся с учетом их присутствия.\n",
    "\n",
    "Для того, чтобы исключить проблему подглядывания, была составлена таблица с кумулятивными данными (накопленные количество заказов, количество покупателей, выручка, количество пользователей на каждый день в каждой группе).\n",
    "\n",
    "#### Изучение графика кумулятивной выручки по группам\n",
    "График кумулятивной выручки по группам показал рост в обеих группах, причем в группе В кумулятивная выручка была стабильна выше, чем в группе А. При этом было отмечено несколько точек резкого роста, свидетельствующих о наличии аномалий в данных.\n",
    "\n",
    "#### Изучение графика графика кумулятивного среднего чека по группам\n",
    "Графики средних чеков становятся более или менее равномерными к концу теста, причем у группы В размер среднего чека снижается. Отмечаются точки резкого роста: 19.08.2019 в группе В и 13.08.2019 в группе А. \n",
    "\n",
    "#### Изучение графика графика относительного изменения кумулятивного среднего чека группы B к группе A\n",
    "В начале теста средний чек в группе В был выше, чем в группе А. В точках аномалий произошли резкие изменения, затем график начал выравниваться. При этом средний чек в группе В постепенно уменьшается по сравнению со средним чеком в группе А.\n",
    "\n",
    "#### Изучение графика кумулятивного среднего количества заказов на посетителя по группам\n",
    "В начале теста наблюдались флуктуации среднего количества заказов на посетителя в обеих группах. Затем на фоне снижения среднего количества заказов на посетителя в группе А этот показатель в группе В увеличился и оставался стабильно выше до окончания теста. График относительного изменения кумулятивного среднего количества заказов на посетителя группы B к группе A подтверждает это наблюдение.\n",
    "\n",
    "#### Выявление и устранение аномалий\n",
    "Были изучены гистограмы и точечные графики рапределения количества заказов на одного пользователя и стоимости заказов. Выявлены аномально высокие значения. По итогам изучения выборочных перцентилей выделены следующие верхние границы отсечения данных:\n",
    "- количество заказов: 2 (95 перцентиль)\n",
    "- сумма заказа: 28000 (95 перцентиль)\n",
    "\n",
    "#### Расчет статистической значимости различий в группах по сырым данным\n",
    "Были подготовлены данные для расчета статистической значимости различий в среднем количестве заказов на посетителя и в среднем чеке заказа между группами. Критерий Шапиро-Уилка показал, что распределение данных не является нормальным, в связи с чем выявление значимости различий проводилось с помощью непараметрического теста Уилкоксона-Манна-Уитни.\n",
    "\n",
    "##### Расчет статистической значимости различий в среднем количестве заказов на посетителя между группами\n",
    "Тест на сырых данных и уровне значимости 5% показал наличие статистически значимой разницы в среднем количестве заказов на посетителя между группами. В группе В на в среднем заказов на посетителя больше на 13.81%.\n",
    "\n",
    "##### Расчет статистической значимости различий в среднем чеке заказа между группами\n",
    "Несмотря на то, что средний чек в группе В на 25.87% больше, чем в группе А, тест на сырых данных и уровне значимости 5% показал отсутствие статистически значимой разницы между группами.\n",
    "\n",
    "#### Расчет статистической значимости различий в группах по очищенным данным\n",
    "##### Расчет статистической значимости различий в среднем количестве заказов на посетителя между группами\n",
    "Тест на очищенных данных также показал наличие наличие статистически значимой разницы в среднем количестве заказов на посетителя между группами. В группе В в данном случае заказов больше на 17.27% .\n",
    "\n",
    "##### Расчет статистической значимости различий в среднем чеке заказа между группами\n",
    "Тест на очищенных данных также не выявил наличие статистически значимой разницы между группами. При этом средний чек в группе В на 1.96% ниже, чем в группе А.\n",
    "\n",
    "#### Итого\n",
    "Так как графики показателей среднего чека и среднего количества заказов на посетителя выровнялись к концу теста, можно считать, что длительность теста была достаточной для того, чтобы выбросы показателей успели компенсироваться. Проблема подсматривания была решена путем использования кумулятивных данных. Таким обзом, A/B-тест был проведен корректно, его можно остановить и зафиксировать его результаты:\n",
    "- среднее количество заказов на посетителя: выше в группе В\n",
    "- средний чек: значимой разницы между группами не выявлено"
   ]
  }
 ],
 "metadata": {
  "ExecuteTimeLog": [
   {
    "duration": 1313,
    "start_time": "2023-10-05T04:16:38.505Z"
   },
   {
    "duration": 186,
    "start_time": "2023-10-05T04:16:41.762Z"
   },
   {
    "duration": 10,
    "start_time": "2023-10-05T04:16:47.251Z"
   },
   {
    "duration": 75,
    "start_time": "2023-10-05T04:24:36.623Z"
   },
   {
    "duration": 8,
    "start_time": "2023-10-05T04:24:39.223Z"
   },
   {
    "duration": 30,
    "start_time": "2023-10-05T04:24:48.722Z"
   },
   {
    "duration": 9,
    "start_time": "2023-10-05T04:28:38.719Z"
   },
   {
    "duration": 12,
    "start_time": "2023-10-05T04:29:18.475Z"
   },
   {
    "duration": 1615,
    "start_time": "2023-10-06T03:55:37.328Z"
   },
   {
    "duration": 284,
    "start_time": "2023-10-06T03:55:40.445Z"
   },
   {
    "duration": 15,
    "start_time": "2023-10-06T03:55:43.133Z"
   },
   {
    "duration": 40,
    "start_time": "2023-10-06T03:55:45.292Z"
   },
   {
    "duration": 21,
    "start_time": "2023-10-06T03:55:54.549Z"
   },
   {
    "duration": 9,
    "start_time": "2023-10-06T03:55:56.466Z"
   },
   {
    "duration": 155,
    "start_time": "2023-10-06T04:00:57.333Z"
   },
   {
    "duration": 4,
    "start_time": "2023-10-06T04:01:36.858Z"
   },
   {
    "duration": 32,
    "start_time": "2023-10-06T04:01:39.245Z"
   },
   {
    "duration": 1360,
    "start_time": "2023-10-06T04:02:10.816Z"
   },
   {
    "duration": 101,
    "start_time": "2023-10-06T04:02:12.178Z"
   },
   {
    "duration": 10,
    "start_time": "2023-10-06T04:02:13.876Z"
   },
   {
    "duration": 39,
    "start_time": "2023-10-06T04:02:14.947Z"
   },
   {
    "duration": 3,
    "start_time": "2023-10-06T04:02:20.049Z"
   },
   {
    "duration": 10,
    "start_time": "2023-10-06T04:04:16.632Z"
   },
   {
    "duration": 36,
    "start_time": "2023-10-06T04:04:27.145Z"
   },
   {
    "duration": 3,
    "start_time": "2023-10-06T04:06:27.945Z"
   },
   {
    "duration": 4,
    "start_time": "2023-10-06T04:07:33.383Z"
   },
   {
    "duration": 32,
    "start_time": "2023-10-06T04:07:38.252Z"
   },
   {
    "duration": 5,
    "start_time": "2023-10-06T04:08:13.129Z"
   },
   {
    "duration": 37,
    "start_time": "2023-10-06T04:08:15.181Z"
   },
   {
    "duration": 1468,
    "start_time": "2023-10-06T04:10:25.899Z"
   },
   {
    "duration": 104,
    "start_time": "2023-10-06T04:10:28.863Z"
   },
   {
    "duration": 9,
    "start_time": "2023-10-06T04:10:31.083Z"
   },
   {
    "duration": 31,
    "start_time": "2023-10-06T04:10:33.445Z"
   },
   {
    "duration": 4,
    "start_time": "2023-10-06T04:10:36.883Z"
   },
   {
    "duration": 11,
    "start_time": "2023-10-06T04:10:38.823Z"
   },
   {
    "duration": 51,
    "start_time": "2023-10-06T04:10:41.394Z"
   },
   {
    "duration": 4,
    "start_time": "2023-10-06T04:11:28.694Z"
   },
   {
    "duration": 6,
    "start_time": "2023-10-06T04:11:41.545Z"
   },
   {
    "duration": 14,
    "start_time": "2023-10-06T04:11:54.828Z"
   },
   {
    "duration": 10,
    "start_time": "2023-10-06T04:12:09.975Z"
   },
   {
    "duration": 376,
    "start_time": "2023-10-06T04:13:25.744Z"
   },
   {
    "duration": 338,
    "start_time": "2023-10-06T04:13:38.173Z"
   },
   {
    "duration": 219,
    "start_time": "2023-10-06T04:13:51.432Z"
   },
   {
    "duration": 312,
    "start_time": "2023-10-06T04:14:11.473Z"
   },
   {
    "duration": 367,
    "start_time": "2023-10-06T04:14:16.367Z"
   },
   {
    "duration": 201,
    "start_time": "2023-10-06T04:15:16.547Z"
   },
   {
    "duration": 6,
    "start_time": "2023-10-06T04:15:50.789Z"
   },
   {
    "duration": 5,
    "start_time": "2023-10-06T04:16:00.653Z"
   },
   {
    "duration": 236,
    "start_time": "2023-10-06T04:16:27.031Z"
   },
   {
    "duration": 270,
    "start_time": "2023-10-06T04:19:54.555Z"
   },
   {
    "duration": 311,
    "start_time": "2023-10-06T04:20:07.133Z"
   },
   {
    "duration": 216,
    "start_time": "2023-10-06T04:20:28.265Z"
   },
   {
    "duration": 137,
    "start_time": "2023-10-06T04:20:40.058Z"
   },
   {
    "duration": 10,
    "start_time": "2023-10-06T04:20:53.162Z"
   },
   {
    "duration": 6,
    "start_time": "2023-10-06T04:20:57.923Z"
   },
   {
    "duration": 425,
    "start_time": "2023-10-06T04:22:26.614Z"
   },
   {
    "duration": 17,
    "start_time": "2023-10-06T04:22:40.993Z"
   },
   {
    "duration": 122,
    "start_time": "2023-10-06T04:22:52.291Z"
   },
   {
    "duration": 128,
    "start_time": "2023-10-06T04:22:58.106Z"
   },
   {
    "duration": 5,
    "start_time": "2023-10-06T04:23:10.186Z"
   },
   {
    "duration": 3,
    "start_time": "2023-10-06T04:23:39.986Z"
   },
   {
    "duration": 274,
    "start_time": "2023-10-06T04:25:04.283Z"
   },
   {
    "duration": 97,
    "start_time": "2023-10-06T04:25:48.157Z"
   },
   {
    "duration": 139,
    "start_time": "2023-10-06T04:25:55.133Z"
   },
   {
    "duration": 10,
    "start_time": "2023-10-06T04:26:02.960Z"
   },
   {
    "duration": 27,
    "start_time": "2023-10-06T04:26:06.830Z"
   },
   {
    "duration": 11,
    "start_time": "2023-10-06T04:26:13.245Z"
   },
   {
    "duration": 2470,
    "start_time": "2023-10-06T04:26:59.260Z"
   },
   {
    "duration": 172,
    "start_time": "2023-10-06T04:27:44.105Z"
   },
   {
    "duration": 8,
    "start_time": "2023-10-06T04:27:47.465Z"
   },
   {
    "duration": 26,
    "start_time": "2023-10-06T04:27:49.551Z"
   },
   {
    "duration": 13,
    "start_time": "2023-10-06T04:27:51.519Z"
   },
   {
    "duration": 9,
    "start_time": "2023-10-06T04:27:54.086Z"
   },
   {
    "duration": 9,
    "start_time": "2023-10-06T04:28:12.171Z"
   },
   {
    "duration": 29,
    "start_time": "2023-10-06T04:28:16.546Z"
   },
   {
    "duration": 14,
    "start_time": "2023-10-06T04:28:32.751Z"
   },
   {
    "duration": 229,
    "start_time": "2023-10-06T06:23:58.090Z"
   },
   {
    "duration": 305,
    "start_time": "2023-10-06T06:24:18.149Z"
   },
   {
    "duration": 228,
    "start_time": "2023-10-06T06:24:39.955Z"
   },
   {
    "duration": 237,
    "start_time": "2023-10-06T06:25:05.742Z"
   },
   {
    "duration": 228,
    "start_time": "2023-10-06T06:26:40.189Z"
   },
   {
    "duration": 344,
    "start_time": "2023-10-06T06:27:53.799Z"
   },
   {
    "duration": 307,
    "start_time": "2023-10-06T06:28:02.946Z"
   },
   {
    "duration": 383,
    "start_time": "2023-10-06T06:28:54.360Z"
   },
   {
    "duration": 235,
    "start_time": "2023-10-06T06:29:57.997Z"
   },
   {
    "duration": 255,
    "start_time": "2023-10-06T06:30:13.225Z"
   },
   {
    "duration": 343,
    "start_time": "2023-10-06T06:30:35.817Z"
   },
   {
    "duration": 300,
    "start_time": "2023-10-06T06:31:41.729Z"
   },
   {
    "duration": 332,
    "start_time": "2023-10-06T06:32:09.957Z"
   },
   {
    "duration": 191,
    "start_time": "2023-10-06T06:32:58.639Z"
   },
   {
    "duration": 166,
    "start_time": "2023-10-06T06:33:20.075Z"
   },
   {
    "duration": 158,
    "start_time": "2023-10-06T06:33:45.333Z"
   },
   {
    "duration": 126,
    "start_time": "2023-10-06T06:34:03.067Z"
   },
   {
    "duration": 178,
    "start_time": "2023-10-06T06:34:18.393Z"
   },
   {
    "duration": 171,
    "start_time": "2023-10-06T06:35:05.048Z"
   },
   {
    "duration": 151,
    "start_time": "2023-10-06T06:35:11.024Z"
   },
   {
    "duration": 298,
    "start_time": "2023-10-06T06:35:42.272Z"
   },
   {
    "duration": 164,
    "start_time": "2023-10-06T06:35:50.122Z"
   },
   {
    "duration": 173,
    "start_time": "2023-10-06T06:36:02.468Z"
   },
   {
    "duration": 151,
    "start_time": "2023-10-06T06:36:57.341Z"
   },
   {
    "duration": 163,
    "start_time": "2023-10-06T06:38:04.822Z"
   },
   {
    "duration": 168,
    "start_time": "2023-10-06T06:38:36.072Z"
   },
   {
    "duration": 183,
    "start_time": "2023-10-06T06:39:05.952Z"
   },
   {
    "duration": 147,
    "start_time": "2023-10-06T06:39:39.919Z"
   },
   {
    "duration": 1316,
    "start_time": "2023-10-09T10:46:22.998Z"
   },
   {
    "duration": 197,
    "start_time": "2023-10-09T10:46:41.249Z"
   },
   {
    "duration": 30,
    "start_time": "2023-10-09T10:47:22.483Z"
   },
   {
    "duration": 57,
    "start_time": "2023-10-09T10:58:44.153Z"
   },
   {
    "duration": 29,
    "start_time": "2023-10-09T10:59:12.974Z"
   },
   {
    "duration": 10,
    "start_time": "2023-10-09T11:02:31.383Z"
   },
   {
    "duration": 11,
    "start_time": "2023-10-09T11:03:05.485Z"
   },
   {
    "duration": 52,
    "start_time": "2023-10-10T04:35:08.792Z"
   },
   {
    "duration": 1447,
    "start_time": "2023-10-10T04:35:18.546Z"
   },
   {
    "duration": 197,
    "start_time": "2023-10-10T04:35:21.693Z"
   },
   {
    "duration": 13,
    "start_time": "2023-10-10T04:35:23.872Z"
   },
   {
    "duration": 22,
    "start_time": "2023-10-10T04:35:25.749Z"
   },
   {
    "duration": 6,
    "start_time": "2023-10-10T04:35:27.829Z"
   },
   {
    "duration": 5,
    "start_time": "2023-10-10T04:38:48.163Z"
   },
   {
    "duration": 12,
    "start_time": "2023-10-10T04:38:50.791Z"
   },
   {
    "duration": 10,
    "start_time": "2023-10-10T04:39:33.655Z"
   },
   {
    "duration": 11,
    "start_time": "2023-10-10T04:39:52.305Z"
   },
   {
    "duration": 7,
    "start_time": "2023-10-10T04:40:04.593Z"
   },
   {
    "duration": 12,
    "start_time": "2023-10-10T05:36:01.136Z"
   },
   {
    "duration": 14,
    "start_time": "2023-10-10T05:36:45.747Z"
   },
   {
    "duration": 22,
    "start_time": "2023-10-10T05:36:47.811Z"
   },
   {
    "duration": 8,
    "start_time": "2023-10-10T05:43:03.704Z"
   },
   {
    "duration": 12,
    "start_time": "2023-10-10T05:43:08.493Z"
   },
   {
    "duration": 7,
    "start_time": "2023-10-10T05:43:42.587Z"
   },
   {
    "duration": 15,
    "start_time": "2023-10-10T05:43:45.421Z"
   },
   {
    "duration": 7,
    "start_time": "2023-10-10T05:43:52.303Z"
   },
   {
    "duration": 12,
    "start_time": "2023-10-10T05:43:53.906Z"
   },
   {
    "duration": 8,
    "start_time": "2023-10-10T05:44:08.862Z"
   },
   {
    "duration": 12,
    "start_time": "2023-10-10T05:44:10.824Z"
   },
   {
    "duration": 1170,
    "start_time": "2023-10-10T05:44:26.767Z"
   },
   {
    "duration": 79,
    "start_time": "2023-10-10T05:44:29.412Z"
   },
   {
    "duration": 12,
    "start_time": "2023-10-10T05:44:31.846Z"
   },
   {
    "duration": 13,
    "start_time": "2023-10-10T05:44:34.329Z"
   },
   {
    "duration": 6,
    "start_time": "2023-10-10T05:44:36.219Z"
   },
   {
    "duration": 5,
    "start_time": "2023-10-10T05:44:38.126Z"
   },
   {
    "duration": 9,
    "start_time": "2023-10-10T05:44:40.842Z"
   },
   {
    "duration": 14,
    "start_time": "2023-10-10T05:45:12.260Z"
   },
   {
    "duration": 8,
    "start_time": "2023-10-10T05:45:15.633Z"
   },
   {
    "duration": 8,
    "start_time": "2023-10-10T05:45:21.360Z"
   },
   {
    "duration": 7,
    "start_time": "2023-10-10T05:48:49.472Z"
   },
   {
    "duration": 23,
    "start_time": "2023-10-10T05:48:52.147Z"
   },
   {
    "duration": 8,
    "start_time": "2023-10-10T05:49:29.985Z"
   },
   {
    "duration": 18,
    "start_time": "2023-10-10T05:49:32.105Z"
   },
   {
    "duration": 7,
    "start_time": "2023-10-10T05:50:58.831Z"
   },
   {
    "duration": 20,
    "start_time": "2023-10-10T05:51:13.354Z"
   },
   {
    "duration": 6,
    "start_time": "2023-10-10T05:51:28.221Z"
   },
   {
    "duration": 5,
    "start_time": "2023-10-10T05:54:09.435Z"
   },
   {
    "duration": 12,
    "start_time": "2023-10-10T05:55:47.266Z"
   },
   {
    "duration": 6,
    "start_time": "2023-10-10T05:55:49.459Z"
   },
   {
    "duration": 1352,
    "start_time": "2023-10-10T05:56:17.210Z"
   },
   {
    "duration": 82,
    "start_time": "2023-10-10T05:56:18.566Z"
   },
   {
    "duration": 19,
    "start_time": "2023-10-10T05:56:18.651Z"
   },
   {
    "duration": 14,
    "start_time": "2023-10-10T05:56:18.674Z"
   },
   {
    "duration": 35,
    "start_time": "2023-10-10T05:56:18.689Z"
   },
   {
    "duration": 41,
    "start_time": "2023-10-10T05:56:18.726Z"
   },
   {
    "duration": 20,
    "start_time": "2023-10-10T05:56:18.770Z"
   },
   {
    "duration": 31,
    "start_time": "2023-10-10T05:56:18.792Z"
   },
   {
    "duration": 25,
    "start_time": "2023-10-10T05:56:18.825Z"
   },
   {
    "duration": 43,
    "start_time": "2023-10-10T05:56:18.856Z"
   },
   {
    "duration": 45,
    "start_time": "2023-10-10T05:56:18.902Z"
   },
   {
    "duration": 24,
    "start_time": "2023-10-10T05:56:18.955Z"
   },
   {
    "duration": 56,
    "start_time": "2023-10-10T05:56:18.981Z"
   },
   {
    "duration": 50,
    "start_time": "2023-10-10T05:56:19.039Z"
   },
   {
    "duration": 30,
    "start_time": "2023-10-10T05:56:19.091Z"
   },
   {
    "duration": 62,
    "start_time": "2023-10-10T05:56:19.123Z"
   },
   {
    "duration": 33,
    "start_time": "2023-10-10T05:56:19.187Z"
   },
   {
    "duration": 191,
    "start_time": "2023-10-10T05:56:19.222Z"
   },
   {
    "duration": 0,
    "start_time": "2023-10-10T05:56:19.415Z"
   },
   {
    "duration": 0,
    "start_time": "2023-10-10T05:56:19.417Z"
   },
   {
    "duration": 0,
    "start_time": "2023-10-10T05:56:19.418Z"
   },
   {
    "duration": 0,
    "start_time": "2023-10-10T05:56:19.420Z"
   },
   {
    "duration": 0,
    "start_time": "2023-10-10T05:56:19.422Z"
   },
   {
    "duration": 0,
    "start_time": "2023-10-10T05:56:19.423Z"
   },
   {
    "duration": 0,
    "start_time": "2023-10-10T05:56:19.425Z"
   },
   {
    "duration": 0,
    "start_time": "2023-10-10T05:56:19.447Z"
   },
   {
    "duration": 0,
    "start_time": "2023-10-10T05:56:19.449Z"
   },
   {
    "duration": 0,
    "start_time": "2023-10-10T05:56:19.452Z"
   },
   {
    "duration": 0,
    "start_time": "2023-10-10T05:56:19.453Z"
   },
   {
    "duration": 0,
    "start_time": "2023-10-10T05:56:19.455Z"
   },
   {
    "duration": 0,
    "start_time": "2023-10-10T05:56:19.457Z"
   },
   {
    "duration": 0,
    "start_time": "2023-10-10T05:56:19.460Z"
   },
   {
    "duration": 0,
    "start_time": "2023-10-10T05:56:19.464Z"
   },
   {
    "duration": 0,
    "start_time": "2023-10-10T05:56:19.466Z"
   },
   {
    "duration": 0,
    "start_time": "2023-10-10T05:56:19.469Z"
   },
   {
    "duration": 0,
    "start_time": "2023-10-10T05:56:19.476Z"
   },
   {
    "duration": 0,
    "start_time": "2023-10-10T05:56:19.477Z"
   },
   {
    "duration": 0,
    "start_time": "2023-10-10T05:56:19.479Z"
   },
   {
    "duration": 0,
    "start_time": "2023-10-10T05:56:19.483Z"
   },
   {
    "duration": 0,
    "start_time": "2023-10-10T05:56:19.484Z"
   },
   {
    "duration": 0,
    "start_time": "2023-10-10T05:56:19.487Z"
   },
   {
    "duration": 1391,
    "start_time": "2023-10-10T05:57:44.325Z"
   },
   {
    "duration": 83,
    "start_time": "2023-10-10T05:57:45.718Z"
   },
   {
    "duration": 12,
    "start_time": "2023-10-10T05:57:45.803Z"
   },
   {
    "duration": 29,
    "start_time": "2023-10-10T05:57:45.817Z"
   },
   {
    "duration": 43,
    "start_time": "2023-10-10T05:57:45.849Z"
   },
   {
    "duration": 29,
    "start_time": "2023-10-10T05:57:45.894Z"
   },
   {
    "duration": 20,
    "start_time": "2023-10-10T05:57:45.925Z"
   },
   {
    "duration": 31,
    "start_time": "2023-10-10T05:57:45.949Z"
   },
   {
    "duration": 22,
    "start_time": "2023-10-10T05:57:45.983Z"
   },
   {
    "duration": 20,
    "start_time": "2023-10-10T05:57:46.008Z"
   },
   {
    "duration": 36,
    "start_time": "2023-10-10T05:57:46.030Z"
   },
   {
    "duration": 19,
    "start_time": "2023-10-10T05:57:46.069Z"
   },
   {
    "duration": 37,
    "start_time": "2023-10-10T05:57:46.095Z"
   },
   {
    "duration": 16,
    "start_time": "2023-10-10T05:57:46.134Z"
   },
   {
    "duration": 12,
    "start_time": "2023-10-10T05:57:46.153Z"
   },
   {
    "duration": 35,
    "start_time": "2023-10-10T05:57:46.169Z"
   },
   {
    "duration": 17,
    "start_time": "2023-10-10T05:57:46.206Z"
   },
   {
    "duration": 385,
    "start_time": "2023-10-10T05:57:46.225Z"
   },
   {
    "duration": 0,
    "start_time": "2023-10-10T05:57:46.612Z"
   },
   {
    "duration": 0,
    "start_time": "2023-10-10T05:57:46.614Z"
   },
   {
    "duration": 0,
    "start_time": "2023-10-10T05:57:46.615Z"
   },
   {
    "duration": 0,
    "start_time": "2023-10-10T05:57:46.616Z"
   },
   {
    "duration": 0,
    "start_time": "2023-10-10T05:57:46.617Z"
   },
   {
    "duration": 0,
    "start_time": "2023-10-10T05:57:46.618Z"
   },
   {
    "duration": 0,
    "start_time": "2023-10-10T05:57:46.619Z"
   },
   {
    "duration": 0,
    "start_time": "2023-10-10T05:57:46.620Z"
   },
   {
    "duration": 0,
    "start_time": "2023-10-10T05:57:46.621Z"
   },
   {
    "duration": 0,
    "start_time": "2023-10-10T05:57:46.623Z"
   },
   {
    "duration": 0,
    "start_time": "2023-10-10T05:57:46.624Z"
   },
   {
    "duration": 0,
    "start_time": "2023-10-10T05:57:46.648Z"
   },
   {
    "duration": 0,
    "start_time": "2023-10-10T05:57:46.649Z"
   },
   {
    "duration": 0,
    "start_time": "2023-10-10T05:57:46.650Z"
   },
   {
    "duration": 0,
    "start_time": "2023-10-10T05:57:46.651Z"
   },
   {
    "duration": 0,
    "start_time": "2023-10-10T05:57:46.652Z"
   },
   {
    "duration": 0,
    "start_time": "2023-10-10T05:57:46.653Z"
   },
   {
    "duration": 0,
    "start_time": "2023-10-10T05:57:46.654Z"
   },
   {
    "duration": 0,
    "start_time": "2023-10-10T05:57:46.655Z"
   },
   {
    "duration": 0,
    "start_time": "2023-10-10T05:57:46.657Z"
   },
   {
    "duration": 0,
    "start_time": "2023-10-10T05:57:46.658Z"
   },
   {
    "duration": 0,
    "start_time": "2023-10-10T05:57:46.659Z"
   },
   {
    "duration": 0,
    "start_time": "2023-10-10T05:57:46.660Z"
   },
   {
    "duration": 8,
    "start_time": "2023-10-10T05:58:09.502Z"
   },
   {
    "duration": 1315,
    "start_time": "2023-10-10T05:58:15.990Z"
   },
   {
    "duration": 83,
    "start_time": "2023-10-10T05:58:17.308Z"
   },
   {
    "duration": 13,
    "start_time": "2023-10-10T05:58:17.392Z"
   },
   {
    "duration": 36,
    "start_time": "2023-10-10T05:58:17.407Z"
   },
   {
    "duration": 31,
    "start_time": "2023-10-10T05:58:17.446Z"
   },
   {
    "duration": 39,
    "start_time": "2023-10-10T05:58:17.482Z"
   },
   {
    "duration": 50,
    "start_time": "2023-10-10T05:58:17.523Z"
   },
   {
    "duration": 37,
    "start_time": "2023-10-10T05:58:17.575Z"
   },
   {
    "duration": 64,
    "start_time": "2023-10-10T05:58:17.614Z"
   },
   {
    "duration": 29,
    "start_time": "2023-10-10T05:58:17.680Z"
   },
   {
    "duration": 33,
    "start_time": "2023-10-10T05:58:17.711Z"
   },
   {
    "duration": 62,
    "start_time": "2023-10-10T05:58:17.746Z"
   },
   {
    "duration": 61,
    "start_time": "2023-10-10T05:58:17.810Z"
   },
   {
    "duration": 37,
    "start_time": "2023-10-10T05:58:17.876Z"
   },
   {
    "duration": 45,
    "start_time": "2023-10-10T05:58:17.916Z"
   },
   {
    "duration": 58,
    "start_time": "2023-10-10T05:58:17.964Z"
   },
   {
    "duration": 13,
    "start_time": "2023-10-10T05:58:18.023Z"
   },
   {
    "duration": 437,
    "start_time": "2023-10-10T05:58:18.038Z"
   },
   {
    "duration": 422,
    "start_time": "2023-10-10T05:58:18.476Z"
   },
   {
    "duration": 311,
    "start_time": "2023-10-10T05:58:18.901Z"
   },
   {
    "duration": 417,
    "start_time": "2023-10-10T05:58:19.214Z"
   },
   {
    "duration": 146,
    "start_time": "2023-10-10T05:58:19.632Z"
   },
   {
    "duration": 0,
    "start_time": "2023-10-10T05:58:19.780Z"
   },
   {
    "duration": 0,
    "start_time": "2023-10-10T05:58:19.782Z"
   },
   {
    "duration": 0,
    "start_time": "2023-10-10T05:58:19.783Z"
   },
   {
    "duration": 0,
    "start_time": "2023-10-10T05:58:19.785Z"
   },
   {
    "duration": 0,
    "start_time": "2023-10-10T05:58:19.786Z"
   },
   {
    "duration": 0,
    "start_time": "2023-10-10T05:58:19.787Z"
   },
   {
    "duration": 0,
    "start_time": "2023-10-10T05:58:19.788Z"
   },
   {
    "duration": 0,
    "start_time": "2023-10-10T05:58:19.789Z"
   },
   {
    "duration": 0,
    "start_time": "2023-10-10T05:58:19.790Z"
   },
   {
    "duration": 0,
    "start_time": "2023-10-10T05:58:19.791Z"
   },
   {
    "duration": 0,
    "start_time": "2023-10-10T05:58:19.792Z"
   },
   {
    "duration": 0,
    "start_time": "2023-10-10T05:58:19.793Z"
   },
   {
    "duration": 0,
    "start_time": "2023-10-10T05:58:19.794Z"
   },
   {
    "duration": 0,
    "start_time": "2023-10-10T05:58:19.796Z"
   },
   {
    "duration": 0,
    "start_time": "2023-10-10T05:58:19.797Z"
   },
   {
    "duration": 0,
    "start_time": "2023-10-10T05:58:19.799Z"
   },
   {
    "duration": 0,
    "start_time": "2023-10-10T05:58:19.800Z"
   },
   {
    "duration": 0,
    "start_time": "2023-10-10T05:58:19.802Z"
   },
   {
    "duration": 0,
    "start_time": "2023-10-10T05:58:19.803Z"
   },
   {
    "duration": 1536,
    "start_time": "2023-10-10T06:01:31.559Z"
   },
   {
    "duration": 85,
    "start_time": "2023-10-10T06:01:33.097Z"
   },
   {
    "duration": 109,
    "start_time": "2023-10-10T06:01:33.184Z"
   },
   {
    "duration": 80,
    "start_time": "2023-10-10T06:01:33.296Z"
   },
   {
    "duration": 75,
    "start_time": "2023-10-10T06:01:33.378Z"
   },
   {
    "duration": 17,
    "start_time": "2023-10-10T06:01:33.456Z"
   },
   {
    "duration": 28,
    "start_time": "2023-10-10T06:01:33.474Z"
   },
   {
    "duration": 39,
    "start_time": "2023-10-10T06:01:33.504Z"
   },
   {
    "duration": 32,
    "start_time": "2023-10-10T06:01:33.545Z"
   },
   {
    "duration": 14,
    "start_time": "2023-10-10T06:01:33.580Z"
   },
   {
    "duration": 31,
    "start_time": "2023-10-10T06:01:33.596Z"
   },
   {
    "duration": 83,
    "start_time": "2023-10-10T06:01:33.629Z"
   },
   {
    "duration": 179,
    "start_time": "2023-10-10T06:01:33.714Z"
   },
   {
    "duration": 182,
    "start_time": "2023-10-10T06:01:33.895Z"
   },
   {
    "duration": 131,
    "start_time": "2023-10-10T06:01:34.078Z"
   },
   {
    "duration": 55,
    "start_time": "2023-10-10T06:01:34.211Z"
   },
   {
    "duration": 30,
    "start_time": "2023-10-10T06:01:34.269Z"
   },
   {
    "duration": 456,
    "start_time": "2023-10-10T06:01:34.301Z"
   },
   {
    "duration": 369,
    "start_time": "2023-10-10T06:01:34.760Z"
   },
   {
    "duration": 313,
    "start_time": "2023-10-10T06:01:35.131Z"
   },
   {
    "duration": 440,
    "start_time": "2023-10-10T06:01:35.451Z"
   },
   {
    "duration": 321,
    "start_time": "2023-10-10T06:01:35.893Z"
   },
   {
    "duration": 442,
    "start_time": "2023-10-10T06:01:36.216Z"
   },
   {
    "duration": 190,
    "start_time": "2023-10-10T06:01:36.665Z"
   },
   {
    "duration": 198,
    "start_time": "2023-10-10T06:01:36.859Z"
   },
   {
    "duration": 9,
    "start_time": "2023-10-10T06:01:37.061Z"
   },
   {
    "duration": 143,
    "start_time": "2023-10-10T06:01:37.072Z"
   },
   {
    "duration": 212,
    "start_time": "2023-10-10T06:01:37.220Z"
   },
   {
    "duration": 283,
    "start_time": "2023-10-10T06:01:37.434Z"
   },
   {
    "duration": 6,
    "start_time": "2023-10-10T06:01:37.719Z"
   },
   {
    "duration": 291,
    "start_time": "2023-10-10T06:01:37.727Z"
   },
   {
    "duration": 251,
    "start_time": "2023-10-10T06:01:38.020Z"
   },
   {
    "duration": 9,
    "start_time": "2023-10-10T06:01:38.273Z"
   },
   {
    "duration": 39,
    "start_time": "2023-10-10T06:01:38.284Z"
   },
   {
    "duration": 23,
    "start_time": "2023-10-10T06:01:38.325Z"
   },
   {
    "duration": 30,
    "start_time": "2023-10-10T06:01:38.350Z"
   },
   {
    "duration": 44,
    "start_time": "2023-10-10T06:01:38.382Z"
   },
   {
    "duration": 68,
    "start_time": "2023-10-10T06:01:38.427Z"
   },
   {
    "duration": 22,
    "start_time": "2023-10-10T06:01:38.497Z"
   },
   {
    "duration": 21,
    "start_time": "2023-10-10T06:02:23.956Z"
   },
   {
    "duration": 5,
    "start_time": "2023-10-10T06:02:57.074Z"
   },
   {
    "duration": 13,
    "start_time": "2023-10-10T06:16:01.052Z"
   },
   {
    "duration": 11,
    "start_time": "2023-10-10T06:19:55.910Z"
   },
   {
    "duration": 11,
    "start_time": "2023-10-10T07:00:03.744Z"
   },
   {
    "duration": 14,
    "start_time": "2023-10-10T07:23:10.536Z"
   },
   {
    "duration": 12,
    "start_time": "2023-10-10T07:42:59.789Z"
   },
   {
    "duration": 18,
    "start_time": "2023-10-10T08:02:09.560Z"
   },
   {
    "duration": 11,
    "start_time": "2023-10-10T08:02:49.301Z"
   },
   {
    "duration": 299,
    "start_time": "2023-10-10T08:04:11.333Z"
   },
   {
    "duration": 327,
    "start_time": "2023-10-10T08:09:12.694Z"
   },
   {
    "duration": 12,
    "start_time": "2023-10-10T08:10:03.844Z"
   },
   {
    "duration": 394,
    "start_time": "2023-10-10T08:11:14.026Z"
   },
   {
    "duration": 263,
    "start_time": "2023-10-10T08:38:00.270Z"
   },
   {
    "duration": 239,
    "start_time": "2023-10-10T08:52:36.193Z"
   },
   {
    "duration": 11,
    "start_time": "2023-10-10T09:20:46.815Z"
   },
   {
    "duration": 21,
    "start_time": "2023-10-10T09:21:37.137Z"
   },
   {
    "duration": 16,
    "start_time": "2023-10-10T09:22:35.231Z"
   },
   {
    "duration": 13,
    "start_time": "2023-10-10T09:22:49.488Z"
   },
   {
    "duration": 23,
    "start_time": "2023-10-10T09:25:06.946Z"
   },
   {
    "duration": 122,
    "start_time": "2023-10-10T09:25:55.089Z"
   },
   {
    "duration": 16,
    "start_time": "2023-10-10T09:26:09.368Z"
   },
   {
    "duration": 9,
    "start_time": "2023-10-10T09:26:22.541Z"
   },
   {
    "duration": 9,
    "start_time": "2023-10-10T09:35:56.418Z"
   },
   {
    "duration": 8,
    "start_time": "2023-10-10T09:36:00.230Z"
   },
   {
    "duration": 12,
    "start_time": "2023-10-10T09:36:20.957Z"
   },
   {
    "duration": 6,
    "start_time": "2023-10-10T09:36:34.477Z"
   },
   {
    "duration": 2446,
    "start_time": "2023-10-10T09:37:09.573Z"
   },
   {
    "duration": 6,
    "start_time": "2023-10-10T09:37:34.812Z"
   },
   {
    "duration": 9,
    "start_time": "2023-10-10T09:37:53.610Z"
   },
   {
    "duration": 6,
    "start_time": "2023-10-10T09:38:50.498Z"
   },
   {
    "duration": 8,
    "start_time": "2023-10-10T09:39:22.427Z"
   },
   {
    "duration": 10,
    "start_time": "2023-10-10T09:40:08.530Z"
   },
   {
    "duration": 9,
    "start_time": "2023-10-10T09:40:17.693Z"
   },
   {
    "duration": 9,
    "start_time": "2023-10-10T09:40:30.720Z"
   },
   {
    "duration": 8,
    "start_time": "2023-10-10T09:40:58.091Z"
   },
   {
    "duration": 6,
    "start_time": "2023-10-10T09:41:08.993Z"
   },
   {
    "duration": 20,
    "start_time": "2023-10-10T09:44:45.043Z"
   },
   {
    "duration": 7,
    "start_time": "2023-10-10T09:44:56.670Z"
   },
   {
    "duration": 10,
    "start_time": "2023-10-10T09:45:50.474Z"
   },
   {
    "duration": 14,
    "start_time": "2023-10-10T09:46:05.420Z"
   },
   {
    "duration": 4,
    "start_time": "2023-10-10T09:50:50.238Z"
   },
   {
    "duration": 5,
    "start_time": "2023-10-10T09:51:17.800Z"
   },
   {
    "duration": 5,
    "start_time": "2023-10-10T09:52:22.699Z"
   },
   {
    "duration": 6,
    "start_time": "2023-10-10T09:56:06.368Z"
   },
   {
    "duration": 4,
    "start_time": "2023-10-10T09:56:42.865Z"
   },
   {
    "duration": 6,
    "start_time": "2023-10-10T09:57:22.976Z"
   },
   {
    "duration": 5,
    "start_time": "2023-10-10T09:57:37.874Z"
   },
   {
    "duration": 6,
    "start_time": "2023-10-10T10:04:41.484Z"
   },
   {
    "duration": 5,
    "start_time": "2023-10-10T10:06:00.405Z"
   },
   {
    "duration": 5,
    "start_time": "2023-10-10T10:24:26.535Z"
   },
   {
    "duration": 6,
    "start_time": "2023-10-10T10:25:14.693Z"
   },
   {
    "duration": 7,
    "start_time": "2023-10-10T10:25:40.039Z"
   },
   {
    "duration": 7,
    "start_time": "2023-10-10T10:25:49.758Z"
   },
   {
    "duration": 152,
    "start_time": "2023-10-10T10:27:50.976Z"
   },
   {
    "duration": 7,
    "start_time": "2023-10-10T10:28:07.042Z"
   },
   {
    "duration": 15,
    "start_time": "2023-10-10T10:34:15.116Z"
   },
   {
    "duration": 7,
    "start_time": "2023-10-10T10:34:33.176Z"
   },
   {
    "duration": 7,
    "start_time": "2023-10-10T10:35:47.322Z"
   },
   {
    "duration": 7,
    "start_time": "2023-10-10T10:36:09.296Z"
   },
   {
    "duration": 10,
    "start_time": "2023-10-10T10:36:30.038Z"
   },
   {
    "duration": 6,
    "start_time": "2023-10-10T10:38:01.492Z"
   },
   {
    "duration": 13,
    "start_time": "2023-10-10T10:42:56.324Z"
   },
   {
    "duration": 13,
    "start_time": "2023-10-10T10:43:04.532Z"
   },
   {
    "duration": 6,
    "start_time": "2023-10-10T10:43:19.451Z"
   },
   {
    "duration": 7,
    "start_time": "2023-10-10T10:45:24.351Z"
   },
   {
    "duration": 7,
    "start_time": "2023-10-10T10:45:29.064Z"
   },
   {
    "duration": 502,
    "start_time": "2023-10-10T10:48:28.664Z"
   },
   {
    "duration": 14,
    "start_time": "2023-10-10T10:48:39.055Z"
   },
   {
    "duration": 7,
    "start_time": "2023-10-10T10:48:46.217Z"
   },
   {
    "duration": 8,
    "start_time": "2023-10-10T10:49:46.416Z"
   },
   {
    "duration": 8,
    "start_time": "2023-10-10T10:49:55.027Z"
   },
   {
    "duration": 5,
    "start_time": "2023-10-10T11:00:41.742Z"
   },
   {
    "duration": 5,
    "start_time": "2023-10-10T11:00:48.533Z"
   },
   {
    "duration": 5,
    "start_time": "2023-10-10T11:01:08.166Z"
   },
   {
    "duration": 8,
    "start_time": "2023-10-10T11:09:06.287Z"
   },
   {
    "duration": 364,
    "start_time": "2023-10-10T11:16:01.566Z"
   },
   {
    "duration": 255,
    "start_time": "2023-10-10T11:20:35.644Z"
   },
   {
    "duration": 370,
    "start_time": "2023-10-10T11:25:43.855Z"
   },
   {
    "duration": 383,
    "start_time": "2023-10-10T11:58:45.799Z"
   },
   {
    "duration": 12,
    "start_time": "2023-10-10T12:07:03.950Z"
   },
   {
    "duration": 13,
    "start_time": "2023-10-10T12:07:45.286Z"
   },
   {
    "duration": 15,
    "start_time": "2023-10-10T12:08:24.957Z"
   },
   {
    "duration": 164,
    "start_time": "2023-10-10T12:10:26.752Z"
   },
   {
    "duration": 155,
    "start_time": "2023-10-10T12:11:39.095Z"
   },
   {
    "duration": 238,
    "start_time": "2023-10-10T12:11:43.317Z"
   },
   {
    "duration": 159,
    "start_time": "2023-10-10T12:14:40.925Z"
   },
   {
    "duration": 155,
    "start_time": "2023-10-10T12:14:48.861Z"
   },
   {
    "duration": 1312,
    "start_time": "2023-10-10T12:14:59.525Z"
   },
   {
    "duration": 79,
    "start_time": "2023-10-10T12:15:03.595Z"
   },
   {
    "duration": 13,
    "start_time": "2023-10-10T12:15:05.835Z"
   },
   {
    "duration": 12,
    "start_time": "2023-10-10T12:15:08.175Z"
   },
   {
    "duration": 7,
    "start_time": "2023-10-10T12:15:10.404Z"
   },
   {
    "duration": 4,
    "start_time": "2023-10-10T12:15:12.582Z"
   },
   {
    "duration": 10,
    "start_time": "2023-10-10T12:15:14.806Z"
   },
   {
    "duration": 11,
    "start_time": "2023-10-10T12:15:17.131Z"
   },
   {
    "duration": 6,
    "start_time": "2023-10-10T12:15:19.375Z"
   },
   {
    "duration": 5,
    "start_time": "2023-10-10T12:16:41.237Z"
   },
   {
    "duration": 6,
    "start_time": "2023-10-10T12:16:59.604Z"
   },
   {
    "duration": 7,
    "start_time": "2023-10-10T12:22:31.169Z"
   },
   {
    "duration": 5,
    "start_time": "2023-10-10T12:22:33.266Z"
   },
   {
    "duration": 8,
    "start_time": "2023-10-10T12:22:35.655Z"
   },
   {
    "duration": 12,
    "start_time": "2023-10-10T12:22:38.207Z"
   },
   {
    "duration": 6,
    "start_time": "2023-10-10T12:22:40.867Z"
   },
   {
    "duration": 4,
    "start_time": "2023-10-10T12:22:45.852Z"
   },
   {
    "duration": 4,
    "start_time": "2023-10-10T12:22:47.822Z"
   },
   {
    "duration": 13,
    "start_time": "2023-10-10T12:22:50.736Z"
   },
   {
    "duration": 12,
    "start_time": "2023-10-10T12:22:53.534Z"
   },
   {
    "duration": 7,
    "start_time": "2023-10-10T12:23:11.539Z"
   },
   {
    "duration": 304,
    "start_time": "2023-10-10T12:23:13.926Z"
   },
   {
    "duration": 322,
    "start_time": "2023-10-10T12:23:16.658Z"
   },
   {
    "duration": 212,
    "start_time": "2023-10-10T12:23:19.615Z"
   },
   {
    "duration": 335,
    "start_time": "2023-10-10T12:23:22.276Z"
   },
   {
    "duration": 299,
    "start_time": "2023-10-10T12:23:25.080Z"
   },
   {
    "duration": 349,
    "start_time": "2023-10-10T12:23:27.849Z"
   },
   {
    "duration": 12,
    "start_time": "2023-10-10T12:23:33.363Z"
   },
   {
    "duration": 153,
    "start_time": "2023-10-10T12:23:36.910Z"
   },
   {
    "duration": 109,
    "start_time": "2023-10-10T12:23:39.546Z"
   },
   {
    "duration": 154,
    "start_time": "2023-10-10T12:23:47.606Z"
   },
   {
    "duration": 6,
    "start_time": "2023-10-10T12:27:39.793Z"
   },
   {
    "duration": 9,
    "start_time": "2023-10-10T12:29:13.593Z"
   },
   {
    "duration": 305,
    "start_time": "2023-10-10T12:33:51.001Z"
   },
   {
    "duration": 195,
    "start_time": "2023-10-10T12:34:20.336Z"
   },
   {
    "duration": 9,
    "start_time": "2023-10-10T12:35:47.596Z"
   },
   {
    "duration": 14,
    "start_time": "2023-10-10T12:38:06.674Z"
   },
   {
    "duration": 347,
    "start_time": "2023-10-10T12:38:19.144Z"
   },
   {
    "duration": 199,
    "start_time": "2023-10-10T12:38:46.308Z"
   },
   {
    "duration": 199,
    "start_time": "2023-10-10T12:39:16.629Z"
   },
   {
    "duration": 205,
    "start_time": "2023-10-10T12:39:58.892Z"
   },
   {
    "duration": 200,
    "start_time": "2023-10-10T12:40:10.035Z"
   },
   {
    "duration": 9,
    "start_time": "2023-10-10T12:42:38.729Z"
   },
   {
    "duration": 190,
    "start_time": "2023-10-10T12:44:30.622Z"
   },
   {
    "duration": 5,
    "start_time": "2023-10-10T12:47:08.173Z"
   },
   {
    "duration": 13,
    "start_time": "2023-10-10T13:06:35.281Z"
   },
   {
    "duration": 137,
    "start_time": "2023-10-10T13:08:07.178Z"
   },
   {
    "duration": 240,
    "start_time": "2023-10-10T13:14:35.013Z"
   },
   {
    "duration": 368,
    "start_time": "2023-10-10T13:14:55.596Z"
   },
   {
    "duration": 273,
    "start_time": "2023-10-10T13:15:04.446Z"
   },
   {
    "duration": 245,
    "start_time": "2023-10-10T13:15:10.472Z"
   },
   {
    "duration": 265,
    "start_time": "2023-10-10T13:23:07.269Z"
   },
   {
    "duration": 186,
    "start_time": "2023-10-10T13:28:41.726Z"
   },
   {
    "duration": 4,
    "start_time": "2023-10-10T13:28:47.835Z"
   },
   {
    "duration": 193,
    "start_time": "2023-10-10T13:28:59.573Z"
   },
   {
    "duration": 24,
    "start_time": "2023-10-10T13:29:02.215Z"
   },
   {
    "duration": 9,
    "start_time": "2023-10-10T13:29:54.013Z"
   },
   {
    "duration": 10,
    "start_time": "2023-10-10T13:32:20.276Z"
   },
   {
    "duration": 7,
    "start_time": "2023-10-10T13:32:25.475Z"
   },
   {
    "duration": 8,
    "start_time": "2023-10-10T13:32:45.479Z"
   },
   {
    "duration": 11,
    "start_time": "2023-10-10T13:35:44.882Z"
   },
   {
    "duration": 50,
    "start_time": "2023-10-10T13:35:55.473Z"
   },
   {
    "duration": 61,
    "start_time": "2023-10-10T13:36:11.210Z"
   },
   {
    "duration": 50,
    "start_time": "2023-10-10T13:39:43.593Z"
   },
   {
    "duration": 57,
    "start_time": "2023-10-10T13:39:52.680Z"
   },
   {
    "duration": 74,
    "start_time": "2023-10-10T13:40:09.712Z"
   },
   {
    "duration": 616,
    "start_time": "2023-10-10T13:40:30.053Z"
   },
   {
    "duration": 67,
    "start_time": "2023-10-10T13:40:38.768Z"
   },
   {
    "duration": 50,
    "start_time": "2023-10-10T13:40:56.887Z"
   },
   {
    "duration": 88,
    "start_time": "2023-10-10T13:45:57.839Z"
   },
   {
    "duration": 31,
    "start_time": "2023-10-10T13:46:13.862Z"
   },
   {
    "duration": 50,
    "start_time": "2023-10-10T13:47:46.338Z"
   },
   {
    "duration": 19,
    "start_time": "2023-10-10T13:55:49.733Z"
   },
   {
    "duration": 113,
    "start_time": "2023-10-10T13:57:50.968Z"
   },
   {
    "duration": 90,
    "start_time": "2023-10-10T13:59:17.667Z"
   },
   {
    "duration": 106,
    "start_time": "2023-10-10T13:59:34.019Z"
   },
   {
    "duration": 106,
    "start_time": "2023-10-10T14:00:08.166Z"
   },
   {
    "duration": 333,
    "start_time": "2023-10-10T14:00:15.072Z"
   },
   {
    "duration": 6,
    "start_time": "2023-10-10T14:00:34.369Z"
   },
   {
    "duration": 245,
    "start_time": "2023-10-10T14:00:46.715Z"
   },
   {
    "duration": 7,
    "start_time": "2023-10-10T14:00:53.042Z"
   },
   {
    "duration": 6,
    "start_time": "2023-10-10T14:00:57.528Z"
   },
   {
    "duration": 11,
    "start_time": "2023-10-10T14:03:21.176Z"
   },
   {
    "duration": 13,
    "start_time": "2023-10-10T14:03:41.499Z"
   },
   {
    "duration": 18,
    "start_time": "2023-10-10T14:03:58.058Z"
   },
   {
    "duration": 14,
    "start_time": "2023-10-10T14:04:07.104Z"
   },
   {
    "duration": 11,
    "start_time": "2023-10-10T14:04:20.207Z"
   },
   {
    "duration": 11,
    "start_time": "2023-10-10T14:04:29.811Z"
   },
   {
    "duration": 15,
    "start_time": "2023-10-10T14:12:20.060Z"
   },
   {
    "duration": 13,
    "start_time": "2023-10-10T14:20:10.215Z"
   },
   {
    "duration": 9,
    "start_time": "2023-10-10T14:21:25.913Z"
   },
   {
    "duration": 30,
    "start_time": "2023-10-10T14:22:12.425Z"
   },
   {
    "duration": 11,
    "start_time": "2023-10-10T14:26:55.805Z"
   },
   {
    "duration": 10,
    "start_time": "2023-10-10T14:27:14.806Z"
   },
   {
    "duration": 29,
    "start_time": "2023-10-10T14:27:17.473Z"
   },
   {
    "duration": 16,
    "start_time": "2023-10-10T14:27:50.822Z"
   },
   {
    "duration": 1142,
    "start_time": "2023-10-11T05:49:59.428Z"
   },
   {
    "duration": 192,
    "start_time": "2023-10-11T05:50:00.572Z"
   },
   {
    "duration": 11,
    "start_time": "2023-10-11T05:50:00.765Z"
   },
   {
    "duration": 47,
    "start_time": "2023-10-11T05:50:00.778Z"
   },
   {
    "duration": 38,
    "start_time": "2023-10-11T05:50:00.827Z"
   },
   {
    "duration": 41,
    "start_time": "2023-10-11T05:50:00.866Z"
   },
   {
    "duration": 60,
    "start_time": "2023-10-11T05:50:00.909Z"
   },
   {
    "duration": 51,
    "start_time": "2023-10-11T05:50:00.970Z"
   },
   {
    "duration": 33,
    "start_time": "2023-10-11T05:50:01.022Z"
   },
   {
    "duration": 32,
    "start_time": "2023-10-11T05:50:01.058Z"
   },
   {
    "duration": 27,
    "start_time": "2023-10-11T05:50:01.091Z"
   },
   {
    "duration": 39,
    "start_time": "2023-10-11T05:50:01.119Z"
   },
   {
    "duration": 27,
    "start_time": "2023-10-11T05:50:01.160Z"
   },
   {
    "duration": 53,
    "start_time": "2023-10-11T05:50:01.189Z"
   },
   {
    "duration": 94,
    "start_time": "2023-10-11T05:50:01.243Z"
   },
   {
    "duration": 71,
    "start_time": "2023-10-11T05:50:01.338Z"
   },
   {
    "duration": 41,
    "start_time": "2023-10-11T05:50:01.410Z"
   },
   {
    "duration": 44,
    "start_time": "2023-10-11T05:50:01.453Z"
   },
   {
    "duration": 43,
    "start_time": "2023-10-11T05:50:01.499Z"
   },
   {
    "duration": 24,
    "start_time": "2023-10-11T05:50:01.544Z"
   },
   {
    "duration": 54,
    "start_time": "2023-10-11T05:50:01.569Z"
   },
   {
    "duration": 273,
    "start_time": "2023-10-11T05:50:01.624Z"
   },
   {
    "duration": 267,
    "start_time": "2023-10-11T05:50:01.899Z"
   },
   {
    "duration": 172,
    "start_time": "2023-10-11T05:50:02.167Z"
   },
   {
    "duration": 364,
    "start_time": "2023-10-11T05:50:02.341Z"
   },
   {
    "duration": 195,
    "start_time": "2023-10-11T05:50:02.707Z"
   },
   {
    "duration": 305,
    "start_time": "2023-10-11T05:50:02.903Z"
   },
   {
    "duration": 9,
    "start_time": "2023-10-11T05:50:03.212Z"
   },
   {
    "duration": 137,
    "start_time": "2023-10-11T05:50:03.223Z"
   },
   {
    "duration": 133,
    "start_time": "2023-10-11T05:50:03.362Z"
   },
   {
    "duration": 4,
    "start_time": "2023-10-11T05:50:03.497Z"
   },
   {
    "duration": 155,
    "start_time": "2023-10-11T05:50:03.502Z"
   },
   {
    "duration": 185,
    "start_time": "2023-10-11T05:50:03.658Z"
   },
   {
    "duration": 4,
    "start_time": "2023-10-11T05:50:03.845Z"
   },
   {
    "duration": 206,
    "start_time": "2023-10-11T05:50:03.850Z"
   },
   {
    "duration": 133,
    "start_time": "2023-10-11T05:50:04.058Z"
   },
   {
    "duration": 5,
    "start_time": "2023-10-11T05:50:04.193Z"
   },
   {
    "duration": 30,
    "start_time": "2023-10-11T05:50:04.199Z"
   },
   {
    "duration": 15,
    "start_time": "2023-10-11T05:50:04.230Z"
   },
   {
    "duration": 15,
    "start_time": "2023-10-11T05:50:04.246Z"
   },
   {
    "duration": 7,
    "start_time": "2023-10-11T05:50:04.262Z"
   },
   {
    "duration": 19,
    "start_time": "2023-10-11T05:50:04.270Z"
   },
   {
    "duration": 11,
    "start_time": "2023-10-11T05:50:04.290Z"
   },
   {
    "duration": 21,
    "start_time": "2023-10-11T06:07:21.275Z"
   },
   {
    "duration": 20,
    "start_time": "2023-10-11T06:07:27.165Z"
   },
   {
    "duration": 21,
    "start_time": "2023-10-11T06:07:36.693Z"
   },
   {
    "duration": 19,
    "start_time": "2023-10-11T06:07:59.770Z"
   },
   {
    "duration": 82,
    "start_time": "2023-10-11T06:23:48.153Z"
   },
   {
    "duration": 7,
    "start_time": "2023-10-11T06:23:55.919Z"
   },
   {
    "duration": 5,
    "start_time": "2023-10-11T06:24:08.862Z"
   },
   {
    "duration": 4,
    "start_time": "2023-10-11T06:24:17.982Z"
   },
   {
    "duration": 4,
    "start_time": "2023-10-11T06:27:00.780Z"
   },
   {
    "duration": 4,
    "start_time": "2023-10-11T06:27:06.196Z"
   },
   {
    "duration": 4,
    "start_time": "2023-10-11T06:27:12.844Z"
   },
   {
    "duration": 9,
    "start_time": "2023-10-11T06:27:19.394Z"
   },
   {
    "duration": 4,
    "start_time": "2023-10-11T06:27:38.864Z"
   },
   {
    "duration": 5,
    "start_time": "2023-10-11T06:27:47.788Z"
   },
   {
    "duration": 3,
    "start_time": "2023-10-11T06:30:22.002Z"
   },
   {
    "duration": 4,
    "start_time": "2023-10-11T06:35:26.114Z"
   },
   {
    "duration": 8,
    "start_time": "2023-10-11T06:36:24.985Z"
   },
   {
    "duration": 5,
    "start_time": "2023-10-11T06:36:34.267Z"
   },
   {
    "duration": 5,
    "start_time": "2023-10-11T06:36:46.172Z"
   },
   {
    "duration": 5,
    "start_time": "2023-10-11T06:40:19.912Z"
   },
   {
    "duration": 5,
    "start_time": "2023-10-11T06:42:14.787Z"
   },
   {
    "duration": 5,
    "start_time": "2023-10-11T06:45:50.667Z"
   },
   {
    "duration": 7,
    "start_time": "2023-10-11T06:45:57.859Z"
   },
   {
    "duration": 7,
    "start_time": "2023-10-11T06:46:50.483Z"
   },
   {
    "duration": 5,
    "start_time": "2023-10-11T06:46:55.882Z"
   },
   {
    "duration": 5,
    "start_time": "2023-10-11T06:47:24.057Z"
   },
   {
    "duration": 4,
    "start_time": "2023-10-11T06:47:42.376Z"
   },
   {
    "duration": 12,
    "start_time": "2023-10-11T06:49:07.072Z"
   },
   {
    "duration": 10,
    "start_time": "2023-10-11T06:57:36.014Z"
   },
   {
    "duration": 11,
    "start_time": "2023-10-11T06:57:51.621Z"
   },
   {
    "duration": 6,
    "start_time": "2023-10-11T07:30:57.307Z"
   },
   {
    "duration": 75,
    "start_time": "2023-10-11T08:32:15.296Z"
   },
   {
    "duration": 7,
    "start_time": "2023-10-11T08:32:27.202Z"
   },
   {
    "duration": 10,
    "start_time": "2023-10-11T08:33:49.016Z"
   },
   {
    "duration": 969,
    "start_time": "2023-10-11T09:18:57.971Z"
   },
   {
    "duration": 77,
    "start_time": "2023-10-11T09:18:58.941Z"
   },
   {
    "duration": 9,
    "start_time": "2023-10-11T09:18:59.020Z"
   },
   {
    "duration": 12,
    "start_time": "2023-10-11T09:18:59.031Z"
   },
   {
    "duration": 5,
    "start_time": "2023-10-11T09:18:59.044Z"
   },
   {
    "duration": 6,
    "start_time": "2023-10-11T09:18:59.050Z"
   },
   {
    "duration": 18,
    "start_time": "2023-10-11T09:18:59.057Z"
   },
   {
    "duration": 20,
    "start_time": "2023-10-11T09:18:59.076Z"
   },
   {
    "duration": 5,
    "start_time": "2023-10-11T09:18:59.097Z"
   },
   {
    "duration": 14,
    "start_time": "2023-10-11T09:18:59.104Z"
   },
   {
    "duration": 6,
    "start_time": "2023-10-11T09:18:59.119Z"
   },
   {
    "duration": 13,
    "start_time": "2023-10-11T09:18:59.126Z"
   },
   {
    "duration": 6,
    "start_time": "2023-10-11T09:18:59.141Z"
   },
   {
    "duration": 13,
    "start_time": "2023-10-11T09:18:59.149Z"
   },
   {
    "duration": 25,
    "start_time": "2023-10-11T09:18:59.164Z"
   },
   {
    "duration": 11,
    "start_time": "2023-10-11T09:18:59.191Z"
   },
   {
    "duration": 25,
    "start_time": "2023-10-11T09:18:59.203Z"
   },
   {
    "duration": 13,
    "start_time": "2023-10-11T09:18:59.230Z"
   },
   {
    "duration": 23,
    "start_time": "2023-10-11T09:18:59.244Z"
   },
   {
    "duration": 29,
    "start_time": "2023-10-11T09:18:59.268Z"
   },
   {
    "duration": 17,
    "start_time": "2023-10-11T09:18:59.298Z"
   },
   {
    "duration": 251,
    "start_time": "2023-10-11T09:18:59.316Z"
   },
   {
    "duration": 259,
    "start_time": "2023-10-11T09:18:59.568Z"
   },
   {
    "duration": 168,
    "start_time": "2023-10-11T09:18:59.828Z"
   },
   {
    "duration": 293,
    "start_time": "2023-10-11T09:18:59.998Z"
   },
   {
    "duration": 199,
    "start_time": "2023-10-11T09:19:00.292Z"
   },
   {
    "duration": 290,
    "start_time": "2023-10-11T09:19:00.493Z"
   },
   {
    "duration": 10,
    "start_time": "2023-10-11T09:19:00.788Z"
   },
   {
    "duration": 268,
    "start_time": "2023-10-11T09:19:00.799Z"
   },
   {
    "duration": 133,
    "start_time": "2023-10-11T09:19:01.069Z"
   },
   {
    "duration": 4,
    "start_time": "2023-10-11T09:19:01.204Z"
   },
   {
    "duration": 181,
    "start_time": "2023-10-11T09:19:01.210Z"
   },
   {
    "duration": 189,
    "start_time": "2023-10-11T09:19:01.392Z"
   },
   {
    "duration": 8,
    "start_time": "2023-10-11T09:19:01.582Z"
   },
   {
    "duration": 148,
    "start_time": "2023-10-11T09:19:01.592Z"
   },
   {
    "duration": 195,
    "start_time": "2023-10-11T09:19:01.741Z"
   },
   {
    "duration": 124,
    "start_time": "2023-10-11T09:19:01.937Z"
   },
   {
    "duration": 5,
    "start_time": "2023-10-11T09:19:02.062Z"
   },
   {
    "duration": 47,
    "start_time": "2023-10-11T09:19:02.068Z"
   },
   {
    "duration": 36,
    "start_time": "2023-10-11T09:19:02.116Z"
   },
   {
    "duration": 5,
    "start_time": "2023-10-11T09:19:02.153Z"
   },
   {
    "duration": 23,
    "start_time": "2023-10-11T09:19:02.159Z"
   },
   {
    "duration": 23,
    "start_time": "2023-10-11T09:19:02.183Z"
   },
   {
    "duration": 19,
    "start_time": "2023-10-11T09:19:02.207Z"
   },
   {
    "duration": 27,
    "start_time": "2023-10-11T09:19:02.227Z"
   },
   {
    "duration": 35,
    "start_time": "2023-10-11T09:19:02.255Z"
   },
   {
    "duration": 10,
    "start_time": "2023-10-11T09:19:02.291Z"
   },
   {
    "duration": 8,
    "start_time": "2023-10-11T09:24:44.123Z"
   },
   {
    "duration": 1016,
    "start_time": "2023-10-11T09:38:27.342Z"
   },
   {
    "duration": 78,
    "start_time": "2023-10-11T09:38:28.359Z"
   },
   {
    "duration": 58,
    "start_time": "2023-10-11T09:38:28.438Z"
   },
   {
    "duration": 33,
    "start_time": "2023-10-11T09:38:28.498Z"
   },
   {
    "duration": 9,
    "start_time": "2023-10-11T09:38:28.532Z"
   },
   {
    "duration": 29,
    "start_time": "2023-10-11T09:38:28.542Z"
   },
   {
    "duration": 17,
    "start_time": "2023-10-11T09:38:28.572Z"
   },
   {
    "duration": 12,
    "start_time": "2023-10-11T09:38:28.590Z"
   },
   {
    "duration": 5,
    "start_time": "2023-10-11T09:38:28.603Z"
   },
   {
    "duration": 11,
    "start_time": "2023-10-11T09:38:28.610Z"
   },
   {
    "duration": 5,
    "start_time": "2023-10-11T09:38:28.622Z"
   },
   {
    "duration": 10,
    "start_time": "2023-10-11T09:38:28.628Z"
   },
   {
    "duration": 14,
    "start_time": "2023-10-11T09:38:28.639Z"
   },
   {
    "duration": 9,
    "start_time": "2023-10-11T09:38:28.654Z"
   },
   {
    "duration": 13,
    "start_time": "2023-10-11T09:38:28.664Z"
   },
   {
    "duration": 27,
    "start_time": "2023-10-11T09:38:28.679Z"
   },
   {
    "duration": 17,
    "start_time": "2023-10-11T09:38:28.707Z"
   },
   {
    "duration": 10,
    "start_time": "2023-10-11T09:38:28.726Z"
   },
   {
    "duration": 10,
    "start_time": "2023-10-11T09:38:28.737Z"
   },
   {
    "duration": 259,
    "start_time": "2023-10-11T09:38:28.749Z"
   },
   {
    "duration": 263,
    "start_time": "2023-10-11T09:38:29.009Z"
   },
   {
    "duration": 179,
    "start_time": "2023-10-11T09:38:29.273Z"
   },
   {
    "duration": 299,
    "start_time": "2023-10-11T09:38:29.453Z"
   },
   {
    "duration": 204,
    "start_time": "2023-10-11T09:38:29.754Z"
   },
   {
    "duration": 303,
    "start_time": "2023-10-11T09:38:29.960Z"
   },
   {
    "duration": 10,
    "start_time": "2023-10-11T09:38:30.264Z"
   },
   {
    "duration": 193,
    "start_time": "2023-10-11T09:38:30.276Z"
   },
   {
    "duration": 135,
    "start_time": "2023-10-11T09:38:30.472Z"
   },
   {
    "duration": 146,
    "start_time": "2023-10-11T09:38:30.609Z"
   },
   {
    "duration": 198,
    "start_time": "2023-10-11T09:38:30.757Z"
   },
   {
    "duration": 308,
    "start_time": "2023-10-11T09:38:30.956Z"
   },
   {
    "duration": 375,
    "start_time": "2023-10-11T09:38:31.266Z"
   },
   {
    "duration": 53,
    "start_time": "2023-10-11T09:38:31.643Z"
   },
   {
    "duration": 216,
    "start_time": "2023-10-11T09:38:31.697Z"
   },
   {
    "duration": 152,
    "start_time": "2023-10-11T09:38:31.914Z"
   },
   {
    "duration": 6,
    "start_time": "2023-10-11T09:38:32.067Z"
   },
   {
    "duration": 29,
    "start_time": "2023-10-11T09:38:32.075Z"
   },
   {
    "duration": 45,
    "start_time": "2023-10-11T09:38:32.105Z"
   },
   {
    "duration": 5,
    "start_time": "2023-10-11T09:38:32.152Z"
   },
   {
    "duration": 23,
    "start_time": "2023-10-11T09:38:32.158Z"
   },
   {
    "duration": 12,
    "start_time": "2023-10-11T09:38:32.183Z"
   },
   {
    "duration": 17,
    "start_time": "2023-10-11T09:38:32.197Z"
   },
   {
    "duration": 39,
    "start_time": "2023-10-11T09:38:32.215Z"
   },
   {
    "duration": 77,
    "start_time": "2023-10-11T09:38:32.256Z"
   },
   {
    "duration": 11,
    "start_time": "2023-10-11T09:38:32.334Z"
   },
   {
    "duration": 1358,
    "start_time": "2023-10-11T13:41:15.387Z"
   },
   {
    "duration": 239,
    "start_time": "2023-10-11T13:41:16.747Z"
   },
   {
    "duration": 16,
    "start_time": "2023-10-11T13:41:16.988Z"
   },
   {
    "duration": 39,
    "start_time": "2023-10-11T13:41:17.006Z"
   },
   {
    "duration": 5,
    "start_time": "2023-10-11T13:41:17.047Z"
   },
   {
    "duration": 26,
    "start_time": "2023-10-11T13:41:17.054Z"
   },
   {
    "duration": 46,
    "start_time": "2023-10-11T13:41:17.082Z"
   },
   {
    "duration": 32,
    "start_time": "2023-10-11T13:41:17.131Z"
   },
   {
    "duration": 56,
    "start_time": "2023-10-11T13:41:17.164Z"
   },
   {
    "duration": 25,
    "start_time": "2023-10-11T13:41:17.223Z"
   },
   {
    "duration": 55,
    "start_time": "2023-10-11T13:41:17.250Z"
   },
   {
    "duration": 38,
    "start_time": "2023-10-11T13:41:17.307Z"
   },
   {
    "duration": 18,
    "start_time": "2023-10-11T13:41:17.347Z"
   },
   {
    "duration": 32,
    "start_time": "2023-10-11T13:41:17.368Z"
   },
   {
    "duration": 47,
    "start_time": "2023-10-11T13:41:17.402Z"
   },
   {
    "duration": 97,
    "start_time": "2023-10-11T13:41:17.450Z"
   },
   {
    "duration": 198,
    "start_time": "2023-10-11T13:41:17.549Z"
   },
   {
    "duration": 38,
    "start_time": "2023-10-11T13:41:17.749Z"
   },
   {
    "duration": 51,
    "start_time": "2023-10-11T13:41:17.790Z"
   },
   {
    "duration": 364,
    "start_time": "2023-10-11T13:41:17.843Z"
   },
   {
    "duration": 377,
    "start_time": "2023-10-11T13:41:18.209Z"
   },
   {
    "duration": 280,
    "start_time": "2023-10-11T13:41:18.588Z"
   },
   {
    "duration": 426,
    "start_time": "2023-10-11T13:41:18.869Z"
   },
   {
    "duration": 297,
    "start_time": "2023-10-11T13:41:19.297Z"
   },
   {
    "duration": 388,
    "start_time": "2023-10-11T13:41:19.596Z"
   },
   {
    "duration": 69,
    "start_time": "2023-10-11T13:41:19.986Z"
   },
   {
    "duration": 227,
    "start_time": "2023-10-11T13:41:20.057Z"
   },
   {
    "duration": 188,
    "start_time": "2023-10-11T13:41:20.286Z"
   },
   {
    "duration": 5,
    "start_time": "2023-10-11T13:41:20.477Z"
   },
   {
    "duration": 239,
    "start_time": "2023-10-11T13:41:20.484Z"
   },
   {
    "duration": 281,
    "start_time": "2023-10-11T13:41:20.725Z"
   },
   {
    "duration": 14,
    "start_time": "2023-10-11T13:41:21.009Z"
   },
   {
    "duration": 187,
    "start_time": "2023-10-11T13:41:21.025Z"
   },
   {
    "duration": 659,
    "start_time": "2023-10-11T13:41:21.214Z"
   },
   {
    "duration": 179,
    "start_time": "2023-10-11T13:41:21.876Z"
   },
   {
    "duration": 9,
    "start_time": "2023-10-11T13:41:22.057Z"
   },
   {
    "duration": 74,
    "start_time": "2023-10-11T13:41:22.068Z"
   },
   {
    "duration": 46,
    "start_time": "2023-10-11T13:41:22.144Z"
   },
   {
    "duration": 27,
    "start_time": "2023-10-11T13:41:22.192Z"
   },
   {
    "duration": 28,
    "start_time": "2023-10-11T13:41:22.226Z"
   },
   {
    "duration": 39,
    "start_time": "2023-10-11T13:41:22.258Z"
   },
   {
    "duration": 35,
    "start_time": "2023-10-11T13:41:22.299Z"
   },
   {
    "duration": 31,
    "start_time": "2023-10-11T13:41:22.342Z"
   },
   {
    "duration": 70,
    "start_time": "2023-10-11T13:41:22.375Z"
   },
   {
    "duration": 13,
    "start_time": "2023-10-11T13:41:22.447Z"
   },
   {
    "duration": 50,
    "start_time": "2023-10-12T07:08:12.250Z"
   },
   {
    "duration": 1379,
    "start_time": "2023-10-12T07:08:22.243Z"
   },
   {
    "duration": 242,
    "start_time": "2023-10-12T07:08:25.543Z"
   },
   {
    "duration": 13,
    "start_time": "2023-10-12T07:08:28.515Z"
   },
   {
    "duration": 12,
    "start_time": "2023-10-12T07:08:32.610Z"
   },
   {
    "duration": 7,
    "start_time": "2023-10-12T07:10:11.624Z"
   },
   {
    "duration": 6,
    "start_time": "2023-10-12T07:10:41.742Z"
   },
   {
    "duration": 3,
    "start_time": "2023-10-12T07:11:50.545Z"
   },
   {
    "duration": 8,
    "start_time": "2023-10-12T07:11:55.707Z"
   },
   {
    "duration": 12,
    "start_time": "2023-10-12T07:11:58.204Z"
   },
   {
    "duration": 7,
    "start_time": "2023-10-12T07:12:20.169Z"
   },
   {
    "duration": 7,
    "start_time": "2023-10-12T07:12:26.241Z"
   },
   {
    "duration": 4,
    "start_time": "2023-10-12T07:12:28.004Z"
   },
   {
    "duration": 7,
    "start_time": "2023-10-12T07:12:30.217Z"
   },
   {
    "duration": 15,
    "start_time": "2023-10-12T07:12:32.452Z"
   },
   {
    "duration": 5,
    "start_time": "2023-10-12T07:12:50.892Z"
   },
   {
    "duration": 4,
    "start_time": "2023-10-12T07:12:57.084Z"
   },
   {
    "duration": 6,
    "start_time": "2023-10-12T07:12:59.294Z"
   },
   {
    "duration": 18,
    "start_time": "2023-10-12T07:18:50.923Z"
   },
   {
    "duration": 9,
    "start_time": "2023-10-12T08:11:46.773Z"
   },
   {
    "duration": 10,
    "start_time": "2023-10-12T08:11:54.818Z"
   },
   {
    "duration": 10,
    "start_time": "2023-10-12T08:12:08.371Z"
   },
   {
    "duration": 9,
    "start_time": "2023-10-12T08:12:13.314Z"
   },
   {
    "duration": 23,
    "start_time": "2023-10-12T08:12:59.665Z"
   },
   {
    "duration": 12,
    "start_time": "2023-10-12T08:20:20.319Z"
   },
   {
    "duration": 14,
    "start_time": "2023-10-12T08:54:02.220Z"
   },
   {
    "duration": 8,
    "start_time": "2023-10-12T09:04:59.170Z"
   },
   {
    "duration": 10,
    "start_time": "2023-10-12T09:06:35.951Z"
   },
   {
    "duration": 120,
    "start_time": "2023-10-12T09:07:22.421Z"
   },
   {
    "duration": 92,
    "start_time": "2023-10-12T09:07:39.585Z"
   },
   {
    "duration": 87,
    "start_time": "2023-10-12T09:07:54.653Z"
   },
   {
    "duration": 8,
    "start_time": "2023-10-12T09:08:09.690Z"
   },
   {
    "duration": 9,
    "start_time": "2023-10-12T09:12:36.822Z"
   },
   {
    "duration": 12,
    "start_time": "2023-10-12T09:15:39.623Z"
   },
   {
    "duration": 12,
    "start_time": "2023-10-12T09:23:56.891Z"
   },
   {
    "duration": 13,
    "start_time": "2023-10-12T09:26:35.758Z"
   },
   {
    "duration": 5,
    "start_time": "2023-10-12T09:31:05.790Z"
   },
   {
    "duration": 4,
    "start_time": "2023-10-12T09:31:14.142Z"
   },
   {
    "duration": 4,
    "start_time": "2023-10-12T09:31:32.225Z"
   },
   {
    "duration": 4,
    "start_time": "2023-10-12T09:31:55.630Z"
   },
   {
    "duration": 311,
    "start_time": "2023-10-12T09:40:46.415Z"
   },
   {
    "duration": 314,
    "start_time": "2023-10-12T09:40:50.667Z"
   },
   {
    "duration": 235,
    "start_time": "2023-10-12T09:40:55.961Z"
   },
   {
    "duration": 362,
    "start_time": "2023-10-12T09:40:59.071Z"
   },
   {
    "duration": 263,
    "start_time": "2023-10-12T09:41:33.540Z"
   },
   {
    "duration": 247,
    "start_time": "2023-10-12T09:43:56.864Z"
   },
   {
    "duration": 1210,
    "start_time": "2023-10-12T09:44:23.828Z"
   },
   {
    "duration": 78,
    "start_time": "2023-10-12T09:44:26.789Z"
   },
   {
    "duration": 13,
    "start_time": "2023-10-12T09:44:29.672Z"
   },
   {
    "duration": 13,
    "start_time": "2023-10-12T09:44:32.139Z"
   },
   {
    "duration": 7,
    "start_time": "2023-10-12T09:44:40.453Z"
   },
   {
    "duration": 21,
    "start_time": "2023-10-12T09:44:42.617Z"
   },
   {
    "duration": 3,
    "start_time": "2023-10-12T09:44:47.080Z"
   },
   {
    "duration": 8,
    "start_time": "2023-10-12T09:44:49.035Z"
   },
   {
    "duration": 12,
    "start_time": "2023-10-12T09:44:51.148Z"
   },
   {
    "duration": 6,
    "start_time": "2023-10-12T09:44:53.137Z"
   },
   {
    "duration": 8,
    "start_time": "2023-10-12T09:44:55.314Z"
   },
   {
    "duration": 5,
    "start_time": "2023-10-12T09:44:57.532Z"
   },
   {
    "duration": 8,
    "start_time": "2023-10-12T09:44:59.383Z"
   },
   {
    "duration": 12,
    "start_time": "2023-10-12T09:45:01.529Z"
   },
   {
    "duration": 6,
    "start_time": "2023-10-12T09:45:03.695Z"
   },
   {
    "duration": 4,
    "start_time": "2023-10-12T09:45:06.595Z"
   },
   {
    "duration": 5,
    "start_time": "2023-10-12T09:45:08.452Z"
   },
   {
    "duration": 13,
    "start_time": "2023-10-12T09:45:13.114Z"
   },
   {
    "duration": 13,
    "start_time": "2023-10-12T09:45:16.688Z"
   },
   {
    "duration": 14,
    "start_time": "2023-10-12T09:45:20.908Z"
   },
   {
    "duration": 4,
    "start_time": "2023-10-12T09:45:25.994Z"
   },
   {
    "duration": 327,
    "start_time": "2023-10-12T09:45:31.836Z"
   },
   {
    "duration": 315,
    "start_time": "2023-10-12T09:45:36.153Z"
   },
   {
    "duration": 221,
    "start_time": "2023-10-12T09:45:40.389Z"
   },
   {
    "duration": 367,
    "start_time": "2023-10-12T09:45:46.906Z"
   },
   {
    "duration": 271,
    "start_time": "2023-10-12T09:51:06.129Z"
   },
   {
    "duration": 434,
    "start_time": "2023-10-12T09:53:58.542Z"
   },
   {
    "duration": 388,
    "start_time": "2023-10-12T09:55:42.527Z"
   },
   {
    "duration": 352,
    "start_time": "2023-10-12T09:55:52.866Z"
   },
   {
    "duration": 11,
    "start_time": "2023-10-12T09:56:44.671Z"
   },
   {
    "duration": 159,
    "start_time": "2023-10-12T09:56:47.186Z"
   },
   {
    "duration": 233,
    "start_time": "2023-10-12T09:56:49.510Z"
   },
   {
    "duration": 5,
    "start_time": "2023-10-12T09:56:59.258Z"
   },
   {
    "duration": 174,
    "start_time": "2023-10-12T09:57:04.231Z"
   },
   {
    "duration": 159,
    "start_time": "2023-10-12T09:57:06.957Z"
   },
   {
    "duration": 10,
    "start_time": "2023-10-12T09:57:09.665Z"
   },
   {
    "duration": 5,
    "start_time": "2023-10-12T09:57:12.484Z"
   },
   {
    "duration": 216,
    "start_time": "2023-10-12T10:02:55.126Z"
   },
   {
    "duration": 11,
    "start_time": "2023-10-12T10:04:09.080Z"
   },
   {
    "duration": 162,
    "start_time": "2023-10-12T10:05:25.615Z"
   },
   {
    "duration": 158,
    "start_time": "2023-10-12T10:17:47.273Z"
   },
   {
    "duration": 8,
    "start_time": "2023-10-12T10:19:04.139Z"
   },
   {
    "duration": 6,
    "start_time": "2023-10-12T10:19:20.990Z"
   },
   {
    "duration": 238,
    "start_time": "2023-10-12T10:19:33.828Z"
   },
   {
    "duration": 5,
    "start_time": "2023-10-12T10:19:52.589Z"
   },
   {
    "duration": 5,
    "start_time": "2023-10-12T10:22:20.266Z"
   },
   {
    "duration": 5,
    "start_time": "2023-10-12T10:22:22.908Z"
   },
   {
    "duration": 6,
    "start_time": "2023-10-12T10:22:46.549Z"
   },
   {
    "duration": 9,
    "start_time": "2023-10-12T10:34:37.639Z"
   },
   {
    "duration": 6,
    "start_time": "2023-10-12T10:34:50.610Z"
   },
   {
    "duration": 30,
    "start_time": "2023-10-12T10:37:27.315Z"
   },
   {
    "duration": 29,
    "start_time": "2023-10-12T10:38:00.474Z"
   },
   {
    "duration": 7,
    "start_time": "2023-10-12T10:39:26.088Z"
   },
   {
    "duration": 7,
    "start_time": "2023-10-12T10:39:28.381Z"
   },
   {
    "duration": 10,
    "start_time": "2023-10-12T10:39:34.101Z"
   },
   {
    "duration": 12,
    "start_time": "2023-10-12T10:41:48.135Z"
   },
   {
    "duration": 4,
    "start_time": "2023-10-12T10:43:28.208Z"
   },
   {
    "duration": 4,
    "start_time": "2023-10-12T10:44:11.276Z"
   },
   {
    "duration": 4,
    "start_time": "2023-10-12T10:44:14.943Z"
   },
   {
    "duration": 4,
    "start_time": "2023-10-12T10:44:28.361Z"
   },
   {
    "duration": 5,
    "start_time": "2023-10-12T10:44:42.689Z"
   },
   {
    "duration": 192,
    "start_time": "2023-10-12T10:45:42.177Z"
   },
   {
    "duration": 5,
    "start_time": "2023-10-12T10:45:48.482Z"
   },
   {
    "duration": 10,
    "start_time": "2023-10-12T11:05:58.824Z"
   },
   {
    "duration": 4,
    "start_time": "2023-10-12T11:08:12.155Z"
   },
   {
    "duration": 8,
    "start_time": "2023-10-12T11:12:22.727Z"
   },
   {
    "duration": 31,
    "start_time": "2023-10-12T11:12:50.364Z"
   },
   {
    "duration": 12,
    "start_time": "2023-10-12T11:13:23.778Z"
   },
   {
    "duration": 1195,
    "start_time": "2023-10-12T11:21:45.838Z"
   },
   {
    "duration": 78,
    "start_time": "2023-10-12T11:21:47.035Z"
   },
   {
    "duration": 13,
    "start_time": "2023-10-12T11:21:47.114Z"
   },
   {
    "duration": 31,
    "start_time": "2023-10-12T11:21:47.129Z"
   },
   {
    "duration": 14,
    "start_time": "2023-10-12T11:21:47.162Z"
   },
   {
    "duration": 37,
    "start_time": "2023-10-12T11:21:47.177Z"
   },
   {
    "duration": 13,
    "start_time": "2023-10-12T11:21:47.216Z"
   },
   {
    "duration": 35,
    "start_time": "2023-10-12T11:21:47.231Z"
   },
   {
    "duration": 32,
    "start_time": "2023-10-12T11:21:47.268Z"
   },
   {
    "duration": 60,
    "start_time": "2023-10-12T11:21:47.303Z"
   },
   {
    "duration": 30,
    "start_time": "2023-10-12T11:21:47.365Z"
   },
   {
    "duration": 33,
    "start_time": "2023-10-12T11:21:47.397Z"
   },
   {
    "duration": 30,
    "start_time": "2023-10-12T11:21:47.432Z"
   },
   {
    "duration": 20,
    "start_time": "2023-10-12T11:21:47.464Z"
   },
   {
    "duration": 13,
    "start_time": "2023-10-12T11:21:47.486Z"
   },
   {
    "duration": 38,
    "start_time": "2023-10-12T11:21:47.501Z"
   },
   {
    "duration": 26,
    "start_time": "2023-10-12T11:21:47.541Z"
   },
   {
    "duration": 37,
    "start_time": "2023-10-12T11:21:47.569Z"
   },
   {
    "duration": 23,
    "start_time": "2023-10-12T11:21:47.607Z"
   },
   {
    "duration": 32,
    "start_time": "2023-10-12T11:21:47.632Z"
   },
   {
    "duration": 25,
    "start_time": "2023-10-12T11:21:47.665Z"
   },
   {
    "duration": 331,
    "start_time": "2023-10-12T11:21:47.692Z"
   },
   {
    "duration": 338,
    "start_time": "2023-10-12T11:21:48.025Z"
   },
   {
    "duration": 231,
    "start_time": "2023-10-12T11:21:48.365Z"
   },
   {
    "duration": 340,
    "start_time": "2023-10-12T11:21:48.597Z"
   },
   {
    "duration": 280,
    "start_time": "2023-10-12T11:21:48.939Z"
   },
   {
    "duration": 391,
    "start_time": "2023-10-12T11:21:49.221Z"
   },
   {
    "duration": 12,
    "start_time": "2023-10-12T11:21:49.616Z"
   },
   {
    "duration": 184,
    "start_time": "2023-10-12T11:21:49.630Z"
   },
   {
    "duration": 173,
    "start_time": "2023-10-12T11:21:49.815Z"
   },
   {
    "duration": 5,
    "start_time": "2023-10-12T11:21:49.990Z"
   },
   {
    "duration": 216,
    "start_time": "2023-10-12T11:21:49.997Z"
   },
   {
    "duration": 276,
    "start_time": "2023-10-12T11:21:50.215Z"
   },
   {
    "duration": 10,
    "start_time": "2023-10-12T11:21:50.493Z"
   },
   {
    "duration": 204,
    "start_time": "2023-10-12T11:21:50.505Z"
   },
   {
    "duration": 5,
    "start_time": "2023-10-12T11:21:50.710Z"
   },
   {
    "duration": 8,
    "start_time": "2023-10-12T11:21:50.717Z"
   },
   {
    "duration": 174,
    "start_time": "2023-10-12T11:21:50.727Z"
   },
   {
    "duration": 8,
    "start_time": "2023-10-12T11:21:50.903Z"
   },
   {
    "duration": 18,
    "start_time": "2023-10-12T11:21:50.913Z"
   },
   {
    "duration": 43,
    "start_time": "2023-10-12T11:21:50.933Z"
   },
   {
    "duration": 27,
    "start_time": "2023-10-12T11:21:50.977Z"
   },
   {
    "duration": 19,
    "start_time": "2023-10-12T11:21:51.006Z"
   },
   {
    "duration": 35,
    "start_time": "2023-10-12T11:21:51.027Z"
   },
   {
    "duration": 44,
    "start_time": "2023-10-12T11:21:51.064Z"
   },
   {
    "duration": 78,
    "start_time": "2023-10-12T11:21:51.109Z"
   },
   {
    "duration": 126,
    "start_time": "2023-10-12T11:21:51.189Z"
   },
   {
    "duration": 0,
    "start_time": "2023-10-12T11:21:51.316Z"
   },
   {
    "duration": 0,
    "start_time": "2023-10-12T11:21:51.318Z"
   },
   {
    "duration": 10,
    "start_time": "2023-10-12T11:22:49.332Z"
   },
   {
    "duration": 29,
    "start_time": "2023-10-12T11:22:53.387Z"
   },
   {
    "duration": 13,
    "start_time": "2023-10-12T11:23:01.796Z"
   },
   {
    "duration": 1187,
    "start_time": "2023-10-12T11:29:20.047Z"
   },
   {
    "duration": 78,
    "start_time": "2023-10-12T11:29:21.236Z"
   },
   {
    "duration": 13,
    "start_time": "2023-10-12T11:29:21.315Z"
   },
   {
    "duration": 26,
    "start_time": "2023-10-12T11:29:21.330Z"
   },
   {
    "duration": 16,
    "start_time": "2023-10-12T11:29:21.358Z"
   },
   {
    "duration": 49,
    "start_time": "2023-10-12T11:29:21.375Z"
   },
   {
    "duration": 3,
    "start_time": "2023-10-12T11:29:21.426Z"
   },
   {
    "duration": 14,
    "start_time": "2023-10-12T11:29:21.431Z"
   },
   {
    "duration": 17,
    "start_time": "2023-10-12T11:29:21.447Z"
   },
   {
    "duration": 11,
    "start_time": "2023-10-12T11:29:21.467Z"
   },
   {
    "duration": 20,
    "start_time": "2023-10-12T11:29:21.479Z"
   },
   {
    "duration": 40,
    "start_time": "2023-10-12T11:29:21.502Z"
   },
   {
    "duration": 40,
    "start_time": "2023-10-12T11:29:21.543Z"
   },
   {
    "duration": 31,
    "start_time": "2023-10-12T11:29:21.585Z"
   },
   {
    "duration": 15,
    "start_time": "2023-10-12T11:29:21.617Z"
   },
   {
    "duration": 17,
    "start_time": "2023-10-12T11:29:21.634Z"
   },
   {
    "duration": 12,
    "start_time": "2023-10-12T11:29:21.653Z"
   },
   {
    "duration": 34,
    "start_time": "2023-10-12T11:29:21.666Z"
   },
   {
    "duration": 13,
    "start_time": "2023-10-12T11:29:21.702Z"
   },
   {
    "duration": 19,
    "start_time": "2023-10-12T11:29:21.717Z"
   },
   {
    "duration": 32,
    "start_time": "2023-10-12T11:29:21.738Z"
   },
   {
    "duration": 312,
    "start_time": "2023-10-12T11:29:21.772Z"
   },
   {
    "duration": 327,
    "start_time": "2023-10-12T11:29:22.086Z"
   },
   {
    "duration": 232,
    "start_time": "2023-10-12T11:29:22.415Z"
   },
   {
    "duration": 353,
    "start_time": "2023-10-12T11:29:22.649Z"
   },
   {
    "duration": 265,
    "start_time": "2023-10-12T11:29:23.003Z"
   },
   {
    "duration": 352,
    "start_time": "2023-10-12T11:29:23.270Z"
   },
   {
    "duration": 21,
    "start_time": "2023-10-12T11:29:23.626Z"
   },
   {
    "duration": 165,
    "start_time": "2023-10-12T11:29:23.649Z"
   },
   {
    "duration": 165,
    "start_time": "2023-10-12T11:29:23.816Z"
   },
   {
    "duration": 6,
    "start_time": "2023-10-12T11:29:23.983Z"
   },
   {
    "duration": 213,
    "start_time": "2023-10-12T11:29:23.990Z"
   },
   {
    "duration": 247,
    "start_time": "2023-10-12T11:29:24.204Z"
   },
   {
    "duration": 10,
    "start_time": "2023-10-12T11:29:24.452Z"
   },
   {
    "duration": 181,
    "start_time": "2023-10-12T11:29:24.463Z"
   },
   {
    "duration": 5,
    "start_time": "2023-10-12T11:29:24.646Z"
   },
   {
    "duration": 13,
    "start_time": "2023-10-12T11:29:24.653Z"
   },
   {
    "duration": 152,
    "start_time": "2023-10-12T11:29:24.668Z"
   },
   {
    "duration": 9,
    "start_time": "2023-10-12T11:29:24.821Z"
   },
   {
    "duration": 9,
    "start_time": "2023-10-12T11:29:24.832Z"
   },
   {
    "duration": 31,
    "start_time": "2023-10-12T11:29:24.842Z"
   },
   {
    "duration": 6,
    "start_time": "2023-10-12T11:29:24.874Z"
   },
   {
    "duration": 16,
    "start_time": "2023-10-12T11:29:24.882Z"
   },
   {
    "duration": 27,
    "start_time": "2023-10-12T11:29:24.899Z"
   },
   {
    "duration": 29,
    "start_time": "2023-10-12T11:29:24.928Z"
   },
   {
    "duration": 17,
    "start_time": "2023-10-12T11:29:24.959Z"
   },
   {
    "duration": 26,
    "start_time": "2023-10-12T11:29:24.978Z"
   },
   {
    "duration": 31,
    "start_time": "2023-10-12T11:29:25.005Z"
   },
   {
    "duration": 12,
    "start_time": "2023-10-12T11:29:25.038Z"
   },
   {
    "duration": 1150,
    "start_time": "2023-10-12T11:35:15.495Z"
   },
   {
    "duration": 81,
    "start_time": "2023-10-12T11:35:18.169Z"
   },
   {
    "duration": 13,
    "start_time": "2023-10-12T11:35:20.404Z"
   },
   {
    "duration": 12,
    "start_time": "2023-10-12T11:35:23.964Z"
   },
   {
    "duration": 7,
    "start_time": "2023-10-12T11:35:27.086Z"
   },
   {
    "duration": 23,
    "start_time": "2023-10-12T11:35:30.702Z"
   },
   {
    "duration": 4,
    "start_time": "2023-10-12T11:35:33.554Z"
   },
   {
    "duration": 9,
    "start_time": "2023-10-12T11:35:35.493Z"
   },
   {
    "duration": 12,
    "start_time": "2023-10-12T11:35:37.785Z"
   },
   {
    "duration": 7,
    "start_time": "2023-10-12T11:35:39.705Z"
   },
   {
    "duration": 6,
    "start_time": "2023-10-12T11:35:42.282Z"
   },
   {
    "duration": 5,
    "start_time": "2023-10-12T11:35:44.286Z"
   },
   {
    "duration": 7,
    "start_time": "2023-10-12T11:35:46.797Z"
   },
   {
    "duration": 11,
    "start_time": "2023-10-12T11:35:48.736Z"
   },
   {
    "duration": 6,
    "start_time": "2023-10-12T11:35:51.122Z"
   },
   {
    "duration": 4,
    "start_time": "2023-10-12T11:35:54.488Z"
   },
   {
    "duration": 4,
    "start_time": "2023-10-12T11:35:56.267Z"
   },
   {
    "duration": 13,
    "start_time": "2023-10-12T11:35:59.886Z"
   },
   {
    "duration": 12,
    "start_time": "2023-10-12T11:36:03.410Z"
   },
   {
    "duration": 16,
    "start_time": "2023-10-12T11:36:10.101Z"
   },
   {
    "duration": 4,
    "start_time": "2023-10-12T11:36:13.360Z"
   },
   {
    "duration": 302,
    "start_time": "2023-10-12T11:36:17.190Z"
   },
   {
    "duration": 326,
    "start_time": "2023-10-12T11:36:19.881Z"
   },
   {
    "duration": 219,
    "start_time": "2023-10-12T11:36:22.542Z"
   },
   {
    "duration": 373,
    "start_time": "2023-10-12T11:36:25.545Z"
   },
   {
    "duration": 250,
    "start_time": "2023-10-12T11:36:28.275Z"
   },
   {
    "duration": 353,
    "start_time": "2023-10-12T11:36:33.603Z"
   },
   {
    "duration": 13,
    "start_time": "2023-10-12T11:36:41.860Z"
   },
   {
    "duration": 151,
    "start_time": "2023-10-12T11:36:44.218Z"
   },
   {
    "duration": 156,
    "start_time": "2023-10-12T11:36:46.620Z"
   },
   {
    "duration": 5,
    "start_time": "2023-10-12T11:36:49.279Z"
   },
   {
    "duration": 173,
    "start_time": "2023-10-12T11:36:55.488Z"
   },
   {
    "duration": 243,
    "start_time": "2023-10-12T11:37:02.970Z"
   },
   {
    "duration": 10,
    "start_time": "2023-10-12T11:37:05.869Z"
   },
   {
    "duration": 162,
    "start_time": "2023-10-12T11:37:08.033Z"
   },
   {
    "duration": 5,
    "start_time": "2023-10-12T11:37:10.855Z"
   },
   {
    "duration": 154,
    "start_time": "2023-10-12T11:37:16.753Z"
   },
   {
    "duration": 9,
    "start_time": "2023-10-12T11:37:19.323Z"
   },
   {
    "duration": 7,
    "start_time": "2023-10-12T11:37:21.514Z"
   },
   {
    "duration": 28,
    "start_time": "2023-10-12T11:37:23.486Z"
   },
   {
    "duration": 8,
    "start_time": "2023-10-12T11:37:26.464Z"
   },
   {
    "duration": 7,
    "start_time": "2023-10-12T11:37:28.178Z"
   },
   {
    "duration": 12,
    "start_time": "2023-10-12T11:37:30.597Z"
   },
   {
    "duration": 11,
    "start_time": "2023-10-12T11:37:33.177Z"
   },
   {
    "duration": 4,
    "start_time": "2023-10-12T11:37:35.581Z"
   },
   {
    "duration": 10,
    "start_time": "2023-10-12T11:37:41.205Z"
   },
   {
    "duration": 27,
    "start_time": "2023-10-12T11:37:43.616Z"
   },
   {
    "duration": 13,
    "start_time": "2023-10-12T11:37:46.486Z"
   },
   {
    "duration": 1267,
    "start_time": "2023-10-17T06:45:36.380Z"
   },
   {
    "duration": 246,
    "start_time": "2023-10-17T06:45:37.656Z"
   },
   {
    "duration": 166,
    "start_time": "2023-10-17T06:45:37.904Z"
   },
   {
    "duration": 330,
    "start_time": "2023-10-17T06:45:38.074Z"
   },
   {
    "duration": 129,
    "start_time": "2023-10-17T06:45:38.406Z"
   },
   {
    "duration": 101,
    "start_time": "2023-10-17T06:45:38.542Z"
   },
   {
    "duration": 268,
    "start_time": "2023-10-17T06:45:38.648Z"
   },
   {
    "duration": 393,
    "start_time": "2023-10-17T06:45:38.918Z"
   },
   {
    "duration": 326,
    "start_time": "2023-10-17T06:45:39.314Z"
   },
   {
    "duration": 223,
    "start_time": "2023-10-17T06:45:39.644Z"
   },
   {
    "duration": 96,
    "start_time": "2023-10-17T06:45:39.869Z"
   },
   {
    "duration": 107,
    "start_time": "2023-10-17T06:45:39.967Z"
   },
   {
    "duration": 104,
    "start_time": "2023-10-17T06:45:40.076Z"
   },
   {
    "duration": 172,
    "start_time": "2023-10-17T06:45:40.182Z"
   },
   {
    "duration": 221,
    "start_time": "2023-10-17T06:45:40.359Z"
   },
   {
    "duration": 122,
    "start_time": "2023-10-17T06:45:40.582Z"
   },
   {
    "duration": 129,
    "start_time": "2023-10-17T06:45:40.706Z"
   },
   {
    "duration": 321,
    "start_time": "2023-10-17T06:45:40.842Z"
   },
   {
    "duration": 243,
    "start_time": "2023-10-17T06:45:41.165Z"
   },
   {
    "duration": 209,
    "start_time": "2023-10-17T06:45:41.410Z"
   },
   {
    "duration": 123,
    "start_time": "2023-10-17T06:45:41.621Z"
   },
   {
    "duration": 363,
    "start_time": "2023-10-17T06:45:41.746Z"
   },
   {
    "duration": 383,
    "start_time": "2023-10-17T06:45:42.112Z"
   },
   {
    "duration": 264,
    "start_time": "2023-10-17T06:45:42.496Z"
   },
   {
    "duration": 358,
    "start_time": "2023-10-17T06:45:42.761Z"
   },
   {
    "duration": 378,
    "start_time": "2023-10-17T06:45:43.123Z"
   },
   {
    "duration": 412,
    "start_time": "2023-10-17T06:45:43.503Z"
   },
   {
    "duration": 19,
    "start_time": "2023-10-17T06:45:43.926Z"
   },
   {
    "duration": 367,
    "start_time": "2023-10-17T06:45:43.947Z"
   },
   {
    "duration": 241,
    "start_time": "2023-10-17T06:45:44.317Z"
   },
   {
    "duration": 55,
    "start_time": "2023-10-17T06:45:44.562Z"
   },
   {
    "duration": 359,
    "start_time": "2023-10-17T06:45:44.620Z"
   },
   {
    "duration": 268,
    "start_time": "2023-10-17T06:45:44.982Z"
   },
   {
    "duration": 18,
    "start_time": "2023-10-17T06:45:45.252Z"
   },
   {
    "duration": 329,
    "start_time": "2023-10-17T06:45:45.271Z"
   },
   {
    "duration": 8,
    "start_time": "2023-10-17T06:45:45.602Z"
   },
   {
    "duration": 160,
    "start_time": "2023-10-17T06:45:45.637Z"
   },
   {
    "duration": 350,
    "start_time": "2023-10-17T06:45:45.799Z"
   },
   {
    "duration": 11,
    "start_time": "2023-10-17T06:45:46.151Z"
   },
   {
    "duration": 102,
    "start_time": "2023-10-17T06:45:46.164Z"
   },
   {
    "duration": 66,
    "start_time": "2023-10-17T06:45:46.267Z"
   },
   {
    "duration": 7,
    "start_time": "2023-10-17T06:45:46.341Z"
   },
   {
    "duration": 242,
    "start_time": "2023-10-17T06:45:46.350Z"
   },
   {
    "duration": 61,
    "start_time": "2023-10-17T06:45:46.595Z"
   },
   {
    "duration": 85,
    "start_time": "2023-10-17T06:45:46.658Z"
   },
   {
    "duration": 33,
    "start_time": "2023-10-17T06:45:46.746Z"
   },
   {
    "duration": 63,
    "start_time": "2023-10-17T06:45:46.781Z"
   },
   {
    "duration": 279,
    "start_time": "2023-10-17T06:45:46.846Z"
   },
   {
    "duration": 140,
    "start_time": "2023-10-17T06:45:47.128Z"
   },
   {
    "duration": 17,
    "start_time": "2023-10-17T07:02:59.664Z"
   },
   {
    "duration": 13,
    "start_time": "2023-10-17T07:03:13.325Z"
   },
   {
    "duration": 1375,
    "start_time": "2023-10-23T07:15:31.866Z"
   },
   {
    "duration": 188,
    "start_time": "2023-10-23T07:15:34.673Z"
   },
   {
    "duration": 13,
    "start_time": "2023-10-23T07:15:37.176Z"
   },
   {
    "duration": 12,
    "start_time": "2023-10-23T07:15:39.570Z"
   },
   {
    "duration": 6,
    "start_time": "2023-10-23T07:15:42.249Z"
   },
   {
    "duration": 4,
    "start_time": "2023-10-23T07:15:44.907Z"
   },
   {
    "duration": 8,
    "start_time": "2023-10-23T07:15:46.810Z"
   },
   {
    "duration": 15,
    "start_time": "2023-10-23T07:16:02.362Z"
   },
   {
    "duration": 5,
    "start_time": "2023-10-23T07:16:14.372Z"
   },
   {
    "duration": 12,
    "start_time": "2023-10-23T07:16:16.394Z"
   },
   {
    "duration": 6,
    "start_time": "2023-10-23T07:16:19.378Z"
   },
   {
    "duration": 1214,
    "start_time": "2023-10-23T07:18:09.744Z"
   },
   {
    "duration": 76,
    "start_time": "2023-10-23T07:18:10.960Z"
   },
   {
    "duration": 12,
    "start_time": "2023-10-23T07:18:11.038Z"
   },
   {
    "duration": 29,
    "start_time": "2023-10-23T07:18:11.052Z"
   },
   {
    "duration": 11,
    "start_time": "2023-10-23T07:18:11.083Z"
   },
   {
    "duration": 22,
    "start_time": "2023-10-23T07:18:11.096Z"
   },
   {
    "duration": 16,
    "start_time": "2023-10-23T07:18:11.120Z"
   },
   {
    "duration": 20,
    "start_time": "2023-10-23T07:18:11.138Z"
   },
   {
    "duration": 9,
    "start_time": "2023-10-23T07:18:11.159Z"
   },
   {
    "duration": 7,
    "start_time": "2023-10-23T07:18:11.171Z"
   },
   {
    "duration": 31,
    "start_time": "2023-10-23T07:18:11.180Z"
   },
   {
    "duration": 14,
    "start_time": "2023-10-23T07:18:11.213Z"
   },
   {
    "duration": 24,
    "start_time": "2023-10-23T07:18:11.228Z"
   },
   {
    "duration": 25,
    "start_time": "2023-10-23T07:18:11.253Z"
   },
   {
    "duration": 8,
    "start_time": "2023-10-23T07:18:11.279Z"
   },
   {
    "duration": 29,
    "start_time": "2023-10-23T07:18:11.288Z"
   },
   {
    "duration": 19,
    "start_time": "2023-10-23T07:18:11.320Z"
   },
   {
    "duration": 12,
    "start_time": "2023-10-23T07:18:11.341Z"
   },
   {
    "duration": 14,
    "start_time": "2023-10-23T07:18:11.356Z"
   },
   {
    "duration": 15,
    "start_time": "2023-10-23T07:18:11.372Z"
   },
   {
    "duration": 319,
    "start_time": "2023-10-23T07:18:11.389Z"
   },
   {
    "duration": 313,
    "start_time": "2023-10-23T07:18:11.710Z"
   },
   {
    "duration": 251,
    "start_time": "2023-10-23T07:18:12.025Z"
   },
   {
    "duration": 330,
    "start_time": "2023-10-23T07:18:12.278Z"
   },
   {
    "duration": 260,
    "start_time": "2023-10-23T07:18:12.609Z"
   },
   {
    "duration": 364,
    "start_time": "2023-10-23T07:18:12.870Z"
   },
   {
    "duration": 19,
    "start_time": "2023-10-23T07:18:13.236Z"
   },
   {
    "duration": 162,
    "start_time": "2023-10-23T07:18:13.258Z"
   },
   {
    "duration": 165,
    "start_time": "2023-10-23T07:18:13.421Z"
   },
   {
    "duration": 5,
    "start_time": "2023-10-23T07:18:13.587Z"
   },
   {
    "duration": 192,
    "start_time": "2023-10-23T07:18:13.594Z"
   },
   {
    "duration": 238,
    "start_time": "2023-10-23T07:18:13.788Z"
   },
   {
    "duration": 19,
    "start_time": "2023-10-23T07:18:14.028Z"
   },
   {
    "duration": 176,
    "start_time": "2023-10-23T07:18:14.049Z"
   },
   {
    "duration": 6,
    "start_time": "2023-10-23T07:18:14.227Z"
   },
   {
    "duration": 26,
    "start_time": "2023-10-23T07:18:14.235Z"
   },
   {
    "duration": 199,
    "start_time": "2023-10-23T07:18:14.262Z"
   },
   {
    "duration": 9,
    "start_time": "2023-10-23T07:18:14.462Z"
   },
   {
    "duration": 37,
    "start_time": "2023-10-23T07:18:14.472Z"
   },
   {
    "duration": 29,
    "start_time": "2023-10-23T07:18:14.510Z"
   },
   {
    "duration": 7,
    "start_time": "2023-10-23T07:18:14.541Z"
   },
   {
    "duration": 25,
    "start_time": "2023-10-23T07:18:14.550Z"
   },
   {
    "duration": 20,
    "start_time": "2023-10-23T07:18:14.576Z"
   },
   {
    "duration": 25,
    "start_time": "2023-10-23T07:18:14.598Z"
   },
   {
    "duration": 21,
    "start_time": "2023-10-23T07:18:14.625Z"
   },
   {
    "duration": 18,
    "start_time": "2023-10-23T07:18:14.647Z"
   },
   {
    "duration": 29,
    "start_time": "2023-10-23T07:18:14.666Z"
   },
   {
    "duration": 12,
    "start_time": "2023-10-23T07:18:14.696Z"
   },
   {
    "duration": 8,
    "start_time": "2023-10-23T07:18:54.363Z"
   },
   {
    "duration": 1157,
    "start_time": "2023-10-23T07:20:38.277Z"
   },
   {
    "duration": 76,
    "start_time": "2023-10-23T07:20:39.436Z"
   },
   {
    "duration": 12,
    "start_time": "2023-10-23T07:20:39.514Z"
   },
   {
    "duration": 12,
    "start_time": "2023-10-23T07:20:39.528Z"
   },
   {
    "duration": 26,
    "start_time": "2023-10-23T07:20:39.541Z"
   },
   {
    "duration": 28,
    "start_time": "2023-10-23T07:20:39.568Z"
   },
   {
    "duration": 22,
    "start_time": "2023-10-23T07:20:39.598Z"
   },
   {
    "duration": 27,
    "start_time": "2023-10-23T07:20:39.621Z"
   },
   {
    "duration": 26,
    "start_time": "2023-10-23T07:20:39.650Z"
   },
   {
    "duration": 11,
    "start_time": "2023-10-23T07:20:39.679Z"
   },
   {
    "duration": 23,
    "start_time": "2023-10-23T07:20:39.692Z"
   },
   {
    "duration": 13,
    "start_time": "2023-10-23T07:20:39.717Z"
   },
   {
    "duration": 16,
    "start_time": "2023-10-23T07:20:39.732Z"
   },
   {
    "duration": 12,
    "start_time": "2023-10-23T07:20:39.750Z"
   },
   {
    "duration": 46,
    "start_time": "2023-10-23T07:20:39.764Z"
   },
   {
    "duration": 10,
    "start_time": "2023-10-23T07:20:39.812Z"
   },
   {
    "duration": 26,
    "start_time": "2023-10-23T07:20:39.823Z"
   },
   {
    "duration": 13,
    "start_time": "2023-10-23T07:20:39.851Z"
   },
   {
    "duration": 31,
    "start_time": "2023-10-23T07:20:39.866Z"
   },
   {
    "duration": 8,
    "start_time": "2023-10-23T07:20:39.899Z"
   },
   {
    "duration": 339,
    "start_time": "2023-10-23T07:20:39.909Z"
   },
   {
    "duration": 342,
    "start_time": "2023-10-23T07:20:40.250Z"
   },
   {
    "duration": 224,
    "start_time": "2023-10-23T07:20:40.594Z"
   },
   {
    "duration": 383,
    "start_time": "2023-10-23T07:20:40.820Z"
   },
   {
    "duration": 274,
    "start_time": "2023-10-23T07:20:41.205Z"
   },
   {
    "duration": 366,
    "start_time": "2023-10-23T07:20:41.481Z"
   },
   {
    "duration": 12,
    "start_time": "2023-10-23T07:20:41.849Z"
   },
   {
    "duration": 179,
    "start_time": "2023-10-23T07:20:41.865Z"
   },
   {
    "duration": 167,
    "start_time": "2023-10-23T07:20:42.046Z"
   },
   {
    "duration": 5,
    "start_time": "2023-10-23T07:20:42.215Z"
   },
   {
    "duration": 202,
    "start_time": "2023-10-23T07:20:42.222Z"
   },
   {
    "duration": 246,
    "start_time": "2023-10-23T07:20:42.426Z"
   },
   {
    "duration": 9,
    "start_time": "2023-10-23T07:20:42.674Z"
   },
   {
    "duration": 181,
    "start_time": "2023-10-23T07:20:42.684Z"
   },
   {
    "duration": 4,
    "start_time": "2023-10-23T07:20:42.867Z"
   },
   {
    "duration": 40,
    "start_time": "2023-10-23T07:20:42.873Z"
   },
   {
    "duration": 167,
    "start_time": "2023-10-23T07:20:42.914Z"
   },
   {
    "duration": 8,
    "start_time": "2023-10-23T07:20:43.083Z"
   },
   {
    "duration": 34,
    "start_time": "2023-10-23T07:20:43.092Z"
   },
   {
    "duration": 37,
    "start_time": "2023-10-23T07:20:43.127Z"
   },
   {
    "duration": 15,
    "start_time": "2023-10-23T07:20:43.166Z"
   },
   {
    "duration": 54,
    "start_time": "2023-10-23T07:20:43.183Z"
   },
   {
    "duration": 38,
    "start_time": "2023-10-23T07:20:43.239Z"
   },
   {
    "duration": 18,
    "start_time": "2023-10-23T07:20:43.279Z"
   },
   {
    "duration": 26,
    "start_time": "2023-10-23T07:20:43.299Z"
   },
   {
    "duration": 35,
    "start_time": "2023-10-23T07:20:43.327Z"
   },
   {
    "duration": 43,
    "start_time": "2023-10-23T07:20:43.364Z"
   },
   {
    "duration": 37,
    "start_time": "2023-10-23T07:20:43.409Z"
   }
  ],
  "kernelspec": {
   "display_name": "Python 3 (ipykernel)",
   "language": "python",
   "name": "python3"
  },
  "language_info": {
   "codemirror_mode": {
    "name": "ipython",
    "version": 3
   },
   "file_extension": ".py",
   "mimetype": "text/x-python",
   "name": "python",
   "nbconvert_exporter": "python",
   "pygments_lexer": "ipython3",
   "version": "3.11.4"
  },
  "toc": {
   "base_numbering": 1,
   "nav_menu": {},
   "number_sections": true,
   "sideBar": true,
   "skip_h1_title": true,
   "title_cell": "Table of Contents",
   "title_sidebar": "Contents",
   "toc_cell": false,
   "toc_position": {
    "height": "calc(100% - 180px)",
    "left": "10px",
    "top": "150px",
    "width": "361.391px"
   },
   "toc_section_display": true,
   "toc_window_display": true
  }
 },
 "nbformat": 4,
 "nbformat_minor": 2
}
